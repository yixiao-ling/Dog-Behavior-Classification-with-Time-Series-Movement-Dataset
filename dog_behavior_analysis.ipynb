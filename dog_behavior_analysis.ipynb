{
  "cells": [
    {
      "cell_type": "markdown",
      "source": [
        "# **CIS 5450 Final Project - Dog Behavior Analysis**\n",
        "*Yufa Zhou, Yixiao Ling, Dominik Kau*"
      ],
      "metadata": {
        "id": "o0i1pWohiv_l"
      }
    },
    {
      "cell_type": "markdown",
      "source": [
        "#Part 1: Introduction"
      ],
      "metadata": {
        "id": "8aYSsT3kiz3x"
      }
    },
    {
      "cell_type": "markdown",
      "source": [
        "This project is found in Kaggle competition:\\\n",
        "https://www.kaggle.com/datasets/arashnic/animal-behavior-analysis \\\n",
        "The paper of dataset: \\\n",
        "https://www.sciencedirect.com/science/article/pii/S0168159121001805\n"
      ],
      "metadata": {
        "id": "Hoskl8V40DSl"
      }
    },
    {
      "cell_type": "markdown",
      "source": [
        "In our project, we sought to help dog owners better understand the daily behaviour of their dogs. We used two dataframes. The first dataset 'DogMoveData.csv​' contains the dog movement (accelerometer and gyroscope) data provided by 2 wearable movement sensors (one on the neck and the other one on the back) recorded every 0.01s. The second dataset 'DogInfo.xlsx' contains dogs' biological information, including weight, age months, gender and Neutering Status. The datasets can be accessed via google drive link below:\n",
        "\n",
        "https://drive.google.com/drive/folders/1-0Y87YFTSeK7agiA_HzI32NqAwzy0_K3?usp=sharing\n",
        "\n"
      ],
      "metadata": {
        "id": "EDED6Dvci6YM"
      }
    },
    {
      "cell_type": "markdown",
      "source": [
        "Aggregating these data, we are able to develop a holistic understanding of both dog movement and dog biological features that affect dog bahavior. Our project problem can be treated as a Time Series Multi-features Classification Problem."
      ],
      "metadata": {
        "id": "EGMaIYl1zgAF"
      }
    },
    {
      "cell_type": "markdown",
      "source": [
        "## 1.1 Data Settings"
      ],
      "metadata": {
        "id": "uCp5FBxIwURe"
      }
    },
    {
      "cell_type": "markdown",
      "source": [
        "The names of the sensor-data columns are as structured as follows\n",
        "- A/G: Accelerometer data (acceleration)/Gyroscope data (angular velocity)\n",
        "- Neck/Back: Sensor mounted on neck/back of dog\n",
        "- _x/_y/_z: Direction of the quantity\n",
        "\n",
        "Additionally, the magnitudes of the quanties were calculated whose names follow the same naming convention without the suffix indicating the direction.\n",
        "\n",
        "DogID: numerical identifier of the dog​\n",
        "\n",
        "Behavior labels: Dogs are instructed to do several static and dynamic tasks sequentially, alternating between them. Then the actual behavior of the dogs during the assigned tasks were annotated using video recordings. Only segments longer than one second and unambiguous were included in the annotation. ​\n",
        "\n",
        "Static behaviors: Lying on chest, Sitting, Standing​ \\\n",
        "Dynamic behaviors: Walking, Trotting, Galloping, Sniffing"
      ],
      "metadata": {
        "id": "TXd4sRpJwStr"
      }
    },
    {
      "cell_type": "markdown",
      "source": [
        "# Part 2: Data Loading & Preprocessing"
      ],
      "metadata": {
        "id": "Xb_hSnIii8v-"
      }
    },
    {
      "cell_type": "code",
      "source": [
        "from google.colab import drive\n",
        "drive.mount('/content/drive')\n",
        "!pip install polars --upgrade"
      ],
      "metadata": {
        "id": "y4F1vjW8ijaV",
        "colab": {
          "base_uri": "https://localhost:8080/"
        },
        "outputId": "9ad20c4a-3155-46dd-dbd7-beb71438c9c8"
      },
      "execution_count": null,
      "outputs": [
        {
          "output_type": "stream",
          "name": "stdout",
          "text": [
            "Mounted at /content/drive\n",
            "Requirement already satisfied: polars in /usr/local/lib/python3.10/dist-packages (0.17.3)\n",
            "Collecting polars\n",
            "  Downloading polars-0.19.19-cp38-abi3-manylinux_2_17_x86_64.manylinux2014_x86_64.whl (28.5 MB)\n",
            "\u001b[2K     \u001b[90m━━━━━━━━━━━━━━━━━━━━━━━━━━━━━━━━━━━━━━━━\u001b[0m \u001b[32m28.5/28.5 MB\u001b[0m \u001b[31m27.7 MB/s\u001b[0m eta \u001b[36m0:00:00\u001b[0m\n",
            "\u001b[?25hInstalling collected packages: polars\n",
            "  Attempting uninstall: polars\n",
            "    Found existing installation: polars 0.17.3\n",
            "    Uninstalling polars-0.17.3:\n",
            "      Successfully uninstalled polars-0.17.3\n",
            "Successfully installed polars-0.19.19\n"
          ]
        }
      ]
    },
    {
      "cell_type": "code",
      "source": [
        "import visualization_functions\n",
        "from visualization_functions import get_time_plot_frame\n",
        "from visualization_functions import make_manual_box_plot\n",
        "import data\n",
        "import numpy as np\n",
        "import torch\n",
        "import sklearn\n",
        "import polars as pl\n",
        "import pandas as pd\n",
        "import seaborn as sns\n",
        "import matplotlib.pyplot as plt\n",
        "from sklearn.model_selection import train_test_split\n",
        "from sklearn.tree import DecisionTreeClassifier\n",
        "from sklearn.ensemble import RandomForestClassifier\n",
        "from sklearn.model_selection import GridSearchCV\n",
        "import time\n",
        "import sklearn.metrics\n",
        "from data import TimeSeqDataset\n",
        "from data import GroupScaler\n",
        "from data import TimeSeqPCA\n",
        "from collections import namedtuple\n",
        "import classification\n",
        "import plotly.express as px\n",
        "import plotly"
      ],
      "metadata": {
        "id": "bh3-BAz9dDcV"
      },
      "execution_count": null,
      "outputs": []
    },
    {
      "cell_type": "code",
      "source": [
        "# get Dataframe\n",
        "dataset = TimeSeqDataset('./drive/MyDrive/CIS545/545_Final_Project')\n",
        "df_data = dataset.df_data\n",
        "behavior_cols = dataset.behavior_cols\n",
        "\n",
        "# set plotly template and discrete color palette\n",
        "plotly.io.templates.default = \"plotly_white\"\n",
        "color_sequence = px.colors.qualitative.G10\n",
        "\n",
        "# columns that will be used for group by for anaylsis in scatter plot\n",
        "group_by_columns = ['Weight', 'Neutered', 'Age months', 'Gender']\n",
        "# sensor features for which means will be calculated for scatter plots\n",
        "scatter_sensor_features = ['ABack', 'GBack']\n",
        "\n",
        "# create exploded Dataframe based on all up to 3 defined behaviors per time step\n",
        "exploded_df = df_data.explode('Behavior').filter(pl.col('Behavior') != '<undefined>')\n",
        "\n",
        "# dog behavior that is used for data in scatter plots\n",
        "scatter_behavior = 'Jumping'\n",
        "# create pandas DataFrame for scatter plots\n",
        "df_scatter_plots = exploded_df.filter(pl.col('Behavior')==scatter_behavior).select(\n",
        "    [*scatter_sensor_features, *group_by_columns]).group_by(group_by_columns).mean().collect().to_pandas()\n",
        "\n",
        "# include the following features in the analyis of mean\n",
        "mean_sensor_features = ['ABack', 'GBack', 'ANeck', 'GNeck']\n",
        "# create pandas DataFrame for plots using mean data\n",
        "df_mean = exploded_df.select([*mean_sensor_features, 'Behavior']).group_by('Behavior').mean().melt(\n",
        "    id_vars='Behavior', value_vars=mean_sensor_features).sort('Behavior').collect().to_pandas()\n",
        "\n",
        "# count the number of occurences of each behavior\n",
        "df_count = exploded_df.select(['Behavior', 'DogID']).group_by('Behavior').count().sort('Behavior').collect().to_pandas()\n",
        "\n",
        "# define some axis-labels, that are going to be repeated\n",
        "mean_labels = {\n",
        "    'Weight': 'Weight [kg]',\n",
        "    'ABack': 'Mean acceleration at back [g]',\n",
        "    'Age months': 'Age [months]',\n",
        "    'GBack': 'Mean angular velocity at back [°/s]'\n",
        "}"
      ],
      "metadata": {
        "colab": {
          "base_uri": "https://localhost:8080/"
        },
        "id": "sh6iiZgZHECI",
        "outputId": "b37efc94-74b1-4219-9274-55dbe3c264ca"
      },
      "execution_count": null,
      "outputs": [
        {
          "output_type": "stream",
          "name": "stdout",
          "text": [
            "./drive/MyDrive/CIS545/545_Final_Project/DogInfo.csv\n"
          ]
        }
      ]
    },
    {
      "cell_type": "code",
      "source": [
        "import pandas as pd"
      ],
      "metadata": {
        "id": "C_dVdCpB3oxA"
      },
      "execution_count": null,
      "outputs": []
    },
    {
      "cell_type": "code",
      "source": [
        "DogMoveData_df = pd.read_csv('/content/drive/MyDrive/Colab Notebooks/big data analysis/archive/DogMoveData_csv_format/DogMoveData.csv')\n",
        "DogMoveData_df.head(10)"
      ],
      "metadata": {
        "colab": {
          "base_uri": "https://localhost:8080/",
          "height": 383
        },
        "id": "OY0xsK_y2eNX",
        "outputId": "26a2eea9-6c1b-4da0-f5bb-bde45e76965a"
      },
      "execution_count": null,
      "outputs": [
        {
          "output_type": "execute_result",
          "data": {
            "text/plain": [
              "   DogID  TestNum  t_sec   ABack_x   ABack_y   ABack_z   ANeck_x   ANeck_y  \\\n",
              "0     16        1   0.00  0.041504  0.938965 -0.015137 -0.067871 -0.510254   \n",
              "1     16        1   0.01  0.041992  0.941895 -0.020020 -0.128906 -0.494141   \n",
              "2     16        1   0.02  0.040527  0.939453 -0.004395 -0.158691 -0.480469   \n",
              "3     16        1   0.03  0.021484  0.946289  0.007813 -0.122070 -0.486816   \n",
              "4     16        1   0.04 -0.000977  0.951172  0.033691 -0.053711 -0.500000   \n",
              "5     16        1   0.05 -0.006348  0.955078  0.038574  0.019043 -0.463867   \n",
              "6     16        1   0.06  0.001953  0.959473  0.035156  0.045898 -0.376953   \n",
              "7     16        1   0.07  0.013672  0.958984  0.030273  0.028809 -0.307617   \n",
              "8     16        1   0.08  0.028320  0.941895  0.045410 -0.014648 -0.349121   \n",
              "9     16        1   0.09  0.028809  0.934082  0.065430 -0.061035 -0.480469   \n",
              "\n",
              "    ANeck_z    GBack_x    GBack_y   GBack_z    GNeck_x    GNeck_y    GNeck_z  \\\n",
              "0 -0.934570 -17.639161 -22.766115  7.446290  -7.934571   6.347657  13.427735   \n",
              "1 -0.913086 -15.075685 -11.413575  4.821778  -3.906250   4.394532  16.540528   \n",
              "2 -0.911133 -12.207032  -0.122070  2.807617  -0.488281  -1.953125  26.794435   \n",
              "3 -0.880371  -9.460450   7.995606  1.586914   1.159668  -5.676270  38.085940   \n",
              "4 -0.807129  -8.361817  14.587403 -1.037598   4.577637   4.089356  41.503909   \n",
              "5 -0.749023  -9.826661  19.653322 -5.493164  12.939454  20.812990  32.531740   \n",
              "6 -0.781250 -11.657716  15.869142 -7.751465  22.705080  29.968264  14.038087   \n",
              "7 -0.941406 -13.671876   5.859375 -8.361817  23.925783  19.470216  -5.920411   \n",
              "8 -1.100098 -16.113282  -1.220703 -8.483887  12.084962  -8.300782 -20.202638   \n",
              "9 -1.129395 -18.859864  -0.183105 -7.812500  -3.845215 -37.475588 -24.475099   \n",
              "\n",
              "          Task       Behavior_1   Behavior_2   Behavior_3   PointEvent  \n",
              "0  <undefined>      <undefined>  <undefined>  <undefined>  <undefined>  \n",
              "1  <undefined>  Synchronization  <undefined>  <undefined>  <undefined>  \n",
              "2  <undefined>  Synchronization  <undefined>  <undefined>  <undefined>  \n",
              "3  <undefined>  Synchronization  <undefined>  <undefined>  <undefined>  \n",
              "4  <undefined>  Synchronization  <undefined>  <undefined>  <undefined>  \n",
              "5  <undefined>  Synchronization  <undefined>  <undefined>  <undefined>  \n",
              "6  <undefined>  Synchronization  <undefined>  <undefined>  <undefined>  \n",
              "7  <undefined>  Synchronization  <undefined>  <undefined>  <undefined>  \n",
              "8  <undefined>  Synchronization  <undefined>  <undefined>  <undefined>  \n",
              "9  <undefined>  Synchronization  <undefined>  <undefined>  <undefined>  "
            ],
            "text/html": [
              "\n",
              "  <div id=\"df-376224c4-9290-492e-aaf4-0c03f3ef37b9\" class=\"colab-df-container\">\n",
              "    <div>\n",
              "<style scoped>\n",
              "    .dataframe tbody tr th:only-of-type {\n",
              "        vertical-align: middle;\n",
              "    }\n",
              "\n",
              "    .dataframe tbody tr th {\n",
              "        vertical-align: top;\n",
              "    }\n",
              "\n",
              "    .dataframe thead th {\n",
              "        text-align: right;\n",
              "    }\n",
              "</style>\n",
              "<table border=\"1\" class=\"dataframe\">\n",
              "  <thead>\n",
              "    <tr style=\"text-align: right;\">\n",
              "      <th></th>\n",
              "      <th>DogID</th>\n",
              "      <th>TestNum</th>\n",
              "      <th>t_sec</th>\n",
              "      <th>ABack_x</th>\n",
              "      <th>ABack_y</th>\n",
              "      <th>ABack_z</th>\n",
              "      <th>ANeck_x</th>\n",
              "      <th>ANeck_y</th>\n",
              "      <th>ANeck_z</th>\n",
              "      <th>GBack_x</th>\n",
              "      <th>GBack_y</th>\n",
              "      <th>GBack_z</th>\n",
              "      <th>GNeck_x</th>\n",
              "      <th>GNeck_y</th>\n",
              "      <th>GNeck_z</th>\n",
              "      <th>Task</th>\n",
              "      <th>Behavior_1</th>\n",
              "      <th>Behavior_2</th>\n",
              "      <th>Behavior_3</th>\n",
              "      <th>PointEvent</th>\n",
              "    </tr>\n",
              "  </thead>\n",
              "  <tbody>\n",
              "    <tr>\n",
              "      <th>0</th>\n",
              "      <td>16</td>\n",
              "      <td>1</td>\n",
              "      <td>0.00</td>\n",
              "      <td>0.041504</td>\n",
              "      <td>0.938965</td>\n",
              "      <td>-0.015137</td>\n",
              "      <td>-0.067871</td>\n",
              "      <td>-0.510254</td>\n",
              "      <td>-0.934570</td>\n",
              "      <td>-17.639161</td>\n",
              "      <td>-22.766115</td>\n",
              "      <td>7.446290</td>\n",
              "      <td>-7.934571</td>\n",
              "      <td>6.347657</td>\n",
              "      <td>13.427735</td>\n",
              "      <td>&lt;undefined&gt;</td>\n",
              "      <td>&lt;undefined&gt;</td>\n",
              "      <td>&lt;undefined&gt;</td>\n",
              "      <td>&lt;undefined&gt;</td>\n",
              "      <td>&lt;undefined&gt;</td>\n",
              "    </tr>\n",
              "    <tr>\n",
              "      <th>1</th>\n",
              "      <td>16</td>\n",
              "      <td>1</td>\n",
              "      <td>0.01</td>\n",
              "      <td>0.041992</td>\n",
              "      <td>0.941895</td>\n",
              "      <td>-0.020020</td>\n",
              "      <td>-0.128906</td>\n",
              "      <td>-0.494141</td>\n",
              "      <td>-0.913086</td>\n",
              "      <td>-15.075685</td>\n",
              "      <td>-11.413575</td>\n",
              "      <td>4.821778</td>\n",
              "      <td>-3.906250</td>\n",
              "      <td>4.394532</td>\n",
              "      <td>16.540528</td>\n",
              "      <td>&lt;undefined&gt;</td>\n",
              "      <td>Synchronization</td>\n",
              "      <td>&lt;undefined&gt;</td>\n",
              "      <td>&lt;undefined&gt;</td>\n",
              "      <td>&lt;undefined&gt;</td>\n",
              "    </tr>\n",
              "    <tr>\n",
              "      <th>2</th>\n",
              "      <td>16</td>\n",
              "      <td>1</td>\n",
              "      <td>0.02</td>\n",
              "      <td>0.040527</td>\n",
              "      <td>0.939453</td>\n",
              "      <td>-0.004395</td>\n",
              "      <td>-0.158691</td>\n",
              "      <td>-0.480469</td>\n",
              "      <td>-0.911133</td>\n",
              "      <td>-12.207032</td>\n",
              "      <td>-0.122070</td>\n",
              "      <td>2.807617</td>\n",
              "      <td>-0.488281</td>\n",
              "      <td>-1.953125</td>\n",
              "      <td>26.794435</td>\n",
              "      <td>&lt;undefined&gt;</td>\n",
              "      <td>Synchronization</td>\n",
              "      <td>&lt;undefined&gt;</td>\n",
              "      <td>&lt;undefined&gt;</td>\n",
              "      <td>&lt;undefined&gt;</td>\n",
              "    </tr>\n",
              "    <tr>\n",
              "      <th>3</th>\n",
              "      <td>16</td>\n",
              "      <td>1</td>\n",
              "      <td>0.03</td>\n",
              "      <td>0.021484</td>\n",
              "      <td>0.946289</td>\n",
              "      <td>0.007813</td>\n",
              "      <td>-0.122070</td>\n",
              "      <td>-0.486816</td>\n",
              "      <td>-0.880371</td>\n",
              "      <td>-9.460450</td>\n",
              "      <td>7.995606</td>\n",
              "      <td>1.586914</td>\n",
              "      <td>1.159668</td>\n",
              "      <td>-5.676270</td>\n",
              "      <td>38.085940</td>\n",
              "      <td>&lt;undefined&gt;</td>\n",
              "      <td>Synchronization</td>\n",
              "      <td>&lt;undefined&gt;</td>\n",
              "      <td>&lt;undefined&gt;</td>\n",
              "      <td>&lt;undefined&gt;</td>\n",
              "    </tr>\n",
              "    <tr>\n",
              "      <th>4</th>\n",
              "      <td>16</td>\n",
              "      <td>1</td>\n",
              "      <td>0.04</td>\n",
              "      <td>-0.000977</td>\n",
              "      <td>0.951172</td>\n",
              "      <td>0.033691</td>\n",
              "      <td>-0.053711</td>\n",
              "      <td>-0.500000</td>\n",
              "      <td>-0.807129</td>\n",
              "      <td>-8.361817</td>\n",
              "      <td>14.587403</td>\n",
              "      <td>-1.037598</td>\n",
              "      <td>4.577637</td>\n",
              "      <td>4.089356</td>\n",
              "      <td>41.503909</td>\n",
              "      <td>&lt;undefined&gt;</td>\n",
              "      <td>Synchronization</td>\n",
              "      <td>&lt;undefined&gt;</td>\n",
              "      <td>&lt;undefined&gt;</td>\n",
              "      <td>&lt;undefined&gt;</td>\n",
              "    </tr>\n",
              "    <tr>\n",
              "      <th>5</th>\n",
              "      <td>16</td>\n",
              "      <td>1</td>\n",
              "      <td>0.05</td>\n",
              "      <td>-0.006348</td>\n",
              "      <td>0.955078</td>\n",
              "      <td>0.038574</td>\n",
              "      <td>0.019043</td>\n",
              "      <td>-0.463867</td>\n",
              "      <td>-0.749023</td>\n",
              "      <td>-9.826661</td>\n",
              "      <td>19.653322</td>\n",
              "      <td>-5.493164</td>\n",
              "      <td>12.939454</td>\n",
              "      <td>20.812990</td>\n",
              "      <td>32.531740</td>\n",
              "      <td>&lt;undefined&gt;</td>\n",
              "      <td>Synchronization</td>\n",
              "      <td>&lt;undefined&gt;</td>\n",
              "      <td>&lt;undefined&gt;</td>\n",
              "      <td>&lt;undefined&gt;</td>\n",
              "    </tr>\n",
              "    <tr>\n",
              "      <th>6</th>\n",
              "      <td>16</td>\n",
              "      <td>1</td>\n",
              "      <td>0.06</td>\n",
              "      <td>0.001953</td>\n",
              "      <td>0.959473</td>\n",
              "      <td>0.035156</td>\n",
              "      <td>0.045898</td>\n",
              "      <td>-0.376953</td>\n",
              "      <td>-0.781250</td>\n",
              "      <td>-11.657716</td>\n",
              "      <td>15.869142</td>\n",
              "      <td>-7.751465</td>\n",
              "      <td>22.705080</td>\n",
              "      <td>29.968264</td>\n",
              "      <td>14.038087</td>\n",
              "      <td>&lt;undefined&gt;</td>\n",
              "      <td>Synchronization</td>\n",
              "      <td>&lt;undefined&gt;</td>\n",
              "      <td>&lt;undefined&gt;</td>\n",
              "      <td>&lt;undefined&gt;</td>\n",
              "    </tr>\n",
              "    <tr>\n",
              "      <th>7</th>\n",
              "      <td>16</td>\n",
              "      <td>1</td>\n",
              "      <td>0.07</td>\n",
              "      <td>0.013672</td>\n",
              "      <td>0.958984</td>\n",
              "      <td>0.030273</td>\n",
              "      <td>0.028809</td>\n",
              "      <td>-0.307617</td>\n",
              "      <td>-0.941406</td>\n",
              "      <td>-13.671876</td>\n",
              "      <td>5.859375</td>\n",
              "      <td>-8.361817</td>\n",
              "      <td>23.925783</td>\n",
              "      <td>19.470216</td>\n",
              "      <td>-5.920411</td>\n",
              "      <td>&lt;undefined&gt;</td>\n",
              "      <td>Synchronization</td>\n",
              "      <td>&lt;undefined&gt;</td>\n",
              "      <td>&lt;undefined&gt;</td>\n",
              "      <td>&lt;undefined&gt;</td>\n",
              "    </tr>\n",
              "    <tr>\n",
              "      <th>8</th>\n",
              "      <td>16</td>\n",
              "      <td>1</td>\n",
              "      <td>0.08</td>\n",
              "      <td>0.028320</td>\n",
              "      <td>0.941895</td>\n",
              "      <td>0.045410</td>\n",
              "      <td>-0.014648</td>\n",
              "      <td>-0.349121</td>\n",
              "      <td>-1.100098</td>\n",
              "      <td>-16.113282</td>\n",
              "      <td>-1.220703</td>\n",
              "      <td>-8.483887</td>\n",
              "      <td>12.084962</td>\n",
              "      <td>-8.300782</td>\n",
              "      <td>-20.202638</td>\n",
              "      <td>&lt;undefined&gt;</td>\n",
              "      <td>Synchronization</td>\n",
              "      <td>&lt;undefined&gt;</td>\n",
              "      <td>&lt;undefined&gt;</td>\n",
              "      <td>&lt;undefined&gt;</td>\n",
              "    </tr>\n",
              "    <tr>\n",
              "      <th>9</th>\n",
              "      <td>16</td>\n",
              "      <td>1</td>\n",
              "      <td>0.09</td>\n",
              "      <td>0.028809</td>\n",
              "      <td>0.934082</td>\n",
              "      <td>0.065430</td>\n",
              "      <td>-0.061035</td>\n",
              "      <td>-0.480469</td>\n",
              "      <td>-1.129395</td>\n",
              "      <td>-18.859864</td>\n",
              "      <td>-0.183105</td>\n",
              "      <td>-7.812500</td>\n",
              "      <td>-3.845215</td>\n",
              "      <td>-37.475588</td>\n",
              "      <td>-24.475099</td>\n",
              "      <td>&lt;undefined&gt;</td>\n",
              "      <td>Synchronization</td>\n",
              "      <td>&lt;undefined&gt;</td>\n",
              "      <td>&lt;undefined&gt;</td>\n",
              "      <td>&lt;undefined&gt;</td>\n",
              "    </tr>\n",
              "  </tbody>\n",
              "</table>\n",
              "</div>\n",
              "    <div class=\"colab-df-buttons\">\n",
              "\n",
              "  <div class=\"colab-df-container\">\n",
              "    <button class=\"colab-df-convert\" onclick=\"convertToInteractive('df-376224c4-9290-492e-aaf4-0c03f3ef37b9')\"\n",
              "            title=\"Convert this dataframe to an interactive table.\"\n",
              "            style=\"display:none;\">\n",
              "\n",
              "  <svg xmlns=\"http://www.w3.org/2000/svg\" height=\"24px\" viewBox=\"0 -960 960 960\">\n",
              "    <path d=\"M120-120v-720h720v720H120Zm60-500h600v-160H180v160Zm220 220h160v-160H400v160Zm0 220h160v-160H400v160ZM180-400h160v-160H180v160Zm440 0h160v-160H620v160ZM180-180h160v-160H180v160Zm440 0h160v-160H620v160Z\"/>\n",
              "  </svg>\n",
              "    </button>\n",
              "\n",
              "  <style>\n",
              "    .colab-df-container {\n",
              "      display:flex;\n",
              "      gap: 12px;\n",
              "    }\n",
              "\n",
              "    .colab-df-convert {\n",
              "      background-color: #E8F0FE;\n",
              "      border: none;\n",
              "      border-radius: 50%;\n",
              "      cursor: pointer;\n",
              "      display: none;\n",
              "      fill: #1967D2;\n",
              "      height: 32px;\n",
              "      padding: 0 0 0 0;\n",
              "      width: 32px;\n",
              "    }\n",
              "\n",
              "    .colab-df-convert:hover {\n",
              "      background-color: #E2EBFA;\n",
              "      box-shadow: 0px 1px 2px rgba(60, 64, 67, 0.3), 0px 1px 3px 1px rgba(60, 64, 67, 0.15);\n",
              "      fill: #174EA6;\n",
              "    }\n",
              "\n",
              "    .colab-df-buttons div {\n",
              "      margin-bottom: 4px;\n",
              "    }\n",
              "\n",
              "    [theme=dark] .colab-df-convert {\n",
              "      background-color: #3B4455;\n",
              "      fill: #D2E3FC;\n",
              "    }\n",
              "\n",
              "    [theme=dark] .colab-df-convert:hover {\n",
              "      background-color: #434B5C;\n",
              "      box-shadow: 0px 1px 3px 1px rgba(0, 0, 0, 0.15);\n",
              "      filter: drop-shadow(0px 1px 2px rgba(0, 0, 0, 0.3));\n",
              "      fill: #FFFFFF;\n",
              "    }\n",
              "  </style>\n",
              "\n",
              "    <script>\n",
              "      const buttonEl =\n",
              "        document.querySelector('#df-376224c4-9290-492e-aaf4-0c03f3ef37b9 button.colab-df-convert');\n",
              "      buttonEl.style.display =\n",
              "        google.colab.kernel.accessAllowed ? 'block' : 'none';\n",
              "\n",
              "      async function convertToInteractive(key) {\n",
              "        const element = document.querySelector('#df-376224c4-9290-492e-aaf4-0c03f3ef37b9');\n",
              "        const dataTable =\n",
              "          await google.colab.kernel.invokeFunction('convertToInteractive',\n",
              "                                                    [key], {});\n",
              "        if (!dataTable) return;\n",
              "\n",
              "        const docLinkHtml = 'Like what you see? Visit the ' +\n",
              "          '<a target=\"_blank\" href=https://colab.research.google.com/notebooks/data_table.ipynb>data table notebook</a>'\n",
              "          + ' to learn more about interactive tables.';\n",
              "        element.innerHTML = '';\n",
              "        dataTable['output_type'] = 'display_data';\n",
              "        await google.colab.output.renderOutput(dataTable, element);\n",
              "        const docLink = document.createElement('div');\n",
              "        docLink.innerHTML = docLinkHtml;\n",
              "        element.appendChild(docLink);\n",
              "      }\n",
              "    </script>\n",
              "  </div>\n",
              "\n",
              "\n",
              "<div id=\"df-8393d2cd-98e1-4e03-bb66-9548a1f98565\">\n",
              "  <button class=\"colab-df-quickchart\" onclick=\"quickchart('df-8393d2cd-98e1-4e03-bb66-9548a1f98565')\"\n",
              "            title=\"Suggest charts\"\n",
              "            style=\"display:none;\">\n",
              "\n",
              "<svg xmlns=\"http://www.w3.org/2000/svg\" height=\"24px\"viewBox=\"0 0 24 24\"\n",
              "     width=\"24px\">\n",
              "    <g>\n",
              "        <path d=\"M19 3H5c-1.1 0-2 .9-2 2v14c0 1.1.9 2 2 2h14c1.1 0 2-.9 2-2V5c0-1.1-.9-2-2-2zM9 17H7v-7h2v7zm4 0h-2V7h2v10zm4 0h-2v-4h2v4z\"/>\n",
              "    </g>\n",
              "</svg>\n",
              "  </button>\n",
              "\n",
              "<style>\n",
              "  .colab-df-quickchart {\n",
              "      --bg-color: #E8F0FE;\n",
              "      --fill-color: #1967D2;\n",
              "      --hover-bg-color: #E2EBFA;\n",
              "      --hover-fill-color: #174EA6;\n",
              "      --disabled-fill-color: #AAA;\n",
              "      --disabled-bg-color: #DDD;\n",
              "  }\n",
              "\n",
              "  [theme=dark] .colab-df-quickchart {\n",
              "      --bg-color: #3B4455;\n",
              "      --fill-color: #D2E3FC;\n",
              "      --hover-bg-color: #434B5C;\n",
              "      --hover-fill-color: #FFFFFF;\n",
              "      --disabled-bg-color: #3B4455;\n",
              "      --disabled-fill-color: #666;\n",
              "  }\n",
              "\n",
              "  .colab-df-quickchart {\n",
              "    background-color: var(--bg-color);\n",
              "    border: none;\n",
              "    border-radius: 50%;\n",
              "    cursor: pointer;\n",
              "    display: none;\n",
              "    fill: var(--fill-color);\n",
              "    height: 32px;\n",
              "    padding: 0;\n",
              "    width: 32px;\n",
              "  }\n",
              "\n",
              "  .colab-df-quickchart:hover {\n",
              "    background-color: var(--hover-bg-color);\n",
              "    box-shadow: 0 1px 2px rgba(60, 64, 67, 0.3), 0 1px 3px 1px rgba(60, 64, 67, 0.15);\n",
              "    fill: var(--button-hover-fill-color);\n",
              "  }\n",
              "\n",
              "  .colab-df-quickchart-complete:disabled,\n",
              "  .colab-df-quickchart-complete:disabled:hover {\n",
              "    background-color: var(--disabled-bg-color);\n",
              "    fill: var(--disabled-fill-color);\n",
              "    box-shadow: none;\n",
              "  }\n",
              "\n",
              "  .colab-df-spinner {\n",
              "    border: 2px solid var(--fill-color);\n",
              "    border-color: transparent;\n",
              "    border-bottom-color: var(--fill-color);\n",
              "    animation:\n",
              "      spin 1s steps(1) infinite;\n",
              "  }\n",
              "\n",
              "  @keyframes spin {\n",
              "    0% {\n",
              "      border-color: transparent;\n",
              "      border-bottom-color: var(--fill-color);\n",
              "      border-left-color: var(--fill-color);\n",
              "    }\n",
              "    20% {\n",
              "      border-color: transparent;\n",
              "      border-left-color: var(--fill-color);\n",
              "      border-top-color: var(--fill-color);\n",
              "    }\n",
              "    30% {\n",
              "      border-color: transparent;\n",
              "      border-left-color: var(--fill-color);\n",
              "      border-top-color: var(--fill-color);\n",
              "      border-right-color: var(--fill-color);\n",
              "    }\n",
              "    40% {\n",
              "      border-color: transparent;\n",
              "      border-right-color: var(--fill-color);\n",
              "      border-top-color: var(--fill-color);\n",
              "    }\n",
              "    60% {\n",
              "      border-color: transparent;\n",
              "      border-right-color: var(--fill-color);\n",
              "    }\n",
              "    80% {\n",
              "      border-color: transparent;\n",
              "      border-right-color: var(--fill-color);\n",
              "      border-bottom-color: var(--fill-color);\n",
              "    }\n",
              "    90% {\n",
              "      border-color: transparent;\n",
              "      border-bottom-color: var(--fill-color);\n",
              "    }\n",
              "  }\n",
              "</style>\n",
              "\n",
              "  <script>\n",
              "    async function quickchart(key) {\n",
              "      const quickchartButtonEl =\n",
              "        document.querySelector('#' + key + ' button');\n",
              "      quickchartButtonEl.disabled = true;  // To prevent multiple clicks.\n",
              "      quickchartButtonEl.classList.add('colab-df-spinner');\n",
              "      try {\n",
              "        const charts = await google.colab.kernel.invokeFunction(\n",
              "            'suggestCharts', [key], {});\n",
              "      } catch (error) {\n",
              "        console.error('Error during call to suggestCharts:', error);\n",
              "      }\n",
              "      quickchartButtonEl.classList.remove('colab-df-spinner');\n",
              "      quickchartButtonEl.classList.add('colab-df-quickchart-complete');\n",
              "    }\n",
              "    (() => {\n",
              "      let quickchartButtonEl =\n",
              "        document.querySelector('#df-8393d2cd-98e1-4e03-bb66-9548a1f98565 button');\n",
              "      quickchartButtonEl.style.display =\n",
              "        google.colab.kernel.accessAllowed ? 'block' : 'none';\n",
              "    })();\n",
              "  </script>\n",
              "</div>\n",
              "    </div>\n",
              "  </div>\n"
            ]
          },
          "metadata": {},
          "execution_count": 8
        }
      ]
    },
    {
      "cell_type": "code",
      "source": [
        "DogMoveData_df.dtypes"
      ],
      "metadata": {
        "colab": {
          "base_uri": "https://localhost:8080/"
        },
        "id": "7Q0BeKHK3e9H",
        "outputId": "e523bbc9-d0fc-467f-88c1-58d3ae6036a9"
      },
      "execution_count": null,
      "outputs": [
        {
          "output_type": "execute_result",
          "data": {
            "text/plain": [
              "DogID           int64\n",
              "TestNum         int64\n",
              "t_sec         float64\n",
              "ABack_x       float64\n",
              "ABack_y       float64\n",
              "ABack_z       float64\n",
              "ANeck_x       float64\n",
              "ANeck_y       float64\n",
              "ANeck_z       float64\n",
              "GBack_x       float64\n",
              "GBack_y       float64\n",
              "GBack_z       float64\n",
              "GNeck_x       float64\n",
              "GNeck_y       float64\n",
              "GNeck_z       float64\n",
              "Task           object\n",
              "Behavior_1     object\n",
              "Behavior_2     object\n",
              "Behavior_3     object\n",
              "PointEvent     object\n",
              "dtype: object"
            ]
          },
          "metadata": {},
          "execution_count": 10
        }
      ]
    },
    {
      "cell_type": "code",
      "source": [
        "DogInfo_df = pd.read_csv('/content/drive/MyDrive/Colab Notebooks/big data analysis/archive/DogMoveData_csv_format/DogInfo.csv')\n",
        "DogInfo_df.head(10)"
      ],
      "metadata": {
        "colab": {
          "base_uri": "https://localhost:8080/",
          "height": 363
        },
        "id": "XJbf9hqI3vHA",
        "outputId": "64f4864a-0c0b-4546-c712-58259975e7fc"
      },
      "execution_count": null,
      "outputs": [
        {
          "output_type": "execute_result",
          "data": {
            "text/plain": [
              "   DogID               Breed  Weight  Age months  Gender  NeuteringStatus\n",
              "0     16          Crossbreed      13          20       1                0\n",
              "1     18    Belgian Shepherd      29          76       2                0\n",
              "2     19     German Shepherd      30          57       1                0\n",
              "3     20       Border Collie      15          47       1                0\n",
              "4     21    Golden Retriever      39          19       2                0\n",
              "5     22           Beauceron      35          20       2                0\n",
              "6     23  Labrador Retriever      23         113       1                1\n",
              "7     25    Finnish Lapphund      26          88       2                1\n",
              "8     26   Spanish Water Dog      20          47       2                0\n",
              "9     27                Mudi      16          99       2                1"
            ],
            "text/html": [
              "\n",
              "  <div id=\"df-226ee868-3972-4ba7-90b3-d378c58913c4\" class=\"colab-df-container\">\n",
              "    <div>\n",
              "<style scoped>\n",
              "    .dataframe tbody tr th:only-of-type {\n",
              "        vertical-align: middle;\n",
              "    }\n",
              "\n",
              "    .dataframe tbody tr th {\n",
              "        vertical-align: top;\n",
              "    }\n",
              "\n",
              "    .dataframe thead th {\n",
              "        text-align: right;\n",
              "    }\n",
              "</style>\n",
              "<table border=\"1\" class=\"dataframe\">\n",
              "  <thead>\n",
              "    <tr style=\"text-align: right;\">\n",
              "      <th></th>\n",
              "      <th>DogID</th>\n",
              "      <th>Breed</th>\n",
              "      <th>Weight</th>\n",
              "      <th>Age months</th>\n",
              "      <th>Gender</th>\n",
              "      <th>NeuteringStatus</th>\n",
              "    </tr>\n",
              "  </thead>\n",
              "  <tbody>\n",
              "    <tr>\n",
              "      <th>0</th>\n",
              "      <td>16</td>\n",
              "      <td>Crossbreed</td>\n",
              "      <td>13</td>\n",
              "      <td>20</td>\n",
              "      <td>1</td>\n",
              "      <td>0</td>\n",
              "    </tr>\n",
              "    <tr>\n",
              "      <th>1</th>\n",
              "      <td>18</td>\n",
              "      <td>Belgian Shepherd</td>\n",
              "      <td>29</td>\n",
              "      <td>76</td>\n",
              "      <td>2</td>\n",
              "      <td>0</td>\n",
              "    </tr>\n",
              "    <tr>\n",
              "      <th>2</th>\n",
              "      <td>19</td>\n",
              "      <td>German Shepherd</td>\n",
              "      <td>30</td>\n",
              "      <td>57</td>\n",
              "      <td>1</td>\n",
              "      <td>0</td>\n",
              "    </tr>\n",
              "    <tr>\n",
              "      <th>3</th>\n",
              "      <td>20</td>\n",
              "      <td>Border Collie</td>\n",
              "      <td>15</td>\n",
              "      <td>47</td>\n",
              "      <td>1</td>\n",
              "      <td>0</td>\n",
              "    </tr>\n",
              "    <tr>\n",
              "      <th>4</th>\n",
              "      <td>21</td>\n",
              "      <td>Golden Retriever</td>\n",
              "      <td>39</td>\n",
              "      <td>19</td>\n",
              "      <td>2</td>\n",
              "      <td>0</td>\n",
              "    </tr>\n",
              "    <tr>\n",
              "      <th>5</th>\n",
              "      <td>22</td>\n",
              "      <td>Beauceron</td>\n",
              "      <td>35</td>\n",
              "      <td>20</td>\n",
              "      <td>2</td>\n",
              "      <td>0</td>\n",
              "    </tr>\n",
              "    <tr>\n",
              "      <th>6</th>\n",
              "      <td>23</td>\n",
              "      <td>Labrador Retriever</td>\n",
              "      <td>23</td>\n",
              "      <td>113</td>\n",
              "      <td>1</td>\n",
              "      <td>1</td>\n",
              "    </tr>\n",
              "    <tr>\n",
              "      <th>7</th>\n",
              "      <td>25</td>\n",
              "      <td>Finnish Lapphund</td>\n",
              "      <td>26</td>\n",
              "      <td>88</td>\n",
              "      <td>2</td>\n",
              "      <td>1</td>\n",
              "    </tr>\n",
              "    <tr>\n",
              "      <th>8</th>\n",
              "      <td>26</td>\n",
              "      <td>Spanish Water Dog</td>\n",
              "      <td>20</td>\n",
              "      <td>47</td>\n",
              "      <td>2</td>\n",
              "      <td>0</td>\n",
              "    </tr>\n",
              "    <tr>\n",
              "      <th>9</th>\n",
              "      <td>27</td>\n",
              "      <td>Mudi</td>\n",
              "      <td>16</td>\n",
              "      <td>99</td>\n",
              "      <td>2</td>\n",
              "      <td>1</td>\n",
              "    </tr>\n",
              "  </tbody>\n",
              "</table>\n",
              "</div>\n",
              "    <div class=\"colab-df-buttons\">\n",
              "\n",
              "  <div class=\"colab-df-container\">\n",
              "    <button class=\"colab-df-convert\" onclick=\"convertToInteractive('df-226ee868-3972-4ba7-90b3-d378c58913c4')\"\n",
              "            title=\"Convert this dataframe to an interactive table.\"\n",
              "            style=\"display:none;\">\n",
              "\n",
              "  <svg xmlns=\"http://www.w3.org/2000/svg\" height=\"24px\" viewBox=\"0 -960 960 960\">\n",
              "    <path d=\"M120-120v-720h720v720H120Zm60-500h600v-160H180v160Zm220 220h160v-160H400v160Zm0 220h160v-160H400v160ZM180-400h160v-160H180v160Zm440 0h160v-160H620v160ZM180-180h160v-160H180v160Zm440 0h160v-160H620v160Z\"/>\n",
              "  </svg>\n",
              "    </button>\n",
              "\n",
              "  <style>\n",
              "    .colab-df-container {\n",
              "      display:flex;\n",
              "      gap: 12px;\n",
              "    }\n",
              "\n",
              "    .colab-df-convert {\n",
              "      background-color: #E8F0FE;\n",
              "      border: none;\n",
              "      border-radius: 50%;\n",
              "      cursor: pointer;\n",
              "      display: none;\n",
              "      fill: #1967D2;\n",
              "      height: 32px;\n",
              "      padding: 0 0 0 0;\n",
              "      width: 32px;\n",
              "    }\n",
              "\n",
              "    .colab-df-convert:hover {\n",
              "      background-color: #E2EBFA;\n",
              "      box-shadow: 0px 1px 2px rgba(60, 64, 67, 0.3), 0px 1px 3px 1px rgba(60, 64, 67, 0.15);\n",
              "      fill: #174EA6;\n",
              "    }\n",
              "\n",
              "    .colab-df-buttons div {\n",
              "      margin-bottom: 4px;\n",
              "    }\n",
              "\n",
              "    [theme=dark] .colab-df-convert {\n",
              "      background-color: #3B4455;\n",
              "      fill: #D2E3FC;\n",
              "    }\n",
              "\n",
              "    [theme=dark] .colab-df-convert:hover {\n",
              "      background-color: #434B5C;\n",
              "      box-shadow: 0px 1px 3px 1px rgba(0, 0, 0, 0.15);\n",
              "      filter: drop-shadow(0px 1px 2px rgba(0, 0, 0, 0.3));\n",
              "      fill: #FFFFFF;\n",
              "    }\n",
              "  </style>\n",
              "\n",
              "    <script>\n",
              "      const buttonEl =\n",
              "        document.querySelector('#df-226ee868-3972-4ba7-90b3-d378c58913c4 button.colab-df-convert');\n",
              "      buttonEl.style.display =\n",
              "        google.colab.kernel.accessAllowed ? 'block' : 'none';\n",
              "\n",
              "      async function convertToInteractive(key) {\n",
              "        const element = document.querySelector('#df-226ee868-3972-4ba7-90b3-d378c58913c4');\n",
              "        const dataTable =\n",
              "          await google.colab.kernel.invokeFunction('convertToInteractive',\n",
              "                                                    [key], {});\n",
              "        if (!dataTable) return;\n",
              "\n",
              "        const docLinkHtml = 'Like what you see? Visit the ' +\n",
              "          '<a target=\"_blank\" href=https://colab.research.google.com/notebooks/data_table.ipynb>data table notebook</a>'\n",
              "          + ' to learn more about interactive tables.';\n",
              "        element.innerHTML = '';\n",
              "        dataTable['output_type'] = 'display_data';\n",
              "        await google.colab.output.renderOutput(dataTable, element);\n",
              "        const docLink = document.createElement('div');\n",
              "        docLink.innerHTML = docLinkHtml;\n",
              "        element.appendChild(docLink);\n",
              "      }\n",
              "    </script>\n",
              "  </div>\n",
              "\n",
              "\n",
              "<div id=\"df-bde34279-a0de-4c98-a458-1c7be8699217\">\n",
              "  <button class=\"colab-df-quickchart\" onclick=\"quickchart('df-bde34279-a0de-4c98-a458-1c7be8699217')\"\n",
              "            title=\"Suggest charts\"\n",
              "            style=\"display:none;\">\n",
              "\n",
              "<svg xmlns=\"http://www.w3.org/2000/svg\" height=\"24px\"viewBox=\"0 0 24 24\"\n",
              "     width=\"24px\">\n",
              "    <g>\n",
              "        <path d=\"M19 3H5c-1.1 0-2 .9-2 2v14c0 1.1.9 2 2 2h14c1.1 0 2-.9 2-2V5c0-1.1-.9-2-2-2zM9 17H7v-7h2v7zm4 0h-2V7h2v10zm4 0h-2v-4h2v4z\"/>\n",
              "    </g>\n",
              "</svg>\n",
              "  </button>\n",
              "\n",
              "<style>\n",
              "  .colab-df-quickchart {\n",
              "      --bg-color: #E8F0FE;\n",
              "      --fill-color: #1967D2;\n",
              "      --hover-bg-color: #E2EBFA;\n",
              "      --hover-fill-color: #174EA6;\n",
              "      --disabled-fill-color: #AAA;\n",
              "      --disabled-bg-color: #DDD;\n",
              "  }\n",
              "\n",
              "  [theme=dark] .colab-df-quickchart {\n",
              "      --bg-color: #3B4455;\n",
              "      --fill-color: #D2E3FC;\n",
              "      --hover-bg-color: #434B5C;\n",
              "      --hover-fill-color: #FFFFFF;\n",
              "      --disabled-bg-color: #3B4455;\n",
              "      --disabled-fill-color: #666;\n",
              "  }\n",
              "\n",
              "  .colab-df-quickchart {\n",
              "    background-color: var(--bg-color);\n",
              "    border: none;\n",
              "    border-radius: 50%;\n",
              "    cursor: pointer;\n",
              "    display: none;\n",
              "    fill: var(--fill-color);\n",
              "    height: 32px;\n",
              "    padding: 0;\n",
              "    width: 32px;\n",
              "  }\n",
              "\n",
              "  .colab-df-quickchart:hover {\n",
              "    background-color: var(--hover-bg-color);\n",
              "    box-shadow: 0 1px 2px rgba(60, 64, 67, 0.3), 0 1px 3px 1px rgba(60, 64, 67, 0.15);\n",
              "    fill: var(--button-hover-fill-color);\n",
              "  }\n",
              "\n",
              "  .colab-df-quickchart-complete:disabled,\n",
              "  .colab-df-quickchart-complete:disabled:hover {\n",
              "    background-color: var(--disabled-bg-color);\n",
              "    fill: var(--disabled-fill-color);\n",
              "    box-shadow: none;\n",
              "  }\n",
              "\n",
              "  .colab-df-spinner {\n",
              "    border: 2px solid var(--fill-color);\n",
              "    border-color: transparent;\n",
              "    border-bottom-color: var(--fill-color);\n",
              "    animation:\n",
              "      spin 1s steps(1) infinite;\n",
              "  }\n",
              "\n",
              "  @keyframes spin {\n",
              "    0% {\n",
              "      border-color: transparent;\n",
              "      border-bottom-color: var(--fill-color);\n",
              "      border-left-color: var(--fill-color);\n",
              "    }\n",
              "    20% {\n",
              "      border-color: transparent;\n",
              "      border-left-color: var(--fill-color);\n",
              "      border-top-color: var(--fill-color);\n",
              "    }\n",
              "    30% {\n",
              "      border-color: transparent;\n",
              "      border-left-color: var(--fill-color);\n",
              "      border-top-color: var(--fill-color);\n",
              "      border-right-color: var(--fill-color);\n",
              "    }\n",
              "    40% {\n",
              "      border-color: transparent;\n",
              "      border-right-color: var(--fill-color);\n",
              "      border-top-color: var(--fill-color);\n",
              "    }\n",
              "    60% {\n",
              "      border-color: transparent;\n",
              "      border-right-color: var(--fill-color);\n",
              "    }\n",
              "    80% {\n",
              "      border-color: transparent;\n",
              "      border-right-color: var(--fill-color);\n",
              "      border-bottom-color: var(--fill-color);\n",
              "    }\n",
              "    90% {\n",
              "      border-color: transparent;\n",
              "      border-bottom-color: var(--fill-color);\n",
              "    }\n",
              "  }\n",
              "</style>\n",
              "\n",
              "  <script>\n",
              "    async function quickchart(key) {\n",
              "      const quickchartButtonEl =\n",
              "        document.querySelector('#' + key + ' button');\n",
              "      quickchartButtonEl.disabled = true;  // To prevent multiple clicks.\n",
              "      quickchartButtonEl.classList.add('colab-df-spinner');\n",
              "      try {\n",
              "        const charts = await google.colab.kernel.invokeFunction(\n",
              "            'suggestCharts', [key], {});\n",
              "      } catch (error) {\n",
              "        console.error('Error during call to suggestCharts:', error);\n",
              "      }\n",
              "      quickchartButtonEl.classList.remove('colab-df-spinner');\n",
              "      quickchartButtonEl.classList.add('colab-df-quickchart-complete');\n",
              "    }\n",
              "    (() => {\n",
              "      let quickchartButtonEl =\n",
              "        document.querySelector('#df-bde34279-a0de-4c98-a458-1c7be8699217 button');\n",
              "      quickchartButtonEl.style.display =\n",
              "        google.colab.kernel.accessAllowed ? 'block' : 'none';\n",
              "    })();\n",
              "  </script>\n",
              "</div>\n",
              "    </div>\n",
              "  </div>\n"
            ]
          },
          "metadata": {},
          "execution_count": 11
        }
      ]
    },
    {
      "cell_type": "code",
      "source": [
        "DogInfo_df.dtypes"
      ],
      "metadata": {
        "colab": {
          "base_uri": "https://localhost:8080/"
        },
        "id": "21LXxhoS35wd",
        "outputId": "94301b65-fa58-4549-fa21-16189d927b0b"
      },
      "execution_count": null,
      "outputs": [
        {
          "output_type": "execute_result",
          "data": {
            "text/plain": [
              "DogID               int64\n",
              "Breed              object\n",
              "Weight              int64\n",
              "Age months          int64\n",
              "Gender              int64\n",
              "NeuteringStatus     int64\n",
              "dtype: object"
            ]
          },
          "metadata": {},
          "execution_count": 12
        }
      ]
    },
    {
      "cell_type": "markdown",
      "source": [
        "#Part 3: Exploratory Data Analysis"
      ],
      "metadata": {
        "id": "IhoWvWWbNHSG"
      }
    },
    {
      "cell_type": "markdown",
      "source": [
        "After creating summary statistics and understanding the distribution of our data, we decided to further our understanding by evaluating the relationships between meaningful combinations of features. The selection of such combinations was at our discretion, but each combination felt intuitively important -- both from a statistical sense, but also when developing our model."
      ],
      "metadata": {
        "id": "cmsSUauXN3V8"
      }
    },
    {
      "cell_type": "markdown",
      "source": [
        "## 3.1 Dog Behavior class distribution"
      ],
      "metadata": {
        "id": "jiVxlxvoNPig"
      }
    },
    {
      "cell_type": "markdown",
      "source": [
        "To begin, we chose to visualize the frequency of each dog behavior class, with each bar stands for the number of times that behavior appears during all time steps of the experiment. This could help us have a general understanding of  the distribution of different behaviors. This also benefits further analysis and modeling, such as combining together rare classes and balancing the class distribution."
      ],
      "metadata": {
        "id": "CHLcjb3HNjMl"
      }
    },
    {
      "cell_type": "code",
      "source": [
        "fig = px.bar(\n",
        "    df_count,\n",
        "    x='Behavior',\n",
        "    y='count',\n",
        "    log_y=False,\n",
        "    labels={'count':'Frequency'},\n",
        "    color_discrete_sequence=['green'],\n",
        "    title='Frequency of the behavior classes'\n",
        ")\n",
        "\n",
        "# Update layout for title\n",
        "fig.update_layout(\n",
        "    title_x=0.5,  # Center title\n",
        "    title_font=dict(size=25)  # Increase title font size\n",
        ")\n",
        "\n",
        "fig.show()"
      ],
      "metadata": {
        "colab": {
          "base_uri": "https://localhost:8080/",
          "height": 542
        },
        "id": "M6CJkcdjNZ--",
        "outputId": "6ed30303-db12-4957-b932-9de331ec60b9"
      },
      "execution_count": null,
      "outputs": [
        {
          "output_type": "display_data",
          "data": {
            "text/html": [
              "<html>\n",
              "<head><meta charset=\"utf-8\" /></head>\n",
              "<body>\n",
              "    <div>            <script src=\"https://cdnjs.cloudflare.com/ajax/libs/mathjax/2.7.5/MathJax.js?config=TeX-AMS-MML_SVG\"></script><script type=\"text/javascript\">if (window.MathJax && window.MathJax.Hub && window.MathJax.Hub.Config) {window.MathJax.Hub.Config({SVG: {font: \"STIX-Web\"}});}</script>                <script type=\"text/javascript\">window.PlotlyConfig = {MathJaxConfig: 'local'};</script>\n",
              "        <script charset=\"utf-8\" src=\"https://cdn.plot.ly/plotly-2.24.1.min.js\"></script>                <div id=\"4ab2a696-8506-45c2-9e51-68bc51990a61\" class=\"plotly-graph-div\" style=\"height:525px; width:100%;\"></div>            <script type=\"text/javascript\">                                    window.PLOTLYENV=window.PLOTLYENV || {};                                    if (document.getElementById(\"4ab2a696-8506-45c2-9e51-68bc51990a61\")) {                    Plotly.newPlot(                        \"4ab2a696-8506-45c2-9e51-68bc51990a61\",                        [{\"alignmentgroup\":\"True\",\"hovertemplate\":\"Behavior=%{x}\\u003cbr\\u003eFrequency=%{y}\\u003cextra\\u003e\\u003c\\u002fextra\\u003e\",\"legendgroup\":\"\",\"marker\":{\"color\":\"green\",\"pattern\":{\"shape\":\"\"}},\"name\":\"\",\"offsetgroup\":\"\",\"orientation\":\"v\",\"showlegend\":false,\"textposition\":\"auto\",\"x\":[\"Bowing\",\"Carrying object\",\"Drinking\",\"Eating\",\"Galloping\",\"Jumping\",\"Lying chest\",\"Pacing\",\"Panting\",\"Playing\",\"Shaking\",\"Sitting\",\"Sniffing\",\"Standing\",\"Trotting\",\"Tugging\",\"Walking\"],\"xaxis\":\"x\",\"y\":[1540,145859,64721,312806,174926,42076,1129902,78599,1777641,937026,42144,1120116,1026178,1027710,773879,297102,783035],\"yaxis\":\"y\",\"type\":\"bar\"}],                        {\"template\":{\"data\":{\"histogram2dcontour\":[{\"type\":\"histogram2dcontour\",\"colorbar\":{\"outlinewidth\":0,\"ticks\":\"\"},\"colorscale\":[[0.0,\"#0d0887\"],[0.1111111111111111,\"#46039f\"],[0.2222222222222222,\"#7201a8\"],[0.3333333333333333,\"#9c179e\"],[0.4444444444444444,\"#bd3786\"],[0.5555555555555556,\"#d8576b\"],[0.6666666666666666,\"#ed7953\"],[0.7777777777777778,\"#fb9f3a\"],[0.8888888888888888,\"#fdca26\"],[1.0,\"#f0f921\"]]}],\"choropleth\":[{\"type\":\"choropleth\",\"colorbar\":{\"outlinewidth\":0,\"ticks\":\"\"}}],\"histogram2d\":[{\"type\":\"histogram2d\",\"colorbar\":{\"outlinewidth\":0,\"ticks\":\"\"},\"colorscale\":[[0.0,\"#0d0887\"],[0.1111111111111111,\"#46039f\"],[0.2222222222222222,\"#7201a8\"],[0.3333333333333333,\"#9c179e\"],[0.4444444444444444,\"#bd3786\"],[0.5555555555555556,\"#d8576b\"],[0.6666666666666666,\"#ed7953\"],[0.7777777777777778,\"#fb9f3a\"],[0.8888888888888888,\"#fdca26\"],[1.0,\"#f0f921\"]]}],\"heatmap\":[{\"type\":\"heatmap\",\"colorbar\":{\"outlinewidth\":0,\"ticks\":\"\"},\"colorscale\":[[0.0,\"#0d0887\"],[0.1111111111111111,\"#46039f\"],[0.2222222222222222,\"#7201a8\"],[0.3333333333333333,\"#9c179e\"],[0.4444444444444444,\"#bd3786\"],[0.5555555555555556,\"#d8576b\"],[0.6666666666666666,\"#ed7953\"],[0.7777777777777778,\"#fb9f3a\"],[0.8888888888888888,\"#fdca26\"],[1.0,\"#f0f921\"]]}],\"heatmapgl\":[{\"type\":\"heatmapgl\",\"colorbar\":{\"outlinewidth\":0,\"ticks\":\"\"},\"colorscale\":[[0.0,\"#0d0887\"],[0.1111111111111111,\"#46039f\"],[0.2222222222222222,\"#7201a8\"],[0.3333333333333333,\"#9c179e\"],[0.4444444444444444,\"#bd3786\"],[0.5555555555555556,\"#d8576b\"],[0.6666666666666666,\"#ed7953\"],[0.7777777777777778,\"#fb9f3a\"],[0.8888888888888888,\"#fdca26\"],[1.0,\"#f0f921\"]]}],\"contourcarpet\":[{\"type\":\"contourcarpet\",\"colorbar\":{\"outlinewidth\":0,\"ticks\":\"\"}}],\"contour\":[{\"type\":\"contour\",\"colorbar\":{\"outlinewidth\":0,\"ticks\":\"\"},\"colorscale\":[[0.0,\"#0d0887\"],[0.1111111111111111,\"#46039f\"],[0.2222222222222222,\"#7201a8\"],[0.3333333333333333,\"#9c179e\"],[0.4444444444444444,\"#bd3786\"],[0.5555555555555556,\"#d8576b\"],[0.6666666666666666,\"#ed7953\"],[0.7777777777777778,\"#fb9f3a\"],[0.8888888888888888,\"#fdca26\"],[1.0,\"#f0f921\"]]}],\"surface\":[{\"type\":\"surface\",\"colorbar\":{\"outlinewidth\":0,\"ticks\":\"\"},\"colorscale\":[[0.0,\"#0d0887\"],[0.1111111111111111,\"#46039f\"],[0.2222222222222222,\"#7201a8\"],[0.3333333333333333,\"#9c179e\"],[0.4444444444444444,\"#bd3786\"],[0.5555555555555556,\"#d8576b\"],[0.6666666666666666,\"#ed7953\"],[0.7777777777777778,\"#fb9f3a\"],[0.8888888888888888,\"#fdca26\"],[1.0,\"#f0f921\"]]}],\"mesh3d\":[{\"type\":\"mesh3d\",\"colorbar\":{\"outlinewidth\":0,\"ticks\":\"\"}}],\"scatter\":[{\"fillpattern\":{\"fillmode\":\"overlay\",\"size\":10,\"solidity\":0.2},\"type\":\"scatter\"}],\"parcoords\":[{\"type\":\"parcoords\",\"line\":{\"colorbar\":{\"outlinewidth\":0,\"ticks\":\"\"}}}],\"scatterpolargl\":[{\"type\":\"scatterpolargl\",\"marker\":{\"colorbar\":{\"outlinewidth\":0,\"ticks\":\"\"}}}],\"bar\":[{\"error_x\":{\"color\":\"#2a3f5f\"},\"error_y\":{\"color\":\"#2a3f5f\"},\"marker\":{\"line\":{\"color\":\"white\",\"width\":0.5},\"pattern\":{\"fillmode\":\"overlay\",\"size\":10,\"solidity\":0.2}},\"type\":\"bar\"}],\"scattergeo\":[{\"type\":\"scattergeo\",\"marker\":{\"colorbar\":{\"outlinewidth\":0,\"ticks\":\"\"}}}],\"scatterpolar\":[{\"type\":\"scatterpolar\",\"marker\":{\"colorbar\":{\"outlinewidth\":0,\"ticks\":\"\"}}}],\"histogram\":[{\"marker\":{\"pattern\":{\"fillmode\":\"overlay\",\"size\":10,\"solidity\":0.2}},\"type\":\"histogram\"}],\"scattergl\":[{\"type\":\"scattergl\",\"marker\":{\"colorbar\":{\"outlinewidth\":0,\"ticks\":\"\"}}}],\"scatter3d\":[{\"type\":\"scatter3d\",\"line\":{\"colorbar\":{\"outlinewidth\":0,\"ticks\":\"\"}},\"marker\":{\"colorbar\":{\"outlinewidth\":0,\"ticks\":\"\"}}}],\"scattermapbox\":[{\"type\":\"scattermapbox\",\"marker\":{\"colorbar\":{\"outlinewidth\":0,\"ticks\":\"\"}}}],\"scatterternary\":[{\"type\":\"scatterternary\",\"marker\":{\"colorbar\":{\"outlinewidth\":0,\"ticks\":\"\"}}}],\"scattercarpet\":[{\"type\":\"scattercarpet\",\"marker\":{\"colorbar\":{\"outlinewidth\":0,\"ticks\":\"\"}}}],\"carpet\":[{\"aaxis\":{\"endlinecolor\":\"#2a3f5f\",\"gridcolor\":\"#C8D4E3\",\"linecolor\":\"#C8D4E3\",\"minorgridcolor\":\"#C8D4E3\",\"startlinecolor\":\"#2a3f5f\"},\"baxis\":{\"endlinecolor\":\"#2a3f5f\",\"gridcolor\":\"#C8D4E3\",\"linecolor\":\"#C8D4E3\",\"minorgridcolor\":\"#C8D4E3\",\"startlinecolor\":\"#2a3f5f\"},\"type\":\"carpet\"}],\"table\":[{\"cells\":{\"fill\":{\"color\":\"#EBF0F8\"},\"line\":{\"color\":\"white\"}},\"header\":{\"fill\":{\"color\":\"#C8D4E3\"},\"line\":{\"color\":\"white\"}},\"type\":\"table\"}],\"barpolar\":[{\"marker\":{\"line\":{\"color\":\"white\",\"width\":0.5},\"pattern\":{\"fillmode\":\"overlay\",\"size\":10,\"solidity\":0.2}},\"type\":\"barpolar\"}],\"pie\":[{\"automargin\":true,\"type\":\"pie\"}]},\"layout\":{\"autotypenumbers\":\"strict\",\"colorway\":[\"#636efa\",\"#EF553B\",\"#00cc96\",\"#ab63fa\",\"#FFA15A\",\"#19d3f3\",\"#FF6692\",\"#B6E880\",\"#FF97FF\",\"#FECB52\"],\"font\":{\"color\":\"#2a3f5f\"},\"hovermode\":\"closest\",\"hoverlabel\":{\"align\":\"left\"},\"paper_bgcolor\":\"white\",\"plot_bgcolor\":\"white\",\"polar\":{\"bgcolor\":\"white\",\"angularaxis\":{\"gridcolor\":\"#EBF0F8\",\"linecolor\":\"#EBF0F8\",\"ticks\":\"\"},\"radialaxis\":{\"gridcolor\":\"#EBF0F8\",\"linecolor\":\"#EBF0F8\",\"ticks\":\"\"}},\"ternary\":{\"bgcolor\":\"white\",\"aaxis\":{\"gridcolor\":\"#DFE8F3\",\"linecolor\":\"#A2B1C6\",\"ticks\":\"\"},\"baxis\":{\"gridcolor\":\"#DFE8F3\",\"linecolor\":\"#A2B1C6\",\"ticks\":\"\"},\"caxis\":{\"gridcolor\":\"#DFE8F3\",\"linecolor\":\"#A2B1C6\",\"ticks\":\"\"}},\"coloraxis\":{\"colorbar\":{\"outlinewidth\":0,\"ticks\":\"\"}},\"colorscale\":{\"sequential\":[[0.0,\"#0d0887\"],[0.1111111111111111,\"#46039f\"],[0.2222222222222222,\"#7201a8\"],[0.3333333333333333,\"#9c179e\"],[0.4444444444444444,\"#bd3786\"],[0.5555555555555556,\"#d8576b\"],[0.6666666666666666,\"#ed7953\"],[0.7777777777777778,\"#fb9f3a\"],[0.8888888888888888,\"#fdca26\"],[1.0,\"#f0f921\"]],\"sequentialminus\":[[0.0,\"#0d0887\"],[0.1111111111111111,\"#46039f\"],[0.2222222222222222,\"#7201a8\"],[0.3333333333333333,\"#9c179e\"],[0.4444444444444444,\"#bd3786\"],[0.5555555555555556,\"#d8576b\"],[0.6666666666666666,\"#ed7953\"],[0.7777777777777778,\"#fb9f3a\"],[0.8888888888888888,\"#fdca26\"],[1.0,\"#f0f921\"]],\"diverging\":[[0,\"#8e0152\"],[0.1,\"#c51b7d\"],[0.2,\"#de77ae\"],[0.3,\"#f1b6da\"],[0.4,\"#fde0ef\"],[0.5,\"#f7f7f7\"],[0.6,\"#e6f5d0\"],[0.7,\"#b8e186\"],[0.8,\"#7fbc41\"],[0.9,\"#4d9221\"],[1,\"#276419\"]]},\"xaxis\":{\"gridcolor\":\"#EBF0F8\",\"linecolor\":\"#EBF0F8\",\"ticks\":\"\",\"title\":{\"standoff\":15},\"zerolinecolor\":\"#EBF0F8\",\"automargin\":true,\"zerolinewidth\":2},\"yaxis\":{\"gridcolor\":\"#EBF0F8\",\"linecolor\":\"#EBF0F8\",\"ticks\":\"\",\"title\":{\"standoff\":15},\"zerolinecolor\":\"#EBF0F8\",\"automargin\":true,\"zerolinewidth\":2},\"scene\":{\"xaxis\":{\"backgroundcolor\":\"white\",\"gridcolor\":\"#DFE8F3\",\"linecolor\":\"#EBF0F8\",\"showbackground\":true,\"ticks\":\"\",\"zerolinecolor\":\"#EBF0F8\",\"gridwidth\":2},\"yaxis\":{\"backgroundcolor\":\"white\",\"gridcolor\":\"#DFE8F3\",\"linecolor\":\"#EBF0F8\",\"showbackground\":true,\"ticks\":\"\",\"zerolinecolor\":\"#EBF0F8\",\"gridwidth\":2},\"zaxis\":{\"backgroundcolor\":\"white\",\"gridcolor\":\"#DFE8F3\",\"linecolor\":\"#EBF0F8\",\"showbackground\":true,\"ticks\":\"\",\"zerolinecolor\":\"#EBF0F8\",\"gridwidth\":2}},\"shapedefaults\":{\"line\":{\"color\":\"#2a3f5f\"}},\"annotationdefaults\":{\"arrowcolor\":\"#2a3f5f\",\"arrowhead\":0,\"arrowwidth\":1},\"geo\":{\"bgcolor\":\"white\",\"landcolor\":\"white\",\"subunitcolor\":\"#C8D4E3\",\"showland\":true,\"showlakes\":true,\"lakecolor\":\"white\"},\"title\":{\"x\":0.05},\"mapbox\":{\"style\":\"light\"}}},\"xaxis\":{\"anchor\":\"y\",\"domain\":[0.0,1.0],\"title\":{\"text\":\"Behavior\"}},\"yaxis\":{\"anchor\":\"x\",\"domain\":[0.0,1.0],\"title\":{\"text\":\"Frequency\"}},\"legend\":{\"tracegroupgap\":0},\"title\":{\"text\":\"Frequency of the behavior classes\",\"font\":{\"size\":25},\"x\":0.5},\"barmode\":\"relative\"},                        {\"responsive\": true}                    ).then(function(){\n",
              "                            \n",
              "var gd = document.getElementById('4ab2a696-8506-45c2-9e51-68bc51990a61');\n",
              "var x = new MutationObserver(function (mutations, observer) {{\n",
              "        var display = window.getComputedStyle(gd).display;\n",
              "        if (!display || display === 'none') {{\n",
              "            console.log([gd, 'removed!']);\n",
              "            Plotly.purge(gd);\n",
              "            observer.disconnect();\n",
              "        }}\n",
              "}});\n",
              "\n",
              "// Listen for the removal of the full notebook cells\n",
              "var notebookContainer = gd.closest('#notebook-container');\n",
              "if (notebookContainer) {{\n",
              "    x.observe(notebookContainer, {childList: true});\n",
              "}}\n",
              "\n",
              "// Listen for the clearing of the current output cell\n",
              "var outputEl = gd.closest('.output');\n",
              "if (outputEl) {{\n",
              "    x.observe(outputEl, {childList: true});\n",
              "}}\n",
              "\n",
              "                        })                };                            </script>        </div>\n",
              "</body>\n",
              "</html>"
            ]
          },
          "metadata": {}
        }
      ]
    },
    {
      "cell_type": "markdown",
      "source": [
        "Takeaways:\n",
        "* 'Lying', 'Pacing', and 'Standing' are the most frequently recorded behaviors, indicating that in the context of the study, these are the most commonly observed states or activities for the dogs.\n",
        "* The dataset appears to be skewed towards less active behaviors, which could affect any predictive modeling efforts. Notice that we conducted resampling in later modelling section.\n",
        "* The 'Bowing' behavior is present in only 1540 time steps, compared to over 1.7 million time steps for the 'Panting' behavior."
      ],
      "metadata": {
        "id": "1TNNwX0SQiO7"
      }
    },
    {
      "cell_type": "markdown",
      "source": [
        "## 3.2 Distribution of Mean acceleration among all dog behaviors"
      ],
      "metadata": {
        "id": "bJE49df4jPER"
      }
    },
    {
      "cell_type": "markdown",
      "source": [
        "### 3.2.1 Boxplot of Mean Acceleration"
      ],
      "metadata": {
        "id": "pqZMSe4sQa7M"
      }
    },
    {
      "cell_type": "markdown",
      "source": [
        "With the above known class distribution of dog behaviors, we decided to figure out the variability and range of acceleration values associated with each behavior. This can show how much movement is typically involved in each behavior and can help in distinguishing between them."
      ],
      "metadata": {
        "id": "1SsllIARREVB"
      }
    },
    {
      "cell_type": "code",
      "source": [
        "fig = make_manual_box_plot(\n",
        "    exploded_df,\n",
        "    'ABack',\n",
        "    xlabel='Behavior',\n",
        "    ylabel='Acceleration at back [g]',\n",
        "    title=\"Value distribution of acceleration at back for each behavior\"\n",
        ")\n",
        "\n",
        "# Update the color of each trace\n",
        "for i, trace in enumerate(fig.data):\n",
        "    fig.update_traces(marker=dict(color=color_sequence[i % len(color_sequence)]), selector=i)\n",
        "# Update layout for title\n",
        "fig.update_layout(\n",
        "    title_x=0.5,  # Center title\n",
        "    title_font=dict(size=25)  # Increase title font size\n",
        ")\n",
        "\n",
        "fig.show()"
      ],
      "metadata": {
        "colab": {
          "base_uri": "https://localhost:8080/",
          "height": 542
        },
        "id": "SRvAwT8WQddN",
        "outputId": "50d9970c-e5b4-485b-8199-5d6cc669b938"
      },
      "execution_count": null,
      "outputs": [
        {
          "output_type": "display_data",
          "data": {
            "text/html": [
              "<html>\n",
              "<head><meta charset=\"utf-8\" /></head>\n",
              "<body>\n",
              "    <div>            <script src=\"https://cdnjs.cloudflare.com/ajax/libs/mathjax/2.7.5/MathJax.js?config=TeX-AMS-MML_SVG\"></script><script type=\"text/javascript\">if (window.MathJax && window.MathJax.Hub && window.MathJax.Hub.Config) {window.MathJax.Hub.Config({SVG: {font: \"STIX-Web\"}});}</script>                <script type=\"text/javascript\">window.PlotlyConfig = {MathJaxConfig: 'local'};</script>\n",
              "        <script charset=\"utf-8\" src=\"https://cdn.plot.ly/plotly-2.24.1.min.js\"></script>                <div id=\"638d0d8d-0726-40c2-9d1b-ccc0c1bc0a6b\" class=\"plotly-graph-div\" style=\"height:525px; width:100%;\"></div>            <script type=\"text/javascript\">                                    window.PLOTLYENV=window.PLOTLYENV || {};                                    if (document.getElementById(\"638d0d8d-0726-40c2-9d1b-ccc0c1bc0a6b\")) {                    Plotly.newPlot(                        \"638d0d8d-0726-40c2-9d1b-ccc0c1bc0a6b\",                        [{\"x\":[\"Bowing\",\"Carrying object\",\"Drinking\",\"Eating\",\"Galloping\",\"Jumping\",\"Lying chest\",\"Pacing\",\"Panting\",\"Playing\",\"Shaking\",\"Sitting\",\"Sniffing\",\"Standing\",\"Trotting\",\"Tugging\",\"Walking\"],\"type\":\"box\",\"lowerfence\":[0.9186546303589832,0.5740109153003974,0.9253902575173352,0.9536146202308352,0.6809563434853956,0.5938322314307299,0.9725205217017273,0.4335210754484723,0.9654606584765637,0.7070974959254205,1.1849579422388796,0.979616427953819,0.8809556496464508,0.9691225989450458,0.37066499670187364,0.7186089933232119,0.8560184862513193],\"mean\":[1.0225661145505294,1.6394531515400625,1.0105641116222226,1.0256288376597709,2.141253257952062,1.6215046452121278,1.0072795441789584,1.1807431713743155,1.008756688216635,1.6239377141455562,6.416287354498471,1.0155227841934584,1.0231467456398489,1.0034459510456677,1.2441117816894462,1.3337830786029259,1.0317088549914266],\"median\":[1.0097636573286246,1.343656136955062,0.9930857021924141,1.0094340506746793,1.732104779590756,1.296896687951009,1.0058477258656002,1.099385614493386,1.0079193539073452,1.2738886143541723,5.412586190564008,1.0141606675192052,1.0080585146867715,1.0020935877574009,1.2505900814675446,1.1482447892829468,1.0105555059713445],\"q1\":[0.9721340301712517,0.9123236909200594,0.9624432209340975,0.9861854474311613,1.0702517245162466,0.8966430565754692,0.9923323547834162,0.7201051874573602,0.9879484194602469,0.9611632981268065,2.4694849924735323,1.002101289894889,0.9459472935533988,0.9876818283374459,0.6493723335044387,0.9355352572757479,0.9281348297154891],\"q3\":[1.0499457160725025,2.0090815536709803,1.0279684674589975,1.03574364140795,2.7222323525990575,2.0104995869387787,1.01929493610976,1.590924742112272,1.0266276485493657,1.9013638914447704,9.214759009948931,1.0273066337686134,1.0827898946744008,1.0162806070259336,1.741558847200404,1.5509834907780289,1.1166928821148634],\"upperfence\":[1.1426155007109784,2.948231943338414,1.0896313060751328,1.0846887714648843,4.048021109337499,3.006741338897478,1.0396181651115952,1.9842002074531186,1.0498575952294673,2.8990742055970213,13.454717781962948,1.0500722329354302,1.1799670906974482,1.0376337657540833,2.0992523126148988,2.134185509391815,1.2378384757107854],\"marker\":{\"color\":\"#3366CC\"}}],                        {\"template\":{\"data\":{\"histogram2dcontour\":[{\"type\":\"histogram2dcontour\",\"colorbar\":{\"outlinewidth\":0,\"ticks\":\"\"},\"colorscale\":[[0.0,\"#0d0887\"],[0.1111111111111111,\"#46039f\"],[0.2222222222222222,\"#7201a8\"],[0.3333333333333333,\"#9c179e\"],[0.4444444444444444,\"#bd3786\"],[0.5555555555555556,\"#d8576b\"],[0.6666666666666666,\"#ed7953\"],[0.7777777777777778,\"#fb9f3a\"],[0.8888888888888888,\"#fdca26\"],[1.0,\"#f0f921\"]]}],\"choropleth\":[{\"type\":\"choropleth\",\"colorbar\":{\"outlinewidth\":0,\"ticks\":\"\"}}],\"histogram2d\":[{\"type\":\"histogram2d\",\"colorbar\":{\"outlinewidth\":0,\"ticks\":\"\"},\"colorscale\":[[0.0,\"#0d0887\"],[0.1111111111111111,\"#46039f\"],[0.2222222222222222,\"#7201a8\"],[0.3333333333333333,\"#9c179e\"],[0.4444444444444444,\"#bd3786\"],[0.5555555555555556,\"#d8576b\"],[0.6666666666666666,\"#ed7953\"],[0.7777777777777778,\"#fb9f3a\"],[0.8888888888888888,\"#fdca26\"],[1.0,\"#f0f921\"]]}],\"heatmap\":[{\"type\":\"heatmap\",\"colorbar\":{\"outlinewidth\":0,\"ticks\":\"\"},\"colorscale\":[[0.0,\"#0d0887\"],[0.1111111111111111,\"#46039f\"],[0.2222222222222222,\"#7201a8\"],[0.3333333333333333,\"#9c179e\"],[0.4444444444444444,\"#bd3786\"],[0.5555555555555556,\"#d8576b\"],[0.6666666666666666,\"#ed7953\"],[0.7777777777777778,\"#fb9f3a\"],[0.8888888888888888,\"#fdca26\"],[1.0,\"#f0f921\"]]}],\"heatmapgl\":[{\"type\":\"heatmapgl\",\"colorbar\":{\"outlinewidth\":0,\"ticks\":\"\"},\"colorscale\":[[0.0,\"#0d0887\"],[0.1111111111111111,\"#46039f\"],[0.2222222222222222,\"#7201a8\"],[0.3333333333333333,\"#9c179e\"],[0.4444444444444444,\"#bd3786\"],[0.5555555555555556,\"#d8576b\"],[0.6666666666666666,\"#ed7953\"],[0.7777777777777778,\"#fb9f3a\"],[0.8888888888888888,\"#fdca26\"],[1.0,\"#f0f921\"]]}],\"contourcarpet\":[{\"type\":\"contourcarpet\",\"colorbar\":{\"outlinewidth\":0,\"ticks\":\"\"}}],\"contour\":[{\"type\":\"contour\",\"colorbar\":{\"outlinewidth\":0,\"ticks\":\"\"},\"colorscale\":[[0.0,\"#0d0887\"],[0.1111111111111111,\"#46039f\"],[0.2222222222222222,\"#7201a8\"],[0.3333333333333333,\"#9c179e\"],[0.4444444444444444,\"#bd3786\"],[0.5555555555555556,\"#d8576b\"],[0.6666666666666666,\"#ed7953\"],[0.7777777777777778,\"#fb9f3a\"],[0.8888888888888888,\"#fdca26\"],[1.0,\"#f0f921\"]]}],\"surface\":[{\"type\":\"surface\",\"colorbar\":{\"outlinewidth\":0,\"ticks\":\"\"},\"colorscale\":[[0.0,\"#0d0887\"],[0.1111111111111111,\"#46039f\"],[0.2222222222222222,\"#7201a8\"],[0.3333333333333333,\"#9c179e\"],[0.4444444444444444,\"#bd3786\"],[0.5555555555555556,\"#d8576b\"],[0.6666666666666666,\"#ed7953\"],[0.7777777777777778,\"#fb9f3a\"],[0.8888888888888888,\"#fdca26\"],[1.0,\"#f0f921\"]]}],\"mesh3d\":[{\"type\":\"mesh3d\",\"colorbar\":{\"outlinewidth\":0,\"ticks\":\"\"}}],\"scatter\":[{\"fillpattern\":{\"fillmode\":\"overlay\",\"size\":10,\"solidity\":0.2},\"type\":\"scatter\"}],\"parcoords\":[{\"type\":\"parcoords\",\"line\":{\"colorbar\":{\"outlinewidth\":0,\"ticks\":\"\"}}}],\"scatterpolargl\":[{\"type\":\"scatterpolargl\",\"marker\":{\"colorbar\":{\"outlinewidth\":0,\"ticks\":\"\"}}}],\"bar\":[{\"error_x\":{\"color\":\"#2a3f5f\"},\"error_y\":{\"color\":\"#2a3f5f\"},\"marker\":{\"line\":{\"color\":\"white\",\"width\":0.5},\"pattern\":{\"fillmode\":\"overlay\",\"size\":10,\"solidity\":0.2}},\"type\":\"bar\"}],\"scattergeo\":[{\"type\":\"scattergeo\",\"marker\":{\"colorbar\":{\"outlinewidth\":0,\"ticks\":\"\"}}}],\"scatterpolar\":[{\"type\":\"scatterpolar\",\"marker\":{\"colorbar\":{\"outlinewidth\":0,\"ticks\":\"\"}}}],\"histogram\":[{\"marker\":{\"pattern\":{\"fillmode\":\"overlay\",\"size\":10,\"solidity\":0.2}},\"type\":\"histogram\"}],\"scattergl\":[{\"type\":\"scattergl\",\"marker\":{\"colorbar\":{\"outlinewidth\":0,\"ticks\":\"\"}}}],\"scatter3d\":[{\"type\":\"scatter3d\",\"line\":{\"colorbar\":{\"outlinewidth\":0,\"ticks\":\"\"}},\"marker\":{\"colorbar\":{\"outlinewidth\":0,\"ticks\":\"\"}}}],\"scattermapbox\":[{\"type\":\"scattermapbox\",\"marker\":{\"colorbar\":{\"outlinewidth\":0,\"ticks\":\"\"}}}],\"scatterternary\":[{\"type\":\"scatterternary\",\"marker\":{\"colorbar\":{\"outlinewidth\":0,\"ticks\":\"\"}}}],\"scattercarpet\":[{\"type\":\"scattercarpet\",\"marker\":{\"colorbar\":{\"outlinewidth\":0,\"ticks\":\"\"}}}],\"carpet\":[{\"aaxis\":{\"endlinecolor\":\"#2a3f5f\",\"gridcolor\":\"#C8D4E3\",\"linecolor\":\"#C8D4E3\",\"minorgridcolor\":\"#C8D4E3\",\"startlinecolor\":\"#2a3f5f\"},\"baxis\":{\"endlinecolor\":\"#2a3f5f\",\"gridcolor\":\"#C8D4E3\",\"linecolor\":\"#C8D4E3\",\"minorgridcolor\":\"#C8D4E3\",\"startlinecolor\":\"#2a3f5f\"},\"type\":\"carpet\"}],\"table\":[{\"cells\":{\"fill\":{\"color\":\"#EBF0F8\"},\"line\":{\"color\":\"white\"}},\"header\":{\"fill\":{\"color\":\"#C8D4E3\"},\"line\":{\"color\":\"white\"}},\"type\":\"table\"}],\"barpolar\":[{\"marker\":{\"line\":{\"color\":\"white\",\"width\":0.5},\"pattern\":{\"fillmode\":\"overlay\",\"size\":10,\"solidity\":0.2}},\"type\":\"barpolar\"}],\"pie\":[{\"automargin\":true,\"type\":\"pie\"}]},\"layout\":{\"autotypenumbers\":\"strict\",\"colorway\":[\"#636efa\",\"#EF553B\",\"#00cc96\",\"#ab63fa\",\"#FFA15A\",\"#19d3f3\",\"#FF6692\",\"#B6E880\",\"#FF97FF\",\"#FECB52\"],\"font\":{\"color\":\"#2a3f5f\"},\"hovermode\":\"closest\",\"hoverlabel\":{\"align\":\"left\"},\"paper_bgcolor\":\"white\",\"plot_bgcolor\":\"white\",\"polar\":{\"bgcolor\":\"white\",\"angularaxis\":{\"gridcolor\":\"#EBF0F8\",\"linecolor\":\"#EBF0F8\",\"ticks\":\"\"},\"radialaxis\":{\"gridcolor\":\"#EBF0F8\",\"linecolor\":\"#EBF0F8\",\"ticks\":\"\"}},\"ternary\":{\"bgcolor\":\"white\",\"aaxis\":{\"gridcolor\":\"#DFE8F3\",\"linecolor\":\"#A2B1C6\",\"ticks\":\"\"},\"baxis\":{\"gridcolor\":\"#DFE8F3\",\"linecolor\":\"#A2B1C6\",\"ticks\":\"\"},\"caxis\":{\"gridcolor\":\"#DFE8F3\",\"linecolor\":\"#A2B1C6\",\"ticks\":\"\"}},\"coloraxis\":{\"colorbar\":{\"outlinewidth\":0,\"ticks\":\"\"}},\"colorscale\":{\"sequential\":[[0.0,\"#0d0887\"],[0.1111111111111111,\"#46039f\"],[0.2222222222222222,\"#7201a8\"],[0.3333333333333333,\"#9c179e\"],[0.4444444444444444,\"#bd3786\"],[0.5555555555555556,\"#d8576b\"],[0.6666666666666666,\"#ed7953\"],[0.7777777777777778,\"#fb9f3a\"],[0.8888888888888888,\"#fdca26\"],[1.0,\"#f0f921\"]],\"sequentialminus\":[[0.0,\"#0d0887\"],[0.1111111111111111,\"#46039f\"],[0.2222222222222222,\"#7201a8\"],[0.3333333333333333,\"#9c179e\"],[0.4444444444444444,\"#bd3786\"],[0.5555555555555556,\"#d8576b\"],[0.6666666666666666,\"#ed7953\"],[0.7777777777777778,\"#fb9f3a\"],[0.8888888888888888,\"#fdca26\"],[1.0,\"#f0f921\"]],\"diverging\":[[0,\"#8e0152\"],[0.1,\"#c51b7d\"],[0.2,\"#de77ae\"],[0.3,\"#f1b6da\"],[0.4,\"#fde0ef\"],[0.5,\"#f7f7f7\"],[0.6,\"#e6f5d0\"],[0.7,\"#b8e186\"],[0.8,\"#7fbc41\"],[0.9,\"#4d9221\"],[1,\"#276419\"]]},\"xaxis\":{\"gridcolor\":\"#EBF0F8\",\"linecolor\":\"#EBF0F8\",\"ticks\":\"\",\"title\":{\"standoff\":15},\"zerolinecolor\":\"#EBF0F8\",\"automargin\":true,\"zerolinewidth\":2},\"yaxis\":{\"gridcolor\":\"#EBF0F8\",\"linecolor\":\"#EBF0F8\",\"ticks\":\"\",\"title\":{\"standoff\":15},\"zerolinecolor\":\"#EBF0F8\",\"automargin\":true,\"zerolinewidth\":2},\"scene\":{\"xaxis\":{\"backgroundcolor\":\"white\",\"gridcolor\":\"#DFE8F3\",\"linecolor\":\"#EBF0F8\",\"showbackground\":true,\"ticks\":\"\",\"zerolinecolor\":\"#EBF0F8\",\"gridwidth\":2},\"yaxis\":{\"backgroundcolor\":\"white\",\"gridcolor\":\"#DFE8F3\",\"linecolor\":\"#EBF0F8\",\"showbackground\":true,\"ticks\":\"\",\"zerolinecolor\":\"#EBF0F8\",\"gridwidth\":2},\"zaxis\":{\"backgroundcolor\":\"white\",\"gridcolor\":\"#DFE8F3\",\"linecolor\":\"#EBF0F8\",\"showbackground\":true,\"ticks\":\"\",\"zerolinecolor\":\"#EBF0F8\",\"gridwidth\":2}},\"shapedefaults\":{\"line\":{\"color\":\"#2a3f5f\"}},\"annotationdefaults\":{\"arrowcolor\":\"#2a3f5f\",\"arrowhead\":0,\"arrowwidth\":1},\"geo\":{\"bgcolor\":\"white\",\"landcolor\":\"white\",\"subunitcolor\":\"#C8D4E3\",\"showland\":true,\"showlakes\":true,\"lakecolor\":\"white\"},\"title\":{\"x\":0.05},\"mapbox\":{\"style\":\"light\"}}},\"xaxis\":{\"title\":{\"text\":\"Behavior\"}},\"yaxis\":{\"title\":{\"text\":\"Acceleration at back [g]\"}},\"title\":{\"text\":\"Value distribution of acceleration at back for each behavior\",\"font\":{\"size\":25},\"x\":0.5}},                        {\"responsive\": true}                    ).then(function(){\n",
              "                            \n",
              "var gd = document.getElementById('638d0d8d-0726-40c2-9d1b-ccc0c1bc0a6b');\n",
              "var x = new MutationObserver(function (mutations, observer) {{\n",
              "        var display = window.getComputedStyle(gd).display;\n",
              "        if (!display || display === 'none') {{\n",
              "            console.log([gd, 'removed!']);\n",
              "            Plotly.purge(gd);\n",
              "            observer.disconnect();\n",
              "        }}\n",
              "}});\n",
              "\n",
              "// Listen for the removal of the full notebook cells\n",
              "var notebookContainer = gd.closest('#notebook-container');\n",
              "if (notebookContainer) {{\n",
              "    x.observe(notebookContainer, {childList: true});\n",
              "}}\n",
              "\n",
              "// Listen for the clearing of the current output cell\n",
              "var outputEl = gd.closest('.output');\n",
              "if (outputEl) {{\n",
              "    x.observe(outputEl, {childList: true});\n",
              "}}\n",
              "\n",
              "                        })                };                            </script>        </div>\n",
              "</body>\n",
              "</html>"
            ]
          },
          "metadata": {}
        }
      ]
    },
    {
      "cell_type": "markdown",
      "source": [
        "Takeaways:\n",
        "* 'Playing' shows the greatest variation in acceleration values, with a particularly wide interquartile range. This suggests that 'Playing' involves a wide range of movement intensities, which could be vigorous at times.\n",
        "* 'Sitting' and 'Standing' have relatively tight interquartile ranges, indicating that these behaviors are associated with more consistent and lower levels of acceleration at the back.\n",
        "* Behaviors such as 'Eating', 'Drinking', 'Sitting', and 'Sniffing' show low median acceleration values and relatively small interquartile ranges. This indicates that these behaviors are associated with low levels of movement at the back, which is consistent with the more stationary nature of these activities. These behaviors are likely characterized by minimal body movement, which could suggest a calmer state compared to those behaviors with higher acceleration values."
      ],
      "metadata": {
        "id": "xSySqFUUPcRd"
      }
    },
    {
      "cell_type": "markdown",
      "source": [
        "### 3.2.2 Histogram of mean acceleration"
      ],
      "metadata": {
        "id": "FP0ZyfOnjl1m"
      }
    },
    {
      "cell_type": "markdown",
      "source": [
        "After the boxplot, we digged deeper into the absolute value of mean acceleration of different dog behaviors. The mean acceleration detected by both sensors (one on the neck and the other one on the back) are both plotted and compared."
      ],
      "metadata": {
        "id": "zq7JKZnPjs-y"
      }
    },
    {
      "cell_type": "code",
      "source": [
        "fig = px.bar(\n",
        "    df_mean[df_mean['variable'].isin(['ABack', 'ANeck'])],\n",
        "    x='Behavior',\n",
        "    y='value',\n",
        "    color='variable',\n",
        "    labels={**mean_labels, 'value':'Mean acceleration [g]', 'variable': 'Sensor'},\n",
        "    barmode='group',\n",
        "    title=\"Mean acceleration for each behavior\",\n",
        "    color_discrete_sequence=color_sequence\n",
        ")\n",
        "# Update layout for title\n",
        "fig.update_layout(\n",
        "    title_x=0.5,  # Center title\n",
        "    title_font=dict(size=25)  # Increase title font size\n",
        ")\n",
        "fig.show()"
      ],
      "metadata": {
        "colab": {
          "base_uri": "https://localhost:8080/",
          "height": 542
        },
        "id": "gS1FiqTRjqM6",
        "outputId": "4ec6989d-9077-4d27-9778-cbf05a0f65c7"
      },
      "execution_count": null,
      "outputs": [
        {
          "output_type": "display_data",
          "data": {
            "text/html": [
              "<html>\n",
              "<head><meta charset=\"utf-8\" /></head>\n",
              "<body>\n",
              "    <div>            <script src=\"https://cdnjs.cloudflare.com/ajax/libs/mathjax/2.7.5/MathJax.js?config=TeX-AMS-MML_SVG\"></script><script type=\"text/javascript\">if (window.MathJax && window.MathJax.Hub && window.MathJax.Hub.Config) {window.MathJax.Hub.Config({SVG: {font: \"STIX-Web\"}});}</script>                <script type=\"text/javascript\">window.PlotlyConfig = {MathJaxConfig: 'local'};</script>\n",
              "        <script charset=\"utf-8\" src=\"https://cdn.plot.ly/plotly-2.24.1.min.js\"></script>                <div id=\"c88b4c30-5cad-497b-960e-ab451222a910\" class=\"plotly-graph-div\" style=\"height:525px; width:100%;\"></div>            <script type=\"text/javascript\">                                    window.PLOTLYENV=window.PLOTLYENV || {};                                    if (document.getElementById(\"c88b4c30-5cad-497b-960e-ab451222a910\")) {                    Plotly.newPlot(                        \"c88b4c30-5cad-497b-960e-ab451222a910\",                        [{\"alignmentgroup\":\"True\",\"hovertemplate\":\"Sensor=ABack\\u003cbr\\u003eBehavior=%{x}\\u003cbr\\u003eMean acceleration [g]=%{y}\\u003cextra\\u003e\\u003c\\u002fextra\\u003e\",\"legendgroup\":\"ABack\",\"marker\":{\"color\":\"#3366CC\",\"pattern\":{\"shape\":\"\"}},\"name\":\"ABack\",\"offsetgroup\":\"ABack\",\"orientation\":\"v\",\"showlegend\":true,\"textposition\":\"auto\",\"x\":[\"Bowing\",\"Carrying object\",\"Drinking\",\"Eating\",\"Galloping\",\"Jumping\",\"Lying chest\",\"Pacing\",\"Panting\",\"Playing\",\"Shaking\",\"Sitting\",\"Sniffing\",\"Standing\",\"Trotting\",\"Tugging\",\"Walking\"],\"xaxis\":\"x\",\"y\":[1.0225661145505294,1.6394531515400625,1.0105641116222226,1.0256288376597709,2.141253257952062,1.6215046452121278,1.0072795441789584,1.1807431713743155,1.008756688216635,1.6239377141455562,6.416287354498471,1.0155227841934584,1.0231467456398489,1.0034459510456677,1.2441117816894462,1.3337830786029259,1.0317088549914266],\"yaxis\":\"y\",\"type\":\"bar\"},{\"alignmentgroup\":\"True\",\"hovertemplate\":\"Sensor=ANeck\\u003cbr\\u003eBehavior=%{x}\\u003cbr\\u003eMean acceleration [g]=%{y}\\u003cextra\\u003e\\u003c\\u002fextra\\u003e\",\"legendgroup\":\"ANeck\",\"marker\":{\"color\":\"#DC3912\",\"pattern\":{\"shape\":\"\"}},\"name\":\"ANeck\",\"offsetgroup\":\"ANeck\",\"orientation\":\"v\",\"showlegend\":true,\"textposition\":\"auto\",\"x\":[\"Bowing\",\"Carrying object\",\"Drinking\",\"Eating\",\"Galloping\",\"Jumping\",\"Lying chest\",\"Pacing\",\"Panting\",\"Playing\",\"Shaking\",\"Sitting\",\"Sniffing\",\"Standing\",\"Trotting\",\"Tugging\",\"Walking\"],\"xaxis\":\"x\",\"y\":[1.059774369244254,1.414531344736965,1.0456907832008064,1.0365445649614353,1.6714030401760698,1.5529704990490816,1.0149939497430034,1.1750308723073568,1.0143593214386524,1.4899520541558688,7.876819729820033,1.0170575863868807,1.0566040845595415,1.015467141815918,1.186793206482126,1.39442353730911,1.038330423850989],\"yaxis\":\"y\",\"type\":\"bar\"}],                        {\"template\":{\"data\":{\"histogram2dcontour\":[{\"type\":\"histogram2dcontour\",\"colorbar\":{\"outlinewidth\":0,\"ticks\":\"\"},\"colorscale\":[[0.0,\"#0d0887\"],[0.1111111111111111,\"#46039f\"],[0.2222222222222222,\"#7201a8\"],[0.3333333333333333,\"#9c179e\"],[0.4444444444444444,\"#bd3786\"],[0.5555555555555556,\"#d8576b\"],[0.6666666666666666,\"#ed7953\"],[0.7777777777777778,\"#fb9f3a\"],[0.8888888888888888,\"#fdca26\"],[1.0,\"#f0f921\"]]}],\"choropleth\":[{\"type\":\"choropleth\",\"colorbar\":{\"outlinewidth\":0,\"ticks\":\"\"}}],\"histogram2d\":[{\"type\":\"histogram2d\",\"colorbar\":{\"outlinewidth\":0,\"ticks\":\"\"},\"colorscale\":[[0.0,\"#0d0887\"],[0.1111111111111111,\"#46039f\"],[0.2222222222222222,\"#7201a8\"],[0.3333333333333333,\"#9c179e\"],[0.4444444444444444,\"#bd3786\"],[0.5555555555555556,\"#d8576b\"],[0.6666666666666666,\"#ed7953\"],[0.7777777777777778,\"#fb9f3a\"],[0.8888888888888888,\"#fdca26\"],[1.0,\"#f0f921\"]]}],\"heatmap\":[{\"type\":\"heatmap\",\"colorbar\":{\"outlinewidth\":0,\"ticks\":\"\"},\"colorscale\":[[0.0,\"#0d0887\"],[0.1111111111111111,\"#46039f\"],[0.2222222222222222,\"#7201a8\"],[0.3333333333333333,\"#9c179e\"],[0.4444444444444444,\"#bd3786\"],[0.5555555555555556,\"#d8576b\"],[0.6666666666666666,\"#ed7953\"],[0.7777777777777778,\"#fb9f3a\"],[0.8888888888888888,\"#fdca26\"],[1.0,\"#f0f921\"]]}],\"heatmapgl\":[{\"type\":\"heatmapgl\",\"colorbar\":{\"outlinewidth\":0,\"ticks\":\"\"},\"colorscale\":[[0.0,\"#0d0887\"],[0.1111111111111111,\"#46039f\"],[0.2222222222222222,\"#7201a8\"],[0.3333333333333333,\"#9c179e\"],[0.4444444444444444,\"#bd3786\"],[0.5555555555555556,\"#d8576b\"],[0.6666666666666666,\"#ed7953\"],[0.7777777777777778,\"#fb9f3a\"],[0.8888888888888888,\"#fdca26\"],[1.0,\"#f0f921\"]]}],\"contourcarpet\":[{\"type\":\"contourcarpet\",\"colorbar\":{\"outlinewidth\":0,\"ticks\":\"\"}}],\"contour\":[{\"type\":\"contour\",\"colorbar\":{\"outlinewidth\":0,\"ticks\":\"\"},\"colorscale\":[[0.0,\"#0d0887\"],[0.1111111111111111,\"#46039f\"],[0.2222222222222222,\"#7201a8\"],[0.3333333333333333,\"#9c179e\"],[0.4444444444444444,\"#bd3786\"],[0.5555555555555556,\"#d8576b\"],[0.6666666666666666,\"#ed7953\"],[0.7777777777777778,\"#fb9f3a\"],[0.8888888888888888,\"#fdca26\"],[1.0,\"#f0f921\"]]}],\"surface\":[{\"type\":\"surface\",\"colorbar\":{\"outlinewidth\":0,\"ticks\":\"\"},\"colorscale\":[[0.0,\"#0d0887\"],[0.1111111111111111,\"#46039f\"],[0.2222222222222222,\"#7201a8\"],[0.3333333333333333,\"#9c179e\"],[0.4444444444444444,\"#bd3786\"],[0.5555555555555556,\"#d8576b\"],[0.6666666666666666,\"#ed7953\"],[0.7777777777777778,\"#fb9f3a\"],[0.8888888888888888,\"#fdca26\"],[1.0,\"#f0f921\"]]}],\"mesh3d\":[{\"type\":\"mesh3d\",\"colorbar\":{\"outlinewidth\":0,\"ticks\":\"\"}}],\"scatter\":[{\"fillpattern\":{\"fillmode\":\"overlay\",\"size\":10,\"solidity\":0.2},\"type\":\"scatter\"}],\"parcoords\":[{\"type\":\"parcoords\",\"line\":{\"colorbar\":{\"outlinewidth\":0,\"ticks\":\"\"}}}],\"scatterpolargl\":[{\"type\":\"scatterpolargl\",\"marker\":{\"colorbar\":{\"outlinewidth\":0,\"ticks\":\"\"}}}],\"bar\":[{\"error_x\":{\"color\":\"#2a3f5f\"},\"error_y\":{\"color\":\"#2a3f5f\"},\"marker\":{\"line\":{\"color\":\"white\",\"width\":0.5},\"pattern\":{\"fillmode\":\"overlay\",\"size\":10,\"solidity\":0.2}},\"type\":\"bar\"}],\"scattergeo\":[{\"type\":\"scattergeo\",\"marker\":{\"colorbar\":{\"outlinewidth\":0,\"ticks\":\"\"}}}],\"scatterpolar\":[{\"type\":\"scatterpolar\",\"marker\":{\"colorbar\":{\"outlinewidth\":0,\"ticks\":\"\"}}}],\"histogram\":[{\"marker\":{\"pattern\":{\"fillmode\":\"overlay\",\"size\":10,\"solidity\":0.2}},\"type\":\"histogram\"}],\"scattergl\":[{\"type\":\"scattergl\",\"marker\":{\"colorbar\":{\"outlinewidth\":0,\"ticks\":\"\"}}}],\"scatter3d\":[{\"type\":\"scatter3d\",\"line\":{\"colorbar\":{\"outlinewidth\":0,\"ticks\":\"\"}},\"marker\":{\"colorbar\":{\"outlinewidth\":0,\"ticks\":\"\"}}}],\"scattermapbox\":[{\"type\":\"scattermapbox\",\"marker\":{\"colorbar\":{\"outlinewidth\":0,\"ticks\":\"\"}}}],\"scatterternary\":[{\"type\":\"scatterternary\",\"marker\":{\"colorbar\":{\"outlinewidth\":0,\"ticks\":\"\"}}}],\"scattercarpet\":[{\"type\":\"scattercarpet\",\"marker\":{\"colorbar\":{\"outlinewidth\":0,\"ticks\":\"\"}}}],\"carpet\":[{\"aaxis\":{\"endlinecolor\":\"#2a3f5f\",\"gridcolor\":\"#C8D4E3\",\"linecolor\":\"#C8D4E3\",\"minorgridcolor\":\"#C8D4E3\",\"startlinecolor\":\"#2a3f5f\"},\"baxis\":{\"endlinecolor\":\"#2a3f5f\",\"gridcolor\":\"#C8D4E3\",\"linecolor\":\"#C8D4E3\",\"minorgridcolor\":\"#C8D4E3\",\"startlinecolor\":\"#2a3f5f\"},\"type\":\"carpet\"}],\"table\":[{\"cells\":{\"fill\":{\"color\":\"#EBF0F8\"},\"line\":{\"color\":\"white\"}},\"header\":{\"fill\":{\"color\":\"#C8D4E3\"},\"line\":{\"color\":\"white\"}},\"type\":\"table\"}],\"barpolar\":[{\"marker\":{\"line\":{\"color\":\"white\",\"width\":0.5},\"pattern\":{\"fillmode\":\"overlay\",\"size\":10,\"solidity\":0.2}},\"type\":\"barpolar\"}],\"pie\":[{\"automargin\":true,\"type\":\"pie\"}]},\"layout\":{\"autotypenumbers\":\"strict\",\"colorway\":[\"#636efa\",\"#EF553B\",\"#00cc96\",\"#ab63fa\",\"#FFA15A\",\"#19d3f3\",\"#FF6692\",\"#B6E880\",\"#FF97FF\",\"#FECB52\"],\"font\":{\"color\":\"#2a3f5f\"},\"hovermode\":\"closest\",\"hoverlabel\":{\"align\":\"left\"},\"paper_bgcolor\":\"white\",\"plot_bgcolor\":\"white\",\"polar\":{\"bgcolor\":\"white\",\"angularaxis\":{\"gridcolor\":\"#EBF0F8\",\"linecolor\":\"#EBF0F8\",\"ticks\":\"\"},\"radialaxis\":{\"gridcolor\":\"#EBF0F8\",\"linecolor\":\"#EBF0F8\",\"ticks\":\"\"}},\"ternary\":{\"bgcolor\":\"white\",\"aaxis\":{\"gridcolor\":\"#DFE8F3\",\"linecolor\":\"#A2B1C6\",\"ticks\":\"\"},\"baxis\":{\"gridcolor\":\"#DFE8F3\",\"linecolor\":\"#A2B1C6\",\"ticks\":\"\"},\"caxis\":{\"gridcolor\":\"#DFE8F3\",\"linecolor\":\"#A2B1C6\",\"ticks\":\"\"}},\"coloraxis\":{\"colorbar\":{\"outlinewidth\":0,\"ticks\":\"\"}},\"colorscale\":{\"sequential\":[[0.0,\"#0d0887\"],[0.1111111111111111,\"#46039f\"],[0.2222222222222222,\"#7201a8\"],[0.3333333333333333,\"#9c179e\"],[0.4444444444444444,\"#bd3786\"],[0.5555555555555556,\"#d8576b\"],[0.6666666666666666,\"#ed7953\"],[0.7777777777777778,\"#fb9f3a\"],[0.8888888888888888,\"#fdca26\"],[1.0,\"#f0f921\"]],\"sequentialminus\":[[0.0,\"#0d0887\"],[0.1111111111111111,\"#46039f\"],[0.2222222222222222,\"#7201a8\"],[0.3333333333333333,\"#9c179e\"],[0.4444444444444444,\"#bd3786\"],[0.5555555555555556,\"#d8576b\"],[0.6666666666666666,\"#ed7953\"],[0.7777777777777778,\"#fb9f3a\"],[0.8888888888888888,\"#fdca26\"],[1.0,\"#f0f921\"]],\"diverging\":[[0,\"#8e0152\"],[0.1,\"#c51b7d\"],[0.2,\"#de77ae\"],[0.3,\"#f1b6da\"],[0.4,\"#fde0ef\"],[0.5,\"#f7f7f7\"],[0.6,\"#e6f5d0\"],[0.7,\"#b8e186\"],[0.8,\"#7fbc41\"],[0.9,\"#4d9221\"],[1,\"#276419\"]]},\"xaxis\":{\"gridcolor\":\"#EBF0F8\",\"linecolor\":\"#EBF0F8\",\"ticks\":\"\",\"title\":{\"standoff\":15},\"zerolinecolor\":\"#EBF0F8\",\"automargin\":true,\"zerolinewidth\":2},\"yaxis\":{\"gridcolor\":\"#EBF0F8\",\"linecolor\":\"#EBF0F8\",\"ticks\":\"\",\"title\":{\"standoff\":15},\"zerolinecolor\":\"#EBF0F8\",\"automargin\":true,\"zerolinewidth\":2},\"scene\":{\"xaxis\":{\"backgroundcolor\":\"white\",\"gridcolor\":\"#DFE8F3\",\"linecolor\":\"#EBF0F8\",\"showbackground\":true,\"ticks\":\"\",\"zerolinecolor\":\"#EBF0F8\",\"gridwidth\":2},\"yaxis\":{\"backgroundcolor\":\"white\",\"gridcolor\":\"#DFE8F3\",\"linecolor\":\"#EBF0F8\",\"showbackground\":true,\"ticks\":\"\",\"zerolinecolor\":\"#EBF0F8\",\"gridwidth\":2},\"zaxis\":{\"backgroundcolor\":\"white\",\"gridcolor\":\"#DFE8F3\",\"linecolor\":\"#EBF0F8\",\"showbackground\":true,\"ticks\":\"\",\"zerolinecolor\":\"#EBF0F8\",\"gridwidth\":2}},\"shapedefaults\":{\"line\":{\"color\":\"#2a3f5f\"}},\"annotationdefaults\":{\"arrowcolor\":\"#2a3f5f\",\"arrowhead\":0,\"arrowwidth\":1},\"geo\":{\"bgcolor\":\"white\",\"landcolor\":\"white\",\"subunitcolor\":\"#C8D4E3\",\"showland\":true,\"showlakes\":true,\"lakecolor\":\"white\"},\"title\":{\"x\":0.05},\"mapbox\":{\"style\":\"light\"}}},\"xaxis\":{\"anchor\":\"y\",\"domain\":[0.0,1.0],\"title\":{\"text\":\"Behavior\"}},\"yaxis\":{\"anchor\":\"x\",\"domain\":[0.0,1.0],\"title\":{\"text\":\"Mean acceleration [g]\"}},\"legend\":{\"title\":{\"text\":\"Sensor\"},\"tracegroupgap\":0},\"title\":{\"text\":\"Mean acceleration for each behavior\",\"font\":{\"size\":25},\"x\":0.5},\"barmode\":\"group\"},                        {\"responsive\": true}                    ).then(function(){\n",
              "                            \n",
              "var gd = document.getElementById('c88b4c30-5cad-497b-960e-ab451222a910');\n",
              "var x = new MutationObserver(function (mutations, observer) {{\n",
              "        var display = window.getComputedStyle(gd).display;\n",
              "        if (!display || display === 'none') {{\n",
              "            console.log([gd, 'removed!']);\n",
              "            Plotly.purge(gd);\n",
              "            observer.disconnect();\n",
              "        }}\n",
              "}});\n",
              "\n",
              "// Listen for the removal of the full notebook cells\n",
              "var notebookContainer = gd.closest('#notebook-container');\n",
              "if (notebookContainer) {{\n",
              "    x.observe(notebookContainer, {childList: true});\n",
              "}}\n",
              "\n",
              "// Listen for the clearing of the current output cell\n",
              "var outputEl = gd.closest('.output');\n",
              "if (outputEl) {{\n",
              "    x.observe(outputEl, {childList: true});\n",
              "}}\n",
              "\n",
              "                        })                };                            </script>        </div>\n",
              "</body>\n",
              "</html>"
            ]
          },
          "metadata": {}
        }
      ]
    },
    {
      "cell_type": "markdown",
      "source": [
        "Takeaways:\n",
        "* There is quite simillar (roughly the same) acceleration pattern detected by two sensors.\n",
        "* The mean acceleration for behaviors like 'Bowing', 'Carrying object', and 'Jumping' is quite consistent between the back and neck sensors . This could imply that these accelerated movements are more uniformly distributed across the dog's body.\n",
        "* Shaking has notably high mean acceleration values, indicating more vigorous movement."
      ],
      "metadata": {
        "id": "RRq6A05jjzQH"
      }
    },
    {
      "cell_type": "markdown",
      "source": [
        "## 3.3 Distribution of Mean Angular Velocity among all dog behaviors"
      ],
      "metadata": {
        "id": "mVysUIITj2Yg"
      }
    },
    {
      "cell_type": "markdown",
      "source": [
        "### 3.3.1 Boxplot of Mean Angular Velocity"
      ],
      "metadata": {
        "id": "dD65BiktQf4I"
      }
    },
    {
      "cell_type": "markdown",
      "source": [
        "We repeated the same visualization procedure for the mean angular velocity."
      ],
      "metadata": {
        "id": "7t2emFPUSJE1"
      }
    },
    {
      "cell_type": "code",
      "source": [
        "fig = make_manual_box_plot(\n",
        "    exploded_df,\n",
        "    'GBack',\n",
        "    xlabel='Behavior',\n",
        "    ylabel='Angular velocity at back [°/s]',\n",
        "    title=\"Value distribution of angular velocity at back for each behavior\"\n",
        ")\n",
        "fig.update_traces(marker=dict(color=color_sequence[0]))\n",
        "# Update layout for title\n",
        "fig.update_layout(\n",
        "    title_x=0.5,  # Center title\n",
        "    title_font=dict(size=25)  # Increase title font size\n",
        ")\n",
        "\n",
        "fig.show()"
      ],
      "metadata": {
        "colab": {
          "base_uri": "https://localhost:8080/",
          "height": 542
        },
        "id": "_yFI5-hHSQCJ",
        "outputId": "f1f1cc27-5405-45f9-ac64-a4577c6de36e"
      },
      "execution_count": null,
      "outputs": [
        {
          "output_type": "display_data",
          "data": {
            "text/html": [
              "<html>\n",
              "<head><meta charset=\"utf-8\" /></head>\n",
              "<body>\n",
              "    <div>            <script src=\"https://cdnjs.cloudflare.com/ajax/libs/mathjax/2.7.5/MathJax.js?config=TeX-AMS-MML_SVG\"></script><script type=\"text/javascript\">if (window.MathJax && window.MathJax.Hub && window.MathJax.Hub.Config) {window.MathJax.Hub.Config({SVG: {font: \"STIX-Web\"}});}</script>                <script type=\"text/javascript\">window.PlotlyConfig = {MathJaxConfig: 'local'};</script>\n",
              "        <script charset=\"utf-8\" src=\"https://cdn.plot.ly/plotly-2.24.1.min.js\"></script>                <div id=\"8ab1c195-00ce-4114-b7eb-695846be1dd4\" class=\"plotly-graph-div\" style=\"height:525px; width:100%;\"></div>            <script type=\"text/javascript\">                                    window.PLOTLYENV=window.PLOTLYENV || {};                                    if (document.getElementById(\"8ab1c195-00ce-4114-b7eb-695846be1dd4\")) {                    Plotly.newPlot(                        \"8ab1c195-00ce-4114-b7eb-695846be1dd4\",                        [{\"x\":[\"Bowing\",\"Carrying object\",\"Drinking\",\"Eating\",\"Galloping\",\"Jumping\",\"Lying chest\",\"Pacing\",\"Panting\",\"Playing\",\"Shaking\",\"Sitting\",\"Sniffing\",\"Standing\",\"Trotting\",\"Tugging\",\"Walking\"],\"type\":\"box\",\"lowerfence\":[6.997781365296005,76.75614864344242,3.42558964519497,3.854890816919852,137.3218264701671,92.14162567298088,1.0935348796193014,56.175529154537784,2.4207191952068707,65.94351194487534,190.68949840161943,1.0711628657440473,21.202844954370864,1.320392538138943,66.73836801890795,53.21544975074947,26.416098973088],\"mean\":[38.32374121834234,270.54851162060527,18.40638512783297,27.146942135352678,381.09127512963136,284.696213708139,8.011621924952676,146.33950754532466,9.36562132291584,262.37135455218777,1062.5328198460898,7.756952984408303,73.37795326555377,10.512882518678206,164.94002649703475,206.96780084964436,64.25201375915027],\"median\":[20.193994169181813,222.85456478142171,8.84925650700967,13.234851715269834,327.8504936913978,249.18394009773863,5.328617686294073,135.16820159589224,6.686623695358443,210.75698826011558,1036.903538326527,4.886625713777043,61.36749164931725,6.1233203031241965,149.66574171479647,171.56771230187843,58.36841169496793],\"q1\":[10.889090256028233,134.1629174783267,5.424580066266881,7.002571515498218,213.40717378254155,154.1248130487454,2.242575247702516,88.4517401268761,3.9427960335348318,120.64157941403826,471.0669015929817,2.129243506023677,36.03711422838463,2.688319516163211,99.88560069826106,98.86422420463002,39.51648361481154],\"q3\":[44.22855490379695,346.94015986341367,15.34837102515824,26.063228866594578,487.2419198515513,371.23636452234786,9.9704248735928,191.0673194333375,11.196916699556802,342.95771478985444,1625.205496273989,9.630798443921979,97.94730293558484,12.629706945908168,210.13381796086426,272.24911549129774,82.10304459079447],\"upperfence\":[97.81748271982144,517.2649438839405,33.27933332536597,57.763063405799194,680.993423363651,514.7451194460548,16.58910462788652,249.2149367124068,18.07568413786463,516.4696928438102,2006.759896075922,17.06366704796425,140.79542763664648,23.646457636635915,273.41499501076873,395.6305002010242,108.12276569578772],\"marker\":{\"color\":\"#3366CC\"}}],                        {\"template\":{\"data\":{\"histogram2dcontour\":[{\"type\":\"histogram2dcontour\",\"colorbar\":{\"outlinewidth\":0,\"ticks\":\"\"},\"colorscale\":[[0.0,\"#0d0887\"],[0.1111111111111111,\"#46039f\"],[0.2222222222222222,\"#7201a8\"],[0.3333333333333333,\"#9c179e\"],[0.4444444444444444,\"#bd3786\"],[0.5555555555555556,\"#d8576b\"],[0.6666666666666666,\"#ed7953\"],[0.7777777777777778,\"#fb9f3a\"],[0.8888888888888888,\"#fdca26\"],[1.0,\"#f0f921\"]]}],\"choropleth\":[{\"type\":\"choropleth\",\"colorbar\":{\"outlinewidth\":0,\"ticks\":\"\"}}],\"histogram2d\":[{\"type\":\"histogram2d\",\"colorbar\":{\"outlinewidth\":0,\"ticks\":\"\"},\"colorscale\":[[0.0,\"#0d0887\"],[0.1111111111111111,\"#46039f\"],[0.2222222222222222,\"#7201a8\"],[0.3333333333333333,\"#9c179e\"],[0.4444444444444444,\"#bd3786\"],[0.5555555555555556,\"#d8576b\"],[0.6666666666666666,\"#ed7953\"],[0.7777777777777778,\"#fb9f3a\"],[0.8888888888888888,\"#fdca26\"],[1.0,\"#f0f921\"]]}],\"heatmap\":[{\"type\":\"heatmap\",\"colorbar\":{\"outlinewidth\":0,\"ticks\":\"\"},\"colorscale\":[[0.0,\"#0d0887\"],[0.1111111111111111,\"#46039f\"],[0.2222222222222222,\"#7201a8\"],[0.3333333333333333,\"#9c179e\"],[0.4444444444444444,\"#bd3786\"],[0.5555555555555556,\"#d8576b\"],[0.6666666666666666,\"#ed7953\"],[0.7777777777777778,\"#fb9f3a\"],[0.8888888888888888,\"#fdca26\"],[1.0,\"#f0f921\"]]}],\"heatmapgl\":[{\"type\":\"heatmapgl\",\"colorbar\":{\"outlinewidth\":0,\"ticks\":\"\"},\"colorscale\":[[0.0,\"#0d0887\"],[0.1111111111111111,\"#46039f\"],[0.2222222222222222,\"#7201a8\"],[0.3333333333333333,\"#9c179e\"],[0.4444444444444444,\"#bd3786\"],[0.5555555555555556,\"#d8576b\"],[0.6666666666666666,\"#ed7953\"],[0.7777777777777778,\"#fb9f3a\"],[0.8888888888888888,\"#fdca26\"],[1.0,\"#f0f921\"]]}],\"contourcarpet\":[{\"type\":\"contourcarpet\",\"colorbar\":{\"outlinewidth\":0,\"ticks\":\"\"}}],\"contour\":[{\"type\":\"contour\",\"colorbar\":{\"outlinewidth\":0,\"ticks\":\"\"},\"colorscale\":[[0.0,\"#0d0887\"],[0.1111111111111111,\"#46039f\"],[0.2222222222222222,\"#7201a8\"],[0.3333333333333333,\"#9c179e\"],[0.4444444444444444,\"#bd3786\"],[0.5555555555555556,\"#d8576b\"],[0.6666666666666666,\"#ed7953\"],[0.7777777777777778,\"#fb9f3a\"],[0.8888888888888888,\"#fdca26\"],[1.0,\"#f0f921\"]]}],\"surface\":[{\"type\":\"surface\",\"colorbar\":{\"outlinewidth\":0,\"ticks\":\"\"},\"colorscale\":[[0.0,\"#0d0887\"],[0.1111111111111111,\"#46039f\"],[0.2222222222222222,\"#7201a8\"],[0.3333333333333333,\"#9c179e\"],[0.4444444444444444,\"#bd3786\"],[0.5555555555555556,\"#d8576b\"],[0.6666666666666666,\"#ed7953\"],[0.7777777777777778,\"#fb9f3a\"],[0.8888888888888888,\"#fdca26\"],[1.0,\"#f0f921\"]]}],\"mesh3d\":[{\"type\":\"mesh3d\",\"colorbar\":{\"outlinewidth\":0,\"ticks\":\"\"}}],\"scatter\":[{\"fillpattern\":{\"fillmode\":\"overlay\",\"size\":10,\"solidity\":0.2},\"type\":\"scatter\"}],\"parcoords\":[{\"type\":\"parcoords\",\"line\":{\"colorbar\":{\"outlinewidth\":0,\"ticks\":\"\"}}}],\"scatterpolargl\":[{\"type\":\"scatterpolargl\",\"marker\":{\"colorbar\":{\"outlinewidth\":0,\"ticks\":\"\"}}}],\"bar\":[{\"error_x\":{\"color\":\"#2a3f5f\"},\"error_y\":{\"color\":\"#2a3f5f\"},\"marker\":{\"line\":{\"color\":\"white\",\"width\":0.5},\"pattern\":{\"fillmode\":\"overlay\",\"size\":10,\"solidity\":0.2}},\"type\":\"bar\"}],\"scattergeo\":[{\"type\":\"scattergeo\",\"marker\":{\"colorbar\":{\"outlinewidth\":0,\"ticks\":\"\"}}}],\"scatterpolar\":[{\"type\":\"scatterpolar\",\"marker\":{\"colorbar\":{\"outlinewidth\":0,\"ticks\":\"\"}}}],\"histogram\":[{\"marker\":{\"pattern\":{\"fillmode\":\"overlay\",\"size\":10,\"solidity\":0.2}},\"type\":\"histogram\"}],\"scattergl\":[{\"type\":\"scattergl\",\"marker\":{\"colorbar\":{\"outlinewidth\":0,\"ticks\":\"\"}}}],\"scatter3d\":[{\"type\":\"scatter3d\",\"line\":{\"colorbar\":{\"outlinewidth\":0,\"ticks\":\"\"}},\"marker\":{\"colorbar\":{\"outlinewidth\":0,\"ticks\":\"\"}}}],\"scattermapbox\":[{\"type\":\"scattermapbox\",\"marker\":{\"colorbar\":{\"outlinewidth\":0,\"ticks\":\"\"}}}],\"scatterternary\":[{\"type\":\"scatterternary\",\"marker\":{\"colorbar\":{\"outlinewidth\":0,\"ticks\":\"\"}}}],\"scattercarpet\":[{\"type\":\"scattercarpet\",\"marker\":{\"colorbar\":{\"outlinewidth\":0,\"ticks\":\"\"}}}],\"carpet\":[{\"aaxis\":{\"endlinecolor\":\"#2a3f5f\",\"gridcolor\":\"#C8D4E3\",\"linecolor\":\"#C8D4E3\",\"minorgridcolor\":\"#C8D4E3\",\"startlinecolor\":\"#2a3f5f\"},\"baxis\":{\"endlinecolor\":\"#2a3f5f\",\"gridcolor\":\"#C8D4E3\",\"linecolor\":\"#C8D4E3\",\"minorgridcolor\":\"#C8D4E3\",\"startlinecolor\":\"#2a3f5f\"},\"type\":\"carpet\"}],\"table\":[{\"cells\":{\"fill\":{\"color\":\"#EBF0F8\"},\"line\":{\"color\":\"white\"}},\"header\":{\"fill\":{\"color\":\"#C8D4E3\"},\"line\":{\"color\":\"white\"}},\"type\":\"table\"}],\"barpolar\":[{\"marker\":{\"line\":{\"color\":\"white\",\"width\":0.5},\"pattern\":{\"fillmode\":\"overlay\",\"size\":10,\"solidity\":0.2}},\"type\":\"barpolar\"}],\"pie\":[{\"automargin\":true,\"type\":\"pie\"}]},\"layout\":{\"autotypenumbers\":\"strict\",\"colorway\":[\"#636efa\",\"#EF553B\",\"#00cc96\",\"#ab63fa\",\"#FFA15A\",\"#19d3f3\",\"#FF6692\",\"#B6E880\",\"#FF97FF\",\"#FECB52\"],\"font\":{\"color\":\"#2a3f5f\"},\"hovermode\":\"closest\",\"hoverlabel\":{\"align\":\"left\"},\"paper_bgcolor\":\"white\",\"plot_bgcolor\":\"white\",\"polar\":{\"bgcolor\":\"white\",\"angularaxis\":{\"gridcolor\":\"#EBF0F8\",\"linecolor\":\"#EBF0F8\",\"ticks\":\"\"},\"radialaxis\":{\"gridcolor\":\"#EBF0F8\",\"linecolor\":\"#EBF0F8\",\"ticks\":\"\"}},\"ternary\":{\"bgcolor\":\"white\",\"aaxis\":{\"gridcolor\":\"#DFE8F3\",\"linecolor\":\"#A2B1C6\",\"ticks\":\"\"},\"baxis\":{\"gridcolor\":\"#DFE8F3\",\"linecolor\":\"#A2B1C6\",\"ticks\":\"\"},\"caxis\":{\"gridcolor\":\"#DFE8F3\",\"linecolor\":\"#A2B1C6\",\"ticks\":\"\"}},\"coloraxis\":{\"colorbar\":{\"outlinewidth\":0,\"ticks\":\"\"}},\"colorscale\":{\"sequential\":[[0.0,\"#0d0887\"],[0.1111111111111111,\"#46039f\"],[0.2222222222222222,\"#7201a8\"],[0.3333333333333333,\"#9c179e\"],[0.4444444444444444,\"#bd3786\"],[0.5555555555555556,\"#d8576b\"],[0.6666666666666666,\"#ed7953\"],[0.7777777777777778,\"#fb9f3a\"],[0.8888888888888888,\"#fdca26\"],[1.0,\"#f0f921\"]],\"sequentialminus\":[[0.0,\"#0d0887\"],[0.1111111111111111,\"#46039f\"],[0.2222222222222222,\"#7201a8\"],[0.3333333333333333,\"#9c179e\"],[0.4444444444444444,\"#bd3786\"],[0.5555555555555556,\"#d8576b\"],[0.6666666666666666,\"#ed7953\"],[0.7777777777777778,\"#fb9f3a\"],[0.8888888888888888,\"#fdca26\"],[1.0,\"#f0f921\"]],\"diverging\":[[0,\"#8e0152\"],[0.1,\"#c51b7d\"],[0.2,\"#de77ae\"],[0.3,\"#f1b6da\"],[0.4,\"#fde0ef\"],[0.5,\"#f7f7f7\"],[0.6,\"#e6f5d0\"],[0.7,\"#b8e186\"],[0.8,\"#7fbc41\"],[0.9,\"#4d9221\"],[1,\"#276419\"]]},\"xaxis\":{\"gridcolor\":\"#EBF0F8\",\"linecolor\":\"#EBF0F8\",\"ticks\":\"\",\"title\":{\"standoff\":15},\"zerolinecolor\":\"#EBF0F8\",\"automargin\":true,\"zerolinewidth\":2},\"yaxis\":{\"gridcolor\":\"#EBF0F8\",\"linecolor\":\"#EBF0F8\",\"ticks\":\"\",\"title\":{\"standoff\":15},\"zerolinecolor\":\"#EBF0F8\",\"automargin\":true,\"zerolinewidth\":2},\"scene\":{\"xaxis\":{\"backgroundcolor\":\"white\",\"gridcolor\":\"#DFE8F3\",\"linecolor\":\"#EBF0F8\",\"showbackground\":true,\"ticks\":\"\",\"zerolinecolor\":\"#EBF0F8\",\"gridwidth\":2},\"yaxis\":{\"backgroundcolor\":\"white\",\"gridcolor\":\"#DFE8F3\",\"linecolor\":\"#EBF0F8\",\"showbackground\":true,\"ticks\":\"\",\"zerolinecolor\":\"#EBF0F8\",\"gridwidth\":2},\"zaxis\":{\"backgroundcolor\":\"white\",\"gridcolor\":\"#DFE8F3\",\"linecolor\":\"#EBF0F8\",\"showbackground\":true,\"ticks\":\"\",\"zerolinecolor\":\"#EBF0F8\",\"gridwidth\":2}},\"shapedefaults\":{\"line\":{\"color\":\"#2a3f5f\"}},\"annotationdefaults\":{\"arrowcolor\":\"#2a3f5f\",\"arrowhead\":0,\"arrowwidth\":1},\"geo\":{\"bgcolor\":\"white\",\"landcolor\":\"white\",\"subunitcolor\":\"#C8D4E3\",\"showland\":true,\"showlakes\":true,\"lakecolor\":\"white\"},\"title\":{\"x\":0.05},\"mapbox\":{\"style\":\"light\"}}},\"xaxis\":{\"title\":{\"text\":\"Behavior\"}},\"yaxis\":{\"title\":{\"text\":\"Angular velocity at back [\\u00b0\\u002fs]\"}},\"title\":{\"text\":\"Value distribution of angular velocity at back for each behavior\",\"font\":{\"size\":25},\"x\":0.5}},                        {\"responsive\": true}                    ).then(function(){\n",
              "                            \n",
              "var gd = document.getElementById('8ab1c195-00ce-4114-b7eb-695846be1dd4');\n",
              "var x = new MutationObserver(function (mutations, observer) {{\n",
              "        var display = window.getComputedStyle(gd).display;\n",
              "        if (!display || display === 'none') {{\n",
              "            console.log([gd, 'removed!']);\n",
              "            Plotly.purge(gd);\n",
              "            observer.disconnect();\n",
              "        }}\n",
              "}});\n",
              "\n",
              "// Listen for the removal of the full notebook cells\n",
              "var notebookContainer = gd.closest('#notebook-container');\n",
              "if (notebookContainer) {{\n",
              "    x.observe(notebookContainer, {childList: true});\n",
              "}}\n",
              "\n",
              "// Listen for the clearing of the current output cell\n",
              "var outputEl = gd.closest('.output');\n",
              "if (outputEl) {{\n",
              "    x.observe(outputEl, {childList: true});\n",
              "}}\n",
              "\n",
              "                        })                };                            </script>        </div>\n",
              "</body>\n",
              "</html>"
            ]
          },
          "metadata": {}
        }
      ]
    },
    {
      "cell_type": "markdown",
      "source": [
        "Takeaways:\n",
        "* Similarly, the behavior 'Playing' has the highest median angular velocity and also exhibits a broad interquartile range. This suggests that 'Playing' involves rapid changes in direction and possibly vigorous activity that requires substantial body rotation.\n",
        "* Both 'Walking' and 'Trotting' show moderate median values and interquartile ranges without extreme outliers. This suggests that these behaviors involve consistent and moderate rotational movement, likely due to the rhythmic nature of these gaits."
      ],
      "metadata": {
        "id": "aBetrGG5Siwn"
      }
    },
    {
      "cell_type": "markdown",
      "source": [],
      "metadata": {
        "id": "D5GyNt8wVlzt"
      }
    },
    {
      "cell_type": "markdown",
      "source": [
        "### 3.3.2 Histogram of mean angular velocity."
      ],
      "metadata": {
        "id": "aSyMhDxRWCs-"
      }
    },
    {
      "cell_type": "markdown",
      "source": [
        "Again, we did the same work on the angular velocity."
      ],
      "metadata": {
        "id": "MIu0DwzYWMkv"
      }
    },
    {
      "cell_type": "code",
      "source": [
        "fig = px.bar(\n",
        "    df_mean[df_mean['variable'].isin(['GBack', 'GNeck'])],\n",
        "    x='Behavior',\n",
        "    y='value',\n",
        "    color='variable',\n",
        "    labels={**mean_labels, 'value':'Mean angular velocity [°/s]', 'variable': 'Sensor'},\n",
        "    barmode='group',\n",
        "    title=\"Mean angular velocity for each behavior\",\n",
        "    color_discrete_sequence=color_sequence,\n",
        ")\n",
        "fig.update_layout(\n",
        "    title_x=0.5,  # Center title\n",
        "    title_font=dict(size=25)  # Increase title font size\n",
        ")\n",
        "fig.show()"
      ],
      "metadata": {
        "colab": {
          "base_uri": "https://localhost:8080/",
          "height": 542
        },
        "id": "-NgaMWH9WI3R",
        "outputId": "237edf98-a986-4b68-c49b-6a1c1044df8e"
      },
      "execution_count": null,
      "outputs": [
        {
          "output_type": "display_data",
          "data": {
            "text/html": [
              "<html>\n",
              "<head><meta charset=\"utf-8\" /></head>\n",
              "<body>\n",
              "    <div>            <script src=\"https://cdnjs.cloudflare.com/ajax/libs/mathjax/2.7.5/MathJax.js?config=TeX-AMS-MML_SVG\"></script><script type=\"text/javascript\">if (window.MathJax && window.MathJax.Hub && window.MathJax.Hub.Config) {window.MathJax.Hub.Config({SVG: {font: \"STIX-Web\"}});}</script>                <script type=\"text/javascript\">window.PlotlyConfig = {MathJaxConfig: 'local'};</script>\n",
              "        <script charset=\"utf-8\" src=\"https://cdn.plot.ly/plotly-2.24.1.min.js\"></script>                <div id=\"0f601469-c0bb-4d3e-a197-3cefec3f3d1c\" class=\"plotly-graph-div\" style=\"height:525px; width:100%;\"></div>            <script type=\"text/javascript\">                                    window.PLOTLYENV=window.PLOTLYENV || {};                                    if (document.getElementById(\"0f601469-c0bb-4d3e-a197-3cefec3f3d1c\")) {                    Plotly.newPlot(                        \"0f601469-c0bb-4d3e-a197-3cefec3f3d1c\",                        [{\"alignmentgroup\":\"True\",\"hovertemplate\":\"Sensor=GBack\\u003cbr\\u003eBehavior=%{x}\\u003cbr\\u003eMean angular velocity [\\u00b0\\u002fs]=%{y}\\u003cextra\\u003e\\u003c\\u002fextra\\u003e\",\"legendgroup\":\"GBack\",\"marker\":{\"color\":\"#3366CC\",\"pattern\":{\"shape\":\"\"}},\"name\":\"GBack\",\"offsetgroup\":\"GBack\",\"orientation\":\"v\",\"showlegend\":true,\"textposition\":\"auto\",\"x\":[\"Bowing\",\"Carrying object\",\"Drinking\",\"Eating\",\"Galloping\",\"Jumping\",\"Lying chest\",\"Pacing\",\"Panting\",\"Playing\",\"Shaking\",\"Sitting\",\"Sniffing\",\"Standing\",\"Trotting\",\"Tugging\",\"Walking\"],\"xaxis\":\"x\",\"y\":[38.32374121834231,270.54851162060805,18.4063851278329,27.146942135352578,381.09127512962795,284.69621370813877,8.011621924952564,146.33950754532532,9.365621322915928,262.3713545521905,1062.532819846085,7.756952984408297,73.37795326555447,10.51288251867829,164.94002649703344,206.96780084965184,64.25201375914746],\"yaxis\":\"y\",\"type\":\"bar\"},{\"alignmentgroup\":\"True\",\"hovertemplate\":\"Sensor=GNeck\\u003cbr\\u003eBehavior=%{x}\\u003cbr\\u003eMean angular velocity [\\u00b0\\u002fs]=%{y}\\u003cextra\\u003e\\u003c\\u002fextra\\u003e\",\"legendgroup\":\"GNeck\",\"marker\":{\"color\":\"#DC3912\",\"pattern\":{\"shape\":\"\"}},\"name\":\"GNeck\",\"offsetgroup\":\"GNeck\",\"orientation\":\"v\",\"showlegend\":true,\"textposition\":\"auto\",\"x\":[\"Bowing\",\"Carrying object\",\"Drinking\",\"Eating\",\"Galloping\",\"Jumping\",\"Lying chest\",\"Pacing\",\"Panting\",\"Playing\",\"Shaking\",\"Sitting\",\"Sniffing\",\"Standing\",\"Trotting\",\"Tugging\",\"Walking\"],\"xaxis\":\"x\",\"y\":[74.99032826620824,187.55353939244455,59.44221516686261,46.21299274398046,239.65255014391607,267.3594211819643,14.362014801494146,109.85983665255128,12.854439359909318,223.50041326162955,1206.6282716266073,14.574272556824592,96.65692266638914,18.68578991548099,109.92918796001527,220.20057856920792,62.066073370737094],\"yaxis\":\"y\",\"type\":\"bar\"}],                        {\"template\":{\"data\":{\"histogram2dcontour\":[{\"type\":\"histogram2dcontour\",\"colorbar\":{\"outlinewidth\":0,\"ticks\":\"\"},\"colorscale\":[[0.0,\"#0d0887\"],[0.1111111111111111,\"#46039f\"],[0.2222222222222222,\"#7201a8\"],[0.3333333333333333,\"#9c179e\"],[0.4444444444444444,\"#bd3786\"],[0.5555555555555556,\"#d8576b\"],[0.6666666666666666,\"#ed7953\"],[0.7777777777777778,\"#fb9f3a\"],[0.8888888888888888,\"#fdca26\"],[1.0,\"#f0f921\"]]}],\"choropleth\":[{\"type\":\"choropleth\",\"colorbar\":{\"outlinewidth\":0,\"ticks\":\"\"}}],\"histogram2d\":[{\"type\":\"histogram2d\",\"colorbar\":{\"outlinewidth\":0,\"ticks\":\"\"},\"colorscale\":[[0.0,\"#0d0887\"],[0.1111111111111111,\"#46039f\"],[0.2222222222222222,\"#7201a8\"],[0.3333333333333333,\"#9c179e\"],[0.4444444444444444,\"#bd3786\"],[0.5555555555555556,\"#d8576b\"],[0.6666666666666666,\"#ed7953\"],[0.7777777777777778,\"#fb9f3a\"],[0.8888888888888888,\"#fdca26\"],[1.0,\"#f0f921\"]]}],\"heatmap\":[{\"type\":\"heatmap\",\"colorbar\":{\"outlinewidth\":0,\"ticks\":\"\"},\"colorscale\":[[0.0,\"#0d0887\"],[0.1111111111111111,\"#46039f\"],[0.2222222222222222,\"#7201a8\"],[0.3333333333333333,\"#9c179e\"],[0.4444444444444444,\"#bd3786\"],[0.5555555555555556,\"#d8576b\"],[0.6666666666666666,\"#ed7953\"],[0.7777777777777778,\"#fb9f3a\"],[0.8888888888888888,\"#fdca26\"],[1.0,\"#f0f921\"]]}],\"heatmapgl\":[{\"type\":\"heatmapgl\",\"colorbar\":{\"outlinewidth\":0,\"ticks\":\"\"},\"colorscale\":[[0.0,\"#0d0887\"],[0.1111111111111111,\"#46039f\"],[0.2222222222222222,\"#7201a8\"],[0.3333333333333333,\"#9c179e\"],[0.4444444444444444,\"#bd3786\"],[0.5555555555555556,\"#d8576b\"],[0.6666666666666666,\"#ed7953\"],[0.7777777777777778,\"#fb9f3a\"],[0.8888888888888888,\"#fdca26\"],[1.0,\"#f0f921\"]]}],\"contourcarpet\":[{\"type\":\"contourcarpet\",\"colorbar\":{\"outlinewidth\":0,\"ticks\":\"\"}}],\"contour\":[{\"type\":\"contour\",\"colorbar\":{\"outlinewidth\":0,\"ticks\":\"\"},\"colorscale\":[[0.0,\"#0d0887\"],[0.1111111111111111,\"#46039f\"],[0.2222222222222222,\"#7201a8\"],[0.3333333333333333,\"#9c179e\"],[0.4444444444444444,\"#bd3786\"],[0.5555555555555556,\"#d8576b\"],[0.6666666666666666,\"#ed7953\"],[0.7777777777777778,\"#fb9f3a\"],[0.8888888888888888,\"#fdca26\"],[1.0,\"#f0f921\"]]}],\"surface\":[{\"type\":\"surface\",\"colorbar\":{\"outlinewidth\":0,\"ticks\":\"\"},\"colorscale\":[[0.0,\"#0d0887\"],[0.1111111111111111,\"#46039f\"],[0.2222222222222222,\"#7201a8\"],[0.3333333333333333,\"#9c179e\"],[0.4444444444444444,\"#bd3786\"],[0.5555555555555556,\"#d8576b\"],[0.6666666666666666,\"#ed7953\"],[0.7777777777777778,\"#fb9f3a\"],[0.8888888888888888,\"#fdca26\"],[1.0,\"#f0f921\"]]}],\"mesh3d\":[{\"type\":\"mesh3d\",\"colorbar\":{\"outlinewidth\":0,\"ticks\":\"\"}}],\"scatter\":[{\"fillpattern\":{\"fillmode\":\"overlay\",\"size\":10,\"solidity\":0.2},\"type\":\"scatter\"}],\"parcoords\":[{\"type\":\"parcoords\",\"line\":{\"colorbar\":{\"outlinewidth\":0,\"ticks\":\"\"}}}],\"scatterpolargl\":[{\"type\":\"scatterpolargl\",\"marker\":{\"colorbar\":{\"outlinewidth\":0,\"ticks\":\"\"}}}],\"bar\":[{\"error_x\":{\"color\":\"#2a3f5f\"},\"error_y\":{\"color\":\"#2a3f5f\"},\"marker\":{\"line\":{\"color\":\"white\",\"width\":0.5},\"pattern\":{\"fillmode\":\"overlay\",\"size\":10,\"solidity\":0.2}},\"type\":\"bar\"}],\"scattergeo\":[{\"type\":\"scattergeo\",\"marker\":{\"colorbar\":{\"outlinewidth\":0,\"ticks\":\"\"}}}],\"scatterpolar\":[{\"type\":\"scatterpolar\",\"marker\":{\"colorbar\":{\"outlinewidth\":0,\"ticks\":\"\"}}}],\"histogram\":[{\"marker\":{\"pattern\":{\"fillmode\":\"overlay\",\"size\":10,\"solidity\":0.2}},\"type\":\"histogram\"}],\"scattergl\":[{\"type\":\"scattergl\",\"marker\":{\"colorbar\":{\"outlinewidth\":0,\"ticks\":\"\"}}}],\"scatter3d\":[{\"type\":\"scatter3d\",\"line\":{\"colorbar\":{\"outlinewidth\":0,\"ticks\":\"\"}},\"marker\":{\"colorbar\":{\"outlinewidth\":0,\"ticks\":\"\"}}}],\"scattermapbox\":[{\"type\":\"scattermapbox\",\"marker\":{\"colorbar\":{\"outlinewidth\":0,\"ticks\":\"\"}}}],\"scatterternary\":[{\"type\":\"scatterternary\",\"marker\":{\"colorbar\":{\"outlinewidth\":0,\"ticks\":\"\"}}}],\"scattercarpet\":[{\"type\":\"scattercarpet\",\"marker\":{\"colorbar\":{\"outlinewidth\":0,\"ticks\":\"\"}}}],\"carpet\":[{\"aaxis\":{\"endlinecolor\":\"#2a3f5f\",\"gridcolor\":\"#C8D4E3\",\"linecolor\":\"#C8D4E3\",\"minorgridcolor\":\"#C8D4E3\",\"startlinecolor\":\"#2a3f5f\"},\"baxis\":{\"endlinecolor\":\"#2a3f5f\",\"gridcolor\":\"#C8D4E3\",\"linecolor\":\"#C8D4E3\",\"minorgridcolor\":\"#C8D4E3\",\"startlinecolor\":\"#2a3f5f\"},\"type\":\"carpet\"}],\"table\":[{\"cells\":{\"fill\":{\"color\":\"#EBF0F8\"},\"line\":{\"color\":\"white\"}},\"header\":{\"fill\":{\"color\":\"#C8D4E3\"},\"line\":{\"color\":\"white\"}},\"type\":\"table\"}],\"barpolar\":[{\"marker\":{\"line\":{\"color\":\"white\",\"width\":0.5},\"pattern\":{\"fillmode\":\"overlay\",\"size\":10,\"solidity\":0.2}},\"type\":\"barpolar\"}],\"pie\":[{\"automargin\":true,\"type\":\"pie\"}]},\"layout\":{\"autotypenumbers\":\"strict\",\"colorway\":[\"#636efa\",\"#EF553B\",\"#00cc96\",\"#ab63fa\",\"#FFA15A\",\"#19d3f3\",\"#FF6692\",\"#B6E880\",\"#FF97FF\",\"#FECB52\"],\"font\":{\"color\":\"#2a3f5f\"},\"hovermode\":\"closest\",\"hoverlabel\":{\"align\":\"left\"},\"paper_bgcolor\":\"white\",\"plot_bgcolor\":\"white\",\"polar\":{\"bgcolor\":\"white\",\"angularaxis\":{\"gridcolor\":\"#EBF0F8\",\"linecolor\":\"#EBF0F8\",\"ticks\":\"\"},\"radialaxis\":{\"gridcolor\":\"#EBF0F8\",\"linecolor\":\"#EBF0F8\",\"ticks\":\"\"}},\"ternary\":{\"bgcolor\":\"white\",\"aaxis\":{\"gridcolor\":\"#DFE8F3\",\"linecolor\":\"#A2B1C6\",\"ticks\":\"\"},\"baxis\":{\"gridcolor\":\"#DFE8F3\",\"linecolor\":\"#A2B1C6\",\"ticks\":\"\"},\"caxis\":{\"gridcolor\":\"#DFE8F3\",\"linecolor\":\"#A2B1C6\",\"ticks\":\"\"}},\"coloraxis\":{\"colorbar\":{\"outlinewidth\":0,\"ticks\":\"\"}},\"colorscale\":{\"sequential\":[[0.0,\"#0d0887\"],[0.1111111111111111,\"#46039f\"],[0.2222222222222222,\"#7201a8\"],[0.3333333333333333,\"#9c179e\"],[0.4444444444444444,\"#bd3786\"],[0.5555555555555556,\"#d8576b\"],[0.6666666666666666,\"#ed7953\"],[0.7777777777777778,\"#fb9f3a\"],[0.8888888888888888,\"#fdca26\"],[1.0,\"#f0f921\"]],\"sequentialminus\":[[0.0,\"#0d0887\"],[0.1111111111111111,\"#46039f\"],[0.2222222222222222,\"#7201a8\"],[0.3333333333333333,\"#9c179e\"],[0.4444444444444444,\"#bd3786\"],[0.5555555555555556,\"#d8576b\"],[0.6666666666666666,\"#ed7953\"],[0.7777777777777778,\"#fb9f3a\"],[0.8888888888888888,\"#fdca26\"],[1.0,\"#f0f921\"]],\"diverging\":[[0,\"#8e0152\"],[0.1,\"#c51b7d\"],[0.2,\"#de77ae\"],[0.3,\"#f1b6da\"],[0.4,\"#fde0ef\"],[0.5,\"#f7f7f7\"],[0.6,\"#e6f5d0\"],[0.7,\"#b8e186\"],[0.8,\"#7fbc41\"],[0.9,\"#4d9221\"],[1,\"#276419\"]]},\"xaxis\":{\"gridcolor\":\"#EBF0F8\",\"linecolor\":\"#EBF0F8\",\"ticks\":\"\",\"title\":{\"standoff\":15},\"zerolinecolor\":\"#EBF0F8\",\"automargin\":true,\"zerolinewidth\":2},\"yaxis\":{\"gridcolor\":\"#EBF0F8\",\"linecolor\":\"#EBF0F8\",\"ticks\":\"\",\"title\":{\"standoff\":15},\"zerolinecolor\":\"#EBF0F8\",\"automargin\":true,\"zerolinewidth\":2},\"scene\":{\"xaxis\":{\"backgroundcolor\":\"white\",\"gridcolor\":\"#DFE8F3\",\"linecolor\":\"#EBF0F8\",\"showbackground\":true,\"ticks\":\"\",\"zerolinecolor\":\"#EBF0F8\",\"gridwidth\":2},\"yaxis\":{\"backgroundcolor\":\"white\",\"gridcolor\":\"#DFE8F3\",\"linecolor\":\"#EBF0F8\",\"showbackground\":true,\"ticks\":\"\",\"zerolinecolor\":\"#EBF0F8\",\"gridwidth\":2},\"zaxis\":{\"backgroundcolor\":\"white\",\"gridcolor\":\"#DFE8F3\",\"linecolor\":\"#EBF0F8\",\"showbackground\":true,\"ticks\":\"\",\"zerolinecolor\":\"#EBF0F8\",\"gridwidth\":2}},\"shapedefaults\":{\"line\":{\"color\":\"#2a3f5f\"}},\"annotationdefaults\":{\"arrowcolor\":\"#2a3f5f\",\"arrowhead\":0,\"arrowwidth\":1},\"geo\":{\"bgcolor\":\"white\",\"landcolor\":\"white\",\"subunitcolor\":\"#C8D4E3\",\"showland\":true,\"showlakes\":true,\"lakecolor\":\"white\"},\"title\":{\"x\":0.05},\"mapbox\":{\"style\":\"light\"}}},\"xaxis\":{\"anchor\":\"y\",\"domain\":[0.0,1.0],\"title\":{\"text\":\"Behavior\"}},\"yaxis\":{\"anchor\":\"x\",\"domain\":[0.0,1.0],\"title\":{\"text\":\"Mean angular velocity [\\u00b0\\u002fs]\"}},\"legend\":{\"title\":{\"text\":\"Sensor\"},\"tracegroupgap\":0},\"title\":{\"text\":\"Mean angular velocity for each behavior\",\"font\":{\"size\":25},\"x\":0.5},\"barmode\":\"group\"},                        {\"responsive\": true}                    ).then(function(){\n",
              "                            \n",
              "var gd = document.getElementById('0f601469-c0bb-4d3e-a197-3cefec3f3d1c');\n",
              "var x = new MutationObserver(function (mutations, observer) {{\n",
              "        var display = window.getComputedStyle(gd).display;\n",
              "        if (!display || display === 'none') {{\n",
              "            console.log([gd, 'removed!']);\n",
              "            Plotly.purge(gd);\n",
              "            observer.disconnect();\n",
              "        }}\n",
              "}});\n",
              "\n",
              "// Listen for the removal of the full notebook cells\n",
              "var notebookContainer = gd.closest('#notebook-container');\n",
              "if (notebookContainer) {{\n",
              "    x.observe(notebookContainer, {childList: true});\n",
              "}}\n",
              "\n",
              "// Listen for the clearing of the current output cell\n",
              "var outputEl = gd.closest('.output');\n",
              "if (outputEl) {{\n",
              "    x.observe(outputEl, {childList: true});\n",
              "}}\n",
              "\n",
              "                        })                };                            </script>        </div>\n",
              "</body>\n",
              "</html>"
            ]
          },
          "metadata": {}
        }
      ]
    },
    {
      "cell_type": "markdown",
      "source": [
        "Takeaways:\n",
        "* Unlike the acceleration plot, for most behaviors, the mean angular velocity is higher at the back (ABack) than at the neck (ANeck). This could indicate that movements in dogs are more detectable closer to their center of mass."
      ],
      "metadata": {
        "id": "QU4VPe2FWQh4"
      }
    },
    {
      "cell_type": "markdown",
      "source": [
        "## 3.4 Feature relationship and correlation"
      ],
      "metadata": {
        "id": "4LGn-AGITKB_"
      }
    },
    {
      "cell_type": "markdown",
      "source": [
        "### 3.4.1 Scatter plots of relationship between categorical variables and numerical variables"
      ],
      "metadata": {
        "id": "rj2iMsGJkQ4x"
      }
    },
    {
      "cell_type": "markdown",
      "source": [
        "Then, we investigated the relationship between numerical variables (mean acceleration & mean angular velocity) and categorical variables, Age (x-axis), Weight (size), Gender (fill type) or Neutered status (color). Why we conducted such investigation is that categorical variables might have an influence on the observed behaviors and their associated kinematic patterns. Therefore, by analyzing these relationships, we can identify if certain groups of dogs (like heavier vs. lighter dogs, or males vs. females) exhibit distinct patterns in their movement."
      ],
      "metadata": {
        "id": "cjbz1btTTMq9"
      }
    },
    {
      "cell_type": "code",
      "source": [
        "fig = px.scatter(\n",
        "    df_scatter_plots,\n",
        "    x='Age months',\n",
        "    y='ABack',\n",
        "    color='Neutered',\n",
        "    size='Weight',\n",
        "    symbol='Gender',\n",
        "    symbol_sequence= ['circle', 'circle-open'],\n",
        "    title=\"Mean acceleration on back\",\n",
        "    labels = mean_labels,\n",
        "    opacity=1,\n",
        "    color_discrete_sequence=color_sequence\n",
        ")\n",
        "\n",
        "fig.update_layout(\n",
        "    title_x=0.5,  # Center title\n",
        "    title_font=dict(size=25)  # Increase title font size\n",
        ")\n",
        "\n",
        "fig.show()"
      ],
      "metadata": {
        "colab": {
          "base_uri": "https://localhost:8080/",
          "height": 542
        },
        "id": "S4rcKzS5TNon",
        "outputId": "96c0d4fa-9ee8-4be9-df5f-3e8fd5d8740f"
      },
      "execution_count": null,
      "outputs": [
        {
          "output_type": "display_data",
          "data": {
            "text/html": [
              "<html>\n",
              "<head><meta charset=\"utf-8\" /></head>\n",
              "<body>\n",
              "    <div>            <script src=\"https://cdnjs.cloudflare.com/ajax/libs/mathjax/2.7.5/MathJax.js?config=TeX-AMS-MML_SVG\"></script><script type=\"text/javascript\">if (window.MathJax && window.MathJax.Hub && window.MathJax.Hub.Config) {window.MathJax.Hub.Config({SVG: {font: \"STIX-Web\"}});}</script>                <script type=\"text/javascript\">window.PlotlyConfig = {MathJaxConfig: 'local'};</script>\n",
              "        <script charset=\"utf-8\" src=\"https://cdn.plot.ly/plotly-2.24.1.min.js\"></script>                <div id=\"b62755e3-eb3d-4a8b-a1c8-9ecd1885d4ab\" class=\"plotly-graph-div\" style=\"height:525px; width:100%;\"></div>            <script type=\"text/javascript\">                                    window.PLOTLYENV=window.PLOTLYENV || {};                                    if (document.getElementById(\"b62755e3-eb3d-4a8b-a1c8-9ecd1885d4ab\")) {                    Plotly.newPlot(                        \"b62755e3-eb3d-4a8b-a1c8-9ecd1885d4ab\",                        [{\"hovertemplate\":\"Neutered=No\\u003cbr\\u003eGender=Female\\u003cbr\\u003eAge [months]=%{x}\\u003cbr\\u003eMean acceleration at back [g]=%{y}\\u003cbr\\u003eWeight [kg]=%{marker.size}\\u003cextra\\u003e\\u003c\\u002fextra\\u003e\",\"legendgroup\":\"No, Female\",\"marker\":{\"color\":\"#3366CC\",\"opacity\":1,\"size\":[13,15,18,15,25,28,20,30,20,23,28,28,30,23],\"sizemode\":\"area\",\"sizeref\":0.1025,\"symbol\":\"circle\"},\"mode\":\"markers\",\"name\":\"No, Female\",\"orientation\":\"v\",\"showlegend\":true,\"x\":[20,47,98,60,59,27,85,57,56,28,44,34,33,51],\"xaxis\":\"x\",\"y\":[1.7290101676389187,1.9782649131781578,1.382417363847064,2.090525641560088,1.595105903303911,1.398414779613216,1.5437958398839446,1.0749599620795884,1.1655649734954403,1.9949061312200416,1.613611923257447,1.849097850555405,1.767013685264881,1.428566935815931],\"yaxis\":\"y\",\"type\":\"scatter\"},{\"hovertemplate\":\"Neutered=No\\u003cbr\\u003eGender=Male\\u003cbr\\u003eAge [months]=%{x}\\u003cbr\\u003eMean acceleration at back [g]=%{y}\\u003cbr\\u003eWeight [kg]=%{marker.size}\\u003cextra\\u003e\\u003c\\u002fextra\\u003e\",\"legendgroup\":\"No, Male\",\"marker\":{\"color\":\"#3366CC\",\"opacity\":1,\"size\":[29,35,13,20,25,14,22,25,16,39,20,23,20,30,25,41],\"sizemode\":\"area\",\"sizeref\":0.1025,\"symbol\":\"circle-open\"},\"mode\":\"markers\",\"name\":\"No, Male\",\"orientation\":\"v\",\"showlegend\":true,\"x\":[76,20,32,95,22,116,101,79,16,19,47,24,64,39,67,33],\"xaxis\":\"x\",\"y\":[1.763393242648439,2.0637402577342296,1.5728025623343147,1.9478646610905512,1.485191368413817,1.501500542785242,1.7557580919610436,1.9472168609095881,2.2282762190616054,2.081775768562241,1.5346970508833517,1.828171295039288,1.9704258424593093,1.6281543181956155,1.856960720475836,1.2495568421433307],\"yaxis\":\"y\",\"type\":\"scatter\"},{\"hovertemplate\":\"Neutered=Yes\\u003cbr\\u003eGender=Female\\u003cbr\\u003eAge [months]=%{x}\\u003cbr\\u003eMean acceleration at back [g]=%{y}\\u003cbr\\u003eWeight [kg]=%{marker.size}\\u003cextra\\u003e\\u003c\\u002fextra\\u003e\",\"legendgroup\":\"Yes, Female\",\"marker\":{\"color\":\"#DC3912\",\"opacity\":1,\"size\":[23,19,35,32,28,17,22,28,20],\"sizemode\":\"area\",\"sizeref\":0.1025,\"symbol\":\"circle\"},\"mode\":\"markers\",\"name\":\"Yes, Female\",\"orientation\":\"v\",\"showlegend\":true,\"x\":[113,67,87,90,109,31,56,52,84],\"xaxis\":\"x\",\"y\":[1.2502031629641632,1.4205990953819847,1.4691737983869908,1.5966110687341601,1.369472890090071,1.4306695875719426,1.7936090701084968,1.9564023996668862,3.321150349764366],\"yaxis\":\"y\",\"type\":\"scatter\"},{\"hovertemplate\":\"Neutered=Yes\\u003cbr\\u003eGender=Male\\u003cbr\\u003eAge [months]=%{x}\\u003cbr\\u003eMean acceleration at back [g]=%{y}\\u003cbr\\u003eWeight [kg]=%{marker.size}\\u003cextra\\u003e\\u003c\\u002fextra\\u003e\",\"legendgroup\":\"Yes, Male\",\"marker\":{\"color\":\"#DC3912\",\"opacity\":1,\"size\":[26,16,18,25,31],\"sizemode\":\"area\",\"sizeref\":0.1025,\"symbol\":\"circle-open\"},\"mode\":\"markers\",\"name\":\"Yes, Male\",\"orientation\":\"v\",\"showlegend\":true,\"x\":[88,99,20,61,76],\"xaxis\":\"x\",\"y\":[1.5535582477403418,1.4338017614273408,1.9808951148592788,1.7283208938492431,1.3037989254621316],\"yaxis\":\"y\",\"type\":\"scatter\"}],                        {\"template\":{\"data\":{\"histogram2dcontour\":[{\"type\":\"histogram2dcontour\",\"colorbar\":{\"outlinewidth\":0,\"ticks\":\"\"},\"colorscale\":[[0.0,\"#0d0887\"],[0.1111111111111111,\"#46039f\"],[0.2222222222222222,\"#7201a8\"],[0.3333333333333333,\"#9c179e\"],[0.4444444444444444,\"#bd3786\"],[0.5555555555555556,\"#d8576b\"],[0.6666666666666666,\"#ed7953\"],[0.7777777777777778,\"#fb9f3a\"],[0.8888888888888888,\"#fdca26\"],[1.0,\"#f0f921\"]]}],\"choropleth\":[{\"type\":\"choropleth\",\"colorbar\":{\"outlinewidth\":0,\"ticks\":\"\"}}],\"histogram2d\":[{\"type\":\"histogram2d\",\"colorbar\":{\"outlinewidth\":0,\"ticks\":\"\"},\"colorscale\":[[0.0,\"#0d0887\"],[0.1111111111111111,\"#46039f\"],[0.2222222222222222,\"#7201a8\"],[0.3333333333333333,\"#9c179e\"],[0.4444444444444444,\"#bd3786\"],[0.5555555555555556,\"#d8576b\"],[0.6666666666666666,\"#ed7953\"],[0.7777777777777778,\"#fb9f3a\"],[0.8888888888888888,\"#fdca26\"],[1.0,\"#f0f921\"]]}],\"heatmap\":[{\"type\":\"heatmap\",\"colorbar\":{\"outlinewidth\":0,\"ticks\":\"\"},\"colorscale\":[[0.0,\"#0d0887\"],[0.1111111111111111,\"#46039f\"],[0.2222222222222222,\"#7201a8\"],[0.3333333333333333,\"#9c179e\"],[0.4444444444444444,\"#bd3786\"],[0.5555555555555556,\"#d8576b\"],[0.6666666666666666,\"#ed7953\"],[0.7777777777777778,\"#fb9f3a\"],[0.8888888888888888,\"#fdca26\"],[1.0,\"#f0f921\"]]}],\"heatmapgl\":[{\"type\":\"heatmapgl\",\"colorbar\":{\"outlinewidth\":0,\"ticks\":\"\"},\"colorscale\":[[0.0,\"#0d0887\"],[0.1111111111111111,\"#46039f\"],[0.2222222222222222,\"#7201a8\"],[0.3333333333333333,\"#9c179e\"],[0.4444444444444444,\"#bd3786\"],[0.5555555555555556,\"#d8576b\"],[0.6666666666666666,\"#ed7953\"],[0.7777777777777778,\"#fb9f3a\"],[0.8888888888888888,\"#fdca26\"],[1.0,\"#f0f921\"]]}],\"contourcarpet\":[{\"type\":\"contourcarpet\",\"colorbar\":{\"outlinewidth\":0,\"ticks\":\"\"}}],\"contour\":[{\"type\":\"contour\",\"colorbar\":{\"outlinewidth\":0,\"ticks\":\"\"},\"colorscale\":[[0.0,\"#0d0887\"],[0.1111111111111111,\"#46039f\"],[0.2222222222222222,\"#7201a8\"],[0.3333333333333333,\"#9c179e\"],[0.4444444444444444,\"#bd3786\"],[0.5555555555555556,\"#d8576b\"],[0.6666666666666666,\"#ed7953\"],[0.7777777777777778,\"#fb9f3a\"],[0.8888888888888888,\"#fdca26\"],[1.0,\"#f0f921\"]]}],\"surface\":[{\"type\":\"surface\",\"colorbar\":{\"outlinewidth\":0,\"ticks\":\"\"},\"colorscale\":[[0.0,\"#0d0887\"],[0.1111111111111111,\"#46039f\"],[0.2222222222222222,\"#7201a8\"],[0.3333333333333333,\"#9c179e\"],[0.4444444444444444,\"#bd3786\"],[0.5555555555555556,\"#d8576b\"],[0.6666666666666666,\"#ed7953\"],[0.7777777777777778,\"#fb9f3a\"],[0.8888888888888888,\"#fdca26\"],[1.0,\"#f0f921\"]]}],\"mesh3d\":[{\"type\":\"mesh3d\",\"colorbar\":{\"outlinewidth\":0,\"ticks\":\"\"}}],\"scatter\":[{\"fillpattern\":{\"fillmode\":\"overlay\",\"size\":10,\"solidity\":0.2},\"type\":\"scatter\"}],\"parcoords\":[{\"type\":\"parcoords\",\"line\":{\"colorbar\":{\"outlinewidth\":0,\"ticks\":\"\"}}}],\"scatterpolargl\":[{\"type\":\"scatterpolargl\",\"marker\":{\"colorbar\":{\"outlinewidth\":0,\"ticks\":\"\"}}}],\"bar\":[{\"error_x\":{\"color\":\"#2a3f5f\"},\"error_y\":{\"color\":\"#2a3f5f\"},\"marker\":{\"line\":{\"color\":\"white\",\"width\":0.5},\"pattern\":{\"fillmode\":\"overlay\",\"size\":10,\"solidity\":0.2}},\"type\":\"bar\"}],\"scattergeo\":[{\"type\":\"scattergeo\",\"marker\":{\"colorbar\":{\"outlinewidth\":0,\"ticks\":\"\"}}}],\"scatterpolar\":[{\"type\":\"scatterpolar\",\"marker\":{\"colorbar\":{\"outlinewidth\":0,\"ticks\":\"\"}}}],\"histogram\":[{\"marker\":{\"pattern\":{\"fillmode\":\"overlay\",\"size\":10,\"solidity\":0.2}},\"type\":\"histogram\"}],\"scattergl\":[{\"type\":\"scattergl\",\"marker\":{\"colorbar\":{\"outlinewidth\":0,\"ticks\":\"\"}}}],\"scatter3d\":[{\"type\":\"scatter3d\",\"line\":{\"colorbar\":{\"outlinewidth\":0,\"ticks\":\"\"}},\"marker\":{\"colorbar\":{\"outlinewidth\":0,\"ticks\":\"\"}}}],\"scattermapbox\":[{\"type\":\"scattermapbox\",\"marker\":{\"colorbar\":{\"outlinewidth\":0,\"ticks\":\"\"}}}],\"scatterternary\":[{\"type\":\"scatterternary\",\"marker\":{\"colorbar\":{\"outlinewidth\":0,\"ticks\":\"\"}}}],\"scattercarpet\":[{\"type\":\"scattercarpet\",\"marker\":{\"colorbar\":{\"outlinewidth\":0,\"ticks\":\"\"}}}],\"carpet\":[{\"aaxis\":{\"endlinecolor\":\"#2a3f5f\",\"gridcolor\":\"#C8D4E3\",\"linecolor\":\"#C8D4E3\",\"minorgridcolor\":\"#C8D4E3\",\"startlinecolor\":\"#2a3f5f\"},\"baxis\":{\"endlinecolor\":\"#2a3f5f\",\"gridcolor\":\"#C8D4E3\",\"linecolor\":\"#C8D4E3\",\"minorgridcolor\":\"#C8D4E3\",\"startlinecolor\":\"#2a3f5f\"},\"type\":\"carpet\"}],\"table\":[{\"cells\":{\"fill\":{\"color\":\"#EBF0F8\"},\"line\":{\"color\":\"white\"}},\"header\":{\"fill\":{\"color\":\"#C8D4E3\"},\"line\":{\"color\":\"white\"}},\"type\":\"table\"}],\"barpolar\":[{\"marker\":{\"line\":{\"color\":\"white\",\"width\":0.5},\"pattern\":{\"fillmode\":\"overlay\",\"size\":10,\"solidity\":0.2}},\"type\":\"barpolar\"}],\"pie\":[{\"automargin\":true,\"type\":\"pie\"}]},\"layout\":{\"autotypenumbers\":\"strict\",\"colorway\":[\"#636efa\",\"#EF553B\",\"#00cc96\",\"#ab63fa\",\"#FFA15A\",\"#19d3f3\",\"#FF6692\",\"#B6E880\",\"#FF97FF\",\"#FECB52\"],\"font\":{\"color\":\"#2a3f5f\"},\"hovermode\":\"closest\",\"hoverlabel\":{\"align\":\"left\"},\"paper_bgcolor\":\"white\",\"plot_bgcolor\":\"white\",\"polar\":{\"bgcolor\":\"white\",\"angularaxis\":{\"gridcolor\":\"#EBF0F8\",\"linecolor\":\"#EBF0F8\",\"ticks\":\"\"},\"radialaxis\":{\"gridcolor\":\"#EBF0F8\",\"linecolor\":\"#EBF0F8\",\"ticks\":\"\"}},\"ternary\":{\"bgcolor\":\"white\",\"aaxis\":{\"gridcolor\":\"#DFE8F3\",\"linecolor\":\"#A2B1C6\",\"ticks\":\"\"},\"baxis\":{\"gridcolor\":\"#DFE8F3\",\"linecolor\":\"#A2B1C6\",\"ticks\":\"\"},\"caxis\":{\"gridcolor\":\"#DFE8F3\",\"linecolor\":\"#A2B1C6\",\"ticks\":\"\"}},\"coloraxis\":{\"colorbar\":{\"outlinewidth\":0,\"ticks\":\"\"}},\"colorscale\":{\"sequential\":[[0.0,\"#0d0887\"],[0.1111111111111111,\"#46039f\"],[0.2222222222222222,\"#7201a8\"],[0.3333333333333333,\"#9c179e\"],[0.4444444444444444,\"#bd3786\"],[0.5555555555555556,\"#d8576b\"],[0.6666666666666666,\"#ed7953\"],[0.7777777777777778,\"#fb9f3a\"],[0.8888888888888888,\"#fdca26\"],[1.0,\"#f0f921\"]],\"sequentialminus\":[[0.0,\"#0d0887\"],[0.1111111111111111,\"#46039f\"],[0.2222222222222222,\"#7201a8\"],[0.3333333333333333,\"#9c179e\"],[0.4444444444444444,\"#bd3786\"],[0.5555555555555556,\"#d8576b\"],[0.6666666666666666,\"#ed7953\"],[0.7777777777777778,\"#fb9f3a\"],[0.8888888888888888,\"#fdca26\"],[1.0,\"#f0f921\"]],\"diverging\":[[0,\"#8e0152\"],[0.1,\"#c51b7d\"],[0.2,\"#de77ae\"],[0.3,\"#f1b6da\"],[0.4,\"#fde0ef\"],[0.5,\"#f7f7f7\"],[0.6,\"#e6f5d0\"],[0.7,\"#b8e186\"],[0.8,\"#7fbc41\"],[0.9,\"#4d9221\"],[1,\"#276419\"]]},\"xaxis\":{\"gridcolor\":\"#EBF0F8\",\"linecolor\":\"#EBF0F8\",\"ticks\":\"\",\"title\":{\"standoff\":15},\"zerolinecolor\":\"#EBF0F8\",\"automargin\":true,\"zerolinewidth\":2},\"yaxis\":{\"gridcolor\":\"#EBF0F8\",\"linecolor\":\"#EBF0F8\",\"ticks\":\"\",\"title\":{\"standoff\":15},\"zerolinecolor\":\"#EBF0F8\",\"automargin\":true,\"zerolinewidth\":2},\"scene\":{\"xaxis\":{\"backgroundcolor\":\"white\",\"gridcolor\":\"#DFE8F3\",\"linecolor\":\"#EBF0F8\",\"showbackground\":true,\"ticks\":\"\",\"zerolinecolor\":\"#EBF0F8\",\"gridwidth\":2},\"yaxis\":{\"backgroundcolor\":\"white\",\"gridcolor\":\"#DFE8F3\",\"linecolor\":\"#EBF0F8\",\"showbackground\":true,\"ticks\":\"\",\"zerolinecolor\":\"#EBF0F8\",\"gridwidth\":2},\"zaxis\":{\"backgroundcolor\":\"white\",\"gridcolor\":\"#DFE8F3\",\"linecolor\":\"#EBF0F8\",\"showbackground\":true,\"ticks\":\"\",\"zerolinecolor\":\"#EBF0F8\",\"gridwidth\":2}},\"shapedefaults\":{\"line\":{\"color\":\"#2a3f5f\"}},\"annotationdefaults\":{\"arrowcolor\":\"#2a3f5f\",\"arrowhead\":0,\"arrowwidth\":1},\"geo\":{\"bgcolor\":\"white\",\"landcolor\":\"white\",\"subunitcolor\":\"#C8D4E3\",\"showland\":true,\"showlakes\":true,\"lakecolor\":\"white\"},\"title\":{\"x\":0.05},\"mapbox\":{\"style\":\"light\"}}},\"xaxis\":{\"anchor\":\"y\",\"domain\":[0.0,1.0],\"title\":{\"text\":\"Age [months]\"}},\"yaxis\":{\"anchor\":\"x\",\"domain\":[0.0,1.0],\"title\":{\"text\":\"Mean acceleration at back [g]\"}},\"legend\":{\"title\":{\"text\":\"Neutered, Gender\"},\"tracegroupgap\":0,\"itemsizing\":\"constant\"},\"title\":{\"text\":\"Mean acceleration on back\",\"font\":{\"size\":25},\"x\":0.5}},                        {\"responsive\": true}                    ).then(function(){\n",
              "                            \n",
              "var gd = document.getElementById('b62755e3-eb3d-4a8b-a1c8-9ecd1885d4ab');\n",
              "var x = new MutationObserver(function (mutations, observer) {{\n",
              "        var display = window.getComputedStyle(gd).display;\n",
              "        if (!display || display === 'none') {{\n",
              "            console.log([gd, 'removed!']);\n",
              "            Plotly.purge(gd);\n",
              "            observer.disconnect();\n",
              "        }}\n",
              "}});\n",
              "\n",
              "// Listen for the removal of the full notebook cells\n",
              "var notebookContainer = gd.closest('#notebook-container');\n",
              "if (notebookContainer) {{\n",
              "    x.observe(notebookContainer, {childList: true});\n",
              "}}\n",
              "\n",
              "// Listen for the clearing of the current output cell\n",
              "var outputEl = gd.closest('.output');\n",
              "if (outputEl) {{\n",
              "    x.observe(outputEl, {childList: true});\n",
              "}}\n",
              "\n",
              "                        })                };                            </script>        </div>\n",
              "</body>\n",
              "</html>"
            ]
          },
          "metadata": {}
        }
      ]
    },
    {
      "cell_type": "markdown",
      "source": [
        "Takeaways:\n",
        "* We can't see any obvious linear or non-linear relationship between the Age (x-axis), Weight (size), Gender (fill type) or Neutered status (color) for the mean acceleration."
      ],
      "metadata": {
        "id": "nOYUN6mVUVZP"
      }
    },
    {
      "cell_type": "markdown",
      "source": [
        "Then, we did the same work on the mean angular velocity and still fail to find any clear linear or non-linear relationship between the dog biological information and mean movement data:"
      ],
      "metadata": {
        "id": "ScC0I1L6UbIe"
      }
    },
    {
      "cell_type": "code",
      "source": [
        "fig = px.scatter(\n",
        "    df_scatter_plots,\n",
        "    x='Age months',\n",
        "    y='GBack',\n",
        "    color='Neutered',\n",
        "    size='Weight',\n",
        "    symbol='Gender',\n",
        "    symbol_sequence= ['circle', 'circle-open'],\n",
        "    title=\"Mean angular velocity on back\",\n",
        "    labels = mean_labels,\n",
        "    opacity=1,\n",
        "    color_discrete_sequence=color_sequence\n",
        ")\n",
        "fig.update_layout(\n",
        "    title_x=0.5,  # Center title\n",
        "    title_font=dict(size=25)  # Increase title font size\n",
        ")\n",
        "fig.show()"
      ],
      "metadata": {
        "colab": {
          "base_uri": "https://localhost:8080/",
          "height": 542
        },
        "id": "_e9A7gVaUoNN",
        "outputId": "f2e26501-9ced-4458-ac0d-bbb9f68c5b2b"
      },
      "execution_count": null,
      "outputs": [
        {
          "output_type": "display_data",
          "data": {
            "text/html": [
              "<html>\n",
              "<head><meta charset=\"utf-8\" /></head>\n",
              "<body>\n",
              "    <div>            <script src=\"https://cdnjs.cloudflare.com/ajax/libs/mathjax/2.7.5/MathJax.js?config=TeX-AMS-MML_SVG\"></script><script type=\"text/javascript\">if (window.MathJax && window.MathJax.Hub && window.MathJax.Hub.Config) {window.MathJax.Hub.Config({SVG: {font: \"STIX-Web\"}});}</script>                <script type=\"text/javascript\">window.PlotlyConfig = {MathJaxConfig: 'local'};</script>\n",
              "        <script charset=\"utf-8\" src=\"https://cdn.plot.ly/plotly-2.24.1.min.js\"></script>                <div id=\"99905fa2-890a-439a-8bae-efd1c4f82c2a\" class=\"plotly-graph-div\" style=\"height:525px; width:100%;\"></div>            <script type=\"text/javascript\">                                    window.PLOTLYENV=window.PLOTLYENV || {};                                    if (document.getElementById(\"99905fa2-890a-439a-8bae-efd1c4f82c2a\")) {                    Plotly.newPlot(                        \"99905fa2-890a-439a-8bae-efd1c4f82c2a\",                        [{\"hovertemplate\":\"Neutered=No\\u003cbr\\u003eGender=Female\\u003cbr\\u003eAge [months]=%{x}\\u003cbr\\u003eMean angular velocity at back [\\u00b0\\u002fs]=%{y}\\u003cbr\\u003eWeight [kg]=%{marker.size}\\u003cextra\\u003e\\u003c\\u002fextra\\u003e\",\"legendgroup\":\"No, Female\",\"marker\":{\"color\":\"#3366CC\",\"opacity\":1,\"size\":[13,15,18,15,25,28,20,30,20,23,28,28,30,23],\"sizemode\":\"area\",\"sizeref\":0.1025,\"symbol\":\"circle\"},\"mode\":\"markers\",\"name\":\"No, Female\",\"orientation\":\"v\",\"showlegend\":true,\"x\":[20,47,98,60,59,27,85,57,56,28,44,34,33,51],\"xaxis\":\"x\",\"y\":[321.4919080496915,396.77137770767933,180.60734873725715,479.0117249032217,399.0962307428526,224.3889664618578,320.4829039428526,112.02131039399386,215.53197230170278,367.52789478354083,237.24203721695167,315.0382950041678,337.1688700128114,234.48375035267887],\"yaxis\":\"y\",\"type\":\"scatter\"},{\"hovertemplate\":\"Neutered=No\\u003cbr\\u003eGender=Male\\u003cbr\\u003eAge [months]=%{x}\\u003cbr\\u003eMean angular velocity at back [\\u00b0\\u002fs]=%{y}\\u003cbr\\u003eWeight [kg]=%{marker.size}\\u003cextra\\u003e\\u003c\\u002fextra\\u003e\",\"legendgroup\":\"No, Male\",\"marker\":{\"color\":\"#3366CC\",\"opacity\":1,\"size\":[29,35,13,20,25,14,22,25,16,39,20,23,20,30,25,41],\"sizemode\":\"area\",\"sizeref\":0.1025,\"symbol\":\"circle-open\"},\"mode\":\"markers\",\"name\":\"No, Male\",\"orientation\":\"v\",\"showlegend\":true,\"x\":[76,20,32,95,22,116,101,79,16,19,47,24,64,39,67,33],\"xaxis\":\"x\",\"y\":[255.05859196131829,310.28990030093456,258.59708277607825,443.99746160295075,266.01835007450046,266.2219796620273,315.71369254813976,459.4160035604051,471.7716700712049,371.0527564095098,255.28083667358044,285.3429066942312,375.20402944046083,285.8527729429534,323.41263624030705,213.20184674789547],\"yaxis\":\"y\",\"type\":\"scatter\"},{\"hovertemplate\":\"Neutered=Yes\\u003cbr\\u003eGender=Female\\u003cbr\\u003eAge [months]=%{x}\\u003cbr\\u003eMean angular velocity at back [\\u00b0\\u002fs]=%{y}\\u003cbr\\u003eWeight [kg]=%{marker.size}\\u003cextra\\u003e\\u003c\\u002fextra\\u003e\",\"legendgroup\":\"Yes, Female\",\"marker\":{\"color\":\"#DC3912\",\"opacity\":1,\"size\":[23,19,35,32,28,17,22,28,20],\"sizemode\":\"area\",\"sizeref\":0.1025,\"symbol\":\"circle\"},\"mode\":\"markers\",\"name\":\"Yes, Female\",\"orientation\":\"v\",\"showlegend\":true,\"x\":[113,67,87,90,109,31,56,52,84],\"xaxis\":\"x\",\"y\":[222.90291466785226,257.1080099495283,268.2634669893944,222.07005989362256,278.24830208148546,216.28676857645863,341.48686918796835,298.09809158499945,603.301156108887],\"yaxis\":\"y\",\"type\":\"scatter\"},{\"hovertemplate\":\"Neutered=Yes\\u003cbr\\u003eGender=Male\\u003cbr\\u003eAge [months]=%{x}\\u003cbr\\u003eMean angular velocity at back [\\u00b0\\u002fs]=%{y}\\u003cbr\\u003eWeight [kg]=%{marker.size}\\u003cextra\\u003e\\u003c\\u002fextra\\u003e\",\"legendgroup\":\"Yes, Male\",\"marker\":{\"color\":\"#DC3912\",\"opacity\":1,\"size\":[26,16,18,25,31],\"sizemode\":\"area\",\"sizeref\":0.1025,\"symbol\":\"circle-open\"},\"mode\":\"markers\",\"name\":\"Yes, Male\",\"orientation\":\"v\",\"showlegend\":true,\"x\":[88,99,20,61,76],\"xaxis\":\"x\",\"y\":[257.9691384313715,288.8013166682232,319.20421154363623,264.51938070507924,239.65173184863306],\"yaxis\":\"y\",\"type\":\"scatter\"}],                        {\"template\":{\"data\":{\"histogram2dcontour\":[{\"type\":\"histogram2dcontour\",\"colorbar\":{\"outlinewidth\":0,\"ticks\":\"\"},\"colorscale\":[[0.0,\"#0d0887\"],[0.1111111111111111,\"#46039f\"],[0.2222222222222222,\"#7201a8\"],[0.3333333333333333,\"#9c179e\"],[0.4444444444444444,\"#bd3786\"],[0.5555555555555556,\"#d8576b\"],[0.6666666666666666,\"#ed7953\"],[0.7777777777777778,\"#fb9f3a\"],[0.8888888888888888,\"#fdca26\"],[1.0,\"#f0f921\"]]}],\"choropleth\":[{\"type\":\"choropleth\",\"colorbar\":{\"outlinewidth\":0,\"ticks\":\"\"}}],\"histogram2d\":[{\"type\":\"histogram2d\",\"colorbar\":{\"outlinewidth\":0,\"ticks\":\"\"},\"colorscale\":[[0.0,\"#0d0887\"],[0.1111111111111111,\"#46039f\"],[0.2222222222222222,\"#7201a8\"],[0.3333333333333333,\"#9c179e\"],[0.4444444444444444,\"#bd3786\"],[0.5555555555555556,\"#d8576b\"],[0.6666666666666666,\"#ed7953\"],[0.7777777777777778,\"#fb9f3a\"],[0.8888888888888888,\"#fdca26\"],[1.0,\"#f0f921\"]]}],\"heatmap\":[{\"type\":\"heatmap\",\"colorbar\":{\"outlinewidth\":0,\"ticks\":\"\"},\"colorscale\":[[0.0,\"#0d0887\"],[0.1111111111111111,\"#46039f\"],[0.2222222222222222,\"#7201a8\"],[0.3333333333333333,\"#9c179e\"],[0.4444444444444444,\"#bd3786\"],[0.5555555555555556,\"#d8576b\"],[0.6666666666666666,\"#ed7953\"],[0.7777777777777778,\"#fb9f3a\"],[0.8888888888888888,\"#fdca26\"],[1.0,\"#f0f921\"]]}],\"heatmapgl\":[{\"type\":\"heatmapgl\",\"colorbar\":{\"outlinewidth\":0,\"ticks\":\"\"},\"colorscale\":[[0.0,\"#0d0887\"],[0.1111111111111111,\"#46039f\"],[0.2222222222222222,\"#7201a8\"],[0.3333333333333333,\"#9c179e\"],[0.4444444444444444,\"#bd3786\"],[0.5555555555555556,\"#d8576b\"],[0.6666666666666666,\"#ed7953\"],[0.7777777777777778,\"#fb9f3a\"],[0.8888888888888888,\"#fdca26\"],[1.0,\"#f0f921\"]]}],\"contourcarpet\":[{\"type\":\"contourcarpet\",\"colorbar\":{\"outlinewidth\":0,\"ticks\":\"\"}}],\"contour\":[{\"type\":\"contour\",\"colorbar\":{\"outlinewidth\":0,\"ticks\":\"\"},\"colorscale\":[[0.0,\"#0d0887\"],[0.1111111111111111,\"#46039f\"],[0.2222222222222222,\"#7201a8\"],[0.3333333333333333,\"#9c179e\"],[0.4444444444444444,\"#bd3786\"],[0.5555555555555556,\"#d8576b\"],[0.6666666666666666,\"#ed7953\"],[0.7777777777777778,\"#fb9f3a\"],[0.8888888888888888,\"#fdca26\"],[1.0,\"#f0f921\"]]}],\"surface\":[{\"type\":\"surface\",\"colorbar\":{\"outlinewidth\":0,\"ticks\":\"\"},\"colorscale\":[[0.0,\"#0d0887\"],[0.1111111111111111,\"#46039f\"],[0.2222222222222222,\"#7201a8\"],[0.3333333333333333,\"#9c179e\"],[0.4444444444444444,\"#bd3786\"],[0.5555555555555556,\"#d8576b\"],[0.6666666666666666,\"#ed7953\"],[0.7777777777777778,\"#fb9f3a\"],[0.8888888888888888,\"#fdca26\"],[1.0,\"#f0f921\"]]}],\"mesh3d\":[{\"type\":\"mesh3d\",\"colorbar\":{\"outlinewidth\":0,\"ticks\":\"\"}}],\"scatter\":[{\"fillpattern\":{\"fillmode\":\"overlay\",\"size\":10,\"solidity\":0.2},\"type\":\"scatter\"}],\"parcoords\":[{\"type\":\"parcoords\",\"line\":{\"colorbar\":{\"outlinewidth\":0,\"ticks\":\"\"}}}],\"scatterpolargl\":[{\"type\":\"scatterpolargl\",\"marker\":{\"colorbar\":{\"outlinewidth\":0,\"ticks\":\"\"}}}],\"bar\":[{\"error_x\":{\"color\":\"#2a3f5f\"},\"error_y\":{\"color\":\"#2a3f5f\"},\"marker\":{\"line\":{\"color\":\"white\",\"width\":0.5},\"pattern\":{\"fillmode\":\"overlay\",\"size\":10,\"solidity\":0.2}},\"type\":\"bar\"}],\"scattergeo\":[{\"type\":\"scattergeo\",\"marker\":{\"colorbar\":{\"outlinewidth\":0,\"ticks\":\"\"}}}],\"scatterpolar\":[{\"type\":\"scatterpolar\",\"marker\":{\"colorbar\":{\"outlinewidth\":0,\"ticks\":\"\"}}}],\"histogram\":[{\"marker\":{\"pattern\":{\"fillmode\":\"overlay\",\"size\":10,\"solidity\":0.2}},\"type\":\"histogram\"}],\"scattergl\":[{\"type\":\"scattergl\",\"marker\":{\"colorbar\":{\"outlinewidth\":0,\"ticks\":\"\"}}}],\"scatter3d\":[{\"type\":\"scatter3d\",\"line\":{\"colorbar\":{\"outlinewidth\":0,\"ticks\":\"\"}},\"marker\":{\"colorbar\":{\"outlinewidth\":0,\"ticks\":\"\"}}}],\"scattermapbox\":[{\"type\":\"scattermapbox\",\"marker\":{\"colorbar\":{\"outlinewidth\":0,\"ticks\":\"\"}}}],\"scatterternary\":[{\"type\":\"scatterternary\",\"marker\":{\"colorbar\":{\"outlinewidth\":0,\"ticks\":\"\"}}}],\"scattercarpet\":[{\"type\":\"scattercarpet\",\"marker\":{\"colorbar\":{\"outlinewidth\":0,\"ticks\":\"\"}}}],\"carpet\":[{\"aaxis\":{\"endlinecolor\":\"#2a3f5f\",\"gridcolor\":\"#C8D4E3\",\"linecolor\":\"#C8D4E3\",\"minorgridcolor\":\"#C8D4E3\",\"startlinecolor\":\"#2a3f5f\"},\"baxis\":{\"endlinecolor\":\"#2a3f5f\",\"gridcolor\":\"#C8D4E3\",\"linecolor\":\"#C8D4E3\",\"minorgridcolor\":\"#C8D4E3\",\"startlinecolor\":\"#2a3f5f\"},\"type\":\"carpet\"}],\"table\":[{\"cells\":{\"fill\":{\"color\":\"#EBF0F8\"},\"line\":{\"color\":\"white\"}},\"header\":{\"fill\":{\"color\":\"#C8D4E3\"},\"line\":{\"color\":\"white\"}},\"type\":\"table\"}],\"barpolar\":[{\"marker\":{\"line\":{\"color\":\"white\",\"width\":0.5},\"pattern\":{\"fillmode\":\"overlay\",\"size\":10,\"solidity\":0.2}},\"type\":\"barpolar\"}],\"pie\":[{\"automargin\":true,\"type\":\"pie\"}]},\"layout\":{\"autotypenumbers\":\"strict\",\"colorway\":[\"#636efa\",\"#EF553B\",\"#00cc96\",\"#ab63fa\",\"#FFA15A\",\"#19d3f3\",\"#FF6692\",\"#B6E880\",\"#FF97FF\",\"#FECB52\"],\"font\":{\"color\":\"#2a3f5f\"},\"hovermode\":\"closest\",\"hoverlabel\":{\"align\":\"left\"},\"paper_bgcolor\":\"white\",\"plot_bgcolor\":\"white\",\"polar\":{\"bgcolor\":\"white\",\"angularaxis\":{\"gridcolor\":\"#EBF0F8\",\"linecolor\":\"#EBF0F8\",\"ticks\":\"\"},\"radialaxis\":{\"gridcolor\":\"#EBF0F8\",\"linecolor\":\"#EBF0F8\",\"ticks\":\"\"}},\"ternary\":{\"bgcolor\":\"white\",\"aaxis\":{\"gridcolor\":\"#DFE8F3\",\"linecolor\":\"#A2B1C6\",\"ticks\":\"\"},\"baxis\":{\"gridcolor\":\"#DFE8F3\",\"linecolor\":\"#A2B1C6\",\"ticks\":\"\"},\"caxis\":{\"gridcolor\":\"#DFE8F3\",\"linecolor\":\"#A2B1C6\",\"ticks\":\"\"}},\"coloraxis\":{\"colorbar\":{\"outlinewidth\":0,\"ticks\":\"\"}},\"colorscale\":{\"sequential\":[[0.0,\"#0d0887\"],[0.1111111111111111,\"#46039f\"],[0.2222222222222222,\"#7201a8\"],[0.3333333333333333,\"#9c179e\"],[0.4444444444444444,\"#bd3786\"],[0.5555555555555556,\"#d8576b\"],[0.6666666666666666,\"#ed7953\"],[0.7777777777777778,\"#fb9f3a\"],[0.8888888888888888,\"#fdca26\"],[1.0,\"#f0f921\"]],\"sequentialminus\":[[0.0,\"#0d0887\"],[0.1111111111111111,\"#46039f\"],[0.2222222222222222,\"#7201a8\"],[0.3333333333333333,\"#9c179e\"],[0.4444444444444444,\"#bd3786\"],[0.5555555555555556,\"#d8576b\"],[0.6666666666666666,\"#ed7953\"],[0.7777777777777778,\"#fb9f3a\"],[0.8888888888888888,\"#fdca26\"],[1.0,\"#f0f921\"]],\"diverging\":[[0,\"#8e0152\"],[0.1,\"#c51b7d\"],[0.2,\"#de77ae\"],[0.3,\"#f1b6da\"],[0.4,\"#fde0ef\"],[0.5,\"#f7f7f7\"],[0.6,\"#e6f5d0\"],[0.7,\"#b8e186\"],[0.8,\"#7fbc41\"],[0.9,\"#4d9221\"],[1,\"#276419\"]]},\"xaxis\":{\"gridcolor\":\"#EBF0F8\",\"linecolor\":\"#EBF0F8\",\"ticks\":\"\",\"title\":{\"standoff\":15},\"zerolinecolor\":\"#EBF0F8\",\"automargin\":true,\"zerolinewidth\":2},\"yaxis\":{\"gridcolor\":\"#EBF0F8\",\"linecolor\":\"#EBF0F8\",\"ticks\":\"\",\"title\":{\"standoff\":15},\"zerolinecolor\":\"#EBF0F8\",\"automargin\":true,\"zerolinewidth\":2},\"scene\":{\"xaxis\":{\"backgroundcolor\":\"white\",\"gridcolor\":\"#DFE8F3\",\"linecolor\":\"#EBF0F8\",\"showbackground\":true,\"ticks\":\"\",\"zerolinecolor\":\"#EBF0F8\",\"gridwidth\":2},\"yaxis\":{\"backgroundcolor\":\"white\",\"gridcolor\":\"#DFE8F3\",\"linecolor\":\"#EBF0F8\",\"showbackground\":true,\"ticks\":\"\",\"zerolinecolor\":\"#EBF0F8\",\"gridwidth\":2},\"zaxis\":{\"backgroundcolor\":\"white\",\"gridcolor\":\"#DFE8F3\",\"linecolor\":\"#EBF0F8\",\"showbackground\":true,\"ticks\":\"\",\"zerolinecolor\":\"#EBF0F8\",\"gridwidth\":2}},\"shapedefaults\":{\"line\":{\"color\":\"#2a3f5f\"}},\"annotationdefaults\":{\"arrowcolor\":\"#2a3f5f\",\"arrowhead\":0,\"arrowwidth\":1},\"geo\":{\"bgcolor\":\"white\",\"landcolor\":\"white\",\"subunitcolor\":\"#C8D4E3\",\"showland\":true,\"showlakes\":true,\"lakecolor\":\"white\"},\"title\":{\"x\":0.05},\"mapbox\":{\"style\":\"light\"}}},\"xaxis\":{\"anchor\":\"y\",\"domain\":[0.0,1.0],\"title\":{\"text\":\"Age [months]\"}},\"yaxis\":{\"anchor\":\"x\",\"domain\":[0.0,1.0],\"title\":{\"text\":\"Mean angular velocity at back [\\u00b0\\u002fs]\"}},\"legend\":{\"title\":{\"text\":\"Neutered, Gender\"},\"tracegroupgap\":0,\"itemsizing\":\"constant\"},\"title\":{\"text\":\"Mean angular velocity on back\",\"font\":{\"size\":25},\"x\":0.5}},                        {\"responsive\": true}                    ).then(function(){\n",
              "                            \n",
              "var gd = document.getElementById('99905fa2-890a-439a-8bae-efd1c4f82c2a');\n",
              "var x = new MutationObserver(function (mutations, observer) {{\n",
              "        var display = window.getComputedStyle(gd).display;\n",
              "        if (!display || display === 'none') {{\n",
              "            console.log([gd, 'removed!']);\n",
              "            Plotly.purge(gd);\n",
              "            observer.disconnect();\n",
              "        }}\n",
              "}});\n",
              "\n",
              "// Listen for the removal of the full notebook cells\n",
              "var notebookContainer = gd.closest('#notebook-container');\n",
              "if (notebookContainer) {{\n",
              "    x.observe(notebookContainer, {childList: true});\n",
              "}}\n",
              "\n",
              "// Listen for the clearing of the current output cell\n",
              "var outputEl = gd.closest('.output');\n",
              "if (outputEl) {{\n",
              "    x.observe(outputEl, {childList: true});\n",
              "}}\n",
              "\n",
              "                        })                };                            </script>        </div>\n",
              "</body>\n",
              "</html>"
            ]
          },
          "metadata": {}
        }
      ]
    },
    {
      "cell_type": "markdown",
      "source": [
        "### 3.4.2 Correlation matrix of numerical variables"
      ],
      "metadata": {
        "id": "eb8zJJATkZ8B"
      }
    },
    {
      "cell_type": "markdown",
      "source": [
        "We plotted the correlation matrix for all detected sensor data."
      ],
      "metadata": {
        "id": "6Bab9BF7kuA2"
      }
    },
    {
      "cell_type": "code",
      "source": [
        "all_sensors = [f'{s}{p}_{d}' for s in ('A', 'G') for p in ('Neck', 'Back') for d in ('x', 'y', 'z')]\n",
        "correlation_matrix = df_data.select([*all_sensors]).collect().to_pandas().corr()\n",
        "fig = px.imshow(\n",
        "    correlation_matrix,\n",
        "    text_auto='.3f',\n",
        "    width=800,\n",
        "    height=800,\n",
        "    color_continuous_scale='Viridis',\n",
        "    title='Correlation matrix for sensor data'\n",
        ")\n",
        "fig.update_layout(\n",
        "    title_x=0.3,  # Center title\n",
        "    title_font=dict(size=25)  # Increase title font size\n",
        ")\n",
        "fig.show()"
      ],
      "metadata": {
        "colab": {
          "base_uri": "https://localhost:8080/",
          "height": 817
        },
        "id": "ncGsyLnbkk7U",
        "outputId": "5b62fda7-bf67-4011-c322-b782821735a9"
      },
      "execution_count": null,
      "outputs": [
        {
          "output_type": "display_data",
          "data": {
            "text/html": [
              "<html>\n",
              "<head><meta charset=\"utf-8\" /></head>\n",
              "<body>\n",
              "    <div>            <script src=\"https://cdnjs.cloudflare.com/ajax/libs/mathjax/2.7.5/MathJax.js?config=TeX-AMS-MML_SVG\"></script><script type=\"text/javascript\">if (window.MathJax && window.MathJax.Hub && window.MathJax.Hub.Config) {window.MathJax.Hub.Config({SVG: {font: \"STIX-Web\"}});}</script>                <script type=\"text/javascript\">window.PlotlyConfig = {MathJaxConfig: 'local'};</script>\n",
              "        <script charset=\"utf-8\" src=\"https://cdn.plot.ly/plotly-2.24.1.min.js\"></script>                <div id=\"b09a4813-a751-4141-ad7d-bb55b83f45ed\" class=\"plotly-graph-div\" style=\"height:800px; width:800px;\"></div>            <script type=\"text/javascript\">                                    window.PLOTLYENV=window.PLOTLYENV || {};                                    if (document.getElementById(\"b09a4813-a751-4141-ad7d-bb55b83f45ed\")) {                    Plotly.newPlot(                        \"b09a4813-a751-4141-ad7d-bb55b83f45ed\",                        [{\"coloraxis\":\"coloraxis\",\"name\":\"0\",\"texttemplate\":\"%{z:.3f}\",\"x\":[\"ANeck_x\",\"ANeck_y\",\"ANeck_z\",\"ABack_x\",\"ABack_y\",\"ABack_z\",\"GNeck_x\",\"GNeck_y\",\"GNeck_z\",\"GBack_x\",\"GBack_y\",\"GBack_z\"],\"y\":[\"ANeck_x\",\"ANeck_y\",\"ANeck_z\",\"ABack_x\",\"ABack_y\",\"ABack_z\",\"GNeck_x\",\"GNeck_y\",\"GNeck_z\",\"GBack_x\",\"GBack_y\",\"GBack_z\"],\"z\":[[1.0,-0.03686882297934369,0.04277014793267729,-0.01132412286327502,-0.03563781296367463,-0.02759143684458179,0.02956821326750275,-0.056330477080677926,0.09811404772100543,-0.01015765008901604,-0.0036865443280838833,-0.02602832709311908],[-0.03686882297934369,1.0,-0.14763311537961457,-0.00486000460430102,0.3825284896424588,-0.05819075586569722,0.0833785929365111,-0.005792645811972788,0.016161562280879536,0.02283301340602165,0.00718574717374149,-0.005981310316798779],[0.04277014793267729,-0.14763311537961457,1.0,-0.03341715266573761,-0.08292617479523687,0.20229114852628047,-0.03051159069179681,-0.0012702589211124034,-0.010983004271045402,-0.028161410554966806,0.004900253690469438,0.009423778712616937],[-0.01132412286327502,-0.00486000460430102,-0.03341715266573761,1.0,-0.022232171226109106,0.03826506039445528,-0.00886850093640295,-0.029108096330327647,-0.02647059473649752,-0.02857951350861493,-0.28288222902622145,-0.06440911867262408],[-0.03563781296367463,0.3825284896424588,-0.08292617479523687,-0.022232171226109106,1.0,0.0568665791791391,0.02626770457475423,0.0002556181365806065,-0.0041192337057823145,0.2773728886904527,0.006964097550267337,0.030455186989551224],[-0.02759143684458179,-0.05819075586569722,0.20229114852628047,0.03826506039445528,0.0568665791791391,1.0,0.0014811889937463042,-0.012910530972277913,-0.01425165896606324,-0.09305644151377646,-0.0837324011895663,-0.022478107124558527],[0.02956821326750275,0.0833785929365111,-0.03051159069179681,-0.00886850093640295,0.02626770457475423,0.0014811889937463042,1.0,0.024822870761962258,0.03547219601160726,-0.0379339538494935,-0.0075556319166327525,-0.08152550111130798],[-0.056330477080677926,-0.005792645811972788,-0.0012702589211124034,-0.029108096330327647,0.0002556181365806065,-0.012910530972277913,0.024822870761962258,1.0,0.07675085288245055,-0.0031512348562736893,0.09422972907740573,-0.018255189773716957],[0.09811404772100543,0.016161562280879536,-0.010983004271045402,-0.02647059473649752,-0.0041192337057823145,-0.01425165896606324,0.03547219601160726,0.07675085288245055,1.0,0.016556088339929696,0.003933089099851086,-0.20314851654051547],[-0.01015765008901604,0.02283301340602165,-0.028161410554966806,-0.02857951350861493,0.2773728886904527,-0.09305644151377646,-0.0379339538494935,-0.0031512348562736893,0.016556088339929696,1.0,0.04818168789624046,0.05542645428152186],[-0.0036865443280838833,0.00718574717374149,0.004900253690469438,-0.28288222902622145,0.006964097550267337,-0.0837324011895663,-0.0075556319166327525,0.09422972907740573,0.003933089099851086,0.04818168789624046,1.0,0.0018228403590153596],[-0.02602832709311908,-0.005981310316798779,0.009423778712616937,-0.06440911867262408,0.030455186989551224,-0.022478107124558527,-0.08152550111130798,-0.018255189773716957,-0.20314851654051547,0.05542645428152186,0.0018228403590153596,1.0]],\"type\":\"heatmap\",\"xaxis\":\"x\",\"yaxis\":\"y\",\"hovertemplate\":\"x: %{x}\\u003cbr\\u003ey: %{y}\\u003cbr\\u003ecolor: %{z}\\u003cextra\\u003e\\u003c\\u002fextra\\u003e\"}],                        {\"template\":{\"data\":{\"histogram2dcontour\":[{\"type\":\"histogram2dcontour\",\"colorbar\":{\"outlinewidth\":0,\"ticks\":\"\"},\"colorscale\":[[0.0,\"#0d0887\"],[0.1111111111111111,\"#46039f\"],[0.2222222222222222,\"#7201a8\"],[0.3333333333333333,\"#9c179e\"],[0.4444444444444444,\"#bd3786\"],[0.5555555555555556,\"#d8576b\"],[0.6666666666666666,\"#ed7953\"],[0.7777777777777778,\"#fb9f3a\"],[0.8888888888888888,\"#fdca26\"],[1.0,\"#f0f921\"]]}],\"choropleth\":[{\"type\":\"choropleth\",\"colorbar\":{\"outlinewidth\":0,\"ticks\":\"\"}}],\"histogram2d\":[{\"type\":\"histogram2d\",\"colorbar\":{\"outlinewidth\":0,\"ticks\":\"\"},\"colorscale\":[[0.0,\"#0d0887\"],[0.1111111111111111,\"#46039f\"],[0.2222222222222222,\"#7201a8\"],[0.3333333333333333,\"#9c179e\"],[0.4444444444444444,\"#bd3786\"],[0.5555555555555556,\"#d8576b\"],[0.6666666666666666,\"#ed7953\"],[0.7777777777777778,\"#fb9f3a\"],[0.8888888888888888,\"#fdca26\"],[1.0,\"#f0f921\"]]}],\"heatmap\":[{\"type\":\"heatmap\",\"colorbar\":{\"outlinewidth\":0,\"ticks\":\"\"},\"colorscale\":[[0.0,\"#0d0887\"],[0.1111111111111111,\"#46039f\"],[0.2222222222222222,\"#7201a8\"],[0.3333333333333333,\"#9c179e\"],[0.4444444444444444,\"#bd3786\"],[0.5555555555555556,\"#d8576b\"],[0.6666666666666666,\"#ed7953\"],[0.7777777777777778,\"#fb9f3a\"],[0.8888888888888888,\"#fdca26\"],[1.0,\"#f0f921\"]]}],\"heatmapgl\":[{\"type\":\"heatmapgl\",\"colorbar\":{\"outlinewidth\":0,\"ticks\":\"\"},\"colorscale\":[[0.0,\"#0d0887\"],[0.1111111111111111,\"#46039f\"],[0.2222222222222222,\"#7201a8\"],[0.3333333333333333,\"#9c179e\"],[0.4444444444444444,\"#bd3786\"],[0.5555555555555556,\"#d8576b\"],[0.6666666666666666,\"#ed7953\"],[0.7777777777777778,\"#fb9f3a\"],[0.8888888888888888,\"#fdca26\"],[1.0,\"#f0f921\"]]}],\"contourcarpet\":[{\"type\":\"contourcarpet\",\"colorbar\":{\"outlinewidth\":0,\"ticks\":\"\"}}],\"contour\":[{\"type\":\"contour\",\"colorbar\":{\"outlinewidth\":0,\"ticks\":\"\"},\"colorscale\":[[0.0,\"#0d0887\"],[0.1111111111111111,\"#46039f\"],[0.2222222222222222,\"#7201a8\"],[0.3333333333333333,\"#9c179e\"],[0.4444444444444444,\"#bd3786\"],[0.5555555555555556,\"#d8576b\"],[0.6666666666666666,\"#ed7953\"],[0.7777777777777778,\"#fb9f3a\"],[0.8888888888888888,\"#fdca26\"],[1.0,\"#f0f921\"]]}],\"surface\":[{\"type\":\"surface\",\"colorbar\":{\"outlinewidth\":0,\"ticks\":\"\"},\"colorscale\":[[0.0,\"#0d0887\"],[0.1111111111111111,\"#46039f\"],[0.2222222222222222,\"#7201a8\"],[0.3333333333333333,\"#9c179e\"],[0.4444444444444444,\"#bd3786\"],[0.5555555555555556,\"#d8576b\"],[0.6666666666666666,\"#ed7953\"],[0.7777777777777778,\"#fb9f3a\"],[0.8888888888888888,\"#fdca26\"],[1.0,\"#f0f921\"]]}],\"mesh3d\":[{\"type\":\"mesh3d\",\"colorbar\":{\"outlinewidth\":0,\"ticks\":\"\"}}],\"scatter\":[{\"fillpattern\":{\"fillmode\":\"overlay\",\"size\":10,\"solidity\":0.2},\"type\":\"scatter\"}],\"parcoords\":[{\"type\":\"parcoords\",\"line\":{\"colorbar\":{\"outlinewidth\":0,\"ticks\":\"\"}}}],\"scatterpolargl\":[{\"type\":\"scatterpolargl\",\"marker\":{\"colorbar\":{\"outlinewidth\":0,\"ticks\":\"\"}}}],\"bar\":[{\"error_x\":{\"color\":\"#2a3f5f\"},\"error_y\":{\"color\":\"#2a3f5f\"},\"marker\":{\"line\":{\"color\":\"white\",\"width\":0.5},\"pattern\":{\"fillmode\":\"overlay\",\"size\":10,\"solidity\":0.2}},\"type\":\"bar\"}],\"scattergeo\":[{\"type\":\"scattergeo\",\"marker\":{\"colorbar\":{\"outlinewidth\":0,\"ticks\":\"\"}}}],\"scatterpolar\":[{\"type\":\"scatterpolar\",\"marker\":{\"colorbar\":{\"outlinewidth\":0,\"ticks\":\"\"}}}],\"histogram\":[{\"marker\":{\"pattern\":{\"fillmode\":\"overlay\",\"size\":10,\"solidity\":0.2}},\"type\":\"histogram\"}],\"scattergl\":[{\"type\":\"scattergl\",\"marker\":{\"colorbar\":{\"outlinewidth\":0,\"ticks\":\"\"}}}],\"scatter3d\":[{\"type\":\"scatter3d\",\"line\":{\"colorbar\":{\"outlinewidth\":0,\"ticks\":\"\"}},\"marker\":{\"colorbar\":{\"outlinewidth\":0,\"ticks\":\"\"}}}],\"scattermapbox\":[{\"type\":\"scattermapbox\",\"marker\":{\"colorbar\":{\"outlinewidth\":0,\"ticks\":\"\"}}}],\"scatterternary\":[{\"type\":\"scatterternary\",\"marker\":{\"colorbar\":{\"outlinewidth\":0,\"ticks\":\"\"}}}],\"scattercarpet\":[{\"type\":\"scattercarpet\",\"marker\":{\"colorbar\":{\"outlinewidth\":0,\"ticks\":\"\"}}}],\"carpet\":[{\"aaxis\":{\"endlinecolor\":\"#2a3f5f\",\"gridcolor\":\"#C8D4E3\",\"linecolor\":\"#C8D4E3\",\"minorgridcolor\":\"#C8D4E3\",\"startlinecolor\":\"#2a3f5f\"},\"baxis\":{\"endlinecolor\":\"#2a3f5f\",\"gridcolor\":\"#C8D4E3\",\"linecolor\":\"#C8D4E3\",\"minorgridcolor\":\"#C8D4E3\",\"startlinecolor\":\"#2a3f5f\"},\"type\":\"carpet\"}],\"table\":[{\"cells\":{\"fill\":{\"color\":\"#EBF0F8\"},\"line\":{\"color\":\"white\"}},\"header\":{\"fill\":{\"color\":\"#C8D4E3\"},\"line\":{\"color\":\"white\"}},\"type\":\"table\"}],\"barpolar\":[{\"marker\":{\"line\":{\"color\":\"white\",\"width\":0.5},\"pattern\":{\"fillmode\":\"overlay\",\"size\":10,\"solidity\":0.2}},\"type\":\"barpolar\"}],\"pie\":[{\"automargin\":true,\"type\":\"pie\"}]},\"layout\":{\"autotypenumbers\":\"strict\",\"colorway\":[\"#636efa\",\"#EF553B\",\"#00cc96\",\"#ab63fa\",\"#FFA15A\",\"#19d3f3\",\"#FF6692\",\"#B6E880\",\"#FF97FF\",\"#FECB52\"],\"font\":{\"color\":\"#2a3f5f\"},\"hovermode\":\"closest\",\"hoverlabel\":{\"align\":\"left\"},\"paper_bgcolor\":\"white\",\"plot_bgcolor\":\"white\",\"polar\":{\"bgcolor\":\"white\",\"angularaxis\":{\"gridcolor\":\"#EBF0F8\",\"linecolor\":\"#EBF0F8\",\"ticks\":\"\"},\"radialaxis\":{\"gridcolor\":\"#EBF0F8\",\"linecolor\":\"#EBF0F8\",\"ticks\":\"\"}},\"ternary\":{\"bgcolor\":\"white\",\"aaxis\":{\"gridcolor\":\"#DFE8F3\",\"linecolor\":\"#A2B1C6\",\"ticks\":\"\"},\"baxis\":{\"gridcolor\":\"#DFE8F3\",\"linecolor\":\"#A2B1C6\",\"ticks\":\"\"},\"caxis\":{\"gridcolor\":\"#DFE8F3\",\"linecolor\":\"#A2B1C6\",\"ticks\":\"\"}},\"coloraxis\":{\"colorbar\":{\"outlinewidth\":0,\"ticks\":\"\"}},\"colorscale\":{\"sequential\":[[0.0,\"#0d0887\"],[0.1111111111111111,\"#46039f\"],[0.2222222222222222,\"#7201a8\"],[0.3333333333333333,\"#9c179e\"],[0.4444444444444444,\"#bd3786\"],[0.5555555555555556,\"#d8576b\"],[0.6666666666666666,\"#ed7953\"],[0.7777777777777778,\"#fb9f3a\"],[0.8888888888888888,\"#fdca26\"],[1.0,\"#f0f921\"]],\"sequentialminus\":[[0.0,\"#0d0887\"],[0.1111111111111111,\"#46039f\"],[0.2222222222222222,\"#7201a8\"],[0.3333333333333333,\"#9c179e\"],[0.4444444444444444,\"#bd3786\"],[0.5555555555555556,\"#d8576b\"],[0.6666666666666666,\"#ed7953\"],[0.7777777777777778,\"#fb9f3a\"],[0.8888888888888888,\"#fdca26\"],[1.0,\"#f0f921\"]],\"diverging\":[[0,\"#8e0152\"],[0.1,\"#c51b7d\"],[0.2,\"#de77ae\"],[0.3,\"#f1b6da\"],[0.4,\"#fde0ef\"],[0.5,\"#f7f7f7\"],[0.6,\"#e6f5d0\"],[0.7,\"#b8e186\"],[0.8,\"#7fbc41\"],[0.9,\"#4d9221\"],[1,\"#276419\"]]},\"xaxis\":{\"gridcolor\":\"#EBF0F8\",\"linecolor\":\"#EBF0F8\",\"ticks\":\"\",\"title\":{\"standoff\":15},\"zerolinecolor\":\"#EBF0F8\",\"automargin\":true,\"zerolinewidth\":2},\"yaxis\":{\"gridcolor\":\"#EBF0F8\",\"linecolor\":\"#EBF0F8\",\"ticks\":\"\",\"title\":{\"standoff\":15},\"zerolinecolor\":\"#EBF0F8\",\"automargin\":true,\"zerolinewidth\":2},\"scene\":{\"xaxis\":{\"backgroundcolor\":\"white\",\"gridcolor\":\"#DFE8F3\",\"linecolor\":\"#EBF0F8\",\"showbackground\":true,\"ticks\":\"\",\"zerolinecolor\":\"#EBF0F8\",\"gridwidth\":2},\"yaxis\":{\"backgroundcolor\":\"white\",\"gridcolor\":\"#DFE8F3\",\"linecolor\":\"#EBF0F8\",\"showbackground\":true,\"ticks\":\"\",\"zerolinecolor\":\"#EBF0F8\",\"gridwidth\":2},\"zaxis\":{\"backgroundcolor\":\"white\",\"gridcolor\":\"#DFE8F3\",\"linecolor\":\"#EBF0F8\",\"showbackground\":true,\"ticks\":\"\",\"zerolinecolor\":\"#EBF0F8\",\"gridwidth\":2}},\"shapedefaults\":{\"line\":{\"color\":\"#2a3f5f\"}},\"annotationdefaults\":{\"arrowcolor\":\"#2a3f5f\",\"arrowhead\":0,\"arrowwidth\":1},\"geo\":{\"bgcolor\":\"white\",\"landcolor\":\"white\",\"subunitcolor\":\"#C8D4E3\",\"showland\":true,\"showlakes\":true,\"lakecolor\":\"white\"},\"title\":{\"x\":0.05},\"mapbox\":{\"style\":\"light\"}}},\"xaxis\":{\"anchor\":\"y\",\"domain\":[0.0,1.0],\"scaleanchor\":\"y\",\"constrain\":\"domain\"},\"yaxis\":{\"anchor\":\"x\",\"domain\":[0.0,1.0],\"autorange\":\"reversed\",\"constrain\":\"domain\"},\"coloraxis\":{\"colorscale\":[[0.0,\"#440154\"],[0.1111111111111111,\"#482878\"],[0.2222222222222222,\"#3e4989\"],[0.3333333333333333,\"#31688e\"],[0.4444444444444444,\"#26828e\"],[0.5555555555555556,\"#1f9e89\"],[0.6666666666666666,\"#35b779\"],[0.7777777777777778,\"#6ece58\"],[0.8888888888888888,\"#b5de2b\"],[1.0,\"#fde725\"]]},\"title\":{\"text\":\"Correlation matrix for sensor data\",\"font\":{\"size\":25},\"x\":0.3},\"height\":800,\"width\":800},                        {\"responsive\": true}                    ).then(function(){\n",
              "                            \n",
              "var gd = document.getElementById('b09a4813-a751-4141-ad7d-bb55b83f45ed');\n",
              "var x = new MutationObserver(function (mutations, observer) {{\n",
              "        var display = window.getComputedStyle(gd).display;\n",
              "        if (!display || display === 'none') {{\n",
              "            console.log([gd, 'removed!']);\n",
              "            Plotly.purge(gd);\n",
              "            observer.disconnect();\n",
              "        }}\n",
              "}});\n",
              "\n",
              "// Listen for the removal of the full notebook cells\n",
              "var notebookContainer = gd.closest('#notebook-container');\n",
              "if (notebookContainer) {{\n",
              "    x.observe(notebookContainer, {childList: true});\n",
              "}}\n",
              "\n",
              "// Listen for the clearing of the current output cell\n",
              "var outputEl = gd.closest('.output');\n",
              "if (outputEl) {{\n",
              "    x.observe(outputEl, {childList: true});\n",
              "}}\n",
              "\n",
              "                        })                };                            </script>        </div>\n",
              "</body>\n",
              "</html>"
            ]
          },
          "metadata": {}
        }
      ]
    },
    {
      "cell_type": "markdown",
      "source": [
        "We noticed that there are not any notable linear correlations between the sensor data in x,y,z directions. However, some smaller correlations such as between ABack_y and ANeck_y are visible."
      ],
      "metadata": {
        "id": "hfGqRbySk1vY"
      }
    },
    {
      "cell_type": "markdown",
      "source": [
        "## 3.5 Time series data"
      ],
      "metadata": {
        "id": "OTyezFcglFtj"
      }
    },
    {
      "cell_type": "markdown",
      "source": [
        "### 3.5.1 Time Data for Diffferent Behaviors"
      ],
      "metadata": {
        "id": "1D2f4TYXZAaX"
      }
    },
    {
      "cell_type": "markdown",
      "source": [
        "Since we have a time-series dataset, we then plotted how acceleration magnitude changes over time for different behaviors. Here, we used an exemplary 2 seconds. By plotting acceleration over time, we can characterize the dynamic nature of each behavior. For example, we can see if a behavior is associated with smooth, consistent movement, or if it is erratic. Also, by understanding what typical acceleration profiles look like for certain behaviors, researchers can check if the sensor data aligns with expected movement patterns and validate sensor data if needed."
      ],
      "metadata": {
        "id": "cvk0lTZ8ZTAA"
      }
    },
    {
      "cell_type": "code",
      "source": [
        "fig = px.line(\n",
        "    get_time_plot_frame(exploded_df, 2, ['Standing', 'Shaking', 'Jumping'], ['ABack']),\n",
        "    x = 't_sec',\n",
        "    y = 'value',\n",
        "    color = 'variable',\n",
        "    title = \"Acceleration magnitude at back for three behaviors\",\n",
        "    labels={'value':\"Acceleration in [g]\", 't_sec': \"Time [s]\", 'variable': 'Behavior'},\n",
        "    color_discrete_sequence=color_sequence\n",
        ")\n",
        "fig.update_layout(\n",
        "    title_x=0.5,  # Center title\n",
        "    title_font=dict(size=25)  # Increase title font size\n",
        ")\n",
        "fig.show()"
      ],
      "metadata": {
        "colab": {
          "base_uri": "https://localhost:8080/",
          "height": 542
        },
        "id": "yiVR6vfzZBdB",
        "outputId": "cf978766-0a39-4bd5-e52e-1a5f7e6ee999"
      },
      "execution_count": null,
      "outputs": [
        {
          "output_type": "display_data",
          "data": {
            "text/html": [
              "<html>\n",
              "<head><meta charset=\"utf-8\" /></head>\n",
              "<body>\n",
              "    <div>            <script src=\"https://cdnjs.cloudflare.com/ajax/libs/mathjax/2.7.5/MathJax.js?config=TeX-AMS-MML_SVG\"></script><script type=\"text/javascript\">if (window.MathJax && window.MathJax.Hub && window.MathJax.Hub.Config) {window.MathJax.Hub.Config({SVG: {font: \"STIX-Web\"}});}</script>                <script type=\"text/javascript\">window.PlotlyConfig = {MathJaxConfig: 'local'};</script>\n",
              "        <script charset=\"utf-8\" src=\"https://cdn.plot.ly/plotly-2.24.1.min.js\"></script>                <div id=\"a06e8692-c235-49e0-88b6-e69760725310\" class=\"plotly-graph-div\" style=\"height:525px; width:100%;\"></div>            <script type=\"text/javascript\">                                    window.PLOTLYENV=window.PLOTLYENV || {};                                    if (document.getElementById(\"a06e8692-c235-49e0-88b6-e69760725310\")) {                    Plotly.newPlot(                        \"a06e8692-c235-49e0-88b6-e69760725310\",                        [{\"hovertemplate\":\"Behavior=Standing\\u003cbr\\u003eTime [s]=%{x}\\u003cbr\\u003eAcceleration in [g]=%{y}\\u003cextra\\u003e\\u003c\\u002fextra\\u003e\",\"legendgroup\":\"Standing\",\"line\":{\"color\":\"#3366CC\",\"dash\":\"solid\"},\"marker\":{\"symbol\":\"circle\"},\"mode\":\"lines\",\"name\":\"Standing\",\"orientation\":\"v\",\"showlegend\":true,\"x\":[0.0,0.01,0.02,0.03,0.04,0.05,0.06,0.07,0.08,0.09,0.1,0.11,0.12,0.13,0.14,0.15,0.16,0.17,0.18,0.19,0.2,0.21,0.22,0.23,0.24,0.25,0.26,0.27,0.28,0.29,0.3,0.31,0.32,0.33,0.34,0.35000000000000003,0.36,0.37,0.38,0.39,0.4,0.41000000000000003,0.42,0.43,0.44,0.45,0.46,0.47000000000000003,0.48,0.49,0.5,0.51,0.52,0.53,0.54,0.55,0.56,0.5700000000000001,0.58,0.59,0.6,0.61,0.62,0.63,0.64,0.65,0.66,0.67,0.68,0.6900000000000001,0.7000000000000001,0.71,0.72,0.73,0.74,0.75,0.76,0.77,0.78,0.79,0.8,0.81,0.8200000000000001,0.8300000000000001,0.84,0.85,0.86,0.87,0.88,0.89,0.9,0.91,0.92,0.93,0.9400000000000001,0.9500000000000001,0.96,0.97,0.98,0.99,1.0,1.01,1.02,1.03,1.04,1.05,1.06,1.07,1.08,1.09,1.1,1.11,1.12,1.1300000000000001,1.1400000000000001,1.1500000000000001,1.16,1.17,1.18,1.19,1.2,1.21,1.22,1.23,1.24,1.25,1.26,1.27,1.28,1.29,1.3,1.31,1.32,1.33,1.34,1.35,1.36,1.37,1.3800000000000001,1.3900000000000001,1.4000000000000001,1.41,1.42,1.43,1.44,1.45,1.46,1.47,1.48,1.49,1.5,1.51,1.52,1.53,1.54,1.55,1.56,1.57,1.58,1.59,1.6,1.61,1.62,1.6300000000000001,1.6400000000000001,1.6500000000000001,1.6600000000000001,1.67,1.68,1.69,1.7,1.71,1.72,1.73,1.74,1.75,1.76,1.77,1.78,1.79,1.8,1.81,1.82,1.83,1.84,1.85,1.86,1.87,1.8800000000000001,1.8900000000000001,1.9000000000000001,1.9100000000000001,1.92,1.93,1.94,1.95,1.96,1.97,1.98,1.99,2.0],\"xaxis\":\"x\",\"y\":[0.9245620443220671,0.9156580947886608,0.9177193258382434,0.9324380323914292,0.9431829175515214,0.9448048142388988,0.9496618660855031,0.956450758149629,0.9702793438314556,0.9786291495009741,0.9817917867908654,0.9892834009756759,0.9954958983893404,0.9845326153810244,1.0020373556215356,1.0167713489792087,1.0060399037558103,0.9843289779514774,0.9750533988377251,0.9795417431850467,0.9969352258667561,1.005759941126112,1.0016752306436454,0.9974300396243337,0.9813277266316285,0.9738599212150585,0.9627699472189605,0.9486137676552033,0.9463713989835069,0.9471139406665915,0.9565307513577387,0.9559821759243213,0.9683525261489226,0.9509697819752213,0.9210823020653475,0.9235378212612627,0.9477777548360165,0.9852681933575245,1.0101658118234849,1.016875213574409,0.9800449217408354,0.9468436723398431,0.9707756359205767,1.0305135124761828,1.0630388896714926,1.0463479968628984,1.0140635513615506,0.9986058105123362,0.9962315714857666,0.9984394092772981,0.9951295163691006,0.9493011474574335,0.910628362867641,0.9491405891737008,0.9887262193216076,1.010136293601017,1.024370306709932,1.020361737354944,1.0114047190754056,1.0000062416645208,0.9974642089924831,0.9966125169272159,1.0028426022547108,1.003006536635729,0.9903603235131141,0.9915213272179273,0.9889888320077229,0.9878097354840152,0.997909038702426,0.9965611193529477,0.9879414943254484,0.976708112620654,0.9724686010946575,0.9564050971659447,0.9549095801404445,0.957668136184973,0.963817160643034,0.97445130229581,0.9859152983755756,0.9876055930400556,0.9888924370835284,0.9901852915136642,0.9890013226770731,0.9970831725573349,0.9912884655179843,0.9981268976527984,1.0041130475768154,1.007468509994233,1.0050999033528956,1.0000979568952233,0.9873680222870296,0.969105876252435,0.9491320532281059,0.9445575037307151,0.9663803636105195,1.0046146391890773,1.001499959518222,0.9865325112417734,0.9778716190850413,0.9774260538685267,0.9784024969147411,0.9773326203872457,0.9746869471650885,0.9779371402252804,0.9904687345560182,0.9853169164578471,0.9755179669062995,0.9742736076410979,0.9708972534130478,0.9646661394124912,0.9670216345118655,0.9715881400027483,0.9822280777339853,0.9913960763060342,0.9985174434860915,1.0034168438560318,1.0054596407022014,1.0003825344007162,0.9909628022852321,0.9805766776769678,0.9748622609430524,0.970902397577635,0.9790943277524388,0.9841140192157614,0.9831728944748223,0.9840934753060808,0.9846733374099249,0.9831488738385453,0.9751762636616008,0.975152357433955,0.9750375803352402,0.9794211728214783,0.9846827748488343,0.9819921953472949,0.9770545758845819,0.9766971974450424,0.9806809683724876,0.9799589426200467,0.9897771827568062,0.9831431244030545,0.9747882514643885,0.9482383874796464,0.9770278512350608,0.9764401311381051,0.9747976525853969,0.9784182452637522,0.9847506878423593,1.0138982044342517,1.0375981622868269,1.038734957398662,1.021902192954394,0.9990630107480709,0.9941950573876336,0.996946216062331,0.9833983901984994,0.9582373158059543,0.9431513421386835,0.9597809546672615,0.9774412962710345,0.9696408159550628,0.9642181002797033,0.9741208023653944,0.9762876878174793,0.9761931006112469,0.974836692717811,0.9745002448219292,0.988270271083776,1.012558443069831,1.0356053413216832,1.0503458162481536,1.0458215412253662,1.0322517106239157,1.013656357916725,1.010510028077901,1.001655726742477,1.0013418021380112,0.9972495822786791,0.9825753002014654,0.9708687607364859,0.9470456154462676,0.9510393095829426,0.9473185365620161,0.9502390963625944,0.9587887418597488,0.9668933931778622,0.9696605607417474,0.9688399908823954,0.9707996650231189,0.9723818441126921,0.9758497202197682,0.983843211189161,0.9997183657595773,0.9885885086146814,0.990638302686707,0.9978866453069707,0.9891461176919213,0.9668524932077281,0.9718714484462438,0.991014435379223,1.0144795543854002,1.0031110342225331],\"yaxis\":\"y\",\"type\":\"scatter\"},{\"hovertemplate\":\"Behavior=Shaking\\u003cbr\\u003eTime [s]=%{x}\\u003cbr\\u003eAcceleration in [g]=%{y}\\u003cextra\\u003e\\u003c\\u002fextra\\u003e\",\"legendgroup\":\"Shaking\",\"line\":{\"color\":\"#DC3912\",\"dash\":\"solid\"},\"marker\":{\"symbol\":\"circle\"},\"mode\":\"lines\",\"name\":\"Shaking\",\"orientation\":\"v\",\"showlegend\":true,\"x\":[0.0,0.01,0.02,0.03,0.04,0.05,0.06,0.07,0.08,0.09,0.1,0.11,0.12,0.13,0.14,0.15,0.16,0.17,0.18,0.19,0.2,0.21,0.22,0.23,0.24,0.25,0.26,0.27,0.28,0.29,0.3,0.31,0.32,0.33,0.34,0.35000000000000003,0.36,0.37,0.38,0.39,0.4,0.41000000000000003,0.42,0.43,0.44,0.45,0.46,0.47000000000000003,0.48,0.49,0.5,0.51,0.52,0.53,0.54,0.55,0.56,0.5700000000000001,0.58,0.59,0.6,0.61,0.62,0.63,0.64,0.65,0.66,0.67,0.68,0.6900000000000001,0.7000000000000001,0.71,0.72,0.73,0.74,0.75,0.76,0.77,0.78,0.79,0.8,0.81,0.8200000000000001,0.8300000000000001,0.84,0.85,0.86,0.87,0.88,0.89,0.9,0.91,0.92,0.93,0.9400000000000001,0.9500000000000001,0.96,0.97,0.98,0.99,1.0,1.01,1.02,1.03,1.04,1.05,1.06,1.07,1.08,1.09,1.1,1.11,1.12,1.1300000000000001,1.1400000000000001,1.1500000000000001,1.16,1.17,1.18,1.19,1.2,1.21,1.22,1.23,1.24,1.25,1.26,1.27,1.28,1.29,1.3,1.31,1.32,1.33,1.34,1.35,1.36,1.37,1.3800000000000001,1.3900000000000001,1.4000000000000001,1.41,1.42,1.43,1.44,1.45,1.46,1.47,1.48,1.49,1.5,1.51,1.52,1.53,1.54,1.55,1.56,1.57,1.58,1.59,1.6,1.61,1.62,1.6300000000000001,1.6400000000000001,1.6500000000000001,1.6600000000000001,1.67,1.68,1.69,1.7,1.71,1.72,1.73,1.74,1.75,1.76,1.77,1.78,1.79,1.8,1.81,1.82,1.83,1.84,1.85,1.86,1.87,1.8800000000000001,1.8900000000000001,1.9000000000000001,1.9100000000000001,1.92,1.93,1.94,1.95,1.96,1.97,1.98,1.99,2.0],\"xaxis\":\"x\",\"y\":[1.1519764250821283,1.2659077924201272,1.3434938943467516,1.3382732518095846,1.2911443574658876,1.2185719565778625,1.19987190697174,1.1178137439153268,0.8604847018773779,0.6110298396068723,0.7060096731199935,0.9700859264817732,1.1730502686198063,1.263354905130779,1.3823560353986233,1.586075631814574,1.84915639724443,2.123911699323915,2.381118635568165,2.6543089821341446,2.9206730844142763,2.734838571828692,2.0820068470295667,1.4720559580885504,1.0546836603446552,1.0340236983323932,1.9554576879423908,2.7128136817855735,3.5816187848549714,4.582289537961781,4.746455925901135,4.168781099001841,3.492279101886045,2.824213464106777,2.5000785720532863,1.8258489674324105,1.1859883255344463,2.3087737713394527,2.676942827003969,3.5611328800072877,4.872695482344141,5.503129562075565,5.708946769786964,5.968176043769905,4.419029185421274,2.8481158508301587,2.101693812155091,1.5554813981546036,1.3976768572602896,1.9479607263558987,2.504006747200175,3.490281317987993,3.7026319959748903,4.2709780634605226,5.232438367915383,5.656272435105827,5.047481652753381,3.6911592048203503,2.5554025912558282,2.053318394869631,1.7875817186705059,1.964055226219721,3.6012767332780746,3.5655588371633975,4.666506691676441,5.75947267762093,6.050258229207329,6.154987392674822,6.3445396424747,4.4329196818016,3.100605239664347,2.652131688353917,2.457568455863641,1.9285147121660753,1.9846050109875768,3.6922671024893363,4.762819967546432,5.539865464997322,6.641311657417155,7.71037082328762,6.327693729761895,3.587611698090249,2.9349438009675755,3.287199627084732,2.675943491426155,4.501302742056015,4.872092813123022,5.147818828348469,6.797721142997924,8.903553831704563,8.82796170832373,5.867534163248733,4.167904608636215,3.89516055400814,3.0114748143501053,2.2204065944625997,3.8009903705156893,5.839406908605188,6.476316160939721,8.40534616684673,12.266300359077915,9.809770506605034,5.357406700299502,4.5812804751218845,3.8270197588847124,5.699924866414732,7.71263406399584,7.110277582070759,8.45301330747048,10.296083383092135,11.761522302509865,7.174251449808684,4.346512218532348,4.611541392614079,4.597430729967446,3.853090260915516,3.3771402158740758,7.202862131280384,7.278769298963802,6.848854968351862,9.367588469592482,11.42135924051888,7.8324329073402215,6.0569328599622105,5.52125024477491,3.8528388411052177,5.24868309782835,5.5256704376157835,6.225361524375673,7.077789866108913,10.319066530477697,12.846045026554476,8.78950778180974,5.956736246527456,5.710668671483314,4.077646277199262,4.587236456196039,4.502732547435834,8.231270265135509,7.830071935141529,8.77040267015654,13.695752519491764,12.27877586903373,7.4166401100593395,8.691275438037733,8.364853158706973,8.706648935989381,7.292543758361756,8.690393448873245,8.717869015529025,9.994866926778865,15.917547460550887,12.596308194941605,7.679553280990112,6.14704412911352,5.752574321074783,5.6321572698490945,7.264681788717107,6.469499796099,6.1689682413435225,9.731556841818117,13.945559550576698,14.863779773367002,10.568194560467695,9.064125224503465,7.81944115754227,7.197523251455739,6.98145994420329,7.794628612573341,6.617433894751802,9.641744725544749,15.932328122497948,16.584190939892995,9.20156222034976,7.205041614102586,4.961787445901931,4.6678019659502485,5.108984553079506,3.9449958615396543,5.2670401651369625,8.653333189842744,11.970117066325123,14.150276884874373,12.156458179537985,8.75113360977748,8.032794960886092,6.67896862052473,7.850633642550071,9.238108134317168,8.291324564649607,7.825330567527099,13.663839636407733,17.17267653290948,11.344570732253645,8.661076734999465,6.98140297616532,5.479267176936164,7.158442741810401,8.135723579379095,6.787126322351824,9.70164971856194],\"yaxis\":\"y\",\"type\":\"scatter\"},{\"hovertemplate\":\"Behavior=Jumping\\u003cbr\\u003eTime [s]=%{x}\\u003cbr\\u003eAcceleration in [g]=%{y}\\u003cextra\\u003e\\u003c\\u002fextra\\u003e\",\"legendgroup\":\"Jumping\",\"line\":{\"color\":\"#FF9900\",\"dash\":\"solid\"},\"marker\":{\"symbol\":\"circle\"},\"mode\":\"lines\",\"name\":\"Jumping\",\"orientation\":\"v\",\"showlegend\":true,\"x\":[0.0,0.01,0.02,0.03,0.04,0.05,0.06,0.07,0.08,0.09,0.1,0.11,0.12,0.13,0.14,0.15,0.16,0.17,0.18,0.19,0.2,0.21,0.22,0.23,0.24,0.25,0.26,0.27,0.28,0.29,0.3,0.31,0.32,0.33,0.34,0.35000000000000003,0.36,0.37,0.38,0.39,0.4,0.41000000000000003,0.42,0.43,0.44,0.45,0.46,0.47000000000000003,0.48,0.49,0.5,0.51,0.52,0.53,0.54,0.55,0.56,0.5700000000000001,0.58,0.59,0.6,0.61,0.62,0.63,0.64,0.65,0.66,0.67,0.68,0.6900000000000001,0.7000000000000001,0.71,0.72,0.73,0.74,0.75,0.76,0.77,0.78,0.79,0.8,0.81,0.8200000000000001,0.8300000000000001,0.84,0.85,0.86,0.87,0.88,0.89,0.9,0.91,0.92,0.93,0.9400000000000001,0.9500000000000001,0.96,0.97,0.98,0.99,1.0,1.01,1.02,1.03,1.04,1.05,1.06,1.07,1.08,1.09,1.1,1.11,1.12,1.1300000000000001,1.1400000000000001,1.1500000000000001,1.16,1.17,1.18,1.19,1.2,1.21,1.22,1.23,1.24,1.25,1.26,1.27,1.28,1.29,1.3,1.31,1.32,1.33,1.34,1.35,1.36,1.37,1.3800000000000001,1.3900000000000001,1.4000000000000001,1.41,1.42,1.43,1.44,1.45,1.46,1.47,1.48,1.49,1.5,1.51,1.52,1.53,1.54,1.55,1.56,1.57,1.58,1.59,1.6,1.61,1.62,1.6300000000000001,1.6400000000000001,1.6500000000000001,1.6600000000000001,1.67,1.68,1.69,1.7,1.71,1.72,1.73,1.74,1.75,1.76,1.77,1.78,1.79,1.8,1.81,1.82,1.83,1.84,1.85,1.86,1.87,1.8800000000000001,1.8900000000000001,1.9000000000000001,1.9100000000000001,1.92,1.93,1.94,1.95,1.96,1.97,1.98,1.99,2.0],\"xaxis\":\"x\",\"y\":[3.036159289374324,2.566919300360843,2.446388052675413,2.036932398794815,1.659987690156165,1.7802042233915185,1.803757766472261,2.340303190849639,1.408522140496911,1.336174129548241,2.2371206314515093,2.8245122963099307,2.9441553347180918,3.108308483581544,2.8965394895243533,2.757545773771126,2.7472996252467623,2.417033992286828,1.8669421557643395,1.5053804896520346,1.4360906653460288,1.3450341886011672,1.1855304728453842,1.0758374692271133,0.9005087479036503,0.6134378365360259,0.4017681952432273,0.18065401082732707,0.3855709595249621,1.0272294606849046,1.3134694526470723,1.3928814954280926,1.419344810304036,1.47182467131211,1.5147203650717185,1.6308369721002158,1.6606363896633123,1.656193107670117,1.687803914645004,1.7240694495770752,1.7730172321883957,1.6431783265653184,1.4379856535789919,1.2643397491928345,1.0149828842074136,0.7265758712543378,0.7532802039068861,0.7817043468588364,0.6498623010769281,0.3921371407887807,0.38696356561955547,0.4801957280057789,0.31741307334134805,0.7921534471887376,1.543012281160134,1.3637176366671364,0.7827004516575929,0.729475312325921,1.3153543661215408,1.6351100121447486,1.5330826640925141,1.2255079707957839,0.9743622277833845,0.9003569496399747,0.9032635468820824,0.8712334084813323,0.9709755269356689,1.0955921268003892,1.1096353021394012,1.0142914093794742,0.878587985101663,0.8631811178761963,0.83232674977439,0.6881885580013664,0.509412546231441,0.48242080435445567,0.4689561983490569,0.359347910027316,0.5133156575879991,0.699553563366666,0.8034870273420723,0.932046123607625,1.1645163246017636,1.3922824352540688,1.6426076963283107,1.8817756955038505,2.1005824428834017,2.2775347006774673,2.312130119879502,2.288265512216185,2.0697596877178763,2.0445637497864917,2.0251968128626414,1.801987810650505,1.3591597666017783,1.4257558261539738,1.250687627255503,1.1229546577288863,1.1635245296842693,1.0159012556828542,1.0846659164318753,1.2021917089719925,1.4395953026746788,1.6168353970698441,1.744556098252504,1.728630968234111,1.6657838494945856,1.535279918678024,1.3461786819311916,1.1487963900526499,0.9780984544482216,0.8527172066259716,0.8041428949900633,0.7488529287470271,0.6698573453228679,0.6157440564658339,0.5542737821952253,0.5709168387015748,0.6238852067656357,0.7435947216575707,0.7825311474241776,0.8707054209398263,0.9786727650537742,1.0864830458856687,1.2153084194610848,1.2890411844770517,1.2364208967155965,1.2117876280871167,1.2245523098932931,1.2472363750107676,1.284616730769921,1.3785646639973042,1.4629190896242348,1.5931141837100062,1.657667394092675,1.606838659475493,1.486691598825728,1.332618198006466,1.176738149984949,1.0581226708628824,0.8866956936362103,0.7351199473698153,0.6195895509076957,0.5345678019615473,0.4720571066693096,0.31992904179208237,0.31235750303458376,0.7514056830088524,1.4618168708665256,1.8967327416378408,1.893680352239786,1.6487094517000258,1.3744278614296206,0.9809687858540658,0.7429523537764721,0.7872382381528479,0.7003503922908876,0.4913953878192183,0.6510027102816086,0.7753645473614331,0.9887850003034026,1.1138457609135117,1.0345546725296833,0.9970572545210229,0.9390981207254118,0.9427831985509711,1.1773394346746398,1.4041958516449904,1.5519064815210355,1.4796327046513942,1.450937810357839,1.3930926958996663,1.3216222219999179,1.323247125602017,1.3768114571737846,1.4924765240126894,1.4499157215224614,1.2591053612446417,1.1448012386667825,1.1997857717280198,1.1685002302661305,1.0793895625227252,0.9304984191356801,0.8692976266641937,0.8894729123981235,0.9274990975596688,0.9660587313077814,0.9940716888167572,0.9862186201436272,0.8040445305939217,0.7548289049923831,0.8768502102491621,1.0725628196548675,1.3932354033927647,1.6273871969623577,1.7259011530105077,1.5943351775109902,1.4147823571447307,1.0053083744931204,0.7360189958486126,0.7878379866101913],\"yaxis\":\"y\",\"type\":\"scatter\"}],                        {\"template\":{\"data\":{\"histogram2dcontour\":[{\"type\":\"histogram2dcontour\",\"colorbar\":{\"outlinewidth\":0,\"ticks\":\"\"},\"colorscale\":[[0.0,\"#0d0887\"],[0.1111111111111111,\"#46039f\"],[0.2222222222222222,\"#7201a8\"],[0.3333333333333333,\"#9c179e\"],[0.4444444444444444,\"#bd3786\"],[0.5555555555555556,\"#d8576b\"],[0.6666666666666666,\"#ed7953\"],[0.7777777777777778,\"#fb9f3a\"],[0.8888888888888888,\"#fdca26\"],[1.0,\"#f0f921\"]]}],\"choropleth\":[{\"type\":\"choropleth\",\"colorbar\":{\"outlinewidth\":0,\"ticks\":\"\"}}],\"histogram2d\":[{\"type\":\"histogram2d\",\"colorbar\":{\"outlinewidth\":0,\"ticks\":\"\"},\"colorscale\":[[0.0,\"#0d0887\"],[0.1111111111111111,\"#46039f\"],[0.2222222222222222,\"#7201a8\"],[0.3333333333333333,\"#9c179e\"],[0.4444444444444444,\"#bd3786\"],[0.5555555555555556,\"#d8576b\"],[0.6666666666666666,\"#ed7953\"],[0.7777777777777778,\"#fb9f3a\"],[0.8888888888888888,\"#fdca26\"],[1.0,\"#f0f921\"]]}],\"heatmap\":[{\"type\":\"heatmap\",\"colorbar\":{\"outlinewidth\":0,\"ticks\":\"\"},\"colorscale\":[[0.0,\"#0d0887\"],[0.1111111111111111,\"#46039f\"],[0.2222222222222222,\"#7201a8\"],[0.3333333333333333,\"#9c179e\"],[0.4444444444444444,\"#bd3786\"],[0.5555555555555556,\"#d8576b\"],[0.6666666666666666,\"#ed7953\"],[0.7777777777777778,\"#fb9f3a\"],[0.8888888888888888,\"#fdca26\"],[1.0,\"#f0f921\"]]}],\"heatmapgl\":[{\"type\":\"heatmapgl\",\"colorbar\":{\"outlinewidth\":0,\"ticks\":\"\"},\"colorscale\":[[0.0,\"#0d0887\"],[0.1111111111111111,\"#46039f\"],[0.2222222222222222,\"#7201a8\"],[0.3333333333333333,\"#9c179e\"],[0.4444444444444444,\"#bd3786\"],[0.5555555555555556,\"#d8576b\"],[0.6666666666666666,\"#ed7953\"],[0.7777777777777778,\"#fb9f3a\"],[0.8888888888888888,\"#fdca26\"],[1.0,\"#f0f921\"]]}],\"contourcarpet\":[{\"type\":\"contourcarpet\",\"colorbar\":{\"outlinewidth\":0,\"ticks\":\"\"}}],\"contour\":[{\"type\":\"contour\",\"colorbar\":{\"outlinewidth\":0,\"ticks\":\"\"},\"colorscale\":[[0.0,\"#0d0887\"],[0.1111111111111111,\"#46039f\"],[0.2222222222222222,\"#7201a8\"],[0.3333333333333333,\"#9c179e\"],[0.4444444444444444,\"#bd3786\"],[0.5555555555555556,\"#d8576b\"],[0.6666666666666666,\"#ed7953\"],[0.7777777777777778,\"#fb9f3a\"],[0.8888888888888888,\"#fdca26\"],[1.0,\"#f0f921\"]]}],\"surface\":[{\"type\":\"surface\",\"colorbar\":{\"outlinewidth\":0,\"ticks\":\"\"},\"colorscale\":[[0.0,\"#0d0887\"],[0.1111111111111111,\"#46039f\"],[0.2222222222222222,\"#7201a8\"],[0.3333333333333333,\"#9c179e\"],[0.4444444444444444,\"#bd3786\"],[0.5555555555555556,\"#d8576b\"],[0.6666666666666666,\"#ed7953\"],[0.7777777777777778,\"#fb9f3a\"],[0.8888888888888888,\"#fdca26\"],[1.0,\"#f0f921\"]]}],\"mesh3d\":[{\"type\":\"mesh3d\",\"colorbar\":{\"outlinewidth\":0,\"ticks\":\"\"}}],\"scatter\":[{\"fillpattern\":{\"fillmode\":\"overlay\",\"size\":10,\"solidity\":0.2},\"type\":\"scatter\"}],\"parcoords\":[{\"type\":\"parcoords\",\"line\":{\"colorbar\":{\"outlinewidth\":0,\"ticks\":\"\"}}}],\"scatterpolargl\":[{\"type\":\"scatterpolargl\",\"marker\":{\"colorbar\":{\"outlinewidth\":0,\"ticks\":\"\"}}}],\"bar\":[{\"error_x\":{\"color\":\"#2a3f5f\"},\"error_y\":{\"color\":\"#2a3f5f\"},\"marker\":{\"line\":{\"color\":\"white\",\"width\":0.5},\"pattern\":{\"fillmode\":\"overlay\",\"size\":10,\"solidity\":0.2}},\"type\":\"bar\"}],\"scattergeo\":[{\"type\":\"scattergeo\",\"marker\":{\"colorbar\":{\"outlinewidth\":0,\"ticks\":\"\"}}}],\"scatterpolar\":[{\"type\":\"scatterpolar\",\"marker\":{\"colorbar\":{\"outlinewidth\":0,\"ticks\":\"\"}}}],\"histogram\":[{\"marker\":{\"pattern\":{\"fillmode\":\"overlay\",\"size\":10,\"solidity\":0.2}},\"type\":\"histogram\"}],\"scattergl\":[{\"type\":\"scattergl\",\"marker\":{\"colorbar\":{\"outlinewidth\":0,\"ticks\":\"\"}}}],\"scatter3d\":[{\"type\":\"scatter3d\",\"line\":{\"colorbar\":{\"outlinewidth\":0,\"ticks\":\"\"}},\"marker\":{\"colorbar\":{\"outlinewidth\":0,\"ticks\":\"\"}}}],\"scattermapbox\":[{\"type\":\"scattermapbox\",\"marker\":{\"colorbar\":{\"outlinewidth\":0,\"ticks\":\"\"}}}],\"scatterternary\":[{\"type\":\"scatterternary\",\"marker\":{\"colorbar\":{\"outlinewidth\":0,\"ticks\":\"\"}}}],\"scattercarpet\":[{\"type\":\"scattercarpet\",\"marker\":{\"colorbar\":{\"outlinewidth\":0,\"ticks\":\"\"}}}],\"carpet\":[{\"aaxis\":{\"endlinecolor\":\"#2a3f5f\",\"gridcolor\":\"#C8D4E3\",\"linecolor\":\"#C8D4E3\",\"minorgridcolor\":\"#C8D4E3\",\"startlinecolor\":\"#2a3f5f\"},\"baxis\":{\"endlinecolor\":\"#2a3f5f\",\"gridcolor\":\"#C8D4E3\",\"linecolor\":\"#C8D4E3\",\"minorgridcolor\":\"#C8D4E3\",\"startlinecolor\":\"#2a3f5f\"},\"type\":\"carpet\"}],\"table\":[{\"cells\":{\"fill\":{\"color\":\"#EBF0F8\"},\"line\":{\"color\":\"white\"}},\"header\":{\"fill\":{\"color\":\"#C8D4E3\"},\"line\":{\"color\":\"white\"}},\"type\":\"table\"}],\"barpolar\":[{\"marker\":{\"line\":{\"color\":\"white\",\"width\":0.5},\"pattern\":{\"fillmode\":\"overlay\",\"size\":10,\"solidity\":0.2}},\"type\":\"barpolar\"}],\"pie\":[{\"automargin\":true,\"type\":\"pie\"}]},\"layout\":{\"autotypenumbers\":\"strict\",\"colorway\":[\"#636efa\",\"#EF553B\",\"#00cc96\",\"#ab63fa\",\"#FFA15A\",\"#19d3f3\",\"#FF6692\",\"#B6E880\",\"#FF97FF\",\"#FECB52\"],\"font\":{\"color\":\"#2a3f5f\"},\"hovermode\":\"closest\",\"hoverlabel\":{\"align\":\"left\"},\"paper_bgcolor\":\"white\",\"plot_bgcolor\":\"white\",\"polar\":{\"bgcolor\":\"white\",\"angularaxis\":{\"gridcolor\":\"#EBF0F8\",\"linecolor\":\"#EBF0F8\",\"ticks\":\"\"},\"radialaxis\":{\"gridcolor\":\"#EBF0F8\",\"linecolor\":\"#EBF0F8\",\"ticks\":\"\"}},\"ternary\":{\"bgcolor\":\"white\",\"aaxis\":{\"gridcolor\":\"#DFE8F3\",\"linecolor\":\"#A2B1C6\",\"ticks\":\"\"},\"baxis\":{\"gridcolor\":\"#DFE8F3\",\"linecolor\":\"#A2B1C6\",\"ticks\":\"\"},\"caxis\":{\"gridcolor\":\"#DFE8F3\",\"linecolor\":\"#A2B1C6\",\"ticks\":\"\"}},\"coloraxis\":{\"colorbar\":{\"outlinewidth\":0,\"ticks\":\"\"}},\"colorscale\":{\"sequential\":[[0.0,\"#0d0887\"],[0.1111111111111111,\"#46039f\"],[0.2222222222222222,\"#7201a8\"],[0.3333333333333333,\"#9c179e\"],[0.4444444444444444,\"#bd3786\"],[0.5555555555555556,\"#d8576b\"],[0.6666666666666666,\"#ed7953\"],[0.7777777777777778,\"#fb9f3a\"],[0.8888888888888888,\"#fdca26\"],[1.0,\"#f0f921\"]],\"sequentialminus\":[[0.0,\"#0d0887\"],[0.1111111111111111,\"#46039f\"],[0.2222222222222222,\"#7201a8\"],[0.3333333333333333,\"#9c179e\"],[0.4444444444444444,\"#bd3786\"],[0.5555555555555556,\"#d8576b\"],[0.6666666666666666,\"#ed7953\"],[0.7777777777777778,\"#fb9f3a\"],[0.8888888888888888,\"#fdca26\"],[1.0,\"#f0f921\"]],\"diverging\":[[0,\"#8e0152\"],[0.1,\"#c51b7d\"],[0.2,\"#de77ae\"],[0.3,\"#f1b6da\"],[0.4,\"#fde0ef\"],[0.5,\"#f7f7f7\"],[0.6,\"#e6f5d0\"],[0.7,\"#b8e186\"],[0.8,\"#7fbc41\"],[0.9,\"#4d9221\"],[1,\"#276419\"]]},\"xaxis\":{\"gridcolor\":\"#EBF0F8\",\"linecolor\":\"#EBF0F8\",\"ticks\":\"\",\"title\":{\"standoff\":15},\"zerolinecolor\":\"#EBF0F8\",\"automargin\":true,\"zerolinewidth\":2},\"yaxis\":{\"gridcolor\":\"#EBF0F8\",\"linecolor\":\"#EBF0F8\",\"ticks\":\"\",\"title\":{\"standoff\":15},\"zerolinecolor\":\"#EBF0F8\",\"automargin\":true,\"zerolinewidth\":2},\"scene\":{\"xaxis\":{\"backgroundcolor\":\"white\",\"gridcolor\":\"#DFE8F3\",\"linecolor\":\"#EBF0F8\",\"showbackground\":true,\"ticks\":\"\",\"zerolinecolor\":\"#EBF0F8\",\"gridwidth\":2},\"yaxis\":{\"backgroundcolor\":\"white\",\"gridcolor\":\"#DFE8F3\",\"linecolor\":\"#EBF0F8\",\"showbackground\":true,\"ticks\":\"\",\"zerolinecolor\":\"#EBF0F8\",\"gridwidth\":2},\"zaxis\":{\"backgroundcolor\":\"white\",\"gridcolor\":\"#DFE8F3\",\"linecolor\":\"#EBF0F8\",\"showbackground\":true,\"ticks\":\"\",\"zerolinecolor\":\"#EBF0F8\",\"gridwidth\":2}},\"shapedefaults\":{\"line\":{\"color\":\"#2a3f5f\"}},\"annotationdefaults\":{\"arrowcolor\":\"#2a3f5f\",\"arrowhead\":0,\"arrowwidth\":1},\"geo\":{\"bgcolor\":\"white\",\"landcolor\":\"white\",\"subunitcolor\":\"#C8D4E3\",\"showland\":true,\"showlakes\":true,\"lakecolor\":\"white\"},\"title\":{\"x\":0.05},\"mapbox\":{\"style\":\"light\"}}},\"xaxis\":{\"anchor\":\"y\",\"domain\":[0.0,1.0],\"title\":{\"text\":\"Time [s]\"}},\"yaxis\":{\"anchor\":\"x\",\"domain\":[0.0,1.0],\"title\":{\"text\":\"Acceleration in [g]\"}},\"legend\":{\"title\":{\"text\":\"Behavior\"},\"tracegroupgap\":0},\"title\":{\"text\":\"Acceleration magnitude at back for three behaviors\",\"font\":{\"size\":25},\"x\":0.5}},                        {\"responsive\": true}                    ).then(function(){\n",
              "                            \n",
              "var gd = document.getElementById('a06e8692-c235-49e0-88b6-e69760725310');\n",
              "var x = new MutationObserver(function (mutations, observer) {{\n",
              "        var display = window.getComputedStyle(gd).display;\n",
              "        if (!display || display === 'none') {{\n",
              "            console.log([gd, 'removed!']);\n",
              "            Plotly.purge(gd);\n",
              "            observer.disconnect();\n",
              "        }}\n",
              "}});\n",
              "\n",
              "// Listen for the removal of the full notebook cells\n",
              "var notebookContainer = gd.closest('#notebook-container');\n",
              "if (notebookContainer) {{\n",
              "    x.observe(notebookContainer, {childList: true});\n",
              "}}\n",
              "\n",
              "// Listen for the clearing of the current output cell\n",
              "var outputEl = gd.closest('.output');\n",
              "if (outputEl) {{\n",
              "    x.observe(outputEl, {childList: true});\n",
              "}}\n",
              "\n",
              "                        })                };                            </script>        </div>\n",
              "</body>\n",
              "</html>"
            ]
          },
          "metadata": {}
        }
      ]
    },
    {
      "cell_type": "markdown",
      "source": [
        "Takeaways:\n",
        "* The 'Shaking' behavior shows very high peaks in acceleration and even gets larger in magnitude over time.\n",
        "* The 'Jumping' behavior shows a periodic pattern, with regular peaks that likely correspond to the dog's take-off and landing phases."
      ],
      "metadata": {
        "id": "WjzkNOouZTaB"
      }
    },
    {
      "cell_type": "markdown",
      "source": [
        "### 3.5.2 Time Data for Different Sensor Data"
      ],
      "metadata": {
        "id": "jWRp8RNIUtFr"
      }
    },
    {
      "cell_type": "markdown",
      "source": [
        "Then, we visualized the acceleration in all three axes (x, y, and z) for the 'Shaking' behavior. We plotted the detected acceleration from two sensors (one on the back and the other one on the neck) repectively to see how the movement is distributed across the dog's body. This can inform the best placement of sensors for accurate data collection."
      ],
      "metadata": {
        "id": "uVDqd_zFa43a"
      }
    },
    {
      "cell_type": "code",
      "source": [
        "fig = px.line(\n",
        "    get_time_plot_frame(exploded_df, 2, ['Shaking'], ['ABack_x', 'ABack_y', 'ABack_z', 'ANeck_x', 'ANeck_y', 'ANeck_z']),\n",
        "    x = 't_sec',\n",
        "    y = 'value',\n",
        "    color = 'variable',\n",
        "    title = \"Acceleration at back in all directions for 'Shaking'\",\n",
        "    labels={'value':\"Acceleration in [g]\", 't_sec': \"Time [s]\", 'variable':'Sensor'},\n",
        "    color_discrete_sequence=color_sequence\n",
        ")\n",
        "fig.update_traces(visible='legendonly', selector=dict(name=\"ANeck_x\"))\n",
        "fig.update_traces(visible='legendonly', selector=dict(name=\"ANeck_y\"))\n",
        "fig.update_traces(visible='legendonly', selector=dict(name=\"ANeck_z\"))\n",
        "\n",
        "fig.show()"
      ],
      "metadata": {
        "colab": {
          "base_uri": "https://localhost:8080/",
          "height": 542
        },
        "id": "zItZJZ-sasj5",
        "outputId": "205e4323-02f9-42fb-8fff-10b60ed6f599"
      },
      "execution_count": null,
      "outputs": [
        {
          "output_type": "display_data",
          "data": {
            "text/html": [
              "<html>\n",
              "<head><meta charset=\"utf-8\" /></head>\n",
              "<body>\n",
              "    <div>            <script src=\"https://cdnjs.cloudflare.com/ajax/libs/mathjax/2.7.5/MathJax.js?config=TeX-AMS-MML_SVG\"></script><script type=\"text/javascript\">if (window.MathJax && window.MathJax.Hub && window.MathJax.Hub.Config) {window.MathJax.Hub.Config({SVG: {font: \"STIX-Web\"}});}</script>                <script type=\"text/javascript\">window.PlotlyConfig = {MathJaxConfig: 'local'};</script>\n",
              "        <script charset=\"utf-8\" src=\"https://cdn.plot.ly/plotly-2.24.1.min.js\"></script>                <div id=\"b96ded76-4723-4839-a54d-3f2c2611d56b\" class=\"plotly-graph-div\" style=\"height:525px; width:100%;\"></div>            <script type=\"text/javascript\">                                    window.PLOTLYENV=window.PLOTLYENV || {};                                    if (document.getElementById(\"b96ded76-4723-4839-a54d-3f2c2611d56b\")) {                    Plotly.newPlot(                        \"b96ded76-4723-4839-a54d-3f2c2611d56b\",                        [{\"hovertemplate\":\"Sensor=ABack_x\\u003cbr\\u003eTime [s]=%{x}\\u003cbr\\u003eAcceleration in [g]=%{y}\\u003cextra\\u003e\\u003c\\u002fextra\\u003e\",\"legendgroup\":\"ABack_x\",\"line\":{\"color\":\"#3366CC\",\"dash\":\"solid\"},\"marker\":{\"symbol\":\"circle\"},\"mode\":\"lines\",\"name\":\"ABack_x\",\"showlegend\":true,\"x\":[0.0,0.01,0.02,0.03,0.04,0.05,0.06,0.07,0.08,0.09,0.1,0.11,0.12,0.13,0.14,0.15,0.16,0.17,0.18,0.19,0.2,0.21,0.22,0.23,0.24,0.25,0.26,0.27,0.28,0.29,0.3,0.31,0.32,0.33,0.34,0.35000000000000003,0.36,0.37,0.38,0.39,0.4,0.41000000000000003,0.42,0.43,0.44,0.45,0.46,0.47000000000000003,0.48,0.49,0.5,0.51,0.52,0.53,0.54,0.55,0.56,0.5700000000000001,0.58,0.59,0.6,0.61,0.62,0.63,0.64,0.65,0.66,0.67,0.68,0.6900000000000001,0.7000000000000001,0.71,0.72,0.73,0.74,0.75,0.76,0.77,0.78,0.79,0.8,0.81,0.8200000000000001,0.8300000000000001,0.84,0.85,0.86,0.87,0.88,0.89,0.9,0.91,0.92,0.93,0.9400000000000001,0.9500000000000001,0.96,0.97,0.98,0.99,1.0,1.01,1.02,1.03,1.04,1.05,1.06,1.07,1.08,1.09,1.1,1.11,1.12,1.1300000000000001,1.1400000000000001,1.1500000000000001,1.16,1.17,1.18,1.19,1.2,1.21,1.22,1.23,1.24,1.25,1.26,1.27,1.28,1.29,1.3,1.31,1.32,1.33,1.34,1.35,1.36,1.37,1.3800000000000001,1.3900000000000001,1.4000000000000001,1.41,1.42,1.43,1.44,1.45,1.46,1.47,1.48,1.49,1.5,1.51,1.52,1.53,1.54,1.55,1.56,1.57,1.58,1.59,1.6,1.61,1.62,1.6300000000000001,1.6400000000000001,1.6500000000000001,1.6600000000000001,1.67,1.68,1.69,1.7,1.71,1.72,1.73,1.74,1.75,1.76,1.77,1.78,1.79,1.8,1.81,1.82,1.83,1.84,1.85,1.86,1.87,1.8800000000000001,1.8900000000000001,1.9000000000000001,1.9100000000000001,1.92,1.93,1.94,1.95,1.96,1.97,1.98,1.99,2.0],\"xaxis\":\"x\",\"y\":[-0.282227,-0.34375,-0.390137,-0.408203,-0.323242,-0.196777,-0.118164,-0.057129,0.038574,0.202148,0.414551,0.671875,0.846191,1.009277,1.216797,1.45459,1.69043,1.936035,2.186523,2.491211,2.851074,2.699219,2.047363,1.361328,0.665039,-0.330566,-1.590332,-2.563477,-3.541504,-4.570313,-4.736816,-4.150879,-3.446289,-2.693848,-2.225098,-1.396484,-0.402832,0.783691,1.913086,3.24707,4.861328,5.436523,5.65918,5.914063,4.38623,2.806641,1.776367,1.017578,0.32373,-0.20459,-1.361328,-2.712402,-3.384766,-4.135742,-5.172852,-5.473633,-4.962891,-3.519531,-2.260254,-1.445801,-0.924805,-0.191406,2.07666,2.84668,4.17627,5.650391,5.963379,6.122559,6.29541,4.301758,2.817383,1.974609,1.335938,0.05957,-0.906738,-2.408203,-3.980469,-5.309082,-6.269531,-7.375,-6.083008,-3.297852,-2.038574,-1.780273,-0.755859,1.913574,3.728516,4.386719,6.650879,8.825684,8.759766,5.696289,3.362305,2.558594,2.048828,0.32959,-1.245117,-2.657715,-4.673828,-7.589355,-11.432129,-9.209473,-4.255371,-2.722656,-2.099121,0.381836,3.628418,5.402832,7.64502,10.199219,11.364258,6.931641,3.980957,4.0,3.455566,1.747559,0.188965,-1.60498,-4.109375,-5.797363,-7.874512,-10.511719,-7.582031,-4.574219,-2.931641,-0.872559,1.624512,3.434082,4.52002,6.223633,10.09082,12.402344,8.412109,5.648438,4.542969,2.428223,0.573242,-1.099609,-3.378418,-5.265625,-7.209473,-12.10791,-10.96582,-6.643066,-5.089355,-2.286133,3.90332,4.557129,6.154785,7.21875,9.248047,15.838379,12.367188,7.192871,4.71582,3.045898,1.869141,-1.245605,-2.30957,-2.226563,-4.259766,-10.61377,-13.327637,-9.589355,-7.52832,-2.977051,2.005371,3.487305,4.925781,5.092285,7.577148,15.071289,15.999512,8.87207,6.456055,2.688965,-0.794922,-1.612305,-0.95752,-0.84375,-2.560547,-7.74707,-12.501465,-11.055176,-7.94043,-4.83252,1.333496,2.557617,4.367676,5.54834,6.909668,11.466309,15.999512,10.682129,7.574707,3.650391,1.785645,0.104004,-2.687988,-2.183594,-3.682129],\"yaxis\":\"y\",\"type\":\"scattergl\"},{\"hovertemplate\":\"Sensor=ABack_y\\u003cbr\\u003eTime [s]=%{x}\\u003cbr\\u003eAcceleration in [g]=%{y}\\u003cextra\\u003e\\u003c\\u002fextra\\u003e\",\"legendgroup\":\"ABack_y\",\"line\":{\"color\":\"#DC3912\",\"dash\":\"solid\"},\"marker\":{\"symbol\":\"circle\"},\"mode\":\"lines\",\"name\":\"ABack_y\",\"showlegend\":true,\"x\":[0.0,0.01,0.02,0.03,0.04,0.05,0.06,0.07,0.08,0.09,0.1,0.11,0.12,0.13,0.14,0.15,0.16,0.17,0.18,0.19,0.2,0.21,0.22,0.23,0.24,0.25,0.26,0.27,0.28,0.29,0.3,0.31,0.32,0.33,0.34,0.35000000000000003,0.36,0.37,0.38,0.39,0.4,0.41000000000000003,0.42,0.43,0.44,0.45,0.46,0.47000000000000003,0.48,0.49,0.5,0.51,0.52,0.53,0.54,0.55,0.56,0.5700000000000001,0.58,0.59,0.6,0.61,0.62,0.63,0.64,0.65,0.66,0.67,0.68,0.6900000000000001,0.7000000000000001,0.71,0.72,0.73,0.74,0.75,0.76,0.77,0.78,0.79,0.8,0.81,0.8200000000000001,0.8300000000000001,0.84,0.85,0.86,0.87,0.88,0.89,0.9,0.91,0.92,0.93,0.9400000000000001,0.9500000000000001,0.96,0.97,0.98,0.99,1.0,1.01,1.02,1.03,1.04,1.05,1.06,1.07,1.08,1.09,1.1,1.11,1.12,1.1300000000000001,1.1400000000000001,1.1500000000000001,1.16,1.17,1.18,1.19,1.2,1.21,1.22,1.23,1.24,1.25,1.26,1.27,1.28,1.29,1.3,1.31,1.32,1.33,1.34,1.35,1.36,1.37,1.3800000000000001,1.3900000000000001,1.4000000000000001,1.41,1.42,1.43,1.44,1.45,1.46,1.47,1.48,1.49,1.5,1.51,1.52,1.53,1.54,1.55,1.56,1.57,1.58,1.59,1.6,1.61,1.62,1.6300000000000001,1.6400000000000001,1.6500000000000001,1.6600000000000001,1.67,1.68,1.69,1.7,1.71,1.72,1.73,1.74,1.75,1.76,1.77,1.78,1.79,1.8,1.81,1.82,1.83,1.84,1.85,1.86,1.87,1.8800000000000001,1.8900000000000001,1.9000000000000001,1.9100000000000001,1.92,1.93,1.94,1.95,1.96,1.97,1.98,1.99,2.0],\"xaxis\":\"x\",\"y\":[0.40332,0.640137,0.750977,0.75293,0.669434,0.44873,0.18457,0.068359,0.020508,-0.105469,-0.185547,-0.266602,-0.343262,-0.317383,-0.141113,0.06543,0.287109,0.46582,0.569336,0.614746,0.504395,0.429199,0.32959,0.374512,0.415039,0.253906,-0.017578,-0.143555,-0.030273,-0.290039,-0.285645,-0.384277,-0.561035,-0.498047,-0.183594,-0.047363,0.090332,0.374512,0.430664,0.16748,0.228027,0.59375,0.511719,0.510742,0.320801,0.468262,0.627441,0.793945,0.816895,1.148438,0.871094,0.541016,0.120605,-0.114746,-0.73584,-1.36084,-0.910645,-0.71582,-0.549316,-0.331055,-0.302734,-0.539063,-0.043945,-0.199707,-0.01416,0.471191,0.873535,0.327148,0.723633,0.927246,0.673828,0.789063,0.881836,0.697754,0.027832,-0.791504,-0.765137,-0.870605,-2.19043,-2.211914,-1.181152,-0.227539,0.462891,0.618164,0.02002,-0.156738,-0.374023,-0.418457,-0.239258,-0.394043,-0.175293,1.352051,1.474121,1.242676,0.611816,0.092773,-0.53125,-1.567871,-1.347168,-2.268066,-4.234375,-2.639648,-0.135742,0.900391,0.980957,-0.653809,-0.747559,-0.612305,0.499512,0.32666,1.110352,1.102051,0.689941,1.395508,0.690918,0.412109,-1.23584,-2.312988,-2.108887,-2.316895,-4.217773,-3.994141,-0.53418,1.487305,2.004395,1.079102,0.109863,-1.071289,-1.119141,-1.006836,-1.004883,0.311523,0.859863,1.099609,1.118652,0.611328,0.821289,-0.347656,-1.240234,-1.630371,-2.895508,-4.902344,-4.769531,-1.547852,0.475098,0.650879,0.820801,-0.246094,-0.328613,-0.19873,-1.45166,-0.918457,1.970703,1.50293,2.87793,2.143066,0.387207,-0.841797,-1.492676,-2.19873,-3.80127,-5.818359,-6.297852,-1.855957,-0.190918,0.708008,0.336914,0.249023,-0.519531,-1.341797,-2.160645,-2.853027,2.425293,2.215332,2.637695,2.274414,0.241699,-0.409668,-0.475586,-2.442871,-4.226563,-5.420898,-6.485352,-3.961426,0.572266,0.455566,0.384277,-0.570313,-0.910156,-1.287109,-1.132813,-2.995605,4.24707,2.798828,1.996582,2.25,0.068359,-0.619141,-1.553711,-2.544922,-4.510254],\"yaxis\":\"y\",\"type\":\"scattergl\"},{\"hovertemplate\":\"Sensor=ABack_z\\u003cbr\\u003eTime [s]=%{x}\\u003cbr\\u003eAcceleration in [g]=%{y}\\u003cextra\\u003e\\u003c\\u002fextra\\u003e\",\"legendgroup\":\"ABack_z\",\"line\":{\"color\":\"#FF9900\",\"dash\":\"solid\"},\"marker\":{\"symbol\":\"circle\"},\"mode\":\"lines\",\"name\":\"ABack_z\",\"showlegend\":true,\"x\":[0.0,0.01,0.02,0.03,0.04,0.05,0.06,0.07,0.08,0.09,0.1,0.11,0.12,0.13,0.14,0.15,0.16,0.17,0.18,0.19,0.2,0.21,0.22,0.23,0.24,0.25,0.26,0.27,0.28,0.29,0.3,0.31,0.32,0.33,0.34,0.35000000000000003,0.36,0.37,0.38,0.39,0.4,0.41000000000000003,0.42,0.43,0.44,0.45,0.46,0.47000000000000003,0.48,0.49,0.5,0.51,0.52,0.53,0.54,0.55,0.56,0.5700000000000001,0.58,0.59,0.6,0.61,0.62,0.63,0.64,0.65,0.66,0.67,0.68,0.6900000000000001,0.7000000000000001,0.71,0.72,0.73,0.74,0.75,0.76,0.77,0.78,0.79,0.8,0.81,0.8200000000000001,0.8300000000000001,0.84,0.85,0.86,0.87,0.88,0.89,0.9,0.91,0.92,0.93,0.9400000000000001,0.9500000000000001,0.96,0.97,0.98,0.99,1.0,1.01,1.02,1.03,1.04,1.05,1.06,1.07,1.08,1.09,1.1,1.11,1.12,1.1300000000000001,1.1400000000000001,1.1500000000000001,1.16,1.17,1.18,1.19,1.2,1.21,1.22,1.23,1.24,1.25,1.26,1.27,1.28,1.29,1.3,1.31,1.32,1.33,1.34,1.35,1.36,1.37,1.3800000000000001,1.3900000000000001,1.4000000000000001,1.41,1.42,1.43,1.44,1.45,1.46,1.47,1.48,1.49,1.5,1.51,1.52,1.53,1.54,1.55,1.56,1.57,1.58,1.59,1.6,1.61,1.62,1.6300000000000001,1.6400000000000001,1.6500000000000001,1.6600000000000001,1.67,1.68,1.69,1.7,1.71,1.72,1.73,1.74,1.75,1.76,1.77,1.78,1.79,1.8,1.81,1.82,1.83,1.84,1.85,1.86,1.87,1.8800000000000001,1.8900000000000001,1.9000000000000001,1.9100000000000001,1.92,1.93,1.94,1.95,1.96,1.97,1.98,1.99,2.0],\"xaxis\":\"x\",\"y\":[1.041504,1.036621,1.043457,1.02832,1.055664,1.115723,1.179688,1.114258,0.859375,0.566895,0.540527,0.646973,0.736328,0.69043,0.640625,0.628906,0.692383,0.73877,0.751465,0.679199,0.383789,0.09668,-0.185547,-0.416504,-0.705566,-0.946289,-1.137695,-0.875977,-0.533691,-0.159668,-0.099121,0.035645,-0.065918,-0.686523,-1.125,-1.175293,-1.111816,-2.13916,-1.822266,-1.452637,-0.242188,0.613281,0.55127,0.618164,0.431152,-0.123535,-0.931641,-0.868164,-1.086914,-1.560059,-1.912598,-2.128906,-1.496094,-1.060059,0.280273,0.425293,-0.132324,-0.851563,-1.058105,-1.419922,-1.499512,-1.878906,-2.941895,-2.137695,-2.082031,-1.01123,0.529785,0.539551,0.312012,-0.534668,-1.105469,-1.584961,-1.864746,-1.796875,-1.765137,-2.68457,-2.500977,-1.321289,-0.044922,-0.408203,-1.28125,-1.394043,-2.060059,-2.693359,-2.566895,-4.071289,-3.11377,-2.661133,-1.384766,1.106934,1.081055,-0.390137,-1.973145,-2.661133,-2.120605,-2.193848,-3.551758,-4.95752,-4.275879,-2.812012,-1.355957,-2.109375,-3.251953,-3.572754,-3.045898,-5.649414,-6.764648,-4.581543,-3.571777,-1.370605,2.820313,-1.48584,-1.602539,-1.821777,-2.952637,-3.40918,-3.137207,-6.629883,-5.625488,-2.815918,-2.820313,-1.999512,-1.890625,-3.681152,-4.227539,-3.594238,-4.989746,-4.194336,-4.131836,-3.216797,-1.910156,3.33252,-2.398438,-1.539063,-3.274414,-3.218262,-4.476563,-4.352539,-7.402832,-5.561035,-4.069336,-4.115723,-2.787598,-2.912109,-7.029297,-8.02002,-7.739258,-5.687988,-6.126465,-4.883789,-3.501953,-1.29248,1.35498,-2.231445,-2.695313,-4.384277,-5.298828,-7.107422,-5.855957,-5.316406,-7.880859,-6.92627,-1.908691,-4.035645,-5.044434,-7.195801,-6.904297,-6.042969,-6.018555,-4.007324,-5.557129,-4.307617,3.628906,-1.023438,-1.80957,-3.495117,-4.593262,-4.830566,-3.797363,-4.589355,-7.103516,-7.340332,-1.372559,-3.141602,-3.633789,-6.400391,-6.533203,-7.400391,-8.089355,-6.025391,-3.494141,-6.800781,4.569336,-2.599609,-3.694824,-5.509277,-5.179688,-7.130859,-7.52002,-5.900879,-7.760254],\"yaxis\":\"y\",\"type\":\"scattergl\"},{\"hovertemplate\":\"Sensor=ANeck_x\\u003cbr\\u003eTime [s]=%{x}\\u003cbr\\u003eAcceleration in [g]=%{y}\\u003cextra\\u003e\\u003c\\u002fextra\\u003e\",\"legendgroup\":\"ANeck_x\",\"line\":{\"color\":\"#109618\",\"dash\":\"solid\"},\"marker\":{\"symbol\":\"circle\"},\"mode\":\"lines\",\"name\":\"ANeck_x\",\"showlegend\":true,\"x\":[0.0,0.01,0.02,0.03,0.04,0.05,0.06,0.07,0.08,0.09,0.1,0.11,0.12,0.13,0.14,0.15,0.16,0.17,0.18,0.19,0.2,0.21,0.22,0.23,0.24,0.25,0.26,0.27,0.28,0.29,0.3,0.31,0.32,0.33,0.34,0.35000000000000003,0.36,0.37,0.38,0.39,0.4,0.41000000000000003,0.42,0.43,0.44,0.45,0.46,0.47000000000000003,0.48,0.49,0.5,0.51,0.52,0.53,0.54,0.55,0.56,0.5700000000000001,0.58,0.59,0.6,0.61,0.62,0.63,0.64,0.65,0.66,0.67,0.68,0.6900000000000001,0.7000000000000001,0.71,0.72,0.73,0.74,0.75,0.76,0.77,0.78,0.79,0.8,0.81,0.8200000000000001,0.8300000000000001,0.84,0.85,0.86,0.87,0.88,0.89,0.9,0.91,0.92,0.93,0.9400000000000001,0.9500000000000001,0.96,0.97,0.98,0.99,1.0,1.01,1.02,1.03,1.04,1.05,1.06,1.07,1.08,1.09,1.1,1.11,1.12,1.1300000000000001,1.1400000000000001,1.1500000000000001,1.16,1.17,1.18,1.19,1.2,1.21,1.22,1.23,1.24,1.25,1.26,1.27,1.28,1.29,1.3,1.31,1.32,1.33,1.34,1.35,1.36,1.37,1.3800000000000001,1.3900000000000001,1.4000000000000001,1.41,1.42,1.43,1.44,1.45,1.46,1.47,1.48,1.49,1.5,1.51,1.52,1.53,1.54,1.55,1.56,1.57,1.58,1.59,1.6,1.61,1.62,1.6300000000000001,1.6400000000000001,1.6500000000000001,1.6600000000000001,1.67,1.68,1.69,1.7,1.71,1.72,1.73,1.74,1.75,1.76,1.77,1.78,1.79,1.8,1.81,1.82,1.83,1.84,1.85,1.86,1.87,1.8800000000000001,1.8900000000000001,1.9000000000000001,1.9100000000000001,1.92,1.93,1.94,1.95,1.96,1.97,1.98,1.99,2.0],\"xaxis\":\"x\",\"y\":[-1.151855,-1.225098,-1.257813,-1.123535,-0.742676,0.104492,1.058594,1.618164,1.857422,2.393555,3.108398,3.459961,3.407227,2.564941,1.427734,0.286621,-0.530273,-1.438965,-2.936035,-3.959473,-3.264648,-3.048828,-2.882813,-1.969238,-1.844727,-1.48584,-1.537598,-0.916992,-0.024902,2.152344,4.096191,3.91748,2.23291,4.096191,4.063965,3.283203,2.389648,2.182617,1.912109,1.360352,0.879395,-0.511719,-1.90625,-2.818359,-3.568848,-2.822754,-2.953125,-2.322754,-1.692383,0.411621,-1.103027,-0.75293,-0.173828,0.820801,3.161621,3.820313,2.605957,3.652344,4.009277,3.428711,2.681641,2.859375,2.824219,2.999023,1.754395,-0.389648,-3.98877,-4.992676,-4.875488,-3.967773,-1.79834,-0.888672,1.46582,-1.206543,-0.41748,0.333496,1.505371,4.944824,3.325195,3.006348,3.800293,4.472656,3.708008,4.479492,4.902832,3.810547,1.183594,-2.972168,-6.044922,-5.041504,-5.734375,-3.363281,-0.687988,1.461914,-0.855957,-1.435547,0.183105,3.895508,6.710938,5.192871,6.754395,5.006836,3.12793,4.453613,5.353027,4.698242,1.383301,-2.260254,-6.940918,-4.802246,-7.599609,-3.109863,-1.336426,-0.087891,-2.310059,-1.157227,0.541016,2.37793,7.069824,6.057617,4.835449,4.364746,3.588379,3.484863,5.314453,6.427734,4.95459,-0.968262,-4.403809,-6.789063,-5.269043,-5.354492,-1.733398,-0.057129,-3.40332,-1.816406,-2.103027,-1.212891,4.406738,9.946777,8.003906,6.334961,3.807617,2.460938,3.767578,4.714844,6.389648,3.349609,-1.694824,-8.427246,-4.001465,-7.709473,-4.978516,-2.239258,-1.53125,0.024414,-0.020508,-0.350098,0.673828,9.10498,6.659668,8.016113,6.55127,3.717773,3.820313,4.827148,6.118164,4.056152,-0.937988,-7.771973,-5.378418,-8.00293,-4.465332,-0.935059,-2.057617,-2.341309,-0.608887,0.214355,3.07373,7.354492,5.392578,8.895508,7.378906,4.067871,4.529297,6.38623,8.810059,5.046387,-2.791016,-7.192871,-4.243164,-9.356445,-3.391602,-2.694824,-2.227539,-1.157227,-0.994629,1.04541,9.513184,7.195313,5.989258],\"yaxis\":\"y\",\"type\":\"scattergl\",\"visible\":\"legendonly\"},{\"hovertemplate\":\"Sensor=ANeck_y\\u003cbr\\u003eTime [s]=%{x}\\u003cbr\\u003eAcceleration in [g]=%{y}\\u003cextra\\u003e\\u003c\\u002fextra\\u003e\",\"legendgroup\":\"ANeck_y\",\"line\":{\"color\":\"#990099\",\"dash\":\"solid\"},\"marker\":{\"symbol\":\"circle\"},\"mode\":\"lines\",\"name\":\"ANeck_y\",\"showlegend\":true,\"x\":[0.0,0.01,0.02,0.03,0.04,0.05,0.06,0.07,0.08,0.09,0.1,0.11,0.12,0.13,0.14,0.15,0.16,0.17,0.18,0.19,0.2,0.21,0.22,0.23,0.24,0.25,0.26,0.27,0.28,0.29,0.3,0.31,0.32,0.33,0.34,0.35000000000000003,0.36,0.37,0.38,0.39,0.4,0.41000000000000003,0.42,0.43,0.44,0.45,0.46,0.47000000000000003,0.48,0.49,0.5,0.51,0.52,0.53,0.54,0.55,0.56,0.5700000000000001,0.58,0.59,0.6,0.61,0.62,0.63,0.64,0.65,0.66,0.67,0.68,0.6900000000000001,0.7000000000000001,0.71,0.72,0.73,0.74,0.75,0.76,0.77,0.78,0.79,0.8,0.81,0.8200000000000001,0.8300000000000001,0.84,0.85,0.86,0.87,0.88,0.89,0.9,0.91,0.92,0.93,0.9400000000000001,0.9500000000000001,0.96,0.97,0.98,0.99,1.0,1.01,1.02,1.03,1.04,1.05,1.06,1.07,1.08,1.09,1.1,1.11,1.12,1.1300000000000001,1.1400000000000001,1.1500000000000001,1.16,1.17,1.18,1.19,1.2,1.21,1.22,1.23,1.24,1.25,1.26,1.27,1.28,1.29,1.3,1.31,1.32,1.33,1.34,1.35,1.36,1.37,1.3800000000000001,1.3900000000000001,1.4000000000000001,1.41,1.42,1.43,1.44,1.45,1.46,1.47,1.48,1.49,1.5,1.51,1.52,1.53,1.54,1.55,1.56,1.57,1.58,1.59,1.6,1.61,1.62,1.6300000000000001,1.6400000000000001,1.6500000000000001,1.6600000000000001,1.67,1.68,1.69,1.7,1.71,1.72,1.73,1.74,1.75,1.76,1.77,1.78,1.79,1.8,1.81,1.82,1.83,1.84,1.85,1.86,1.87,1.8800000000000001,1.8900000000000001,1.9000000000000001,1.9100000000000001,1.92,1.93,1.94,1.95,1.96,1.97,1.98,1.99,2.0],\"xaxis\":\"x\",\"y\":[-0.233398,-0.217773,-0.169922,-0.217285,-0.369141,-0.57373,-0.952148,-1.340332,-1.084961,-0.568359,-0.007324,0.530273,0.891602,1.038086,0.837402,0.263184,-0.113281,-0.144531,-0.653809,-2.106934,-1.959961,-2.217285,-1.49707,-0.076172,1.579102,1.996094,1.64209,0.750488,0.174805,0.638184,0.936035,-1.608887,-4.299805,-1.567383,-0.712891,0.774902,0.214844,-0.40918,-0.168457,0.075195,0.794922,0.821289,0.246094,-0.772949,-1.474121,-1.590332,-1.603027,0.070801,1.263184,0.49707,0.344238,0.999023,0.86084,0.464355,0.288574,-2.642578,-3.458008,-1.896484,-0.956055,0.896484,0.709961,0.148926,0.188965,0.904297,1.35791,0.935059,0.280273,-1.248047,-3.227539,-2.351074,-0.031738,1.241699,1.920898,0.010254,0.708008,0.479004,-0.212891,-1.321289,-4.404785,-1.864258,0.209961,1.033691,0.474609,0.203125,0.527832,0.94873,1.209473,0.588379,0.168457,-2.271484,-3.755371,-1.133789,1.044434,1.220215,0.234863,0.855957,1.249023,1.759766,-0.010254,-6.500977,-2.347168,1.010254,0.212891,0.264648,0.529785,0.906738,1.149902,0.382324,0.573242,0.714844,-5.968262,-1.700195,0.628418,0.140625,0.371582,1.191895,0.851563,0.958496,1.441895,-1.098145,-4.668945,0.539063,-0.353027,-0.246582,0.140137,0.64502,0.857422,1.077148,-0.654297,1.683105,-0.779297,-6.08252,-1.003906,0.899902,0.640137,1.65918,1.110352,0.816895,2.350586,0.484375,-9.428711,2.445313,0.513184,-0.67041,-0.71875,-0.040527,1.057129,1.455078,2.030273,0.445801,1.483887,-7.291504,-2.732422,-0.22168,-0.888184,-0.408203,1.844727,0.921387,1.527344,2.142578,-0.435547,-4.166992,0.205566,-0.664063,-0.358887,-0.539551,0.36377,0.632324,0.633301,-0.649414,1.1875,-6.187988,-2.714355,0.373535,-0.606445,0.982422,1.246582,0.914551,1.240723,1.807129,-2.371582,-2.964844,1.203125,-0.402344,-0.312988,-0.363281,0.456055,1.311523,0.140137,1.755859,-1.267578,-7.184082,-0.988281,0.350586,0.975098,0.20752,0.95166,1.919922,2.112793,0.406738,-12.062012],\"yaxis\":\"y\",\"type\":\"scattergl\",\"visible\":\"legendonly\"},{\"hovertemplate\":\"Sensor=ANeck_z\\u003cbr\\u003eTime [s]=%{x}\\u003cbr\\u003eAcceleration in [g]=%{y}\\u003cextra\\u003e\\u003c\\u002fextra\\u003e\",\"legendgroup\":\"ANeck_z\",\"line\":{\"color\":\"#0099C6\",\"dash\":\"solid\"},\"marker\":{\"symbol\":\"circle\"},\"mode\":\"lines\",\"name\":\"ANeck_z\",\"showlegend\":true,\"x\":[0.0,0.01,0.02,0.03,0.04,0.05,0.06,0.07,0.08,0.09,0.1,0.11,0.12,0.13,0.14,0.15,0.16,0.17,0.18,0.19,0.2,0.21,0.22,0.23,0.24,0.25,0.26,0.27,0.28,0.29,0.3,0.31,0.32,0.33,0.34,0.35000000000000003,0.36,0.37,0.38,0.39,0.4,0.41000000000000003,0.42,0.43,0.44,0.45,0.46,0.47000000000000003,0.48,0.49,0.5,0.51,0.52,0.53,0.54,0.55,0.56,0.5700000000000001,0.58,0.59,0.6,0.61,0.62,0.63,0.64,0.65,0.66,0.67,0.68,0.6900000000000001,0.7000000000000001,0.71,0.72,0.73,0.74,0.75,0.76,0.77,0.78,0.79,0.8,0.81,0.8200000000000001,0.8300000000000001,0.84,0.85,0.86,0.87,0.88,0.89,0.9,0.91,0.92,0.93,0.9400000000000001,0.9500000000000001,0.96,0.97,0.98,0.99,1.0,1.01,1.02,1.03,1.04,1.05,1.06,1.07,1.08,1.09,1.1,1.11,1.12,1.1300000000000001,1.1400000000000001,1.1500000000000001,1.16,1.17,1.18,1.19,1.2,1.21,1.22,1.23,1.24,1.25,1.26,1.27,1.28,1.29,1.3,1.31,1.32,1.33,1.34,1.35,1.36,1.37,1.3800000000000001,1.3900000000000001,1.4000000000000001,1.41,1.42,1.43,1.44,1.45,1.46,1.47,1.48,1.49,1.5,1.51,1.52,1.53,1.54,1.55,1.56,1.57,1.58,1.59,1.6,1.61,1.62,1.6300000000000001,1.6400000000000001,1.6500000000000001,1.6600000000000001,1.67,1.68,1.69,1.7,1.71,1.72,1.73,1.74,1.75,1.76,1.77,1.78,1.79,1.8,1.81,1.82,1.83,1.84,1.85,1.86,1.87,1.8800000000000001,1.8900000000000001,1.9000000000000001,1.9100000000000001,1.92,1.93,1.94,1.95,1.96,1.97,1.98,1.99,2.0],\"xaxis\":\"x\",\"y\":[-1.584961,-1.299805,-1.273926,-1.355469,-1.535645,-1.506836,-1.351074,-0.706055,-0.236328,-0.14209,-0.460938,-1.287109,-2.565918,-4.024902,-5.427734,-5.692383,-4.956055,-4.040527,-3.783691,-2.455078,-3.126953,-2.547852,-2.584961,-2.028809,-4.402344,-6.964355,-7.426758,-5.832031,-5.275879,-7.473633,-7.996582,0.893555,2.647461,0.333008,1.768555,0.205078,-1.984375,-2.865723,-3.794434,-4.445801,-5.842773,-5.574707,-4.373535,-2.689453,-3.787109,-3.339355,-2.422363,-1.69873,-3.345215,-5.558594,-4.166016,-4.404785,-3.88916,-4.390137,-7.121094,-2.129395,0.370605,0.050781,1.38623,0.311523,-1.200684,-2.553223,-4.291016,-6.299805,-7.450684,-6.625488,-5.341797,-5.741699,-3.742188,-2.605469,-2.141113,-4.296875,-5.741211,-3.642578,-3.632813,-3.563477,-4.757324,-7.546875,-0.889648,0.327148,2.180176,-0.021484,-1.244629,-3.152832,-5.076172,-7.216797,-7.977051,-7.140137,-10.605469,-6.686035,-2.739258,-2.035645,-4.344238,-10.266602,-6.539063,-5.595215,-5.921875,-11.51416,-9.570801,3.395996,5.14502,-1.330566,-2.990234,-4.384766,-5.913574,-8.129395,-8.88623,-6.602539,-11.333984,-13.697266,-0.370117,-0.846191,-5.930176,-5.052734,-6.168945,-7.143066,-8.235352,-8.978027,-13.352051,-4.22168,9.779785,1.23877,-1.917969,-3.481934,-3.422363,-6.300781,-9.341309,-5.395508,-6.442383,-13.774902,-10.94873,1.219238,-3.585449,-8.018066,-7.266113,-8.623047,-8.920898,-9.895996,-16.0,-15.825684,2.027344,6.212891,-0.115723,-3.656738,-4.005371,-4.716309,-7.507324,-10.172363,-9.314941,-7.008789,-16.0,1.13623,-0.991211,-5.507324,-10.876953,-7.875977,-11.121582,-8.195313,-12.353027,-16.0,-1.830566,10.628418,0.009277,-3.786133,-5.505859,-3.500488,-7.469238,-9.416992,-9.719238,-4.64502,-16.0,-1.759277,-0.007324,-3.47168,-9.577148,-7.023438,-9.15918,-9.362793,-11.245117,-16.0,-3.854004,9.359375,-0.265625,-5.508789,-6.125488,-4.918457,-9.94043,-13.515625,-7.757813,-16.0,-11.783691,2.458008,-1.955078,-8.087891,-8.945801,-9.841797,-10.197754,-10.696289,-16.0,-9.624512,13.154785],\"yaxis\":\"y\",\"type\":\"scattergl\",\"visible\":\"legendonly\"}],                        {\"template\":{\"data\":{\"histogram2dcontour\":[{\"type\":\"histogram2dcontour\",\"colorbar\":{\"outlinewidth\":0,\"ticks\":\"\"},\"colorscale\":[[0.0,\"#0d0887\"],[0.1111111111111111,\"#46039f\"],[0.2222222222222222,\"#7201a8\"],[0.3333333333333333,\"#9c179e\"],[0.4444444444444444,\"#bd3786\"],[0.5555555555555556,\"#d8576b\"],[0.6666666666666666,\"#ed7953\"],[0.7777777777777778,\"#fb9f3a\"],[0.8888888888888888,\"#fdca26\"],[1.0,\"#f0f921\"]]}],\"choropleth\":[{\"type\":\"choropleth\",\"colorbar\":{\"outlinewidth\":0,\"ticks\":\"\"}}],\"histogram2d\":[{\"type\":\"histogram2d\",\"colorbar\":{\"outlinewidth\":0,\"ticks\":\"\"},\"colorscale\":[[0.0,\"#0d0887\"],[0.1111111111111111,\"#46039f\"],[0.2222222222222222,\"#7201a8\"],[0.3333333333333333,\"#9c179e\"],[0.4444444444444444,\"#bd3786\"],[0.5555555555555556,\"#d8576b\"],[0.6666666666666666,\"#ed7953\"],[0.7777777777777778,\"#fb9f3a\"],[0.8888888888888888,\"#fdca26\"],[1.0,\"#f0f921\"]]}],\"heatmap\":[{\"type\":\"heatmap\",\"colorbar\":{\"outlinewidth\":0,\"ticks\":\"\"},\"colorscale\":[[0.0,\"#0d0887\"],[0.1111111111111111,\"#46039f\"],[0.2222222222222222,\"#7201a8\"],[0.3333333333333333,\"#9c179e\"],[0.4444444444444444,\"#bd3786\"],[0.5555555555555556,\"#d8576b\"],[0.6666666666666666,\"#ed7953\"],[0.7777777777777778,\"#fb9f3a\"],[0.8888888888888888,\"#fdca26\"],[1.0,\"#f0f921\"]]}],\"heatmapgl\":[{\"type\":\"heatmapgl\",\"colorbar\":{\"outlinewidth\":0,\"ticks\":\"\"},\"colorscale\":[[0.0,\"#0d0887\"],[0.1111111111111111,\"#46039f\"],[0.2222222222222222,\"#7201a8\"],[0.3333333333333333,\"#9c179e\"],[0.4444444444444444,\"#bd3786\"],[0.5555555555555556,\"#d8576b\"],[0.6666666666666666,\"#ed7953\"],[0.7777777777777778,\"#fb9f3a\"],[0.8888888888888888,\"#fdca26\"],[1.0,\"#f0f921\"]]}],\"contourcarpet\":[{\"type\":\"contourcarpet\",\"colorbar\":{\"outlinewidth\":0,\"ticks\":\"\"}}],\"contour\":[{\"type\":\"contour\",\"colorbar\":{\"outlinewidth\":0,\"ticks\":\"\"},\"colorscale\":[[0.0,\"#0d0887\"],[0.1111111111111111,\"#46039f\"],[0.2222222222222222,\"#7201a8\"],[0.3333333333333333,\"#9c179e\"],[0.4444444444444444,\"#bd3786\"],[0.5555555555555556,\"#d8576b\"],[0.6666666666666666,\"#ed7953\"],[0.7777777777777778,\"#fb9f3a\"],[0.8888888888888888,\"#fdca26\"],[1.0,\"#f0f921\"]]}],\"surface\":[{\"type\":\"surface\",\"colorbar\":{\"outlinewidth\":0,\"ticks\":\"\"},\"colorscale\":[[0.0,\"#0d0887\"],[0.1111111111111111,\"#46039f\"],[0.2222222222222222,\"#7201a8\"],[0.3333333333333333,\"#9c179e\"],[0.4444444444444444,\"#bd3786\"],[0.5555555555555556,\"#d8576b\"],[0.6666666666666666,\"#ed7953\"],[0.7777777777777778,\"#fb9f3a\"],[0.8888888888888888,\"#fdca26\"],[1.0,\"#f0f921\"]]}],\"mesh3d\":[{\"type\":\"mesh3d\",\"colorbar\":{\"outlinewidth\":0,\"ticks\":\"\"}}],\"scatter\":[{\"fillpattern\":{\"fillmode\":\"overlay\",\"size\":10,\"solidity\":0.2},\"type\":\"scatter\"}],\"parcoords\":[{\"type\":\"parcoords\",\"line\":{\"colorbar\":{\"outlinewidth\":0,\"ticks\":\"\"}}}],\"scatterpolargl\":[{\"type\":\"scatterpolargl\",\"marker\":{\"colorbar\":{\"outlinewidth\":0,\"ticks\":\"\"}}}],\"bar\":[{\"error_x\":{\"color\":\"#2a3f5f\"},\"error_y\":{\"color\":\"#2a3f5f\"},\"marker\":{\"line\":{\"color\":\"white\",\"width\":0.5},\"pattern\":{\"fillmode\":\"overlay\",\"size\":10,\"solidity\":0.2}},\"type\":\"bar\"}],\"scattergeo\":[{\"type\":\"scattergeo\",\"marker\":{\"colorbar\":{\"outlinewidth\":0,\"ticks\":\"\"}}}],\"scatterpolar\":[{\"type\":\"scatterpolar\",\"marker\":{\"colorbar\":{\"outlinewidth\":0,\"ticks\":\"\"}}}],\"histogram\":[{\"marker\":{\"pattern\":{\"fillmode\":\"overlay\",\"size\":10,\"solidity\":0.2}},\"type\":\"histogram\"}],\"scattergl\":[{\"type\":\"scattergl\",\"marker\":{\"colorbar\":{\"outlinewidth\":0,\"ticks\":\"\"}}}],\"scatter3d\":[{\"type\":\"scatter3d\",\"line\":{\"colorbar\":{\"outlinewidth\":0,\"ticks\":\"\"}},\"marker\":{\"colorbar\":{\"outlinewidth\":0,\"ticks\":\"\"}}}],\"scattermapbox\":[{\"type\":\"scattermapbox\",\"marker\":{\"colorbar\":{\"outlinewidth\":0,\"ticks\":\"\"}}}],\"scatterternary\":[{\"type\":\"scatterternary\",\"marker\":{\"colorbar\":{\"outlinewidth\":0,\"ticks\":\"\"}}}],\"scattercarpet\":[{\"type\":\"scattercarpet\",\"marker\":{\"colorbar\":{\"outlinewidth\":0,\"ticks\":\"\"}}}],\"carpet\":[{\"aaxis\":{\"endlinecolor\":\"#2a3f5f\",\"gridcolor\":\"#C8D4E3\",\"linecolor\":\"#C8D4E3\",\"minorgridcolor\":\"#C8D4E3\",\"startlinecolor\":\"#2a3f5f\"},\"baxis\":{\"endlinecolor\":\"#2a3f5f\",\"gridcolor\":\"#C8D4E3\",\"linecolor\":\"#C8D4E3\",\"minorgridcolor\":\"#C8D4E3\",\"startlinecolor\":\"#2a3f5f\"},\"type\":\"carpet\"}],\"table\":[{\"cells\":{\"fill\":{\"color\":\"#EBF0F8\"},\"line\":{\"color\":\"white\"}},\"header\":{\"fill\":{\"color\":\"#C8D4E3\"},\"line\":{\"color\":\"white\"}},\"type\":\"table\"}],\"barpolar\":[{\"marker\":{\"line\":{\"color\":\"white\",\"width\":0.5},\"pattern\":{\"fillmode\":\"overlay\",\"size\":10,\"solidity\":0.2}},\"type\":\"barpolar\"}],\"pie\":[{\"automargin\":true,\"type\":\"pie\"}]},\"layout\":{\"autotypenumbers\":\"strict\",\"colorway\":[\"#636efa\",\"#EF553B\",\"#00cc96\",\"#ab63fa\",\"#FFA15A\",\"#19d3f3\",\"#FF6692\",\"#B6E880\",\"#FF97FF\",\"#FECB52\"],\"font\":{\"color\":\"#2a3f5f\"},\"hovermode\":\"closest\",\"hoverlabel\":{\"align\":\"left\"},\"paper_bgcolor\":\"white\",\"plot_bgcolor\":\"white\",\"polar\":{\"bgcolor\":\"white\",\"angularaxis\":{\"gridcolor\":\"#EBF0F8\",\"linecolor\":\"#EBF0F8\",\"ticks\":\"\"},\"radialaxis\":{\"gridcolor\":\"#EBF0F8\",\"linecolor\":\"#EBF0F8\",\"ticks\":\"\"}},\"ternary\":{\"bgcolor\":\"white\",\"aaxis\":{\"gridcolor\":\"#DFE8F3\",\"linecolor\":\"#A2B1C6\",\"ticks\":\"\"},\"baxis\":{\"gridcolor\":\"#DFE8F3\",\"linecolor\":\"#A2B1C6\",\"ticks\":\"\"},\"caxis\":{\"gridcolor\":\"#DFE8F3\",\"linecolor\":\"#A2B1C6\",\"ticks\":\"\"}},\"coloraxis\":{\"colorbar\":{\"outlinewidth\":0,\"ticks\":\"\"}},\"colorscale\":{\"sequential\":[[0.0,\"#0d0887\"],[0.1111111111111111,\"#46039f\"],[0.2222222222222222,\"#7201a8\"],[0.3333333333333333,\"#9c179e\"],[0.4444444444444444,\"#bd3786\"],[0.5555555555555556,\"#d8576b\"],[0.6666666666666666,\"#ed7953\"],[0.7777777777777778,\"#fb9f3a\"],[0.8888888888888888,\"#fdca26\"],[1.0,\"#f0f921\"]],\"sequentialminus\":[[0.0,\"#0d0887\"],[0.1111111111111111,\"#46039f\"],[0.2222222222222222,\"#7201a8\"],[0.3333333333333333,\"#9c179e\"],[0.4444444444444444,\"#bd3786\"],[0.5555555555555556,\"#d8576b\"],[0.6666666666666666,\"#ed7953\"],[0.7777777777777778,\"#fb9f3a\"],[0.8888888888888888,\"#fdca26\"],[1.0,\"#f0f921\"]],\"diverging\":[[0,\"#8e0152\"],[0.1,\"#c51b7d\"],[0.2,\"#de77ae\"],[0.3,\"#f1b6da\"],[0.4,\"#fde0ef\"],[0.5,\"#f7f7f7\"],[0.6,\"#e6f5d0\"],[0.7,\"#b8e186\"],[0.8,\"#7fbc41\"],[0.9,\"#4d9221\"],[1,\"#276419\"]]},\"xaxis\":{\"gridcolor\":\"#EBF0F8\",\"linecolor\":\"#EBF0F8\",\"ticks\":\"\",\"title\":{\"standoff\":15},\"zerolinecolor\":\"#EBF0F8\",\"automargin\":true,\"zerolinewidth\":2},\"yaxis\":{\"gridcolor\":\"#EBF0F8\",\"linecolor\":\"#EBF0F8\",\"ticks\":\"\",\"title\":{\"standoff\":15},\"zerolinecolor\":\"#EBF0F8\",\"automargin\":true,\"zerolinewidth\":2},\"scene\":{\"xaxis\":{\"backgroundcolor\":\"white\",\"gridcolor\":\"#DFE8F3\",\"linecolor\":\"#EBF0F8\",\"showbackground\":true,\"ticks\":\"\",\"zerolinecolor\":\"#EBF0F8\",\"gridwidth\":2},\"yaxis\":{\"backgroundcolor\":\"white\",\"gridcolor\":\"#DFE8F3\",\"linecolor\":\"#EBF0F8\",\"showbackground\":true,\"ticks\":\"\",\"zerolinecolor\":\"#EBF0F8\",\"gridwidth\":2},\"zaxis\":{\"backgroundcolor\":\"white\",\"gridcolor\":\"#DFE8F3\",\"linecolor\":\"#EBF0F8\",\"showbackground\":true,\"ticks\":\"\",\"zerolinecolor\":\"#EBF0F8\",\"gridwidth\":2}},\"shapedefaults\":{\"line\":{\"color\":\"#2a3f5f\"}},\"annotationdefaults\":{\"arrowcolor\":\"#2a3f5f\",\"arrowhead\":0,\"arrowwidth\":1},\"geo\":{\"bgcolor\":\"white\",\"landcolor\":\"white\",\"subunitcolor\":\"#C8D4E3\",\"showland\":true,\"showlakes\":true,\"lakecolor\":\"white\"},\"title\":{\"x\":0.05},\"mapbox\":{\"style\":\"light\"}}},\"xaxis\":{\"anchor\":\"y\",\"domain\":[0.0,1.0],\"title\":{\"text\":\"Time [s]\"}},\"yaxis\":{\"anchor\":\"x\",\"domain\":[0.0,1.0],\"title\":{\"text\":\"Acceleration in [g]\"}},\"legend\":{\"title\":{\"text\":\"Sensor\"},\"tracegroupgap\":0},\"title\":{\"text\":\"Acceleration at back in all directions for 'Shaking'\"}},                        {\"responsive\": true}                    ).then(function(){\n",
              "                            \n",
              "var gd = document.getElementById('b96ded76-4723-4839-a54d-3f2c2611d56b');\n",
              "var x = new MutationObserver(function (mutations, observer) {{\n",
              "        var display = window.getComputedStyle(gd).display;\n",
              "        if (!display || display === 'none') {{\n",
              "            console.log([gd, 'removed!']);\n",
              "            Plotly.purge(gd);\n",
              "            observer.disconnect();\n",
              "        }}\n",
              "}});\n",
              "\n",
              "// Listen for the removal of the full notebook cells\n",
              "var notebookContainer = gd.closest('#notebook-container');\n",
              "if (notebookContainer) {{\n",
              "    x.observe(notebookContainer, {childList: true});\n",
              "}}\n",
              "\n",
              "// Listen for the clearing of the current output cell\n",
              "var outputEl = gd.closest('.output');\n",
              "if (outputEl) {{\n",
              "    x.observe(outputEl, {childList: true});\n",
              "}}\n",
              "\n",
              "                        })                };                            </script>        </div>\n",
              "</body>\n",
              "</html>"
            ]
          },
          "metadata": {}
        }
      ]
    },
    {
      "cell_type": "markdown",
      "source": [
        "Takeaways:\n",
        "* By clicking on different labels on the right of the above diagram, we noticed some lines appearing to mirror or follow a similar pattern. This shows that the sensors have some redundant information. The periodic nature of the movement can be seen for all sensor data, but is most obvious for ABack_x, ANeck_x and ANeck_z."
      ],
      "metadata": {
        "id": "3l_cplMpcWo1"
      }
    },
    {
      "cell_type": "markdown",
      "source": [
        "# Part 4: Modelling"
      ],
      "metadata": {
        "id": "8pXNOh6ddRhH"
      }
    },
    {
      "cell_type": "markdown",
      "metadata": {
        "id": "dFdsoyoR7bGO"
      },
      "source": [
        "## 4.1 Set (Hyper)Parameters"
      ]
    },
    {
      "cell_type": "markdown",
      "metadata": {
        "id": "W9nY2sku7bGO"
      },
      "source": [
        "Here, we define a lot of hyperparameters and settings for the following dataset creation and model training. The most important ones are discussed in the following:\n",
        "- We found that a time sequence length of 1 s works well. This is a good compromise between having enough information and not having too many features. The time offset of 0.2 s ensures, that we have a large dataset, which is necessary to train neural networks.\n",
        "- We only used acceleration data which is less noisy than the gyroscope data. Sensor data was included from both the neck and the back and the magnitude as a non-linear feature combination (denoted here without an suffix).\n",
        "-"
      ]
    },
    {
      "cell_type": "code",
      "execution_count": null,
      "metadata": {
        "id": "IVsTFP8d7bGO"
      },
      "outputs": [],
      "source": [
        "# define some namedtuples for better readability\n",
        "ModelPerformance = namedtuple('ModelPerformance', \"name test_accuracy train_duration\")\n",
        "BatchSizes = namedtuple('BatchSizes', \"mlp gru cnn resnet\")\n",
        "EpochNumbers = namedtuple('BatchSizes', \"mlp gru cnn resnet\")\n",
        "\n",
        "# path to csv files, NEEDS TO SHOW TO DATA\n",
        "PATH = './drive/MyDrive/BigDataProject/data'\n",
        "# length of time-sequence\n",
        "LEN_SEQ = 100\n",
        "# offset/overlap between each consecutive time-sequence\n",
        "SEQ_OFFSET = 0.2\n",
        "# features used in the time sequence\n",
        "SENSOR_FEATURES = ['ABack_x', 'ABack_y', 'ABack_z', 'ANeck_x', 'ANeck_y', 'ANeck_z', 'ABack', 'ANeck']\n",
        "# random seed for functions support it\n",
        "RANDOM_SEED = 13\n",
        "# batch sizes for neural network training\n",
        "BATCH_SIZES = BatchSizes(\n",
        "    mlp=512,\n",
        "    gru=512,\n",
        "    cnn=512,\n",
        "    resnet=512\n",
        ")\n",
        "# number of epochs for neural network training\n",
        "NUM_EPOCHS = EpochNumbers(\n",
        "    mlp=50,\n",
        "    gru=25,\n",
        "    cnn=50,\n",
        "    resnet=25\n",
        ")\n",
        "# number of epochs for hyperparameter tuning of neural networks\n",
        "NUM_HYPER_EPOCHS = EpochNumbers(\n",
        "    mlp=20,\n",
        "    gru=10,\n",
        "    cnn=20,\n",
        "    resnet=10\n",
        ")\n",
        "# overwrite 'optimal' device for neural network training\n",
        "# 'None' if it shouldn't be overwritten\n",
        "OVERWRITE_DEVICE = None\n",
        "# columns containing these dog behaviors will be dropped\n",
        "DROP_MOVEMENT = ('Bowing', 'Panting', 'Carrying object')\n",
        "# these dog behaviors will be combined\n",
        "JOIN_MOVEMENTS = (\n",
        "    ('Drinking', 'Eating'),\n",
        "    ('Standing', 'Sitting', 'Lying chest'),\n",
        "    ('Jumping', 'Pacing'),\n",
        "    ('Playing', 'Tugging')\n",
        ")\n",
        "# number of features that will be used after PCA\n",
        "PCA_NUM_FEATURES = 5\n",
        "# ratio of the dataset that will be used for testing\n",
        "TEST_SPLIT = 0.2\n",
        "\n",
        "\n",
        "model_performances = set()\n",
        "\n",
        "device = classification.get_device(OVERWRITE_DEVICE)"
      ]
    },
    {
      "cell_type": "markdown",
      "metadata": {
        "id": "DnbUmOXB7bGO"
      },
      "source": [
        "## 4.2 Create Dataset"
      ]
    },
    {
      "cell_type": "code",
      "execution_count": null,
      "metadata": {
        "colab": {
          "base_uri": "https://localhost:8080/",
          "height": 542
        },
        "id": "jHQdZYty7bGO",
        "outputId": "b8af8ce5-65a5-4e76-f7ea-ebdd0d1c24cc"
      },
      "outputs": [
        {
          "output_type": "display_data",
          "data": {
            "text/html": [
              "<html>\n",
              "<head><meta charset=\"utf-8\" /></head>\n",
              "<body>\n",
              "    <div>            <script src=\"https://cdnjs.cloudflare.com/ajax/libs/mathjax/2.7.5/MathJax.js?config=TeX-AMS-MML_SVG\"></script><script type=\"text/javascript\">if (window.MathJax && window.MathJax.Hub && window.MathJax.Hub.Config) {window.MathJax.Hub.Config({SVG: {font: \"STIX-Web\"}});}</script>                <script type=\"text/javascript\">window.PlotlyConfig = {MathJaxConfig: 'local'};</script>\n",
              "        <script charset=\"utf-8\" src=\"https://cdn.plot.ly/plotly-2.24.1.min.js\"></script>                <div id=\"f33d91f0-90b6-48c4-943d-bec6c2f241f1\" class=\"plotly-graph-div\" style=\"height:525px; width:750px;\"></div>            <script type=\"text/javascript\">                                    window.PLOTLYENV=window.PLOTLYENV || {};                                    if (document.getElementById(\"f33d91f0-90b6-48c4-943d-bec6c2f241f1\")) {                    Plotly.newPlot(                        \"f33d91f0-90b6-48c4-943d-bec6c2f241f1\",                        [{\"alignmentgroup\":\"True\",\"hovertemplate\":\"Dog movements=%{x}\\u003cbr\\u003eFrequenccy in dataset=%{y}\\u003cextra\\u003e\\u003c\\u002fextra\\u003e\",\"legendgroup\":\"\",\"marker\":{\"color\":\"#3366CC\",\"pattern\":{\"shape\":\"\"}},\"name\":\"\",\"offsetgroup\":\"\",\"orientation\":\"v\",\"showlegend\":false,\"textposition\":\"auto\",\"x\":[\"Drinking or Eating\",\"Galloping\",\"Jumping or Pacing\",\"Playing or Tugging\",\"Shaking\",\"Sniffing\",\"Standing or Sitting or Lying chest\",\"Trotting\",\"Walking\"],\"xaxis\":\"x\",\"y\":[11801.0,1683.0,2914.0,25157.0,903.0,47150.0,56625.0,31907.0,31613.0],\"yaxis\":\"y\",\"type\":\"bar\"}],                        {\"template\":{\"data\":{\"histogram2dcontour\":[{\"type\":\"histogram2dcontour\",\"colorbar\":{\"outlinewidth\":0,\"ticks\":\"\"},\"colorscale\":[[0.0,\"#0d0887\"],[0.1111111111111111,\"#46039f\"],[0.2222222222222222,\"#7201a8\"],[0.3333333333333333,\"#9c179e\"],[0.4444444444444444,\"#bd3786\"],[0.5555555555555556,\"#d8576b\"],[0.6666666666666666,\"#ed7953\"],[0.7777777777777778,\"#fb9f3a\"],[0.8888888888888888,\"#fdca26\"],[1.0,\"#f0f921\"]]}],\"choropleth\":[{\"type\":\"choropleth\",\"colorbar\":{\"outlinewidth\":0,\"ticks\":\"\"}}],\"histogram2d\":[{\"type\":\"histogram2d\",\"colorbar\":{\"outlinewidth\":0,\"ticks\":\"\"},\"colorscale\":[[0.0,\"#0d0887\"],[0.1111111111111111,\"#46039f\"],[0.2222222222222222,\"#7201a8\"],[0.3333333333333333,\"#9c179e\"],[0.4444444444444444,\"#bd3786\"],[0.5555555555555556,\"#d8576b\"],[0.6666666666666666,\"#ed7953\"],[0.7777777777777778,\"#fb9f3a\"],[0.8888888888888888,\"#fdca26\"],[1.0,\"#f0f921\"]]}],\"heatmap\":[{\"type\":\"heatmap\",\"colorbar\":{\"outlinewidth\":0,\"ticks\":\"\"},\"colorscale\":[[0.0,\"#0d0887\"],[0.1111111111111111,\"#46039f\"],[0.2222222222222222,\"#7201a8\"],[0.3333333333333333,\"#9c179e\"],[0.4444444444444444,\"#bd3786\"],[0.5555555555555556,\"#d8576b\"],[0.6666666666666666,\"#ed7953\"],[0.7777777777777778,\"#fb9f3a\"],[0.8888888888888888,\"#fdca26\"],[1.0,\"#f0f921\"]]}],\"heatmapgl\":[{\"type\":\"heatmapgl\",\"colorbar\":{\"outlinewidth\":0,\"ticks\":\"\"},\"colorscale\":[[0.0,\"#0d0887\"],[0.1111111111111111,\"#46039f\"],[0.2222222222222222,\"#7201a8\"],[0.3333333333333333,\"#9c179e\"],[0.4444444444444444,\"#bd3786\"],[0.5555555555555556,\"#d8576b\"],[0.6666666666666666,\"#ed7953\"],[0.7777777777777778,\"#fb9f3a\"],[0.8888888888888888,\"#fdca26\"],[1.0,\"#f0f921\"]]}],\"contourcarpet\":[{\"type\":\"contourcarpet\",\"colorbar\":{\"outlinewidth\":0,\"ticks\":\"\"}}],\"contour\":[{\"type\":\"contour\",\"colorbar\":{\"outlinewidth\":0,\"ticks\":\"\"},\"colorscale\":[[0.0,\"#0d0887\"],[0.1111111111111111,\"#46039f\"],[0.2222222222222222,\"#7201a8\"],[0.3333333333333333,\"#9c179e\"],[0.4444444444444444,\"#bd3786\"],[0.5555555555555556,\"#d8576b\"],[0.6666666666666666,\"#ed7953\"],[0.7777777777777778,\"#fb9f3a\"],[0.8888888888888888,\"#fdca26\"],[1.0,\"#f0f921\"]]}],\"surface\":[{\"type\":\"surface\",\"colorbar\":{\"outlinewidth\":0,\"ticks\":\"\"},\"colorscale\":[[0.0,\"#0d0887\"],[0.1111111111111111,\"#46039f\"],[0.2222222222222222,\"#7201a8\"],[0.3333333333333333,\"#9c179e\"],[0.4444444444444444,\"#bd3786\"],[0.5555555555555556,\"#d8576b\"],[0.6666666666666666,\"#ed7953\"],[0.7777777777777778,\"#fb9f3a\"],[0.8888888888888888,\"#fdca26\"],[1.0,\"#f0f921\"]]}],\"mesh3d\":[{\"type\":\"mesh3d\",\"colorbar\":{\"outlinewidth\":0,\"ticks\":\"\"}}],\"scatter\":[{\"fillpattern\":{\"fillmode\":\"overlay\",\"size\":10,\"solidity\":0.2},\"type\":\"scatter\"}],\"parcoords\":[{\"type\":\"parcoords\",\"line\":{\"colorbar\":{\"outlinewidth\":0,\"ticks\":\"\"}}}],\"scatterpolargl\":[{\"type\":\"scatterpolargl\",\"marker\":{\"colorbar\":{\"outlinewidth\":0,\"ticks\":\"\"}}}],\"bar\":[{\"error_x\":{\"color\":\"#2a3f5f\"},\"error_y\":{\"color\":\"#2a3f5f\"},\"marker\":{\"line\":{\"color\":\"white\",\"width\":0.5},\"pattern\":{\"fillmode\":\"overlay\",\"size\":10,\"solidity\":0.2}},\"type\":\"bar\"}],\"scattergeo\":[{\"type\":\"scattergeo\",\"marker\":{\"colorbar\":{\"outlinewidth\":0,\"ticks\":\"\"}}}],\"scatterpolar\":[{\"type\":\"scatterpolar\",\"marker\":{\"colorbar\":{\"outlinewidth\":0,\"ticks\":\"\"}}}],\"histogram\":[{\"marker\":{\"pattern\":{\"fillmode\":\"overlay\",\"size\":10,\"solidity\":0.2}},\"type\":\"histogram\"}],\"scattergl\":[{\"type\":\"scattergl\",\"marker\":{\"colorbar\":{\"outlinewidth\":0,\"ticks\":\"\"}}}],\"scatter3d\":[{\"type\":\"scatter3d\",\"line\":{\"colorbar\":{\"outlinewidth\":0,\"ticks\":\"\"}},\"marker\":{\"colorbar\":{\"outlinewidth\":0,\"ticks\":\"\"}}}],\"scattermapbox\":[{\"type\":\"scattermapbox\",\"marker\":{\"colorbar\":{\"outlinewidth\":0,\"ticks\":\"\"}}}],\"scatterternary\":[{\"type\":\"scatterternary\",\"marker\":{\"colorbar\":{\"outlinewidth\":0,\"ticks\":\"\"}}}],\"scattercarpet\":[{\"type\":\"scattercarpet\",\"marker\":{\"colorbar\":{\"outlinewidth\":0,\"ticks\":\"\"}}}],\"carpet\":[{\"aaxis\":{\"endlinecolor\":\"#2a3f5f\",\"gridcolor\":\"#C8D4E3\",\"linecolor\":\"#C8D4E3\",\"minorgridcolor\":\"#C8D4E3\",\"startlinecolor\":\"#2a3f5f\"},\"baxis\":{\"endlinecolor\":\"#2a3f5f\",\"gridcolor\":\"#C8D4E3\",\"linecolor\":\"#C8D4E3\",\"minorgridcolor\":\"#C8D4E3\",\"startlinecolor\":\"#2a3f5f\"},\"type\":\"carpet\"}],\"table\":[{\"cells\":{\"fill\":{\"color\":\"#EBF0F8\"},\"line\":{\"color\":\"white\"}},\"header\":{\"fill\":{\"color\":\"#C8D4E3\"},\"line\":{\"color\":\"white\"}},\"type\":\"table\"}],\"barpolar\":[{\"marker\":{\"line\":{\"color\":\"white\",\"width\":0.5},\"pattern\":{\"fillmode\":\"overlay\",\"size\":10,\"solidity\":0.2}},\"type\":\"barpolar\"}],\"pie\":[{\"automargin\":true,\"type\":\"pie\"}]},\"layout\":{\"autotypenumbers\":\"strict\",\"colorway\":[\"#636efa\",\"#EF553B\",\"#00cc96\",\"#ab63fa\",\"#FFA15A\",\"#19d3f3\",\"#FF6692\",\"#B6E880\",\"#FF97FF\",\"#FECB52\"],\"font\":{\"color\":\"#2a3f5f\"},\"hovermode\":\"closest\",\"hoverlabel\":{\"align\":\"left\"},\"paper_bgcolor\":\"white\",\"plot_bgcolor\":\"white\",\"polar\":{\"bgcolor\":\"white\",\"angularaxis\":{\"gridcolor\":\"#EBF0F8\",\"linecolor\":\"#EBF0F8\",\"ticks\":\"\"},\"radialaxis\":{\"gridcolor\":\"#EBF0F8\",\"linecolor\":\"#EBF0F8\",\"ticks\":\"\"}},\"ternary\":{\"bgcolor\":\"white\",\"aaxis\":{\"gridcolor\":\"#DFE8F3\",\"linecolor\":\"#A2B1C6\",\"ticks\":\"\"},\"baxis\":{\"gridcolor\":\"#DFE8F3\",\"linecolor\":\"#A2B1C6\",\"ticks\":\"\"},\"caxis\":{\"gridcolor\":\"#DFE8F3\",\"linecolor\":\"#A2B1C6\",\"ticks\":\"\"}},\"coloraxis\":{\"colorbar\":{\"outlinewidth\":0,\"ticks\":\"\"}},\"colorscale\":{\"sequential\":[[0.0,\"#0d0887\"],[0.1111111111111111,\"#46039f\"],[0.2222222222222222,\"#7201a8\"],[0.3333333333333333,\"#9c179e\"],[0.4444444444444444,\"#bd3786\"],[0.5555555555555556,\"#d8576b\"],[0.6666666666666666,\"#ed7953\"],[0.7777777777777778,\"#fb9f3a\"],[0.8888888888888888,\"#fdca26\"],[1.0,\"#f0f921\"]],\"sequentialminus\":[[0.0,\"#0d0887\"],[0.1111111111111111,\"#46039f\"],[0.2222222222222222,\"#7201a8\"],[0.3333333333333333,\"#9c179e\"],[0.4444444444444444,\"#bd3786\"],[0.5555555555555556,\"#d8576b\"],[0.6666666666666666,\"#ed7953\"],[0.7777777777777778,\"#fb9f3a\"],[0.8888888888888888,\"#fdca26\"],[1.0,\"#f0f921\"]],\"diverging\":[[0,\"#8e0152\"],[0.1,\"#c51b7d\"],[0.2,\"#de77ae\"],[0.3,\"#f1b6da\"],[0.4,\"#fde0ef\"],[0.5,\"#f7f7f7\"],[0.6,\"#e6f5d0\"],[0.7,\"#b8e186\"],[0.8,\"#7fbc41\"],[0.9,\"#4d9221\"],[1,\"#276419\"]]},\"xaxis\":{\"gridcolor\":\"#EBF0F8\",\"linecolor\":\"#EBF0F8\",\"ticks\":\"\",\"title\":{\"standoff\":15},\"zerolinecolor\":\"#EBF0F8\",\"automargin\":true,\"zerolinewidth\":2},\"yaxis\":{\"gridcolor\":\"#EBF0F8\",\"linecolor\":\"#EBF0F8\",\"ticks\":\"\",\"title\":{\"standoff\":15},\"zerolinecolor\":\"#EBF0F8\",\"automargin\":true,\"zerolinewidth\":2},\"scene\":{\"xaxis\":{\"backgroundcolor\":\"white\",\"gridcolor\":\"#DFE8F3\",\"linecolor\":\"#EBF0F8\",\"showbackground\":true,\"ticks\":\"\",\"zerolinecolor\":\"#EBF0F8\",\"gridwidth\":2},\"yaxis\":{\"backgroundcolor\":\"white\",\"gridcolor\":\"#DFE8F3\",\"linecolor\":\"#EBF0F8\",\"showbackground\":true,\"ticks\":\"\",\"zerolinecolor\":\"#EBF0F8\",\"gridwidth\":2},\"zaxis\":{\"backgroundcolor\":\"white\",\"gridcolor\":\"#DFE8F3\",\"linecolor\":\"#EBF0F8\",\"showbackground\":true,\"ticks\":\"\",\"zerolinecolor\":\"#EBF0F8\",\"gridwidth\":2}},\"shapedefaults\":{\"line\":{\"color\":\"#2a3f5f\"}},\"annotationdefaults\":{\"arrowcolor\":\"#2a3f5f\",\"arrowhead\":0,\"arrowwidth\":1},\"geo\":{\"bgcolor\":\"white\",\"landcolor\":\"white\",\"subunitcolor\":\"#C8D4E3\",\"showland\":true,\"showlakes\":true,\"lakecolor\":\"white\"},\"title\":{\"x\":0.05},\"mapbox\":{\"style\":\"light\"}}},\"xaxis\":{\"anchor\":\"y\",\"domain\":[0.0,1.0],\"title\":{\"text\":\"Dog movements\"}},\"yaxis\":{\"anchor\":\"x\",\"domain\":[0.0,1.0],\"title\":{\"text\":\"Frequenccy in dataset\"}},\"legend\":{\"tracegroupgap\":0},\"title\":{\"text\":\"Class distribution\"},\"barmode\":\"relative\",\"width\":750},                        {\"responsive\": true}                    ).then(function(){\n",
              "                            \n",
              "var gd = document.getElementById('f33d91f0-90b6-48c4-943d-bec6c2f241f1');\n",
              "var x = new MutationObserver(function (mutations, observer) {{\n",
              "        var display = window.getComputedStyle(gd).display;\n",
              "        if (!display || display === 'none') {{\n",
              "            console.log([gd, 'removed!']);\n",
              "            Plotly.purge(gd);\n",
              "            observer.disconnect();\n",
              "        }}\n",
              "}});\n",
              "\n",
              "// Listen for the removal of the full notebook cells\n",
              "var notebookContainer = gd.closest('#notebook-container');\n",
              "if (notebookContainer) {{\n",
              "    x.observe(notebookContainer, {childList: true});\n",
              "}}\n",
              "\n",
              "// Listen for the clearing of the current output cell\n",
              "var outputEl = gd.closest('.output');\n",
              "if (outputEl) {{\n",
              "    x.observe(outputEl, {childList: true});\n",
              "}}\n",
              "\n",
              "                        })                };                            </script>        </div>\n",
              "</body>\n",
              "</html>"
            ]
          },
          "metadata": {}
        }
      ],
      "source": [
        "# creating the dataset (this is going to take some time and is CPU intensive)\n",
        "dataset = TimeSeqDataset(PATH, DROP_MOVEMENT, JOIN_MOVEMENTS)\n",
        "x, y = dataset.get_numerical_data(SENSOR_FEATURES, LEN_SEQ, SEQ_OFFSET)\n",
        "\n",
        "# let's plot the number of samples that are present in each class\n",
        "fig = px.bar(\n",
        "    x=dataset.class_list,\n",
        "    y=y.sum(axis=0),\n",
        "    color_discrete_sequence=color_sequence,\n",
        "    labels={'x': \"Dog movements\", 'y':\"Frequenccy in dataset\"},\n",
        "    title=\"Class distribution\",\n",
        "    width=750\n",
        ")\n",
        "fig.show()"
      ]
    },
    {
      "cell_type": "markdown",
      "source": [
        "That doesn't look great. The created dataset has the same issues of class frequency imbalance that was already observed in the EDA phase. We can fix it by oversampling underrepresented classes and undersampling overrepresented classes. However, this should be done after splitting the data into a train and test split, otherwise we duplicate rows could appear in both, the test and train data. That would defeat the purpose of the separation.\n",
        "\n",
        "We are also scaling the data with a custom class that is adapted from the RobustScaler from sklearn. The RobustScaler minimizes the influence from outliers. The custom adaption ensures, that all acceleration data and all gyroscope data (if any was included) are scaled in the same way respectively. This preserves the ratios of acceleraiton/angular velocity that have a physical meaning.\n",
        "\n",
        "We also make use of principal component analysis, again with a wrapper around the sklearn class. Here, we want to ensure, that the pca is only applied over the different sensor features, not to each of the 100 time series features. This way we preserve the time sequence information, which is especially important for the CNN and RNN models."
      ],
      "metadata": {
        "id": "Sxzj1JvDlK_j"
      }
    },
    {
      "cell_type": "code",
      "execution_count": null,
      "metadata": {
        "id": "Yjsw-Y8a7bGP"
      },
      "outputs": [],
      "source": [
        "# split datset into train and test data\n",
        "x_train, x_test, y_train, y_test = train_test_split(x, y, test_size=TEST_SPLIT,\n",
        "                                                    shuffle=True, random_state=RANDOM_SEED)\n",
        "\n",
        "# scale train and test data, using the RobustScalar on each acceleration\n",
        "# and gyroscope data seperatly to preserve the ratios between directions\n",
        "scaler = GroupScaler(SENSOR_FEATURES, LEN_SEQ)\n",
        "x_train = scaler.fit_transform(x_train)\n",
        "x_test = scaler.transform(x_test)\n",
        "\n",
        "# apply pca to the dataset\n",
        "pca = TimeSeqPCA(LEN_SEQ)\n",
        "x_train = pca.fit_transform(x_train, PCA_NUM_FEATURES)\n",
        "x_test = pca.transform(x_test, PCA_NUM_FEATURES)\n",
        "\n",
        "# resampling dataset by undersampling classes with more than 25,000 entries\n",
        "# and oversampling those with less than 25,000 entries\n",
        "# imbalanced-learn doesn't support multi-label data unfortunately...\n",
        "# as each sample can have multiple classes, the distribution will not\n",
        "# necessarily be even after appliying the resample_function once, therefore\n",
        "# it is executed 5 times here\n",
        "# including this in our preprocessing increased the accuracy by a lot\n",
        "for _ in range(5):\n",
        "    x_train, y_train = classification.resample_data(x_train, y_train, max_count=20_000)\n",
        "    x_test,  y_test  = classification.resample_data(x_test,  y_test,  max_count=5_000)\n",
        "\n",
        "# pack training and testing data in tuple for nicer handling\n",
        "data = (x_train, x_test, y_train, y_test)"
      ]
    },
    {
      "cell_type": "markdown",
      "source": [
        "In this plot we see the explained variance of the PCA. For five sensor features, we reach a value of 0.8 which is why we chose in the above section."
      ],
      "metadata": {
        "id": "IgZFhNtNnVGJ"
      }
    },
    {
      "cell_type": "code",
      "execution_count": null,
      "metadata": {
        "colab": {
          "base_uri": "https://localhost:8080/",
          "height": 542
        },
        "id": "67v1Fezo7bGP",
        "outputId": "0bc09ce5-9807-480c-bc77-c3c4dfbd190f"
      },
      "outputs": [
        {
          "output_type": "display_data",
          "data": {
            "text/html": [
              "<html>\n",
              "<head><meta charset=\"utf-8\" /></head>\n",
              "<body>\n",
              "    <div>            <script src=\"https://cdnjs.cloudflare.com/ajax/libs/mathjax/2.7.5/MathJax.js?config=TeX-AMS-MML_SVG\"></script><script type=\"text/javascript\">if (window.MathJax && window.MathJax.Hub && window.MathJax.Hub.Config) {window.MathJax.Hub.Config({SVG: {font: \"STIX-Web\"}});}</script>                <script type=\"text/javascript\">window.PlotlyConfig = {MathJaxConfig: 'local'};</script>\n",
              "        <script charset=\"utf-8\" src=\"https://cdn.plot.ly/plotly-2.24.1.min.js\"></script>                <div id=\"39112d40-9b80-454e-88a4-85780c25d30b\" class=\"plotly-graph-div\" style=\"height:525px; width:750px;\"></div>            <script type=\"text/javascript\">                                    window.PLOTLYENV=window.PLOTLYENV || {};                                    if (document.getElementById(\"39112d40-9b80-454e-88a4-85780c25d30b\")) {                    Plotly.newPlot(                        \"39112d40-9b80-454e-88a4-85780c25d30b\",                        [{\"hovertemplate\":\"Number of Features=%{x}\\u003cbr\\u003eExplained Variance=%{y}\\u003cextra\\u003e\\u003c\\u002fextra\\u003e\",\"legendgroup\":\"\",\"line\":{\"color\":\"#3366CC\",\"dash\":\"solid\"},\"marker\":{\"symbol\":\"circle\"},\"mode\":\"lines\",\"name\":\"\",\"orientation\":\"v\",\"showlegend\":false,\"x\":[1,2,3,4,5,6,7,8],\"xaxis\":\"x\",\"y\":[0.3137587266232853,0.49862900480340455,0.6155787523289928,0.7258683115266314,0.8156819875660928,0.8980421251887256,0.9657501973659018,0.9999999999999999],\"yaxis\":\"y\",\"type\":\"scatter\"}],                        {\"template\":{\"data\":{\"histogram2dcontour\":[{\"type\":\"histogram2dcontour\",\"colorbar\":{\"outlinewidth\":0,\"ticks\":\"\"},\"colorscale\":[[0.0,\"#0d0887\"],[0.1111111111111111,\"#46039f\"],[0.2222222222222222,\"#7201a8\"],[0.3333333333333333,\"#9c179e\"],[0.4444444444444444,\"#bd3786\"],[0.5555555555555556,\"#d8576b\"],[0.6666666666666666,\"#ed7953\"],[0.7777777777777778,\"#fb9f3a\"],[0.8888888888888888,\"#fdca26\"],[1.0,\"#f0f921\"]]}],\"choropleth\":[{\"type\":\"choropleth\",\"colorbar\":{\"outlinewidth\":0,\"ticks\":\"\"}}],\"histogram2d\":[{\"type\":\"histogram2d\",\"colorbar\":{\"outlinewidth\":0,\"ticks\":\"\"},\"colorscale\":[[0.0,\"#0d0887\"],[0.1111111111111111,\"#46039f\"],[0.2222222222222222,\"#7201a8\"],[0.3333333333333333,\"#9c179e\"],[0.4444444444444444,\"#bd3786\"],[0.5555555555555556,\"#d8576b\"],[0.6666666666666666,\"#ed7953\"],[0.7777777777777778,\"#fb9f3a\"],[0.8888888888888888,\"#fdca26\"],[1.0,\"#f0f921\"]]}],\"heatmap\":[{\"type\":\"heatmap\",\"colorbar\":{\"outlinewidth\":0,\"ticks\":\"\"},\"colorscale\":[[0.0,\"#0d0887\"],[0.1111111111111111,\"#46039f\"],[0.2222222222222222,\"#7201a8\"],[0.3333333333333333,\"#9c179e\"],[0.4444444444444444,\"#bd3786\"],[0.5555555555555556,\"#d8576b\"],[0.6666666666666666,\"#ed7953\"],[0.7777777777777778,\"#fb9f3a\"],[0.8888888888888888,\"#fdca26\"],[1.0,\"#f0f921\"]]}],\"heatmapgl\":[{\"type\":\"heatmapgl\",\"colorbar\":{\"outlinewidth\":0,\"ticks\":\"\"},\"colorscale\":[[0.0,\"#0d0887\"],[0.1111111111111111,\"#46039f\"],[0.2222222222222222,\"#7201a8\"],[0.3333333333333333,\"#9c179e\"],[0.4444444444444444,\"#bd3786\"],[0.5555555555555556,\"#d8576b\"],[0.6666666666666666,\"#ed7953\"],[0.7777777777777778,\"#fb9f3a\"],[0.8888888888888888,\"#fdca26\"],[1.0,\"#f0f921\"]]}],\"contourcarpet\":[{\"type\":\"contourcarpet\",\"colorbar\":{\"outlinewidth\":0,\"ticks\":\"\"}}],\"contour\":[{\"type\":\"contour\",\"colorbar\":{\"outlinewidth\":0,\"ticks\":\"\"},\"colorscale\":[[0.0,\"#0d0887\"],[0.1111111111111111,\"#46039f\"],[0.2222222222222222,\"#7201a8\"],[0.3333333333333333,\"#9c179e\"],[0.4444444444444444,\"#bd3786\"],[0.5555555555555556,\"#d8576b\"],[0.6666666666666666,\"#ed7953\"],[0.7777777777777778,\"#fb9f3a\"],[0.8888888888888888,\"#fdca26\"],[1.0,\"#f0f921\"]]}],\"surface\":[{\"type\":\"surface\",\"colorbar\":{\"outlinewidth\":0,\"ticks\":\"\"},\"colorscale\":[[0.0,\"#0d0887\"],[0.1111111111111111,\"#46039f\"],[0.2222222222222222,\"#7201a8\"],[0.3333333333333333,\"#9c179e\"],[0.4444444444444444,\"#bd3786\"],[0.5555555555555556,\"#d8576b\"],[0.6666666666666666,\"#ed7953\"],[0.7777777777777778,\"#fb9f3a\"],[0.8888888888888888,\"#fdca26\"],[1.0,\"#f0f921\"]]}],\"mesh3d\":[{\"type\":\"mesh3d\",\"colorbar\":{\"outlinewidth\":0,\"ticks\":\"\"}}],\"scatter\":[{\"fillpattern\":{\"fillmode\":\"overlay\",\"size\":10,\"solidity\":0.2},\"type\":\"scatter\"}],\"parcoords\":[{\"type\":\"parcoords\",\"line\":{\"colorbar\":{\"outlinewidth\":0,\"ticks\":\"\"}}}],\"scatterpolargl\":[{\"type\":\"scatterpolargl\",\"marker\":{\"colorbar\":{\"outlinewidth\":0,\"ticks\":\"\"}}}],\"bar\":[{\"error_x\":{\"color\":\"#2a3f5f\"},\"error_y\":{\"color\":\"#2a3f5f\"},\"marker\":{\"line\":{\"color\":\"white\",\"width\":0.5},\"pattern\":{\"fillmode\":\"overlay\",\"size\":10,\"solidity\":0.2}},\"type\":\"bar\"}],\"scattergeo\":[{\"type\":\"scattergeo\",\"marker\":{\"colorbar\":{\"outlinewidth\":0,\"ticks\":\"\"}}}],\"scatterpolar\":[{\"type\":\"scatterpolar\",\"marker\":{\"colorbar\":{\"outlinewidth\":0,\"ticks\":\"\"}}}],\"histogram\":[{\"marker\":{\"pattern\":{\"fillmode\":\"overlay\",\"size\":10,\"solidity\":0.2}},\"type\":\"histogram\"}],\"scattergl\":[{\"type\":\"scattergl\",\"marker\":{\"colorbar\":{\"outlinewidth\":0,\"ticks\":\"\"}}}],\"scatter3d\":[{\"type\":\"scatter3d\",\"line\":{\"colorbar\":{\"outlinewidth\":0,\"ticks\":\"\"}},\"marker\":{\"colorbar\":{\"outlinewidth\":0,\"ticks\":\"\"}}}],\"scattermapbox\":[{\"type\":\"scattermapbox\",\"marker\":{\"colorbar\":{\"outlinewidth\":0,\"ticks\":\"\"}}}],\"scatterternary\":[{\"type\":\"scatterternary\",\"marker\":{\"colorbar\":{\"outlinewidth\":0,\"ticks\":\"\"}}}],\"scattercarpet\":[{\"type\":\"scattercarpet\",\"marker\":{\"colorbar\":{\"outlinewidth\":0,\"ticks\":\"\"}}}],\"carpet\":[{\"aaxis\":{\"endlinecolor\":\"#2a3f5f\",\"gridcolor\":\"#C8D4E3\",\"linecolor\":\"#C8D4E3\",\"minorgridcolor\":\"#C8D4E3\",\"startlinecolor\":\"#2a3f5f\"},\"baxis\":{\"endlinecolor\":\"#2a3f5f\",\"gridcolor\":\"#C8D4E3\",\"linecolor\":\"#C8D4E3\",\"minorgridcolor\":\"#C8D4E3\",\"startlinecolor\":\"#2a3f5f\"},\"type\":\"carpet\"}],\"table\":[{\"cells\":{\"fill\":{\"color\":\"#EBF0F8\"},\"line\":{\"color\":\"white\"}},\"header\":{\"fill\":{\"color\":\"#C8D4E3\"},\"line\":{\"color\":\"white\"}},\"type\":\"table\"}],\"barpolar\":[{\"marker\":{\"line\":{\"color\":\"white\",\"width\":0.5},\"pattern\":{\"fillmode\":\"overlay\",\"size\":10,\"solidity\":0.2}},\"type\":\"barpolar\"}],\"pie\":[{\"automargin\":true,\"type\":\"pie\"}]},\"layout\":{\"autotypenumbers\":\"strict\",\"colorway\":[\"#636efa\",\"#EF553B\",\"#00cc96\",\"#ab63fa\",\"#FFA15A\",\"#19d3f3\",\"#FF6692\",\"#B6E880\",\"#FF97FF\",\"#FECB52\"],\"font\":{\"color\":\"#2a3f5f\"},\"hovermode\":\"closest\",\"hoverlabel\":{\"align\":\"left\"},\"paper_bgcolor\":\"white\",\"plot_bgcolor\":\"white\",\"polar\":{\"bgcolor\":\"white\",\"angularaxis\":{\"gridcolor\":\"#EBF0F8\",\"linecolor\":\"#EBF0F8\",\"ticks\":\"\"},\"radialaxis\":{\"gridcolor\":\"#EBF0F8\",\"linecolor\":\"#EBF0F8\",\"ticks\":\"\"}},\"ternary\":{\"bgcolor\":\"white\",\"aaxis\":{\"gridcolor\":\"#DFE8F3\",\"linecolor\":\"#A2B1C6\",\"ticks\":\"\"},\"baxis\":{\"gridcolor\":\"#DFE8F3\",\"linecolor\":\"#A2B1C6\",\"ticks\":\"\"},\"caxis\":{\"gridcolor\":\"#DFE8F3\",\"linecolor\":\"#A2B1C6\",\"ticks\":\"\"}},\"coloraxis\":{\"colorbar\":{\"outlinewidth\":0,\"ticks\":\"\"}},\"colorscale\":{\"sequential\":[[0.0,\"#0d0887\"],[0.1111111111111111,\"#46039f\"],[0.2222222222222222,\"#7201a8\"],[0.3333333333333333,\"#9c179e\"],[0.4444444444444444,\"#bd3786\"],[0.5555555555555556,\"#d8576b\"],[0.6666666666666666,\"#ed7953\"],[0.7777777777777778,\"#fb9f3a\"],[0.8888888888888888,\"#fdca26\"],[1.0,\"#f0f921\"]],\"sequentialminus\":[[0.0,\"#0d0887\"],[0.1111111111111111,\"#46039f\"],[0.2222222222222222,\"#7201a8\"],[0.3333333333333333,\"#9c179e\"],[0.4444444444444444,\"#bd3786\"],[0.5555555555555556,\"#d8576b\"],[0.6666666666666666,\"#ed7953\"],[0.7777777777777778,\"#fb9f3a\"],[0.8888888888888888,\"#fdca26\"],[1.0,\"#f0f921\"]],\"diverging\":[[0,\"#8e0152\"],[0.1,\"#c51b7d\"],[0.2,\"#de77ae\"],[0.3,\"#f1b6da\"],[0.4,\"#fde0ef\"],[0.5,\"#f7f7f7\"],[0.6,\"#e6f5d0\"],[0.7,\"#b8e186\"],[0.8,\"#7fbc41\"],[0.9,\"#4d9221\"],[1,\"#276419\"]]},\"xaxis\":{\"gridcolor\":\"#EBF0F8\",\"linecolor\":\"#EBF0F8\",\"ticks\":\"\",\"title\":{\"standoff\":15},\"zerolinecolor\":\"#EBF0F8\",\"automargin\":true,\"zerolinewidth\":2},\"yaxis\":{\"gridcolor\":\"#EBF0F8\",\"linecolor\":\"#EBF0F8\",\"ticks\":\"\",\"title\":{\"standoff\":15},\"zerolinecolor\":\"#EBF0F8\",\"automargin\":true,\"zerolinewidth\":2},\"scene\":{\"xaxis\":{\"backgroundcolor\":\"white\",\"gridcolor\":\"#DFE8F3\",\"linecolor\":\"#EBF0F8\",\"showbackground\":true,\"ticks\":\"\",\"zerolinecolor\":\"#EBF0F8\",\"gridwidth\":2},\"yaxis\":{\"backgroundcolor\":\"white\",\"gridcolor\":\"#DFE8F3\",\"linecolor\":\"#EBF0F8\",\"showbackground\":true,\"ticks\":\"\",\"zerolinecolor\":\"#EBF0F8\",\"gridwidth\":2},\"zaxis\":{\"backgroundcolor\":\"white\",\"gridcolor\":\"#DFE8F3\",\"linecolor\":\"#EBF0F8\",\"showbackground\":true,\"ticks\":\"\",\"zerolinecolor\":\"#EBF0F8\",\"gridwidth\":2}},\"shapedefaults\":{\"line\":{\"color\":\"#2a3f5f\"}},\"annotationdefaults\":{\"arrowcolor\":\"#2a3f5f\",\"arrowhead\":0,\"arrowwidth\":1},\"geo\":{\"bgcolor\":\"white\",\"landcolor\":\"white\",\"subunitcolor\":\"#C8D4E3\",\"showland\":true,\"showlakes\":true,\"lakecolor\":\"white\"},\"title\":{\"x\":0.05},\"mapbox\":{\"style\":\"light\"}}},\"xaxis\":{\"anchor\":\"y\",\"domain\":[0.0,1.0],\"title\":{\"text\":\"Number of Features\"}},\"yaxis\":{\"anchor\":\"x\",\"domain\":[0.0,1.0],\"title\":{\"text\":\"Explained Variance\"}},\"legend\":{\"tracegroupgap\":0},\"title\":{\"text\":\"Explained Variance of PCA components\"},\"width\":750,\"shapes\":[{\"line\":{\"color\":\"black\"},\"type\":\"line\",\"x0\":0,\"x1\":1,\"xref\":\"x domain\",\"y0\":0.8,\"y1\":0.8,\"yref\":\"y\"}]},                        {\"responsive\": true}                    ).then(function(){\n",
              "                            \n",
              "var gd = document.getElementById('39112d40-9b80-454e-88a4-85780c25d30b');\n",
              "var x = new MutationObserver(function (mutations, observer) {{\n",
              "        var display = window.getComputedStyle(gd).display;\n",
              "        if (!display || display === 'none') {{\n",
              "            console.log([gd, 'removed!']);\n",
              "            Plotly.purge(gd);\n",
              "            observer.disconnect();\n",
              "        }}\n",
              "}});\n",
              "\n",
              "// Listen for the removal of the full notebook cells\n",
              "var notebookContainer = gd.closest('#notebook-container');\n",
              "if (notebookContainer) {{\n",
              "    x.observe(notebookContainer, {childList: true});\n",
              "}}\n",
              "\n",
              "// Listen for the clearing of the current output cell\n",
              "var outputEl = gd.closest('.output');\n",
              "if (outputEl) {{\n",
              "    x.observe(outputEl, {childList: true});\n",
              "}}\n",
              "\n",
              "                        })                };                            </script>        </div>\n",
              "</body>\n",
              "</html>"
            ]
          },
          "metadata": {}
        }
      ],
      "source": [
        "fig = px.line(\n",
        "    x=np.arange(1, len(SENSOR_FEATURES)+1),\n",
        "    y=np.cumsum(pca.pca.explained_variance_ratio_),\n",
        "    title=\"Explained Variance of PCA components\",\n",
        "    labels={'x': \"Number of Features\", 'y':\"Explained Variance\"},\n",
        "    color_discrete_sequence=color_sequence,\n",
        "    width=750\n",
        ")\n",
        "fig.add_hline(y=0.8, line_color='black')\n",
        "fig.show()"
      ]
    },
    {
      "cell_type": "markdown",
      "source": [
        "Let's see if the class distribution looks better after the resampling procedure."
      ],
      "metadata": {
        "id": "ew7IQhQAoahI"
      }
    },
    {
      "cell_type": "code",
      "execution_count": null,
      "metadata": {
        "colab": {
          "base_uri": "https://localhost:8080/",
          "height": 1000
        },
        "id": "r1AB4RnI7bGP",
        "outputId": "bb00ef0e-311b-4726-8de6-ebba5190982f"
      },
      "outputs": [
        {
          "output_type": "display_data",
          "data": {
            "text/html": [
              "<html>\n",
              "<head><meta charset=\"utf-8\" /></head>\n",
              "<body>\n",
              "    <div>            <script src=\"https://cdnjs.cloudflare.com/ajax/libs/mathjax/2.7.5/MathJax.js?config=TeX-AMS-MML_SVG\"></script><script type=\"text/javascript\">if (window.MathJax && window.MathJax.Hub && window.MathJax.Hub.Config) {window.MathJax.Hub.Config({SVG: {font: \"STIX-Web\"}});}</script>                <script type=\"text/javascript\">window.PlotlyConfig = {MathJaxConfig: 'local'};</script>\n",
              "        <script charset=\"utf-8\" src=\"https://cdn.plot.ly/plotly-2.24.1.min.js\"></script>                <div id=\"84324f6c-5eaf-4cf5-9708-be57d82ce176\" class=\"plotly-graph-div\" style=\"height:525px; width:750px;\"></div>            <script type=\"text/javascript\">                                    window.PLOTLYENV=window.PLOTLYENV || {};                                    if (document.getElementById(\"84324f6c-5eaf-4cf5-9708-be57d82ce176\")) {                    Plotly.newPlot(                        \"84324f6c-5eaf-4cf5-9708-be57d82ce176\",                        [{\"alignmentgroup\":\"True\",\"hovertemplate\":\"Dog movements=%{x}\\u003cbr\\u003eFrequency in dataset=%{y}\\u003cextra\\u003e\\u003c\\u002fextra\\u003e\",\"legendgroup\":\"\",\"marker\":{\"color\":\"#3366CC\",\"pattern\":{\"shape\":\"\"}},\"name\":\"\",\"offsetgroup\":\"\",\"orientation\":\"v\",\"showlegend\":false,\"textposition\":\"auto\",\"x\":[\"Drinking or Eating\",\"Galloping\",\"Jumping or Pacing\",\"Playing or Tugging\",\"Shaking\",\"Sniffing\",\"Standing or Sitting or Lying chest\",\"Trotting\",\"Walking\"],\"xaxis\":\"x\",\"y\":[21604.0,20001.0,20032.0,24641.0,20033.0,20000.0,20984.0,20014.0,21220.0],\"yaxis\":\"y\",\"type\":\"bar\"}],                        {\"template\":{\"data\":{\"histogram2dcontour\":[{\"type\":\"histogram2dcontour\",\"colorbar\":{\"outlinewidth\":0,\"ticks\":\"\"},\"colorscale\":[[0.0,\"#0d0887\"],[0.1111111111111111,\"#46039f\"],[0.2222222222222222,\"#7201a8\"],[0.3333333333333333,\"#9c179e\"],[0.4444444444444444,\"#bd3786\"],[0.5555555555555556,\"#d8576b\"],[0.6666666666666666,\"#ed7953\"],[0.7777777777777778,\"#fb9f3a\"],[0.8888888888888888,\"#fdca26\"],[1.0,\"#f0f921\"]]}],\"choropleth\":[{\"type\":\"choropleth\",\"colorbar\":{\"outlinewidth\":0,\"ticks\":\"\"}}],\"histogram2d\":[{\"type\":\"histogram2d\",\"colorbar\":{\"outlinewidth\":0,\"ticks\":\"\"},\"colorscale\":[[0.0,\"#0d0887\"],[0.1111111111111111,\"#46039f\"],[0.2222222222222222,\"#7201a8\"],[0.3333333333333333,\"#9c179e\"],[0.4444444444444444,\"#bd3786\"],[0.5555555555555556,\"#d8576b\"],[0.6666666666666666,\"#ed7953\"],[0.7777777777777778,\"#fb9f3a\"],[0.8888888888888888,\"#fdca26\"],[1.0,\"#f0f921\"]]}],\"heatmap\":[{\"type\":\"heatmap\",\"colorbar\":{\"outlinewidth\":0,\"ticks\":\"\"},\"colorscale\":[[0.0,\"#0d0887\"],[0.1111111111111111,\"#46039f\"],[0.2222222222222222,\"#7201a8\"],[0.3333333333333333,\"#9c179e\"],[0.4444444444444444,\"#bd3786\"],[0.5555555555555556,\"#d8576b\"],[0.6666666666666666,\"#ed7953\"],[0.7777777777777778,\"#fb9f3a\"],[0.8888888888888888,\"#fdca26\"],[1.0,\"#f0f921\"]]}],\"heatmapgl\":[{\"type\":\"heatmapgl\",\"colorbar\":{\"outlinewidth\":0,\"ticks\":\"\"},\"colorscale\":[[0.0,\"#0d0887\"],[0.1111111111111111,\"#46039f\"],[0.2222222222222222,\"#7201a8\"],[0.3333333333333333,\"#9c179e\"],[0.4444444444444444,\"#bd3786\"],[0.5555555555555556,\"#d8576b\"],[0.6666666666666666,\"#ed7953\"],[0.7777777777777778,\"#fb9f3a\"],[0.8888888888888888,\"#fdca26\"],[1.0,\"#f0f921\"]]}],\"contourcarpet\":[{\"type\":\"contourcarpet\",\"colorbar\":{\"outlinewidth\":0,\"ticks\":\"\"}}],\"contour\":[{\"type\":\"contour\",\"colorbar\":{\"outlinewidth\":0,\"ticks\":\"\"},\"colorscale\":[[0.0,\"#0d0887\"],[0.1111111111111111,\"#46039f\"],[0.2222222222222222,\"#7201a8\"],[0.3333333333333333,\"#9c179e\"],[0.4444444444444444,\"#bd3786\"],[0.5555555555555556,\"#d8576b\"],[0.6666666666666666,\"#ed7953\"],[0.7777777777777778,\"#fb9f3a\"],[0.8888888888888888,\"#fdca26\"],[1.0,\"#f0f921\"]]}],\"surface\":[{\"type\":\"surface\",\"colorbar\":{\"outlinewidth\":0,\"ticks\":\"\"},\"colorscale\":[[0.0,\"#0d0887\"],[0.1111111111111111,\"#46039f\"],[0.2222222222222222,\"#7201a8\"],[0.3333333333333333,\"#9c179e\"],[0.4444444444444444,\"#bd3786\"],[0.5555555555555556,\"#d8576b\"],[0.6666666666666666,\"#ed7953\"],[0.7777777777777778,\"#fb9f3a\"],[0.8888888888888888,\"#fdca26\"],[1.0,\"#f0f921\"]]}],\"mesh3d\":[{\"type\":\"mesh3d\",\"colorbar\":{\"outlinewidth\":0,\"ticks\":\"\"}}],\"scatter\":[{\"fillpattern\":{\"fillmode\":\"overlay\",\"size\":10,\"solidity\":0.2},\"type\":\"scatter\"}],\"parcoords\":[{\"type\":\"parcoords\",\"line\":{\"colorbar\":{\"outlinewidth\":0,\"ticks\":\"\"}}}],\"scatterpolargl\":[{\"type\":\"scatterpolargl\",\"marker\":{\"colorbar\":{\"outlinewidth\":0,\"ticks\":\"\"}}}],\"bar\":[{\"error_x\":{\"color\":\"#2a3f5f\"},\"error_y\":{\"color\":\"#2a3f5f\"},\"marker\":{\"line\":{\"color\":\"white\",\"width\":0.5},\"pattern\":{\"fillmode\":\"overlay\",\"size\":10,\"solidity\":0.2}},\"type\":\"bar\"}],\"scattergeo\":[{\"type\":\"scattergeo\",\"marker\":{\"colorbar\":{\"outlinewidth\":0,\"ticks\":\"\"}}}],\"scatterpolar\":[{\"type\":\"scatterpolar\",\"marker\":{\"colorbar\":{\"outlinewidth\":0,\"ticks\":\"\"}}}],\"histogram\":[{\"marker\":{\"pattern\":{\"fillmode\":\"overlay\",\"size\":10,\"solidity\":0.2}},\"type\":\"histogram\"}],\"scattergl\":[{\"type\":\"scattergl\",\"marker\":{\"colorbar\":{\"outlinewidth\":0,\"ticks\":\"\"}}}],\"scatter3d\":[{\"type\":\"scatter3d\",\"line\":{\"colorbar\":{\"outlinewidth\":0,\"ticks\":\"\"}},\"marker\":{\"colorbar\":{\"outlinewidth\":0,\"ticks\":\"\"}}}],\"scattermapbox\":[{\"type\":\"scattermapbox\",\"marker\":{\"colorbar\":{\"outlinewidth\":0,\"ticks\":\"\"}}}],\"scatterternary\":[{\"type\":\"scatterternary\",\"marker\":{\"colorbar\":{\"outlinewidth\":0,\"ticks\":\"\"}}}],\"scattercarpet\":[{\"type\":\"scattercarpet\",\"marker\":{\"colorbar\":{\"outlinewidth\":0,\"ticks\":\"\"}}}],\"carpet\":[{\"aaxis\":{\"endlinecolor\":\"#2a3f5f\",\"gridcolor\":\"#C8D4E3\",\"linecolor\":\"#C8D4E3\",\"minorgridcolor\":\"#C8D4E3\",\"startlinecolor\":\"#2a3f5f\"},\"baxis\":{\"endlinecolor\":\"#2a3f5f\",\"gridcolor\":\"#C8D4E3\",\"linecolor\":\"#C8D4E3\",\"minorgridcolor\":\"#C8D4E3\",\"startlinecolor\":\"#2a3f5f\"},\"type\":\"carpet\"}],\"table\":[{\"cells\":{\"fill\":{\"color\":\"#EBF0F8\"},\"line\":{\"color\":\"white\"}},\"header\":{\"fill\":{\"color\":\"#C8D4E3\"},\"line\":{\"color\":\"white\"}},\"type\":\"table\"}],\"barpolar\":[{\"marker\":{\"line\":{\"color\":\"white\",\"width\":0.5},\"pattern\":{\"fillmode\":\"overlay\",\"size\":10,\"solidity\":0.2}},\"type\":\"barpolar\"}],\"pie\":[{\"automargin\":true,\"type\":\"pie\"}]},\"layout\":{\"autotypenumbers\":\"strict\",\"colorway\":[\"#636efa\",\"#EF553B\",\"#00cc96\",\"#ab63fa\",\"#FFA15A\",\"#19d3f3\",\"#FF6692\",\"#B6E880\",\"#FF97FF\",\"#FECB52\"],\"font\":{\"color\":\"#2a3f5f\"},\"hovermode\":\"closest\",\"hoverlabel\":{\"align\":\"left\"},\"paper_bgcolor\":\"white\",\"plot_bgcolor\":\"white\",\"polar\":{\"bgcolor\":\"white\",\"angularaxis\":{\"gridcolor\":\"#EBF0F8\",\"linecolor\":\"#EBF0F8\",\"ticks\":\"\"},\"radialaxis\":{\"gridcolor\":\"#EBF0F8\",\"linecolor\":\"#EBF0F8\",\"ticks\":\"\"}},\"ternary\":{\"bgcolor\":\"white\",\"aaxis\":{\"gridcolor\":\"#DFE8F3\",\"linecolor\":\"#A2B1C6\",\"ticks\":\"\"},\"baxis\":{\"gridcolor\":\"#DFE8F3\",\"linecolor\":\"#A2B1C6\",\"ticks\":\"\"},\"caxis\":{\"gridcolor\":\"#DFE8F3\",\"linecolor\":\"#A2B1C6\",\"ticks\":\"\"}},\"coloraxis\":{\"colorbar\":{\"outlinewidth\":0,\"ticks\":\"\"}},\"colorscale\":{\"sequential\":[[0.0,\"#0d0887\"],[0.1111111111111111,\"#46039f\"],[0.2222222222222222,\"#7201a8\"],[0.3333333333333333,\"#9c179e\"],[0.4444444444444444,\"#bd3786\"],[0.5555555555555556,\"#d8576b\"],[0.6666666666666666,\"#ed7953\"],[0.7777777777777778,\"#fb9f3a\"],[0.8888888888888888,\"#fdca26\"],[1.0,\"#f0f921\"]],\"sequentialminus\":[[0.0,\"#0d0887\"],[0.1111111111111111,\"#46039f\"],[0.2222222222222222,\"#7201a8\"],[0.3333333333333333,\"#9c179e\"],[0.4444444444444444,\"#bd3786\"],[0.5555555555555556,\"#d8576b\"],[0.6666666666666666,\"#ed7953\"],[0.7777777777777778,\"#fb9f3a\"],[0.8888888888888888,\"#fdca26\"],[1.0,\"#f0f921\"]],\"diverging\":[[0,\"#8e0152\"],[0.1,\"#c51b7d\"],[0.2,\"#de77ae\"],[0.3,\"#f1b6da\"],[0.4,\"#fde0ef\"],[0.5,\"#f7f7f7\"],[0.6,\"#e6f5d0\"],[0.7,\"#b8e186\"],[0.8,\"#7fbc41\"],[0.9,\"#4d9221\"],[1,\"#276419\"]]},\"xaxis\":{\"gridcolor\":\"#EBF0F8\",\"linecolor\":\"#EBF0F8\",\"ticks\":\"\",\"title\":{\"standoff\":15},\"zerolinecolor\":\"#EBF0F8\",\"automargin\":true,\"zerolinewidth\":2},\"yaxis\":{\"gridcolor\":\"#EBF0F8\",\"linecolor\":\"#EBF0F8\",\"ticks\":\"\",\"title\":{\"standoff\":15},\"zerolinecolor\":\"#EBF0F8\",\"automargin\":true,\"zerolinewidth\":2},\"scene\":{\"xaxis\":{\"backgroundcolor\":\"white\",\"gridcolor\":\"#DFE8F3\",\"linecolor\":\"#EBF0F8\",\"showbackground\":true,\"ticks\":\"\",\"zerolinecolor\":\"#EBF0F8\",\"gridwidth\":2},\"yaxis\":{\"backgroundcolor\":\"white\",\"gridcolor\":\"#DFE8F3\",\"linecolor\":\"#EBF0F8\",\"showbackground\":true,\"ticks\":\"\",\"zerolinecolor\":\"#EBF0F8\",\"gridwidth\":2},\"zaxis\":{\"backgroundcolor\":\"white\",\"gridcolor\":\"#DFE8F3\",\"linecolor\":\"#EBF0F8\",\"showbackground\":true,\"ticks\":\"\",\"zerolinecolor\":\"#EBF0F8\",\"gridwidth\":2}},\"shapedefaults\":{\"line\":{\"color\":\"#2a3f5f\"}},\"annotationdefaults\":{\"arrowcolor\":\"#2a3f5f\",\"arrowhead\":0,\"arrowwidth\":1},\"geo\":{\"bgcolor\":\"white\",\"landcolor\":\"white\",\"subunitcolor\":\"#C8D4E3\",\"showland\":true,\"showlakes\":true,\"lakecolor\":\"white\"},\"title\":{\"x\":0.05},\"mapbox\":{\"style\":\"light\"}}},\"xaxis\":{\"anchor\":\"y\",\"domain\":[0.0,1.0],\"title\":{\"text\":\"Dog movements\"}},\"yaxis\":{\"anchor\":\"x\",\"domain\":[0.0,1.0],\"title\":{\"text\":\"Frequency in dataset\"}},\"legend\":{\"tracegroupgap\":0},\"title\":{\"text\":\"Class distribution of Training Dataset After Resampling\"},\"barmode\":\"relative\",\"width\":750},                        {\"responsive\": true}                    ).then(function(){\n",
              "                            \n",
              "var gd = document.getElementById('84324f6c-5eaf-4cf5-9708-be57d82ce176');\n",
              "var x = new MutationObserver(function (mutations, observer) {{\n",
              "        var display = window.getComputedStyle(gd).display;\n",
              "        if (!display || display === 'none') {{\n",
              "            console.log([gd, 'removed!']);\n",
              "            Plotly.purge(gd);\n",
              "            observer.disconnect();\n",
              "        }}\n",
              "}});\n",
              "\n",
              "// Listen for the removal of the full notebook cells\n",
              "var notebookContainer = gd.closest('#notebook-container');\n",
              "if (notebookContainer) {{\n",
              "    x.observe(notebookContainer, {childList: true});\n",
              "}}\n",
              "\n",
              "// Listen for the clearing of the current output cell\n",
              "var outputEl = gd.closest('.output');\n",
              "if (outputEl) {{\n",
              "    x.observe(outputEl, {childList: true});\n",
              "}}\n",
              "\n",
              "                        })                };                            </script>        </div>\n",
              "</body>\n",
              "</html>"
            ]
          },
          "metadata": {}
        },
        {
          "output_type": "display_data",
          "data": {
            "text/html": [
              "<html>\n",
              "<head><meta charset=\"utf-8\" /></head>\n",
              "<body>\n",
              "    <div>            <script src=\"https://cdnjs.cloudflare.com/ajax/libs/mathjax/2.7.5/MathJax.js?config=TeX-AMS-MML_SVG\"></script><script type=\"text/javascript\">if (window.MathJax && window.MathJax.Hub && window.MathJax.Hub.Config) {window.MathJax.Hub.Config({SVG: {font: \"STIX-Web\"}});}</script>                <script type=\"text/javascript\">window.PlotlyConfig = {MathJaxConfig: 'local'};</script>\n",
              "        <script charset=\"utf-8\" src=\"https://cdn.plot.ly/plotly-2.24.1.min.js\"></script>                <div id=\"e572e85c-6521-4df1-abfe-f91c5082800a\" class=\"plotly-graph-div\" style=\"height:525px; width:750px;\"></div>            <script type=\"text/javascript\">                                    window.PLOTLYENV=window.PLOTLYENV || {};                                    if (document.getElementById(\"e572e85c-6521-4df1-abfe-f91c5082800a\")) {                    Plotly.newPlot(                        \"e572e85c-6521-4df1-abfe-f91c5082800a\",                        [{\"alignmentgroup\":\"True\",\"hovertemplate\":\"Dog movements=%{x}\\u003cbr\\u003eFrequency in dataset=%{y}\\u003cextra\\u003e\\u003c\\u002fextra\\u003e\",\"legendgroup\":\"\",\"marker\":{\"color\":\"#3366CC\",\"pattern\":{\"shape\":\"\"}},\"name\":\"\",\"offsetgroup\":\"\",\"orientation\":\"v\",\"showlegend\":false,\"textposition\":\"auto\",\"x\":[\"Drinking or Eating\",\"Galloping\",\"Jumping or Pacing\",\"Playing or Tugging\",\"Shaking\",\"Sniffing\",\"Standing or Sitting or Lying chest\",\"Trotting\",\"Walking\"],\"xaxis\":\"x\",\"y\":[5375.0,5775.0,5000.0,6907.0,5039.0,5000.0,5179.0,5006.0,5034.0],\"yaxis\":\"y\",\"type\":\"bar\"}],                        {\"template\":{\"data\":{\"histogram2dcontour\":[{\"type\":\"histogram2dcontour\",\"colorbar\":{\"outlinewidth\":0,\"ticks\":\"\"},\"colorscale\":[[0.0,\"#0d0887\"],[0.1111111111111111,\"#46039f\"],[0.2222222222222222,\"#7201a8\"],[0.3333333333333333,\"#9c179e\"],[0.4444444444444444,\"#bd3786\"],[0.5555555555555556,\"#d8576b\"],[0.6666666666666666,\"#ed7953\"],[0.7777777777777778,\"#fb9f3a\"],[0.8888888888888888,\"#fdca26\"],[1.0,\"#f0f921\"]]}],\"choropleth\":[{\"type\":\"choropleth\",\"colorbar\":{\"outlinewidth\":0,\"ticks\":\"\"}}],\"histogram2d\":[{\"type\":\"histogram2d\",\"colorbar\":{\"outlinewidth\":0,\"ticks\":\"\"},\"colorscale\":[[0.0,\"#0d0887\"],[0.1111111111111111,\"#46039f\"],[0.2222222222222222,\"#7201a8\"],[0.3333333333333333,\"#9c179e\"],[0.4444444444444444,\"#bd3786\"],[0.5555555555555556,\"#d8576b\"],[0.6666666666666666,\"#ed7953\"],[0.7777777777777778,\"#fb9f3a\"],[0.8888888888888888,\"#fdca26\"],[1.0,\"#f0f921\"]]}],\"heatmap\":[{\"type\":\"heatmap\",\"colorbar\":{\"outlinewidth\":0,\"ticks\":\"\"},\"colorscale\":[[0.0,\"#0d0887\"],[0.1111111111111111,\"#46039f\"],[0.2222222222222222,\"#7201a8\"],[0.3333333333333333,\"#9c179e\"],[0.4444444444444444,\"#bd3786\"],[0.5555555555555556,\"#d8576b\"],[0.6666666666666666,\"#ed7953\"],[0.7777777777777778,\"#fb9f3a\"],[0.8888888888888888,\"#fdca26\"],[1.0,\"#f0f921\"]]}],\"heatmapgl\":[{\"type\":\"heatmapgl\",\"colorbar\":{\"outlinewidth\":0,\"ticks\":\"\"},\"colorscale\":[[0.0,\"#0d0887\"],[0.1111111111111111,\"#46039f\"],[0.2222222222222222,\"#7201a8\"],[0.3333333333333333,\"#9c179e\"],[0.4444444444444444,\"#bd3786\"],[0.5555555555555556,\"#d8576b\"],[0.6666666666666666,\"#ed7953\"],[0.7777777777777778,\"#fb9f3a\"],[0.8888888888888888,\"#fdca26\"],[1.0,\"#f0f921\"]]}],\"contourcarpet\":[{\"type\":\"contourcarpet\",\"colorbar\":{\"outlinewidth\":0,\"ticks\":\"\"}}],\"contour\":[{\"type\":\"contour\",\"colorbar\":{\"outlinewidth\":0,\"ticks\":\"\"},\"colorscale\":[[0.0,\"#0d0887\"],[0.1111111111111111,\"#46039f\"],[0.2222222222222222,\"#7201a8\"],[0.3333333333333333,\"#9c179e\"],[0.4444444444444444,\"#bd3786\"],[0.5555555555555556,\"#d8576b\"],[0.6666666666666666,\"#ed7953\"],[0.7777777777777778,\"#fb9f3a\"],[0.8888888888888888,\"#fdca26\"],[1.0,\"#f0f921\"]]}],\"surface\":[{\"type\":\"surface\",\"colorbar\":{\"outlinewidth\":0,\"ticks\":\"\"},\"colorscale\":[[0.0,\"#0d0887\"],[0.1111111111111111,\"#46039f\"],[0.2222222222222222,\"#7201a8\"],[0.3333333333333333,\"#9c179e\"],[0.4444444444444444,\"#bd3786\"],[0.5555555555555556,\"#d8576b\"],[0.6666666666666666,\"#ed7953\"],[0.7777777777777778,\"#fb9f3a\"],[0.8888888888888888,\"#fdca26\"],[1.0,\"#f0f921\"]]}],\"mesh3d\":[{\"type\":\"mesh3d\",\"colorbar\":{\"outlinewidth\":0,\"ticks\":\"\"}}],\"scatter\":[{\"fillpattern\":{\"fillmode\":\"overlay\",\"size\":10,\"solidity\":0.2},\"type\":\"scatter\"}],\"parcoords\":[{\"type\":\"parcoords\",\"line\":{\"colorbar\":{\"outlinewidth\":0,\"ticks\":\"\"}}}],\"scatterpolargl\":[{\"type\":\"scatterpolargl\",\"marker\":{\"colorbar\":{\"outlinewidth\":0,\"ticks\":\"\"}}}],\"bar\":[{\"error_x\":{\"color\":\"#2a3f5f\"},\"error_y\":{\"color\":\"#2a3f5f\"},\"marker\":{\"line\":{\"color\":\"white\",\"width\":0.5},\"pattern\":{\"fillmode\":\"overlay\",\"size\":10,\"solidity\":0.2}},\"type\":\"bar\"}],\"scattergeo\":[{\"type\":\"scattergeo\",\"marker\":{\"colorbar\":{\"outlinewidth\":0,\"ticks\":\"\"}}}],\"scatterpolar\":[{\"type\":\"scatterpolar\",\"marker\":{\"colorbar\":{\"outlinewidth\":0,\"ticks\":\"\"}}}],\"histogram\":[{\"marker\":{\"pattern\":{\"fillmode\":\"overlay\",\"size\":10,\"solidity\":0.2}},\"type\":\"histogram\"}],\"scattergl\":[{\"type\":\"scattergl\",\"marker\":{\"colorbar\":{\"outlinewidth\":0,\"ticks\":\"\"}}}],\"scatter3d\":[{\"type\":\"scatter3d\",\"line\":{\"colorbar\":{\"outlinewidth\":0,\"ticks\":\"\"}},\"marker\":{\"colorbar\":{\"outlinewidth\":0,\"ticks\":\"\"}}}],\"scattermapbox\":[{\"type\":\"scattermapbox\",\"marker\":{\"colorbar\":{\"outlinewidth\":0,\"ticks\":\"\"}}}],\"scatterternary\":[{\"type\":\"scatterternary\",\"marker\":{\"colorbar\":{\"outlinewidth\":0,\"ticks\":\"\"}}}],\"scattercarpet\":[{\"type\":\"scattercarpet\",\"marker\":{\"colorbar\":{\"outlinewidth\":0,\"ticks\":\"\"}}}],\"carpet\":[{\"aaxis\":{\"endlinecolor\":\"#2a3f5f\",\"gridcolor\":\"#C8D4E3\",\"linecolor\":\"#C8D4E3\",\"minorgridcolor\":\"#C8D4E3\",\"startlinecolor\":\"#2a3f5f\"},\"baxis\":{\"endlinecolor\":\"#2a3f5f\",\"gridcolor\":\"#C8D4E3\",\"linecolor\":\"#C8D4E3\",\"minorgridcolor\":\"#C8D4E3\",\"startlinecolor\":\"#2a3f5f\"},\"type\":\"carpet\"}],\"table\":[{\"cells\":{\"fill\":{\"color\":\"#EBF0F8\"},\"line\":{\"color\":\"white\"}},\"header\":{\"fill\":{\"color\":\"#C8D4E3\"},\"line\":{\"color\":\"white\"}},\"type\":\"table\"}],\"barpolar\":[{\"marker\":{\"line\":{\"color\":\"white\",\"width\":0.5},\"pattern\":{\"fillmode\":\"overlay\",\"size\":10,\"solidity\":0.2}},\"type\":\"barpolar\"}],\"pie\":[{\"automargin\":true,\"type\":\"pie\"}]},\"layout\":{\"autotypenumbers\":\"strict\",\"colorway\":[\"#636efa\",\"#EF553B\",\"#00cc96\",\"#ab63fa\",\"#FFA15A\",\"#19d3f3\",\"#FF6692\",\"#B6E880\",\"#FF97FF\",\"#FECB52\"],\"font\":{\"color\":\"#2a3f5f\"},\"hovermode\":\"closest\",\"hoverlabel\":{\"align\":\"left\"},\"paper_bgcolor\":\"white\",\"plot_bgcolor\":\"white\",\"polar\":{\"bgcolor\":\"white\",\"angularaxis\":{\"gridcolor\":\"#EBF0F8\",\"linecolor\":\"#EBF0F8\",\"ticks\":\"\"},\"radialaxis\":{\"gridcolor\":\"#EBF0F8\",\"linecolor\":\"#EBF0F8\",\"ticks\":\"\"}},\"ternary\":{\"bgcolor\":\"white\",\"aaxis\":{\"gridcolor\":\"#DFE8F3\",\"linecolor\":\"#A2B1C6\",\"ticks\":\"\"},\"baxis\":{\"gridcolor\":\"#DFE8F3\",\"linecolor\":\"#A2B1C6\",\"ticks\":\"\"},\"caxis\":{\"gridcolor\":\"#DFE8F3\",\"linecolor\":\"#A2B1C6\",\"ticks\":\"\"}},\"coloraxis\":{\"colorbar\":{\"outlinewidth\":0,\"ticks\":\"\"}},\"colorscale\":{\"sequential\":[[0.0,\"#0d0887\"],[0.1111111111111111,\"#46039f\"],[0.2222222222222222,\"#7201a8\"],[0.3333333333333333,\"#9c179e\"],[0.4444444444444444,\"#bd3786\"],[0.5555555555555556,\"#d8576b\"],[0.6666666666666666,\"#ed7953\"],[0.7777777777777778,\"#fb9f3a\"],[0.8888888888888888,\"#fdca26\"],[1.0,\"#f0f921\"]],\"sequentialminus\":[[0.0,\"#0d0887\"],[0.1111111111111111,\"#46039f\"],[0.2222222222222222,\"#7201a8\"],[0.3333333333333333,\"#9c179e\"],[0.4444444444444444,\"#bd3786\"],[0.5555555555555556,\"#d8576b\"],[0.6666666666666666,\"#ed7953\"],[0.7777777777777778,\"#fb9f3a\"],[0.8888888888888888,\"#fdca26\"],[1.0,\"#f0f921\"]],\"diverging\":[[0,\"#8e0152\"],[0.1,\"#c51b7d\"],[0.2,\"#de77ae\"],[0.3,\"#f1b6da\"],[0.4,\"#fde0ef\"],[0.5,\"#f7f7f7\"],[0.6,\"#e6f5d0\"],[0.7,\"#b8e186\"],[0.8,\"#7fbc41\"],[0.9,\"#4d9221\"],[1,\"#276419\"]]},\"xaxis\":{\"gridcolor\":\"#EBF0F8\",\"linecolor\":\"#EBF0F8\",\"ticks\":\"\",\"title\":{\"standoff\":15},\"zerolinecolor\":\"#EBF0F8\",\"automargin\":true,\"zerolinewidth\":2},\"yaxis\":{\"gridcolor\":\"#EBF0F8\",\"linecolor\":\"#EBF0F8\",\"ticks\":\"\",\"title\":{\"standoff\":15},\"zerolinecolor\":\"#EBF0F8\",\"automargin\":true,\"zerolinewidth\":2},\"scene\":{\"xaxis\":{\"backgroundcolor\":\"white\",\"gridcolor\":\"#DFE8F3\",\"linecolor\":\"#EBF0F8\",\"showbackground\":true,\"ticks\":\"\",\"zerolinecolor\":\"#EBF0F8\",\"gridwidth\":2},\"yaxis\":{\"backgroundcolor\":\"white\",\"gridcolor\":\"#DFE8F3\",\"linecolor\":\"#EBF0F8\",\"showbackground\":true,\"ticks\":\"\",\"zerolinecolor\":\"#EBF0F8\",\"gridwidth\":2},\"zaxis\":{\"backgroundcolor\":\"white\",\"gridcolor\":\"#DFE8F3\",\"linecolor\":\"#EBF0F8\",\"showbackground\":true,\"ticks\":\"\",\"zerolinecolor\":\"#EBF0F8\",\"gridwidth\":2}},\"shapedefaults\":{\"line\":{\"color\":\"#2a3f5f\"}},\"annotationdefaults\":{\"arrowcolor\":\"#2a3f5f\",\"arrowhead\":0,\"arrowwidth\":1},\"geo\":{\"bgcolor\":\"white\",\"landcolor\":\"white\",\"subunitcolor\":\"#C8D4E3\",\"showland\":true,\"showlakes\":true,\"lakecolor\":\"white\"},\"title\":{\"x\":0.05},\"mapbox\":{\"style\":\"light\"}}},\"xaxis\":{\"anchor\":\"y\",\"domain\":[0.0,1.0],\"title\":{\"text\":\"Dog movements\"}},\"yaxis\":{\"anchor\":\"x\",\"domain\":[0.0,1.0],\"title\":{\"text\":\"Frequency in dataset\"}},\"legend\":{\"tracegroupgap\":0},\"title\":{\"text\":\"Class distribution of Testing Dataset After Resampling\"},\"barmode\":\"relative\",\"width\":750},                        {\"responsive\": true}                    ).then(function(){\n",
              "                            \n",
              "var gd = document.getElementById('e572e85c-6521-4df1-abfe-f91c5082800a');\n",
              "var x = new MutationObserver(function (mutations, observer) {{\n",
              "        var display = window.getComputedStyle(gd).display;\n",
              "        if (!display || display === 'none') {{\n",
              "            console.log([gd, 'removed!']);\n",
              "            Plotly.purge(gd);\n",
              "            observer.disconnect();\n",
              "        }}\n",
              "}});\n",
              "\n",
              "// Listen for the removal of the full notebook cells\n",
              "var notebookContainer = gd.closest('#notebook-container');\n",
              "if (notebookContainer) {{\n",
              "    x.observe(notebookContainer, {childList: true});\n",
              "}}\n",
              "\n",
              "// Listen for the clearing of the current output cell\n",
              "var outputEl = gd.closest('.output');\n",
              "if (outputEl) {{\n",
              "    x.observe(outputEl, {childList: true});\n",
              "}}\n",
              "\n",
              "                        })                };                            </script>        </div>\n",
              "</body>\n",
              "</html>"
            ]
          },
          "metadata": {}
        },
        {
          "output_type": "stream",
          "name": "stdout",
          "text": [
            "Total number of samples in training dataset: 150372\n"
          ]
        }
      ],
      "source": [
        "# plot class distribution for training data\n",
        "fig = px.bar(\n",
        "    x=dataset.class_list,\n",
        "    y=y_train.sum(axis=0),\n",
        "    color_discrete_sequence=color_sequence,\n",
        "    labels={'x': \"Dog movements\", 'y':\"Frequency in dataset\"},\n",
        "    title=\"Class distribution of Training Dataset After Resampling\",\n",
        "    width=750\n",
        ")\n",
        "fig.show()\n",
        "\n",
        "# plot class distribution for testing data\n",
        "fig = px.bar(\n",
        "    x=dataset.class_list,\n",
        "    y=y_test.sum(axis=0),\n",
        "    color_discrete_sequence=color_sequence,\n",
        "    labels={'x': \"Dog movements\", 'y':\"Frequency in dataset\"},\n",
        "    title=\"Class distribution of Testing Dataset After Resampling\",\n",
        "    width=750\n",
        ")\n",
        "fig.show()\n",
        "\n",
        "# print out number of samples in training dataset\n",
        "print()\n",
        "print(f\"Total number of samples in training dataset: {y_train.shape[0]}\")"
      ]
    },
    {
      "cell_type": "markdown",
      "source": [
        "Yes! That is much nicer than before and in total we have a lot of rows in our dataset."
      ],
      "metadata": {
        "id": "CuryhrPLoktn"
      }
    },
    {
      "cell_type": "markdown",
      "metadata": {
        "id": "zYFKmirC7bGQ"
      },
      "source": [
        "## 4.3 Baseline Model - Deciscion Tree Classifier"
      ]
    },
    {
      "cell_type": "markdown",
      "source": [
        "We chose the decision tree classifier as our baseline model because it's inherently categorical and a very simple and easy-to-use model."
      ],
      "metadata": {
        "id": "h9SzohNupEHX"
      }
    },
    {
      "cell_type": "markdown",
      "metadata": {
        "id": "0jPfJ7OO7bGQ"
      },
      "source": [
        "### 4.3.1 Hyperparmeter tuning"
      ]
    },
    {
      "cell_type": "markdown",
      "source": [
        "Here, we optimize the minimum samples per leaf in the final decision tree and the minimum number of samples required for a split."
      ],
      "metadata": {
        "id": "2q0bPTOlqMYq"
      }
    },
    {
      "cell_type": "code",
      "execution_count": null,
      "metadata": {
        "colab": {
          "base_uri": "https://localhost:8080/"
        },
        "outputId": "1d106634-6106-480e-cb0d-12a49e11936c",
        "id": "t42p71pusoDA"
      },
      "outputs": [
        {
          "output_type": "stream",
          "name": "stdout",
          "text": [
            "Best parameters: {'min_samples_leaf': 8, 'min_samples_split': 32}\n"
          ]
        }
      ],
      "source": [
        "# initialize DecisionTree model\n",
        "model = DecisionTreeClassifier()\n",
        "\n",
        "# define parameters for grid search\n",
        "param_grid = {'min_samples_leaf': [8, 16] ,'min_samples_split': [32, 64]}\n",
        "# use grid search to find the best hyperparameters\n",
        "grid_search = GridSearchCV(model, param_grid, cv=4)\n",
        "grid_search.fit(x_train, y_train)\n",
        "print(f\"Best parameters: {grid_search.best_params_}\")"
      ]
    },
    {
      "cell_type": "markdown",
      "metadata": {
        "id": "EyNrTR9K7bGQ"
      },
      "source": [
        "### 4.3.2 Training with Tuned Hyperparameters"
      ]
    },
    {
      "cell_type": "code",
      "execution_count": null,
      "metadata": {
        "colab": {
          "base_uri": "https://localhost:8080/"
        },
        "outputId": "661e448c-bcf7-4364-c6b8-26ac1fff3368",
        "id": "1iBJGywEsqof"
      },
      "outputs": [
        {
          "output_type": "stream",
          "name": "stdout",
          "text": [
            "Starting training Decision Tree\n",
            "Training took 298.0 s\n"
          ]
        }
      ],
      "source": [
        "# train the model again on the best hyperparameters\n",
        "model.set_params(**grid_search.best_params_)\n",
        "print(f\"Starting training Decision Tree\")\n",
        "t0 = time.time()\n",
        "model.fit(x_train, y_train)\n",
        "t1 = time.time()\n",
        "duration = t1-t0\n",
        "print(f\"Training took {duration:.1f} s\")"
      ]
    },
    {
      "cell_type": "markdown",
      "metadata": {
        "id": "_NcxZqfy7bGQ"
      },
      "source": [
        "### 4.3.3 Model Evaluation"
      ]
    },
    {
      "cell_type": "markdown",
      "source": [
        "For multi-label problems we cannot determine a single confusion matrix. Instead, we calculate one confusion matrix for each class."
      ],
      "metadata": {
        "id": "WnvBl7up4BSZ"
      }
    },
    {
      "cell_type": "code",
      "execution_count": null,
      "metadata": {
        "colab": {
          "base_uri": "https://localhost:8080/",
          "height": 653
        },
        "outputId": "2d978e33-4432-4b0e-9885-1d1abf3ce5b2",
        "id": "aVwyOD2stoQp"
      },
      "outputs": [
        {
          "output_type": "stream",
          "name": "stdout",
          "text": [
            "Training accuracy: 92.41 %\n",
            "Testing accuracy: 67.96 %\n"
          ]
        },
        {
          "output_type": "display_data",
          "data": {
            "text/html": [
              "<html>\n",
              "<head><meta charset=\"utf-8\" /></head>\n",
              "<body>\n",
              "    <div>            <script src=\"https://cdnjs.cloudflare.com/ajax/libs/mathjax/2.7.5/MathJax.js?config=TeX-AMS-MML_SVG\"></script><script type=\"text/javascript\">if (window.MathJax && window.MathJax.Hub && window.MathJax.Hub.Config) {window.MathJax.Hub.Config({SVG: {font: \"STIX-Web\"}});}</script>                <script type=\"text/javascript\">window.PlotlyConfig = {MathJaxConfig: 'local'};</script>\n",
              "        <script charset=\"utf-8\" src=\"https://cdn.plot.ly/plotly-2.24.1.min.js\"></script>                <div id=\"7ea101c5-7d42-41a9-950d-b32c0bfd82b1\" class=\"plotly-graph-div\" style=\"height:600px; width:750px;\"></div>            <script type=\"text/javascript\">                                    window.PLOTLYENV=window.PLOTLYENV || {};                                    if (document.getElementById(\"7ea101c5-7d42-41a9-950d-b32c0bfd82b1\")) {                    Plotly.newPlot(                        \"7ea101c5-7d42-41a9-950d-b32c0bfd82b1\",                        [{\"coloraxis\":\"coloraxis\",\"name\":\"Drinking or Eating\",\"text\":[[\"2497\",\"2880\"],[\"30227\",\"1645\"]],\"texttemplate\":\"%{text}\",\"x\":[\"False\",\"True\"],\"y\":[\"True\",\"False\"],\"z\":[[2497,2880],[30227,1645]],\"type\":\"heatmap\",\"xaxis\":\"x\",\"yaxis\":\"y\"},{\"coloraxis\":\"coloraxis\",\"name\":\"Galloping\",\"text\":[[\"1275\",\"3726\"],[\"31783\",\"465\"]],\"texttemplate\":\"%{text}\",\"x\":[\"False\",\"True\"],\"y\":[\"True\",\"False\"],\"z\":[[1275,3726],[31783,465]],\"type\":\"heatmap\",\"xaxis\":\"x2\",\"yaxis\":\"y2\"},{\"coloraxis\":\"coloraxis\",\"name\":\"Jumping or Pacing\",\"text\":[[\"3350\",\"1651\"],[\"31108\",\"1140\"]],\"texttemplate\":\"%{text}\",\"x\":[\"False\",\"True\"],\"y\":[\"True\",\"False\"],\"z\":[[3350,1651],[31108,1140]],\"type\":\"heatmap\",\"xaxis\":\"x3\",\"yaxis\":\"y3\"},{\"coloraxis\":\"coloraxis\",\"name\":\"Playing or Tugging\",\"text\":[[\"1832\",\"4413\"],[\"30056\",\"948\"]],\"texttemplate\":\"%{text}\",\"x\":[\"False\",\"True\"],\"y\":[\"True\",\"False\"],\"z\":[[1832,4413],[30056,948]],\"type\":\"heatmap\",\"xaxis\":\"x4\",\"yaxis\":\"y4\"},{\"coloraxis\":\"coloraxis\",\"name\":\"Shaking\",\"text\":[[\"338\",\"4706\"],[\"32144\",\"61\"]],\"texttemplate\":\"%{text}\",\"x\":[\"False\",\"True\"],\"y\":[\"True\",\"False\"],\"z\":[[338,4706],[32144,61]],\"type\":\"heatmap\",\"xaxis\":\"x5\",\"yaxis\":\"y5\"},{\"coloraxis\":\"coloraxis\",\"name\":\"Sniffing\",\"text\":[[\"701\",\"4299\"],[\"31779\",\"470\"]],\"texttemplate\":\"%{text}\",\"x\":[\"False\",\"True\"],\"y\":[\"True\",\"False\"],\"z\":[[701,4299],[31779,470]],\"type\":\"heatmap\",\"xaxis\":\"x6\",\"yaxis\":\"y6\"},{\"coloraxis\":\"coloraxis\",\"name\":\"Standing or Sitting or Lying chest\",\"text\":[[\"893\",\"4323\"],[\"31346\",\"687\"]],\"texttemplate\":\"%{text}\",\"x\":[\"False\",\"True\"],\"y\":[\"True\",\"False\"],\"z\":[[893,4323],[31346,687]],\"type\":\"heatmap\",\"xaxis\":\"x7\",\"yaxis\":\"y7\"},{\"coloraxis\":\"coloraxis\",\"name\":\"Trotting\",\"text\":[[\"1064\",\"3940\"],[\"29654\",\"2591\"]],\"texttemplate\":\"%{text}\",\"x\":[\"False\",\"True\"],\"y\":[\"True\",\"False\"],\"z\":[[1064,3940],[29654,2591]],\"type\":\"heatmap\",\"xaxis\":\"x8\",\"yaxis\":\"y8\"},{\"coloraxis\":\"coloraxis\",\"name\":\"Walking\",\"text\":[[\"1052\",\"3976\"],[\"30586\",\"1635\"]],\"texttemplate\":\"%{text}\",\"x\":[\"False\",\"True\"],\"y\":[\"True\",\"False\"],\"z\":[[1052,3976],[30586,1635]],\"type\":\"heatmap\",\"xaxis\":\"x9\",\"yaxis\":\"y9\"}],                        {\"template\":{\"data\":{\"histogram2dcontour\":[{\"type\":\"histogram2dcontour\",\"colorbar\":{\"outlinewidth\":0,\"ticks\":\"\"},\"colorscale\":[[0.0,\"#0d0887\"],[0.1111111111111111,\"#46039f\"],[0.2222222222222222,\"#7201a8\"],[0.3333333333333333,\"#9c179e\"],[0.4444444444444444,\"#bd3786\"],[0.5555555555555556,\"#d8576b\"],[0.6666666666666666,\"#ed7953\"],[0.7777777777777778,\"#fb9f3a\"],[0.8888888888888888,\"#fdca26\"],[1.0,\"#f0f921\"]]}],\"choropleth\":[{\"type\":\"choropleth\",\"colorbar\":{\"outlinewidth\":0,\"ticks\":\"\"}}],\"histogram2d\":[{\"type\":\"histogram2d\",\"colorbar\":{\"outlinewidth\":0,\"ticks\":\"\"},\"colorscale\":[[0.0,\"#0d0887\"],[0.1111111111111111,\"#46039f\"],[0.2222222222222222,\"#7201a8\"],[0.3333333333333333,\"#9c179e\"],[0.4444444444444444,\"#bd3786\"],[0.5555555555555556,\"#d8576b\"],[0.6666666666666666,\"#ed7953\"],[0.7777777777777778,\"#fb9f3a\"],[0.8888888888888888,\"#fdca26\"],[1.0,\"#f0f921\"]]}],\"heatmap\":[{\"type\":\"heatmap\",\"colorbar\":{\"outlinewidth\":0,\"ticks\":\"\"},\"colorscale\":[[0.0,\"#0d0887\"],[0.1111111111111111,\"#46039f\"],[0.2222222222222222,\"#7201a8\"],[0.3333333333333333,\"#9c179e\"],[0.4444444444444444,\"#bd3786\"],[0.5555555555555556,\"#d8576b\"],[0.6666666666666666,\"#ed7953\"],[0.7777777777777778,\"#fb9f3a\"],[0.8888888888888888,\"#fdca26\"],[1.0,\"#f0f921\"]]}],\"heatmapgl\":[{\"type\":\"heatmapgl\",\"colorbar\":{\"outlinewidth\":0,\"ticks\":\"\"},\"colorscale\":[[0.0,\"#0d0887\"],[0.1111111111111111,\"#46039f\"],[0.2222222222222222,\"#7201a8\"],[0.3333333333333333,\"#9c179e\"],[0.4444444444444444,\"#bd3786\"],[0.5555555555555556,\"#d8576b\"],[0.6666666666666666,\"#ed7953\"],[0.7777777777777778,\"#fb9f3a\"],[0.8888888888888888,\"#fdca26\"],[1.0,\"#f0f921\"]]}],\"contourcarpet\":[{\"type\":\"contourcarpet\",\"colorbar\":{\"outlinewidth\":0,\"ticks\":\"\"}}],\"contour\":[{\"type\":\"contour\",\"colorbar\":{\"outlinewidth\":0,\"ticks\":\"\"},\"colorscale\":[[0.0,\"#0d0887\"],[0.1111111111111111,\"#46039f\"],[0.2222222222222222,\"#7201a8\"],[0.3333333333333333,\"#9c179e\"],[0.4444444444444444,\"#bd3786\"],[0.5555555555555556,\"#d8576b\"],[0.6666666666666666,\"#ed7953\"],[0.7777777777777778,\"#fb9f3a\"],[0.8888888888888888,\"#fdca26\"],[1.0,\"#f0f921\"]]}],\"surface\":[{\"type\":\"surface\",\"colorbar\":{\"outlinewidth\":0,\"ticks\":\"\"},\"colorscale\":[[0.0,\"#0d0887\"],[0.1111111111111111,\"#46039f\"],[0.2222222222222222,\"#7201a8\"],[0.3333333333333333,\"#9c179e\"],[0.4444444444444444,\"#bd3786\"],[0.5555555555555556,\"#d8576b\"],[0.6666666666666666,\"#ed7953\"],[0.7777777777777778,\"#fb9f3a\"],[0.8888888888888888,\"#fdca26\"],[1.0,\"#f0f921\"]]}],\"mesh3d\":[{\"type\":\"mesh3d\",\"colorbar\":{\"outlinewidth\":0,\"ticks\":\"\"}}],\"scatter\":[{\"fillpattern\":{\"fillmode\":\"overlay\",\"size\":10,\"solidity\":0.2},\"type\":\"scatter\"}],\"parcoords\":[{\"type\":\"parcoords\",\"line\":{\"colorbar\":{\"outlinewidth\":0,\"ticks\":\"\"}}}],\"scatterpolargl\":[{\"type\":\"scatterpolargl\",\"marker\":{\"colorbar\":{\"outlinewidth\":0,\"ticks\":\"\"}}}],\"bar\":[{\"error_x\":{\"color\":\"#2a3f5f\"},\"error_y\":{\"color\":\"#2a3f5f\"},\"marker\":{\"line\":{\"color\":\"white\",\"width\":0.5},\"pattern\":{\"fillmode\":\"overlay\",\"size\":10,\"solidity\":0.2}},\"type\":\"bar\"}],\"scattergeo\":[{\"type\":\"scattergeo\",\"marker\":{\"colorbar\":{\"outlinewidth\":0,\"ticks\":\"\"}}}],\"scatterpolar\":[{\"type\":\"scatterpolar\",\"marker\":{\"colorbar\":{\"outlinewidth\":0,\"ticks\":\"\"}}}],\"histogram\":[{\"marker\":{\"pattern\":{\"fillmode\":\"overlay\",\"size\":10,\"solidity\":0.2}},\"type\":\"histogram\"}],\"scattergl\":[{\"type\":\"scattergl\",\"marker\":{\"colorbar\":{\"outlinewidth\":0,\"ticks\":\"\"}}}],\"scatter3d\":[{\"type\":\"scatter3d\",\"line\":{\"colorbar\":{\"outlinewidth\":0,\"ticks\":\"\"}},\"marker\":{\"colorbar\":{\"outlinewidth\":0,\"ticks\":\"\"}}}],\"scattermapbox\":[{\"type\":\"scattermapbox\",\"marker\":{\"colorbar\":{\"outlinewidth\":0,\"ticks\":\"\"}}}],\"scatterternary\":[{\"type\":\"scatterternary\",\"marker\":{\"colorbar\":{\"outlinewidth\":0,\"ticks\":\"\"}}}],\"scattercarpet\":[{\"type\":\"scattercarpet\",\"marker\":{\"colorbar\":{\"outlinewidth\":0,\"ticks\":\"\"}}}],\"carpet\":[{\"aaxis\":{\"endlinecolor\":\"#2a3f5f\",\"gridcolor\":\"#C8D4E3\",\"linecolor\":\"#C8D4E3\",\"minorgridcolor\":\"#C8D4E3\",\"startlinecolor\":\"#2a3f5f\"},\"baxis\":{\"endlinecolor\":\"#2a3f5f\",\"gridcolor\":\"#C8D4E3\",\"linecolor\":\"#C8D4E3\",\"minorgridcolor\":\"#C8D4E3\",\"startlinecolor\":\"#2a3f5f\"},\"type\":\"carpet\"}],\"table\":[{\"cells\":{\"fill\":{\"color\":\"#EBF0F8\"},\"line\":{\"color\":\"white\"}},\"header\":{\"fill\":{\"color\":\"#C8D4E3\"},\"line\":{\"color\":\"white\"}},\"type\":\"table\"}],\"barpolar\":[{\"marker\":{\"line\":{\"color\":\"white\",\"width\":0.5},\"pattern\":{\"fillmode\":\"overlay\",\"size\":10,\"solidity\":0.2}},\"type\":\"barpolar\"}],\"pie\":[{\"automargin\":true,\"type\":\"pie\"}]},\"layout\":{\"autotypenumbers\":\"strict\",\"colorway\":[\"#636efa\",\"#EF553B\",\"#00cc96\",\"#ab63fa\",\"#FFA15A\",\"#19d3f3\",\"#FF6692\",\"#B6E880\",\"#FF97FF\",\"#FECB52\"],\"font\":{\"color\":\"#2a3f5f\"},\"hovermode\":\"closest\",\"hoverlabel\":{\"align\":\"left\"},\"paper_bgcolor\":\"white\",\"plot_bgcolor\":\"white\",\"polar\":{\"bgcolor\":\"white\",\"angularaxis\":{\"gridcolor\":\"#EBF0F8\",\"linecolor\":\"#EBF0F8\",\"ticks\":\"\"},\"radialaxis\":{\"gridcolor\":\"#EBF0F8\",\"linecolor\":\"#EBF0F8\",\"ticks\":\"\"}},\"ternary\":{\"bgcolor\":\"white\",\"aaxis\":{\"gridcolor\":\"#DFE8F3\",\"linecolor\":\"#A2B1C6\",\"ticks\":\"\"},\"baxis\":{\"gridcolor\":\"#DFE8F3\",\"linecolor\":\"#A2B1C6\",\"ticks\":\"\"},\"caxis\":{\"gridcolor\":\"#DFE8F3\",\"linecolor\":\"#A2B1C6\",\"ticks\":\"\"}},\"coloraxis\":{\"colorbar\":{\"outlinewidth\":0,\"ticks\":\"\"}},\"colorscale\":{\"sequential\":[[0.0,\"#0d0887\"],[0.1111111111111111,\"#46039f\"],[0.2222222222222222,\"#7201a8\"],[0.3333333333333333,\"#9c179e\"],[0.4444444444444444,\"#bd3786\"],[0.5555555555555556,\"#d8576b\"],[0.6666666666666666,\"#ed7953\"],[0.7777777777777778,\"#fb9f3a\"],[0.8888888888888888,\"#fdca26\"],[1.0,\"#f0f921\"]],\"sequentialminus\":[[0.0,\"#0d0887\"],[0.1111111111111111,\"#46039f\"],[0.2222222222222222,\"#7201a8\"],[0.3333333333333333,\"#9c179e\"],[0.4444444444444444,\"#bd3786\"],[0.5555555555555556,\"#d8576b\"],[0.6666666666666666,\"#ed7953\"],[0.7777777777777778,\"#fb9f3a\"],[0.8888888888888888,\"#fdca26\"],[1.0,\"#f0f921\"]],\"diverging\":[[0,\"#8e0152\"],[0.1,\"#c51b7d\"],[0.2,\"#de77ae\"],[0.3,\"#f1b6da\"],[0.4,\"#fde0ef\"],[0.5,\"#f7f7f7\"],[0.6,\"#e6f5d0\"],[0.7,\"#b8e186\"],[0.8,\"#7fbc41\"],[0.9,\"#4d9221\"],[1,\"#276419\"]]},\"xaxis\":{\"gridcolor\":\"#EBF0F8\",\"linecolor\":\"#EBF0F8\",\"ticks\":\"\",\"title\":{\"standoff\":15},\"zerolinecolor\":\"#EBF0F8\",\"automargin\":true,\"zerolinewidth\":2},\"yaxis\":{\"gridcolor\":\"#EBF0F8\",\"linecolor\":\"#EBF0F8\",\"ticks\":\"\",\"title\":{\"standoff\":15},\"zerolinecolor\":\"#EBF0F8\",\"automargin\":true,\"zerolinewidth\":2},\"scene\":{\"xaxis\":{\"backgroundcolor\":\"white\",\"gridcolor\":\"#DFE8F3\",\"linecolor\":\"#EBF0F8\",\"showbackground\":true,\"ticks\":\"\",\"zerolinecolor\":\"#EBF0F8\",\"gridwidth\":2},\"yaxis\":{\"backgroundcolor\":\"white\",\"gridcolor\":\"#DFE8F3\",\"linecolor\":\"#EBF0F8\",\"showbackground\":true,\"ticks\":\"\",\"zerolinecolor\":\"#EBF0F8\",\"gridwidth\":2},\"zaxis\":{\"backgroundcolor\":\"white\",\"gridcolor\":\"#DFE8F3\",\"linecolor\":\"#EBF0F8\",\"showbackground\":true,\"ticks\":\"\",\"zerolinecolor\":\"#EBF0F8\",\"gridwidth\":2}},\"shapedefaults\":{\"line\":{\"color\":\"#2a3f5f\"}},\"annotationdefaults\":{\"arrowcolor\":\"#2a3f5f\",\"arrowhead\":0,\"arrowwidth\":1},\"geo\":{\"bgcolor\":\"white\",\"landcolor\":\"white\",\"subunitcolor\":\"#C8D4E3\",\"showland\":true,\"showlakes\":true,\"lakecolor\":\"white\"},\"title\":{\"x\":0.05},\"mapbox\":{\"style\":\"light\"}}},\"xaxis\":{\"anchor\":\"y\",\"domain\":[0.0,0.2888888888888889]},\"yaxis\":{\"anchor\":\"x\",\"domain\":[0.7777777777777778,1.0],\"title\":{\"text\":\"Actual\"}},\"xaxis2\":{\"anchor\":\"y2\",\"domain\":[0.35555555555555557,0.6444444444444445]},\"yaxis2\":{\"anchor\":\"x2\",\"domain\":[0.7777777777777778,1.0]},\"xaxis3\":{\"anchor\":\"y3\",\"domain\":[0.7111111111111111,1.0]},\"yaxis3\":{\"anchor\":\"x3\",\"domain\":[0.7777777777777778,1.0]},\"xaxis4\":{\"anchor\":\"y4\",\"domain\":[0.0,0.2888888888888889]},\"yaxis4\":{\"anchor\":\"x4\",\"domain\":[0.3888888888888889,0.6111111111111112],\"title\":{\"text\":\"Actual\"}},\"xaxis5\":{\"anchor\":\"y5\",\"domain\":[0.35555555555555557,0.6444444444444445]},\"yaxis5\":{\"anchor\":\"x5\",\"domain\":[0.3888888888888889,0.6111111111111112]},\"xaxis6\":{\"anchor\":\"y6\",\"domain\":[0.7111111111111111,1.0]},\"yaxis6\":{\"anchor\":\"x6\",\"domain\":[0.3888888888888889,0.6111111111111112]},\"xaxis7\":{\"anchor\":\"y7\",\"domain\":[0.0,0.2888888888888889],\"title\":{\"text\":\"Predicted\"}},\"yaxis7\":{\"anchor\":\"x7\",\"domain\":[0.0,0.22222222222222224],\"title\":{\"text\":\"Actual\"}},\"xaxis8\":{\"anchor\":\"y8\",\"domain\":[0.35555555555555557,0.6444444444444445],\"title\":{\"text\":\"Predicted\"}},\"yaxis8\":{\"anchor\":\"x8\",\"domain\":[0.0,0.22222222222222224]},\"xaxis9\":{\"anchor\":\"y9\",\"domain\":[0.7111111111111111,1.0],\"title\":{\"text\":\"Predicted\"}},\"yaxis9\":{\"anchor\":\"x9\",\"domain\":[0.0,0.22222222222222224]},\"annotations\":[{\"font\":{\"size\":16},\"showarrow\":false,\"text\":\"Drinking or Eating\",\"x\":0.14444444444444446,\"xanchor\":\"center\",\"xref\":\"paper\",\"y\":1.0,\"yanchor\":\"bottom\",\"yref\":\"paper\"},{\"font\":{\"size\":16},\"showarrow\":false,\"text\":\"Galloping\",\"x\":0.5,\"xanchor\":\"center\",\"xref\":\"paper\",\"y\":1.0,\"yanchor\":\"bottom\",\"yref\":\"paper\"},{\"font\":{\"size\":16},\"showarrow\":false,\"text\":\"Jumping or Pacing\",\"x\":0.8555555555555556,\"xanchor\":\"center\",\"xref\":\"paper\",\"y\":1.0,\"yanchor\":\"bottom\",\"yref\":\"paper\"},{\"font\":{\"size\":16},\"showarrow\":false,\"text\":\"Playing or Tugging\",\"x\":0.14444444444444446,\"xanchor\":\"center\",\"xref\":\"paper\",\"y\":0.6111111111111112,\"yanchor\":\"bottom\",\"yref\":\"paper\"},{\"font\":{\"size\":16},\"showarrow\":false,\"text\":\"Shaking\",\"x\":0.5,\"xanchor\":\"center\",\"xref\":\"paper\",\"y\":0.6111111111111112,\"yanchor\":\"bottom\",\"yref\":\"paper\"},{\"font\":{\"size\":16},\"showarrow\":false,\"text\":\"Sniffing\",\"x\":0.8555555555555556,\"xanchor\":\"center\",\"xref\":\"paper\",\"y\":0.6111111111111112,\"yanchor\":\"bottom\",\"yref\":\"paper\"},{\"font\":{\"size\":16},\"showarrow\":false,\"text\":\"Standing or Sitting or Lying chest\",\"x\":0.14444444444444446,\"xanchor\":\"center\",\"xref\":\"paper\",\"y\":0.22222222222222224,\"yanchor\":\"bottom\",\"yref\":\"paper\"},{\"font\":{\"size\":16},\"showarrow\":false,\"text\":\"Trotting\",\"x\":0.5,\"xanchor\":\"center\",\"xref\":\"paper\",\"y\":0.22222222222222224,\"yanchor\":\"bottom\",\"yref\":\"paper\"},{\"font\":{\"size\":16},\"showarrow\":false,\"text\":\"Walking\",\"x\":0.8555555555555556,\"xanchor\":\"center\",\"xref\":\"paper\",\"y\":0.22222222222222224,\"yanchor\":\"bottom\",\"yref\":\"paper\"}],\"coloraxis\":{\"colorscale\":[[0.0,\"#000004\"],[0.1111111111111111,\"#1b0c41\"],[0.2222222222222222,\"#4a0c6b\"],[0.3333333333333333,\"#781c6d\"],[0.4444444444444444,\"#a52c60\"],[0.5555555555555556,\"#cf4446\"],[0.6666666666666666,\"#ed6925\"],[0.7777777777777778,\"#fb9b06\"],[0.8888888888888888,\"#f7d13d\"],[1.0,\"#fcffa4\"]]},\"title\":{\"text\":\"Confusion matrices for Decision Tree\"},\"width\":750,\"height\":600},                        {\"responsive\": true}                    ).then(function(){\n",
              "                            \n",
              "var gd = document.getElementById('7ea101c5-7d42-41a9-950d-b32c0bfd82b1');\n",
              "var x = new MutationObserver(function (mutations, observer) {{\n",
              "        var display = window.getComputedStyle(gd).display;\n",
              "        if (!display || display === 'none') {{\n",
              "            console.log([gd, 'removed!']);\n",
              "            Plotly.purge(gd);\n",
              "            observer.disconnect();\n",
              "        }}\n",
              "}});\n",
              "\n",
              "// Listen for the removal of the full notebook cells\n",
              "var notebookContainer = gd.closest('#notebook-container');\n",
              "if (notebookContainer) {{\n",
              "    x.observe(notebookContainer, {childList: true});\n",
              "}}\n",
              "\n",
              "// Listen for the clearing of the current output cell\n",
              "var outputEl = gd.closest('.output');\n",
              "if (outputEl) {{\n",
              "    x.observe(outputEl, {childList: true});\n",
              "}}\n",
              "\n",
              "                        })                };                            </script>        </div>\n",
              "</body>\n",
              "</html>"
            ]
          },
          "metadata": {}
        }
      ],
      "source": [
        "# model evaluation on training data\n",
        "train_accuracy = model.score(x_train, y_train)\n",
        "print(f\"Training accuracy: {train_accuracy*100:.2f} %\")\n",
        "# model evaluation on testing data\n",
        "test_accuracy = model.score(x_test, y_test)\n",
        "print(f\"Testing accuracy: {test_accuracy*100:.2f} %\")\n",
        "\n",
        "# compute confusion matrix on test data\n",
        "y_pred = model.predict(x_test)\n",
        "confusion_matrices = sklearn.metrics.multilabel_confusion_matrix(y_test, y_pred)\n",
        "# plot the multil-label confusion matrix\n",
        "classification.plot_confusion_matrices(confusion_matrices, dataset.class_list, title=\"Confusion matrices for Decision Tree\")\n",
        "\n",
        "# save model performance\n",
        "model_performances.add(\n",
        "    ModelPerformance(name='Decision Tree', test_accuracy=test_accuracy, train_duration=duration)\n",
        ")"
      ]
    },
    {
      "cell_type": "markdown",
      "source": [
        "There's a lot of overfitting with this model. One obvious downside to the decision tree is that the construct of time is not represented in the model."
      ],
      "metadata": {
        "id": "FCsmgCHfppVD"
      }
    },
    {
      "cell_type": "markdown",
      "metadata": {
        "id": "XzcLG1_N7bGQ"
      },
      "source": [
        "## 4.5 A Small Upgrade - Random Forest Classifier"
      ]
    },
    {
      "cell_type": "markdown",
      "source": [
        "Let's try again with one of the most popular categorical predictors."
      ],
      "metadata": {
        "id": "ClD4pasgrnzB"
      }
    },
    {
      "cell_type": "markdown",
      "metadata": {
        "id": "T05LrNO47bGQ"
      },
      "source": [
        "### 4.5.1 Hyperparmeter tuning"
      ]
    },
    {
      "cell_type": "code",
      "source": [
        "# initialize DecisionTree model\n",
        "model = RandomForestClassifier(n_jobs=-1)\n",
        "\n",
        "# define parameters for grid search\n",
        "param_grid = {'n_estimators': [50, 100], 'min_samples_split': [32, 64]}\n",
        "# use grid search to find the best hyper-parameters\n",
        "grid_search = GridSearchCV(model, param_grid, cv=4)\n",
        "grid_search.fit(x_train, y_train)\n",
        "print(f\"Best parameters: {grid_search.best_params_}\")"
      ],
      "metadata": {
        "colab": {
          "base_uri": "https://localhost:8080/"
        },
        "id": "4JxERh_JqTIV",
        "outputId": "6f607c1c-1244-4a81-e98f-3a4e6b23a13a"
      },
      "execution_count": null,
      "outputs": [
        {
          "output_type": "stream",
          "name": "stdout",
          "text": [
            "Best parameters: {'min_samples_split': 32, 'n_estimators': 50}\n"
          ]
        }
      ]
    },
    {
      "cell_type": "markdown",
      "metadata": {
        "id": "l19KKuce7bGQ"
      },
      "source": [
        "### 4.5.2 Training with Tuned Hyperparameters"
      ]
    },
    {
      "cell_type": "code",
      "source": [
        "# train the model again on the best hyperparameters\n",
        "model.set_params(**grid_search.best_params_, n_jobs=-1)\n",
        "print(f\"Starting training Random Forest\")\n",
        "t0 = time.time()\n",
        "model.fit(x_train, y_train)\n",
        "t1 = time.time()\n",
        "duration = t1-t0\n",
        "print(f\"Training took {duration:.1f} s\")"
      ],
      "metadata": {
        "colab": {
          "base_uri": "https://localhost:8080/"
        },
        "id": "epZHdkMBqvkQ",
        "outputId": "c9d4d61f-205d-452d-ea94-ba959140a1c3"
      },
      "execution_count": null,
      "outputs": [
        {
          "output_type": "stream",
          "name": "stdout",
          "text": [
            "Starting training Random Forest\n",
            "Training took 457.5 s\n"
          ]
        }
      ]
    },
    {
      "cell_type": "markdown",
      "metadata": {
        "id": "Nifo7dHv7bGQ"
      },
      "source": [
        "### 4.5.3 Model Evaluation"
      ]
    },
    {
      "cell_type": "code",
      "execution_count": null,
      "metadata": {
        "colab": {
          "base_uri": "https://localhost:8080/",
          "height": 653
        },
        "outputId": "e7fa95e3-7f77-4013-c30c-c6566ca0e62f",
        "id": "irjerZmftuIW"
      },
      "outputs": [
        {
          "output_type": "stream",
          "name": "stdout",
          "text": [
            "Training accuracy: 97.81 %\n",
            "Testing accuracy: 73.45 %\n"
          ]
        },
        {
          "output_type": "display_data",
          "data": {
            "text/html": [
              "<html>\n",
              "<head><meta charset=\"utf-8\" /></head>\n",
              "<body>\n",
              "    <div>            <script src=\"https://cdnjs.cloudflare.com/ajax/libs/mathjax/2.7.5/MathJax.js?config=TeX-AMS-MML_SVG\"></script><script type=\"text/javascript\">if (window.MathJax && window.MathJax.Hub && window.MathJax.Hub.Config) {window.MathJax.Hub.Config({SVG: {font: \"STIX-Web\"}});}</script>                <script type=\"text/javascript\">window.PlotlyConfig = {MathJaxConfig: 'local'};</script>\n",
              "        <script charset=\"utf-8\" src=\"https://cdn.plot.ly/plotly-2.24.1.min.js\"></script>                <div id=\"1eea3c95-f48b-43a1-958c-1bc61eb7f052\" class=\"plotly-graph-div\" style=\"height:600px; width:750px;\"></div>            <script type=\"text/javascript\">                                    window.PLOTLYENV=window.PLOTLYENV || {};                                    if (document.getElementById(\"1eea3c95-f48b-43a1-958c-1bc61eb7f052\")) {                    Plotly.newPlot(                        \"1eea3c95-f48b-43a1-958c-1bc61eb7f052\",                        [{\"coloraxis\":\"coloraxis\",\"name\":\"Drinking or Eating\",\"text\":[[\"2227\",\"3150\"],[\"31601\",\"271\"]],\"texttemplate\":\"%{text}\",\"x\":[\"False\",\"True\"],\"y\":[\"True\",\"False\"],\"z\":[[2227,3150],[31601,271]],\"type\":\"heatmap\",\"xaxis\":\"x\",\"yaxis\":\"y\"},{\"coloraxis\":\"coloraxis\",\"name\":\"Galloping\",\"text\":[[\"1630\",\"3371\"],[\"32213\",\"35\"]],\"texttemplate\":\"%{text}\",\"x\":[\"False\",\"True\"],\"y\":[\"True\",\"False\"],\"z\":[[1630,3371],[32213,35]],\"type\":\"heatmap\",\"xaxis\":\"x2\",\"yaxis\":\"y2\"},{\"coloraxis\":\"coloraxis\",\"name\":\"Jumping or Pacing\",\"text\":[[\"3983\",\"1018\"],[\"32243\",\"5\"]],\"texttemplate\":\"%{text}\",\"x\":[\"False\",\"True\"],\"y\":[\"True\",\"False\"],\"z\":[[3983,1018],[32243,5]],\"type\":\"heatmap\",\"xaxis\":\"x3\",\"yaxis\":\"y3\"},{\"coloraxis\":\"coloraxis\",\"name\":\"Playing or Tugging\",\"text\":[[\"1425\",\"4820\"],[\"30792\",\"212\"]],\"texttemplate\":\"%{text}\",\"x\":[\"False\",\"True\"],\"y\":[\"True\",\"False\"],\"z\":[[1425,4820],[30792,212]],\"type\":\"heatmap\",\"xaxis\":\"x4\",\"yaxis\":\"y4\"},{\"coloraxis\":\"coloraxis\",\"name\":\"Shaking\",\"text\":[[\"141\",\"4903\"],[\"32195\",\"10\"]],\"texttemplate\":\"%{text}\",\"x\":[\"False\",\"True\"],\"y\":[\"True\",\"False\"],\"z\":[[141,4903],[32195,10]],\"type\":\"heatmap\",\"xaxis\":\"x5\",\"yaxis\":\"y5\"},{\"coloraxis\":\"coloraxis\",\"name\":\"Sniffing\",\"text\":[[\"263\",\"4737\"],[\"31896\",\"353\"]],\"texttemplate\":\"%{text}\",\"x\":[\"False\",\"True\"],\"y\":[\"True\",\"False\"],\"z\":[[263,4737],[31896,353]],\"type\":\"heatmap\",\"xaxis\":\"x6\",\"yaxis\":\"y6\"},{\"coloraxis\":\"coloraxis\",\"name\":\"Standing or Sitting or Lying chest\",\"text\":[[\"734\",\"4482\"],[\"31936\",\"97\"]],\"texttemplate\":\"%{text}\",\"x\":[\"False\",\"True\"],\"y\":[\"True\",\"False\"],\"z\":[[734,4482],[31936,97]],\"type\":\"heatmap\",\"xaxis\":\"x7\",\"yaxis\":\"y7\"},{\"coloraxis\":\"coloraxis\",\"name\":\"Trotting\",\"text\":[[\"458\",\"4546\"],[\"30368\",\"1877\"]],\"texttemplate\":\"%{text}\",\"x\":[\"False\",\"True\"],\"y\":[\"True\",\"False\"],\"z\":[[458,4546],[30368,1877]],\"type\":\"heatmap\",\"xaxis\":\"x8\",\"yaxis\":\"y8\"},{\"coloraxis\":\"coloraxis\",\"name\":\"Walking\",\"text\":[[\"293\",\"4735\"],[\"31280\",\"941\"]],\"texttemplate\":\"%{text}\",\"x\":[\"False\",\"True\"],\"y\":[\"True\",\"False\"],\"z\":[[293,4735],[31280,941]],\"type\":\"heatmap\",\"xaxis\":\"x9\",\"yaxis\":\"y9\"}],                        {\"template\":{\"data\":{\"histogram2dcontour\":[{\"type\":\"histogram2dcontour\",\"colorbar\":{\"outlinewidth\":0,\"ticks\":\"\"},\"colorscale\":[[0.0,\"#0d0887\"],[0.1111111111111111,\"#46039f\"],[0.2222222222222222,\"#7201a8\"],[0.3333333333333333,\"#9c179e\"],[0.4444444444444444,\"#bd3786\"],[0.5555555555555556,\"#d8576b\"],[0.6666666666666666,\"#ed7953\"],[0.7777777777777778,\"#fb9f3a\"],[0.8888888888888888,\"#fdca26\"],[1.0,\"#f0f921\"]]}],\"choropleth\":[{\"type\":\"choropleth\",\"colorbar\":{\"outlinewidth\":0,\"ticks\":\"\"}}],\"histogram2d\":[{\"type\":\"histogram2d\",\"colorbar\":{\"outlinewidth\":0,\"ticks\":\"\"},\"colorscale\":[[0.0,\"#0d0887\"],[0.1111111111111111,\"#46039f\"],[0.2222222222222222,\"#7201a8\"],[0.3333333333333333,\"#9c179e\"],[0.4444444444444444,\"#bd3786\"],[0.5555555555555556,\"#d8576b\"],[0.6666666666666666,\"#ed7953\"],[0.7777777777777778,\"#fb9f3a\"],[0.8888888888888888,\"#fdca26\"],[1.0,\"#f0f921\"]]}],\"heatmap\":[{\"type\":\"heatmap\",\"colorbar\":{\"outlinewidth\":0,\"ticks\":\"\"},\"colorscale\":[[0.0,\"#0d0887\"],[0.1111111111111111,\"#46039f\"],[0.2222222222222222,\"#7201a8\"],[0.3333333333333333,\"#9c179e\"],[0.4444444444444444,\"#bd3786\"],[0.5555555555555556,\"#d8576b\"],[0.6666666666666666,\"#ed7953\"],[0.7777777777777778,\"#fb9f3a\"],[0.8888888888888888,\"#fdca26\"],[1.0,\"#f0f921\"]]}],\"heatmapgl\":[{\"type\":\"heatmapgl\",\"colorbar\":{\"outlinewidth\":0,\"ticks\":\"\"},\"colorscale\":[[0.0,\"#0d0887\"],[0.1111111111111111,\"#46039f\"],[0.2222222222222222,\"#7201a8\"],[0.3333333333333333,\"#9c179e\"],[0.4444444444444444,\"#bd3786\"],[0.5555555555555556,\"#d8576b\"],[0.6666666666666666,\"#ed7953\"],[0.7777777777777778,\"#fb9f3a\"],[0.8888888888888888,\"#fdca26\"],[1.0,\"#f0f921\"]]}],\"contourcarpet\":[{\"type\":\"contourcarpet\",\"colorbar\":{\"outlinewidth\":0,\"ticks\":\"\"}}],\"contour\":[{\"type\":\"contour\",\"colorbar\":{\"outlinewidth\":0,\"ticks\":\"\"},\"colorscale\":[[0.0,\"#0d0887\"],[0.1111111111111111,\"#46039f\"],[0.2222222222222222,\"#7201a8\"],[0.3333333333333333,\"#9c179e\"],[0.4444444444444444,\"#bd3786\"],[0.5555555555555556,\"#d8576b\"],[0.6666666666666666,\"#ed7953\"],[0.7777777777777778,\"#fb9f3a\"],[0.8888888888888888,\"#fdca26\"],[1.0,\"#f0f921\"]]}],\"surface\":[{\"type\":\"surface\",\"colorbar\":{\"outlinewidth\":0,\"ticks\":\"\"},\"colorscale\":[[0.0,\"#0d0887\"],[0.1111111111111111,\"#46039f\"],[0.2222222222222222,\"#7201a8\"],[0.3333333333333333,\"#9c179e\"],[0.4444444444444444,\"#bd3786\"],[0.5555555555555556,\"#d8576b\"],[0.6666666666666666,\"#ed7953\"],[0.7777777777777778,\"#fb9f3a\"],[0.8888888888888888,\"#fdca26\"],[1.0,\"#f0f921\"]]}],\"mesh3d\":[{\"type\":\"mesh3d\",\"colorbar\":{\"outlinewidth\":0,\"ticks\":\"\"}}],\"scatter\":[{\"fillpattern\":{\"fillmode\":\"overlay\",\"size\":10,\"solidity\":0.2},\"type\":\"scatter\"}],\"parcoords\":[{\"type\":\"parcoords\",\"line\":{\"colorbar\":{\"outlinewidth\":0,\"ticks\":\"\"}}}],\"scatterpolargl\":[{\"type\":\"scatterpolargl\",\"marker\":{\"colorbar\":{\"outlinewidth\":0,\"ticks\":\"\"}}}],\"bar\":[{\"error_x\":{\"color\":\"#2a3f5f\"},\"error_y\":{\"color\":\"#2a3f5f\"},\"marker\":{\"line\":{\"color\":\"white\",\"width\":0.5},\"pattern\":{\"fillmode\":\"overlay\",\"size\":10,\"solidity\":0.2}},\"type\":\"bar\"}],\"scattergeo\":[{\"type\":\"scattergeo\",\"marker\":{\"colorbar\":{\"outlinewidth\":0,\"ticks\":\"\"}}}],\"scatterpolar\":[{\"type\":\"scatterpolar\",\"marker\":{\"colorbar\":{\"outlinewidth\":0,\"ticks\":\"\"}}}],\"histogram\":[{\"marker\":{\"pattern\":{\"fillmode\":\"overlay\",\"size\":10,\"solidity\":0.2}},\"type\":\"histogram\"}],\"scattergl\":[{\"type\":\"scattergl\",\"marker\":{\"colorbar\":{\"outlinewidth\":0,\"ticks\":\"\"}}}],\"scatter3d\":[{\"type\":\"scatter3d\",\"line\":{\"colorbar\":{\"outlinewidth\":0,\"ticks\":\"\"}},\"marker\":{\"colorbar\":{\"outlinewidth\":0,\"ticks\":\"\"}}}],\"scattermapbox\":[{\"type\":\"scattermapbox\",\"marker\":{\"colorbar\":{\"outlinewidth\":0,\"ticks\":\"\"}}}],\"scatterternary\":[{\"type\":\"scatterternary\",\"marker\":{\"colorbar\":{\"outlinewidth\":0,\"ticks\":\"\"}}}],\"scattercarpet\":[{\"type\":\"scattercarpet\",\"marker\":{\"colorbar\":{\"outlinewidth\":0,\"ticks\":\"\"}}}],\"carpet\":[{\"aaxis\":{\"endlinecolor\":\"#2a3f5f\",\"gridcolor\":\"#C8D4E3\",\"linecolor\":\"#C8D4E3\",\"minorgridcolor\":\"#C8D4E3\",\"startlinecolor\":\"#2a3f5f\"},\"baxis\":{\"endlinecolor\":\"#2a3f5f\",\"gridcolor\":\"#C8D4E3\",\"linecolor\":\"#C8D4E3\",\"minorgridcolor\":\"#C8D4E3\",\"startlinecolor\":\"#2a3f5f\"},\"type\":\"carpet\"}],\"table\":[{\"cells\":{\"fill\":{\"color\":\"#EBF0F8\"},\"line\":{\"color\":\"white\"}},\"header\":{\"fill\":{\"color\":\"#C8D4E3\"},\"line\":{\"color\":\"white\"}},\"type\":\"table\"}],\"barpolar\":[{\"marker\":{\"line\":{\"color\":\"white\",\"width\":0.5},\"pattern\":{\"fillmode\":\"overlay\",\"size\":10,\"solidity\":0.2}},\"type\":\"barpolar\"}],\"pie\":[{\"automargin\":true,\"type\":\"pie\"}]},\"layout\":{\"autotypenumbers\":\"strict\",\"colorway\":[\"#636efa\",\"#EF553B\",\"#00cc96\",\"#ab63fa\",\"#FFA15A\",\"#19d3f3\",\"#FF6692\",\"#B6E880\",\"#FF97FF\",\"#FECB52\"],\"font\":{\"color\":\"#2a3f5f\"},\"hovermode\":\"closest\",\"hoverlabel\":{\"align\":\"left\"},\"paper_bgcolor\":\"white\",\"plot_bgcolor\":\"white\",\"polar\":{\"bgcolor\":\"white\",\"angularaxis\":{\"gridcolor\":\"#EBF0F8\",\"linecolor\":\"#EBF0F8\",\"ticks\":\"\"},\"radialaxis\":{\"gridcolor\":\"#EBF0F8\",\"linecolor\":\"#EBF0F8\",\"ticks\":\"\"}},\"ternary\":{\"bgcolor\":\"white\",\"aaxis\":{\"gridcolor\":\"#DFE8F3\",\"linecolor\":\"#A2B1C6\",\"ticks\":\"\"},\"baxis\":{\"gridcolor\":\"#DFE8F3\",\"linecolor\":\"#A2B1C6\",\"ticks\":\"\"},\"caxis\":{\"gridcolor\":\"#DFE8F3\",\"linecolor\":\"#A2B1C6\",\"ticks\":\"\"}},\"coloraxis\":{\"colorbar\":{\"outlinewidth\":0,\"ticks\":\"\"}},\"colorscale\":{\"sequential\":[[0.0,\"#0d0887\"],[0.1111111111111111,\"#46039f\"],[0.2222222222222222,\"#7201a8\"],[0.3333333333333333,\"#9c179e\"],[0.4444444444444444,\"#bd3786\"],[0.5555555555555556,\"#d8576b\"],[0.6666666666666666,\"#ed7953\"],[0.7777777777777778,\"#fb9f3a\"],[0.8888888888888888,\"#fdca26\"],[1.0,\"#f0f921\"]],\"sequentialminus\":[[0.0,\"#0d0887\"],[0.1111111111111111,\"#46039f\"],[0.2222222222222222,\"#7201a8\"],[0.3333333333333333,\"#9c179e\"],[0.4444444444444444,\"#bd3786\"],[0.5555555555555556,\"#d8576b\"],[0.6666666666666666,\"#ed7953\"],[0.7777777777777778,\"#fb9f3a\"],[0.8888888888888888,\"#fdca26\"],[1.0,\"#f0f921\"]],\"diverging\":[[0,\"#8e0152\"],[0.1,\"#c51b7d\"],[0.2,\"#de77ae\"],[0.3,\"#f1b6da\"],[0.4,\"#fde0ef\"],[0.5,\"#f7f7f7\"],[0.6,\"#e6f5d0\"],[0.7,\"#b8e186\"],[0.8,\"#7fbc41\"],[0.9,\"#4d9221\"],[1,\"#276419\"]]},\"xaxis\":{\"gridcolor\":\"#EBF0F8\",\"linecolor\":\"#EBF0F8\",\"ticks\":\"\",\"title\":{\"standoff\":15},\"zerolinecolor\":\"#EBF0F8\",\"automargin\":true,\"zerolinewidth\":2},\"yaxis\":{\"gridcolor\":\"#EBF0F8\",\"linecolor\":\"#EBF0F8\",\"ticks\":\"\",\"title\":{\"standoff\":15},\"zerolinecolor\":\"#EBF0F8\",\"automargin\":true,\"zerolinewidth\":2},\"scene\":{\"xaxis\":{\"backgroundcolor\":\"white\",\"gridcolor\":\"#DFE8F3\",\"linecolor\":\"#EBF0F8\",\"showbackground\":true,\"ticks\":\"\",\"zerolinecolor\":\"#EBF0F8\",\"gridwidth\":2},\"yaxis\":{\"backgroundcolor\":\"white\",\"gridcolor\":\"#DFE8F3\",\"linecolor\":\"#EBF0F8\",\"showbackground\":true,\"ticks\":\"\",\"zerolinecolor\":\"#EBF0F8\",\"gridwidth\":2},\"zaxis\":{\"backgroundcolor\":\"white\",\"gridcolor\":\"#DFE8F3\",\"linecolor\":\"#EBF0F8\",\"showbackground\":true,\"ticks\":\"\",\"zerolinecolor\":\"#EBF0F8\",\"gridwidth\":2}},\"shapedefaults\":{\"line\":{\"color\":\"#2a3f5f\"}},\"annotationdefaults\":{\"arrowcolor\":\"#2a3f5f\",\"arrowhead\":0,\"arrowwidth\":1},\"geo\":{\"bgcolor\":\"white\",\"landcolor\":\"white\",\"subunitcolor\":\"#C8D4E3\",\"showland\":true,\"showlakes\":true,\"lakecolor\":\"white\"},\"title\":{\"x\":0.05},\"mapbox\":{\"style\":\"light\"}}},\"xaxis\":{\"anchor\":\"y\",\"domain\":[0.0,0.2888888888888889]},\"yaxis\":{\"anchor\":\"x\",\"domain\":[0.7777777777777778,1.0],\"title\":{\"text\":\"Actual\"}},\"xaxis2\":{\"anchor\":\"y2\",\"domain\":[0.35555555555555557,0.6444444444444445]},\"yaxis2\":{\"anchor\":\"x2\",\"domain\":[0.7777777777777778,1.0]},\"xaxis3\":{\"anchor\":\"y3\",\"domain\":[0.7111111111111111,1.0]},\"yaxis3\":{\"anchor\":\"x3\",\"domain\":[0.7777777777777778,1.0]},\"xaxis4\":{\"anchor\":\"y4\",\"domain\":[0.0,0.2888888888888889]},\"yaxis4\":{\"anchor\":\"x4\",\"domain\":[0.3888888888888889,0.6111111111111112],\"title\":{\"text\":\"Actual\"}},\"xaxis5\":{\"anchor\":\"y5\",\"domain\":[0.35555555555555557,0.6444444444444445]},\"yaxis5\":{\"anchor\":\"x5\",\"domain\":[0.3888888888888889,0.6111111111111112]},\"xaxis6\":{\"anchor\":\"y6\",\"domain\":[0.7111111111111111,1.0]},\"yaxis6\":{\"anchor\":\"x6\",\"domain\":[0.3888888888888889,0.6111111111111112]},\"xaxis7\":{\"anchor\":\"y7\",\"domain\":[0.0,0.2888888888888889],\"title\":{\"text\":\"Predicted\"}},\"yaxis7\":{\"anchor\":\"x7\",\"domain\":[0.0,0.22222222222222224],\"title\":{\"text\":\"Actual\"}},\"xaxis8\":{\"anchor\":\"y8\",\"domain\":[0.35555555555555557,0.6444444444444445],\"title\":{\"text\":\"Predicted\"}},\"yaxis8\":{\"anchor\":\"x8\",\"domain\":[0.0,0.22222222222222224]},\"xaxis9\":{\"anchor\":\"y9\",\"domain\":[0.7111111111111111,1.0],\"title\":{\"text\":\"Predicted\"}},\"yaxis9\":{\"anchor\":\"x9\",\"domain\":[0.0,0.22222222222222224]},\"annotations\":[{\"font\":{\"size\":16},\"showarrow\":false,\"text\":\"Drinking or Eating\",\"x\":0.14444444444444446,\"xanchor\":\"center\",\"xref\":\"paper\",\"y\":1.0,\"yanchor\":\"bottom\",\"yref\":\"paper\"},{\"font\":{\"size\":16},\"showarrow\":false,\"text\":\"Galloping\",\"x\":0.5,\"xanchor\":\"center\",\"xref\":\"paper\",\"y\":1.0,\"yanchor\":\"bottom\",\"yref\":\"paper\"},{\"font\":{\"size\":16},\"showarrow\":false,\"text\":\"Jumping or Pacing\",\"x\":0.8555555555555556,\"xanchor\":\"center\",\"xref\":\"paper\",\"y\":1.0,\"yanchor\":\"bottom\",\"yref\":\"paper\"},{\"font\":{\"size\":16},\"showarrow\":false,\"text\":\"Playing or Tugging\",\"x\":0.14444444444444446,\"xanchor\":\"center\",\"xref\":\"paper\",\"y\":0.6111111111111112,\"yanchor\":\"bottom\",\"yref\":\"paper\"},{\"font\":{\"size\":16},\"showarrow\":false,\"text\":\"Shaking\",\"x\":0.5,\"xanchor\":\"center\",\"xref\":\"paper\",\"y\":0.6111111111111112,\"yanchor\":\"bottom\",\"yref\":\"paper\"},{\"font\":{\"size\":16},\"showarrow\":false,\"text\":\"Sniffing\",\"x\":0.8555555555555556,\"xanchor\":\"center\",\"xref\":\"paper\",\"y\":0.6111111111111112,\"yanchor\":\"bottom\",\"yref\":\"paper\"},{\"font\":{\"size\":16},\"showarrow\":false,\"text\":\"Standing or Sitting or Lying chest\",\"x\":0.14444444444444446,\"xanchor\":\"center\",\"xref\":\"paper\",\"y\":0.22222222222222224,\"yanchor\":\"bottom\",\"yref\":\"paper\"},{\"font\":{\"size\":16},\"showarrow\":false,\"text\":\"Trotting\",\"x\":0.5,\"xanchor\":\"center\",\"xref\":\"paper\",\"y\":0.22222222222222224,\"yanchor\":\"bottom\",\"yref\":\"paper\"},{\"font\":{\"size\":16},\"showarrow\":false,\"text\":\"Walking\",\"x\":0.8555555555555556,\"xanchor\":\"center\",\"xref\":\"paper\",\"y\":0.22222222222222224,\"yanchor\":\"bottom\",\"yref\":\"paper\"}],\"coloraxis\":{\"colorscale\":[[0.0,\"#000004\"],[0.1111111111111111,\"#1b0c41\"],[0.2222222222222222,\"#4a0c6b\"],[0.3333333333333333,\"#781c6d\"],[0.4444444444444444,\"#a52c60\"],[0.5555555555555556,\"#cf4446\"],[0.6666666666666666,\"#ed6925\"],[0.7777777777777778,\"#fb9b06\"],[0.8888888888888888,\"#f7d13d\"],[1.0,\"#fcffa4\"]]},\"title\":{\"text\":\"Confusion matrices for Random Forest\"},\"width\":750,\"height\":600},                        {\"responsive\": true}                    ).then(function(){\n",
              "                            \n",
              "var gd = document.getElementById('1eea3c95-f48b-43a1-958c-1bc61eb7f052');\n",
              "var x = new MutationObserver(function (mutations, observer) {{\n",
              "        var display = window.getComputedStyle(gd).display;\n",
              "        if (!display || display === 'none') {{\n",
              "            console.log([gd, 'removed!']);\n",
              "            Plotly.purge(gd);\n",
              "            observer.disconnect();\n",
              "        }}\n",
              "}});\n",
              "\n",
              "// Listen for the removal of the full notebook cells\n",
              "var notebookContainer = gd.closest('#notebook-container');\n",
              "if (notebookContainer) {{\n",
              "    x.observe(notebookContainer, {childList: true});\n",
              "}}\n",
              "\n",
              "// Listen for the clearing of the current output cell\n",
              "var outputEl = gd.closest('.output');\n",
              "if (outputEl) {{\n",
              "    x.observe(outputEl, {childList: true});\n",
              "}}\n",
              "\n",
              "                        })                };                            </script>        </div>\n",
              "</body>\n",
              "</html>"
            ]
          },
          "metadata": {}
        }
      ],
      "source": [
        "# model evaluation on training data\n",
        "train_accuracy = model.score(x_train, y_train)\n",
        "print(f\"Training accuracy: {train_accuracy*100:.2f} %\")\n",
        "# model evaluation on testing data\n",
        "test_accuracy = model.score(x_test, y_test)\n",
        "print(f\"Testing accuracy: {test_accuracy*100:.2f} %\")\n",
        "\n",
        "# compute confusion matrix on test data\n",
        "y_pred = model.predict(x_test)\n",
        "confusion_matrices = sklearn.metrics.multilabel_confusion_matrix(y_test, y_pred)\n",
        "# plot the multil-label confusion matrix\n",
        "classification.plot_confusion_matrices(confusion_matrices, dataset.class_list, title=\"Confusion matrices for Random Forest\")\n",
        "\n",
        "# save model performance\n",
        "model_performances.add(\n",
        "    ModelPerformance(name='Random Forest', test_accuracy=test_accuracy, train_duration=duration)\n",
        ")"
      ]
    },
    {
      "cell_type": "markdown",
      "metadata": {
        "id": "RD4XhGfn7bGQ"
      },
      "source": [
        "## 4.6 A Simple Neural Network - MLP"
      ]
    },
    {
      "cell_type": "markdown",
      "source": [
        "Now we're moving to the more advanced neural networks. The first one is still relatively simple: a MLP consisting of three fully connected layers."
      ],
      "metadata": {
        "id": "7mDIwiT_sT4_"
      }
    },
    {
      "cell_type": "markdown",
      "metadata": {
        "id": "qfE0YE4Y7bGR"
      },
      "source": [
        "### 4.6.1 Hyperparameter Tuning"
      ]
    },
    {
      "cell_type": "markdown",
      "source": [
        "This model tends to overfit, so we're going to tune the weight decay, which will counteract the overfitting tendencies."
      ],
      "metadata": {
        "id": "aRvqlNIhshm1"
      }
    },
    {
      "cell_type": "code",
      "execution_count": null,
      "metadata": {
        "colab": {
          "base_uri": "https://localhost:8080/"
        },
        "id": "e3mQqaPI7bGR",
        "outputId": "425448ca-d3a4-4c17-a6d6-f48ee47a4769"
      },
      "outputs": [
        {
          "output_type": "stream",
          "name": "stdout",
          "text": [
            "Starting hyperparameter tuning of MLP model\n",
            "Training on CUDA.\n",
            "Epoch 1/20\n",
            "  training loss: 0.741894  [  512/150372]\n",
            "  training loss: 0.404099  [50688/150372]\n",
            "  training loss: 0.310903  [100864/150372]\n",
            " validation error 36.29 %\n",
            "Epoch 2/20\n",
            "  training loss: 0.264025  [  512/150372]\n",
            "  training loss: 0.227708  [50688/150372]\n",
            "  training loss: 0.190953  [100864/150372]\n",
            " validation error 24.86 %\n",
            "Epoch 3/20\n",
            "  training loss: 0.159443  [  512/150372]\n",
            "  training loss: 0.145464  [50688/150372]\n",
            "  training loss: 0.134845  [100864/150372]\n",
            " validation error 21.17 %\n",
            "Epoch 4/20\n",
            "  training loss: 0.114644  [  512/150372]\n",
            "  training loss: 0.099511  [50688/150372]\n",
            "  training loss: 0.114272  [100864/150372]\n",
            " validation error 21.28 %\n",
            "Epoch 5/20\n",
            "  training loss: 0.091424  [  512/150372]\n",
            "  training loss: 0.096620  [50688/150372]\n",
            "  training loss: 0.080511  [100864/150372]\n",
            " validation error 18.72 %\n",
            "Epoch 6/20\n",
            "  training loss: 0.084483  [  512/150372]\n",
            "  training loss: 0.085491  [50688/150372]\n",
            "  training loss: 0.077216  [100864/150372]\n",
            " validation error 19.32 %\n",
            "Epoch 7/20\n",
            "  training loss: 0.078000  [  512/150372]\n",
            "  training loss: 0.069788  [50688/150372]\n",
            "  training loss: 0.070530  [100864/150372]\n",
            " validation error 20.07 %\n",
            "Epoch 8/20\n",
            "  training loss: 0.058660  [  512/150372]\n",
            "  training loss: 0.051080  [50688/150372]\n",
            "  training loss: 0.061182  [100864/150372]\n",
            " validation error 19.87 %\n",
            "Epoch 9/20\n",
            "  training loss: 0.053781  [  512/150372]\n",
            "  training loss: 0.072847  [50688/150372]\n",
            "  training loss: 0.058405  [100864/150372]\n",
            " validation error 19.21 %\n",
            "Epoch 10/20\n",
            "  training loss: 0.063386  [  512/150372]\n",
            "  training loss: 0.052683  [50688/150372]\n",
            "  training loss: 0.061958  [100864/150372]\n",
            " validation error 18.78 %\n",
            "Epoch 11/20\n",
            "  training loss: 0.050779  [  512/150372]\n",
            "  training loss: 0.056445  [50688/150372]\n",
            "  training loss: 0.047166  [100864/150372]\n",
            " validation error 18.85 %\n",
            "Epoch 12/20\n",
            "  training loss: 0.049259  [  512/150372]\n",
            "  training loss: 0.049451  [50688/150372]\n",
            "  training loss: 0.056349  [100864/150372]\n",
            " validation error 17.19 %\n",
            "Epoch 13/20\n",
            "  training loss: 0.046603  [  512/150372]\n",
            "  training loss: 0.042522  [50688/150372]\n",
            "  training loss: 0.051261  [100864/150372]\n",
            " validation error 20.36 %\n",
            "Epoch 14/20\n",
            "  training loss: 0.035712  [  512/150372]\n",
            "  training loss: 0.034880  [50688/150372]\n",
            "  training loss: 0.057003  [100864/150372]\n",
            " validation error 17.63 %\n",
            "Epoch 15/20\n",
            "  training loss: 0.038633  [  512/150372]\n",
            "  training loss: 0.047179  [50688/150372]\n",
            "  training loss: 0.043782  [100864/150372]\n",
            " validation error 18.21 %\n",
            "Epoch 16/20\n",
            "  training loss: 0.044283  [  512/150372]\n",
            "  training loss: 0.034399  [50688/150372]\n",
            "  training loss: 0.036387  [100864/150372]\n",
            " validation error 17.12 %\n",
            "Epoch 17/20\n",
            "  training loss: 0.038483  [  512/150372]\n",
            "  training loss: 0.035417  [50688/150372]\n",
            "  training loss: 0.034699  [100864/150372]\n",
            " validation error 15.83 %\n",
            "Epoch 18/20\n",
            "  training loss: 0.034013  [  512/150372]\n",
            "  training loss: 0.042998  [50688/150372]\n",
            "  training loss: 0.034078  [100864/150372]\n",
            " validation error 18.08 %\n",
            "Epoch 19/20\n",
            "  training loss: 0.036021  [  512/150372]\n",
            "  training loss: 0.032688  [50688/150372]\n",
            "  training loss: 0.028669  [100864/150372]\n",
            " validation error 16.49 %\n",
            "Epoch 20/20\n",
            "  training loss: 0.033830  [  512/150372]\n",
            "  training loss: 0.030702  [50688/150372]\n",
            "  training loss: 0.031167  [100864/150372]\n",
            " validation error 16.07 %\n",
            "Training on CUDA.\n",
            "Epoch 1/20\n",
            "  training loss: 0.741250  [  512/150372]\n",
            "  training loss: 0.427862  [50688/150372]\n",
            "  training loss: 0.321115  [100864/150372]\n",
            " validation error 35.23 %\n",
            "Epoch 2/20\n",
            "  training loss: 0.263751  [  512/150372]\n",
            "  training loss: 0.194306  [50688/150372]\n",
            "  training loss: 0.172602  [100864/150372]\n",
            " validation error 25.01 %\n",
            "Epoch 3/20\n",
            "  training loss: 0.159734  [  512/150372]\n",
            "  training loss: 0.163518  [50688/150372]\n",
            "  training loss: 0.131273  [100864/150372]\n",
            " validation error 21.56 %\n",
            "Epoch 4/20\n",
            "  training loss: 0.115363  [  512/150372]\n",
            "  training loss: 0.123015  [50688/150372]\n",
            "  training loss: 0.098862  [100864/150372]\n",
            " validation error 20.31 %\n",
            "Epoch 5/20\n",
            "  training loss: 0.096058  [  512/150372]\n",
            "  training loss: 0.103043  [50688/150372]\n",
            "  training loss: 0.096781  [100864/150372]\n",
            " validation error 18.38 %\n",
            "Epoch 6/20\n",
            "  training loss: 0.073093  [  512/150372]\n",
            "  training loss: 0.075350  [50688/150372]\n",
            "  training loss: 0.083096  [100864/150372]\n",
            " validation error 20.06 %\n",
            "Epoch 7/20\n",
            "  training loss: 0.085411  [  512/150372]\n",
            "  training loss: 0.062032  [50688/150372]\n",
            "  training loss: 0.066347  [100864/150372]\n",
            " validation error 17.24 %\n",
            "Epoch 8/20\n",
            "  training loss: 0.069184  [  512/150372]\n",
            "  training loss: 0.061418  [50688/150372]\n",
            "  training loss: 0.076254  [100864/150372]\n",
            " validation error 16.76 %\n",
            "Epoch 9/20\n",
            "  training loss: 0.059692  [  512/150372]\n",
            "  training loss: 0.070526  [50688/150372]\n",
            "  training loss: 0.060494  [100864/150372]\n",
            " validation error 17.11 %\n",
            "Epoch 10/20\n",
            "  training loss: 0.062184  [  512/150372]\n",
            "  training loss: 0.065187  [50688/150372]\n",
            "  training loss: 0.058349  [100864/150372]\n",
            " validation error 17.68 %\n",
            "Epoch 11/20\n",
            "  training loss: 0.060688  [  512/150372]\n",
            "  training loss: 0.056442  [50688/150372]\n",
            "  training loss: 0.049062  [100864/150372]\n",
            " validation error 17.12 %\n",
            "Epoch 12/20\n",
            "  training loss: 0.052485  [  512/150372]\n",
            "  training loss: 0.059302  [50688/150372]\n",
            "  training loss: 0.053877  [100864/150372]\n",
            " validation error 18.18 %\n",
            "Epoch 13/20\n",
            "  training loss: 0.046027  [  512/150372]\n",
            "  training loss: 0.056146  [50688/150372]\n",
            "  training loss: 0.055514  [100864/150372]\n",
            " validation error 16.25 %\n",
            "Epoch 14/20\n",
            "  training loss: 0.046475  [  512/150372]\n",
            "  training loss: 0.037837  [50688/150372]\n",
            "  training loss: 0.050458  [100864/150372]\n",
            " validation error 17.32 %\n",
            "Epoch 15/20\n",
            "  training loss: 0.045308  [  512/150372]\n",
            "  training loss: 0.042710  [50688/150372]\n",
            "  training loss: 0.059275  [100864/150372]\n",
            " validation error 18.22 %\n",
            "Epoch 16/20\n",
            "  training loss: 0.052469  [  512/150372]\n",
            "  training loss: 0.046298  [50688/150372]\n",
            "  training loss: 0.060147  [100864/150372]\n",
            " validation error 16.76 %\n",
            "Epoch 17/20\n",
            "  training loss: 0.045036  [  512/150372]\n",
            "  training loss: 0.041242  [50688/150372]\n",
            "  training loss: 0.044582  [100864/150372]\n",
            " validation error 16.22 %\n",
            "Epoch 18/20\n",
            "  training loss: 0.039065  [  512/150372]\n",
            "  training loss: 0.050759  [50688/150372]\n",
            "  training loss: 0.051267  [100864/150372]\n",
            " validation error 17.16 %\n",
            "Epoch 19/20\n",
            "  training loss: 0.046410  [  512/150372]\n",
            "  training loss: 0.051941  [50688/150372]\n",
            "  training loss: 0.043049  [100864/150372]\n",
            " validation error 16.24 %\n",
            "Epoch 20/20\n",
            "  training loss: 0.048691  [  512/150372]\n",
            "  training loss: 0.047039  [50688/150372]\n",
            "  training loss: 0.037853  [100864/150372]\n",
            " validation error 17.99 %\n",
            "Training on CUDA.\n",
            "Epoch 1/20\n",
            "  training loss: 0.748803  [  512/150372]\n",
            "  training loss: 0.405690  [50688/150372]\n",
            "  training loss: 0.305835  [100864/150372]\n",
            " validation error 32.78 %\n",
            "Epoch 2/20\n",
            "  training loss: 0.247419  [  512/150372]\n",
            "  training loss: 0.213490  [50688/150372]\n",
            "  training loss: 0.182627  [100864/150372]\n",
            " validation error 24.88 %\n",
            "Epoch 3/20\n",
            "  training loss: 0.170049  [  512/150372]\n",
            "  training loss: 0.137354  [50688/150372]\n",
            "  training loss: 0.143139  [100864/150372]\n",
            " validation error 21.21 %\n",
            "Epoch 4/20\n",
            "  training loss: 0.135707  [  512/150372]\n",
            "  training loss: 0.115088  [50688/150372]\n",
            "  training loss: 0.139325  [100864/150372]\n",
            " validation error 18.71 %\n",
            "Epoch 5/20\n",
            "  training loss: 0.113360  [  512/150372]\n",
            "  training loss: 0.111157  [50688/150372]\n",
            "  training loss: 0.102252  [100864/150372]\n",
            " validation error 19.42 %\n",
            "Epoch 6/20\n",
            "  training loss: 0.106621  [  512/150372]\n",
            "  training loss: 0.104020  [50688/150372]\n",
            "  training loss: 0.098102  [100864/150372]\n",
            " validation error 18.92 %\n",
            "Epoch 7/20\n",
            "  training loss: 0.092597  [  512/150372]\n",
            "  training loss: 0.099652  [50688/150372]\n",
            "  training loss: 0.090602  [100864/150372]\n",
            " validation error 18.03 %\n",
            "Epoch 8/20\n",
            "  training loss: 0.088471  [  512/150372]\n",
            "  training loss: 0.091838  [50688/150372]\n",
            "  training loss: 0.096954  [100864/150372]\n",
            " validation error 19.10 %\n",
            "Epoch 9/20\n",
            "  training loss: 0.094294  [  512/150372]\n",
            "  training loss: 0.097197  [50688/150372]\n",
            "  training loss: 0.082992  [100864/150372]\n",
            " validation error 16.74 %\n",
            "Epoch 10/20\n",
            "  training loss: 0.084153  [  512/150372]\n",
            "  training loss: 0.083706  [50688/150372]\n",
            "  training loss: 0.079732  [100864/150372]\n",
            " validation error 17.58 %\n",
            "Epoch 11/20\n",
            "  training loss: 0.077330  [  512/150372]\n",
            "  training loss: 0.081454  [50688/150372]\n",
            "  training loss: 0.078893  [100864/150372]\n",
            " validation error 18.14 %\n",
            "Epoch 12/20\n",
            "  training loss: 0.075411  [  512/150372]\n",
            "  training loss: 0.079647  [50688/150372]\n",
            "  training loss: 0.088054  [100864/150372]\n",
            " validation error 16.78 %\n",
            "Epoch 13/20\n",
            "  training loss: 0.075999  [  512/150372]\n",
            "  training loss: 0.079348  [50688/150372]\n",
            "  training loss: 0.078690  [100864/150372]\n",
            " validation error 19.16 %\n",
            "Epoch 14/20\n",
            "  training loss: 0.070815  [  512/150372]\n",
            "  training loss: 0.071435  [50688/150372]\n",
            "  training loss: 0.084411  [100864/150372]\n",
            " validation error 17.17 %\n",
            "Epoch 15/20\n",
            "  training loss: 0.068243  [  512/150372]\n",
            "  training loss: 0.081690  [50688/150372]\n",
            "  training loss: 0.068212  [100864/150372]\n",
            " validation error 18.92 %\n",
            "Epoch 16/20\n",
            "  training loss: 0.068910  [  512/150372]\n",
            "  training loss: 0.068214  [50688/150372]\n",
            "  training loss: 0.076119  [100864/150372]\n",
            " validation error 17.96 %\n",
            "Epoch 17/20\n",
            "  training loss: 0.074378  [  512/150372]\n",
            "  training loss: 0.067113  [50688/150372]\n",
            "  training loss: 0.071410  [100864/150372]\n",
            " validation error 16.17 %\n",
            "Epoch 18/20\n",
            "  training loss: 0.075317  [  512/150372]\n",
            "  training loss: 0.065201  [50688/150372]\n",
            "  training loss: 0.062992  [100864/150372]\n",
            " validation error 17.19 %\n",
            "Epoch 19/20\n",
            "  training loss: 0.068865  [  512/150372]\n",
            "  training loss: 0.074928  [50688/150372]\n",
            "  training loss: 0.073954  [100864/150372]\n",
            " validation error 17.51 %\n",
            "Epoch 20/20\n",
            "  training loss: 0.068773  [  512/150372]\n",
            "  training loss: 0.078790  [50688/150372]\n",
            "  training loss: 0.077455  [100864/150372]\n",
            " validation error 17.38 %\n",
            "Training on CUDA.\n",
            "Epoch 1/20\n",
            "  training loss: 0.727788  [  512/150372]\n",
            "  training loss: 0.402384  [50688/150372]\n",
            "  training loss: 0.336068  [100864/150372]\n",
            " validation error 34.85 %\n",
            "Epoch 2/20\n",
            "  training loss: 0.270473  [  512/150372]\n",
            "  training loss: 0.238944  [50688/150372]\n",
            "  training loss: 0.245170  [100864/150372]\n",
            " validation error 25.37 %\n",
            "Epoch 3/20\n",
            "  training loss: 0.219441  [  512/150372]\n",
            "  training loss: 0.199447  [50688/150372]\n",
            "  training loss: 0.195477  [100864/150372]\n",
            " validation error 24.14 %\n",
            "Epoch 4/20\n",
            "  training loss: 0.200277  [  512/150372]\n",
            "  training loss: 0.187232  [50688/150372]\n",
            "  training loss: 0.165782  [100864/150372]\n",
            " validation error 22.52 %\n",
            "Epoch 5/20\n",
            "  training loss: 0.174351  [  512/150372]\n",
            "  training loss: 0.172193  [50688/150372]\n",
            "  training loss: 0.163686  [100864/150372]\n",
            " validation error 21.27 %\n",
            "Epoch 6/20\n",
            "  training loss: 0.166244  [  512/150372]\n",
            "  training loss: 0.165343  [50688/150372]\n",
            "  training loss: 0.159826  [100864/150372]\n",
            " validation error 23.67 %\n",
            "Epoch 7/20\n",
            "  training loss: 0.160217  [  512/150372]\n",
            "  training loss: 0.159403  [50688/150372]\n",
            "  training loss: 0.163077  [100864/150372]\n",
            " validation error 20.62 %\n",
            "Epoch 8/20\n",
            "  training loss: 0.161789  [  512/150372]\n",
            "  training loss: 0.159847  [50688/150372]\n",
            "  training loss: 0.160911  [100864/150372]\n",
            " validation error 20.52 %\n",
            "Epoch 9/20\n",
            "  training loss: 0.156860  [  512/150372]\n",
            "  training loss: 0.152392  [50688/150372]\n",
            "  training loss: 0.152173  [100864/150372]\n",
            " validation error 21.78 %\n",
            "Epoch 10/20\n",
            "  training loss: 0.159584  [  512/150372]\n",
            "  training loss: 0.144279  [50688/150372]\n",
            "  training loss: 0.147299  [100864/150372]\n",
            " validation error 20.81 %\n",
            "Epoch 11/20\n",
            "  training loss: 0.148421  [  512/150372]\n",
            "  training loss: 0.149679  [50688/150372]\n",
            "  training loss: 0.152983  [100864/150372]\n",
            " validation error 19.96 %\n",
            "Epoch 12/20\n",
            "  training loss: 0.142062  [  512/150372]\n",
            "  training loss: 0.145673  [50688/150372]\n",
            "  training loss: 0.144162  [100864/150372]\n",
            " validation error 21.03 %\n",
            "Epoch 13/20\n",
            "  training loss: 0.152925  [  512/150372]\n",
            "  training loss: 0.143444  [50688/150372]\n",
            "  training loss: 0.146623  [100864/150372]\n",
            " validation error 20.92 %\n",
            "Epoch 14/20\n",
            "  training loss: 0.147875  [  512/150372]\n",
            "  training loss: 0.149910  [50688/150372]\n",
            "  training loss: 0.159810  [100864/150372]\n",
            " validation error 20.67 %\n",
            "Epoch 15/20\n",
            "  training loss: 0.147391  [  512/150372]\n",
            "  training loss: 0.153025  [50688/150372]\n",
            "  training loss: 0.145059  [100864/150372]\n",
            " validation error 20.31 %\n",
            "Epoch 16/20\n",
            "  training loss: 0.143025  [  512/150372]\n",
            "  training loss: 0.147372  [50688/150372]\n",
            "  training loss: 0.150030  [100864/150372]\n",
            " validation error 20.35 %\n",
            "Epoch 17/20\n",
            "  training loss: 0.139451  [  512/150372]\n",
            "  training loss: 0.142839  [50688/150372]\n",
            "  training loss: 0.144119  [100864/150372]\n",
            " validation error 21.39 %\n",
            "Epoch 18/20\n",
            "  training loss: 0.147874  [  512/150372]\n",
            "  training loss: 0.142249  [50688/150372]\n",
            "  training loss: 0.150940  [100864/150372]\n",
            " validation error 22.28 %\n",
            "Epoch 19/20\n",
            "  training loss: 0.155873  [  512/150372]\n",
            "  training loss: 0.136407  [50688/150372]\n",
            "  training loss: 0.150966  [100864/150372]\n",
            " validation error 20.76 %\n",
            "Epoch 20/20\n",
            "  training loss: 0.143287  [  512/150372]\n",
            "  training loss: 0.156177  [50688/150372]\n",
            "  training loss: 0.150821  [100864/150372]\n",
            " validation error 21.08 %\n",
            "Best testing accuracy was achieved with weight decay of 1.000e-04\n"
          ]
        }
      ],
      "source": [
        "# get training and testing DataLoaders\n",
        "train_loader, test_loader = classification.get_dataloaders(\n",
        "    data, 'MLP', LEN_SEQ, BATCH_SIZES.mlp\n",
        ")\n",
        "# initialize loss function\n",
        "# the BCEWithLogitsLoss function includes a sigmoid function which therefore\n",
        "# doesn't have to be included in the actual model (this is numerially more stable)\n",
        "loss_fun = torch.nn.BCEWithLogitsLoss()\n",
        "\n",
        "# define list of variable hyperparameter\n",
        "weight_decay_list = np.logspace(-4, -2, 4)\n",
        "# initialize list of test errors\n",
        "tuning_errors = []\n",
        "\n",
        "print(f\"Starting hyperparameter tuning of MLP model\")\n",
        "for weight_decay in weight_decay_list:\n",
        "    # initialize MLP model\n",
        "    model = classification.TorchMLP(\n",
        "        input_size=x_train.shape[1],\n",
        "        output_size=y_train.shape[1],\n",
        "        hidden_layers=(64, 64, 64)\n",
        "    )\n",
        "    # initialize optimizer with model parameters\n",
        "    optimizer = torch.optim.Adam(model.parameters(), weight_decay=weight_decay)\n",
        "    # train the model\n",
        "    training_history = classification.train_loop(\n",
        "        model,\n",
        "        train_loader,\n",
        "        test_loader,\n",
        "        loss_fun,\n",
        "        optimizer,\n",
        "        NUM_HYPER_EPOCHS.mlp,\n",
        "        device\n",
        "    )\n",
        "    # save model performance\n",
        "    tuning_errors.append(training_history.test.error[-1])\n",
        "\n",
        "# save and print best weight decay\n",
        "best_weight_decay = weight_decay_list[np.argmin(tuning_errors)]\n",
        "print(f\"Best testing accuracy was achieved with weight decay of {best_weight_decay:.3e}\")"
      ]
    },
    {
      "cell_type": "markdown",
      "metadata": {
        "id": "r4G1bx437bGR"
      },
      "source": [
        "### 4.6.2 Training with Tuned Hyperparameters"
      ]
    },
    {
      "cell_type": "code",
      "execution_count": null,
      "metadata": {
        "colab": {
          "base_uri": "https://localhost:8080/"
        },
        "id": "xySHLBKZ7bGR",
        "outputId": "1c5cf2c8-d452-49ea-db97-7beac152359b"
      },
      "outputs": [
        {
          "output_type": "stream",
          "name": "stdout",
          "text": [
            "Starting training MLP model\n",
            "Training on CUDA.\n",
            "Epoch 1/50\n",
            "  training loss: 0.735288  [  512/150372]\n",
            "  training loss: 0.406926  [50688/150372]\n",
            "  training loss: 0.315652  [100864/150372]\n",
            " validation error 38.34 %\n",
            "Epoch 2/50\n",
            "  training loss: 0.268941  [  512/150372]\n",
            "  training loss: 0.222422  [50688/150372]\n",
            "  training loss: 0.199045  [100864/150372]\n",
            " validation error 26.09 %\n",
            "Epoch 3/50\n",
            "  training loss: 0.180719  [  512/150372]\n",
            "  training loss: 0.150362  [50688/150372]\n",
            "  training loss: 0.124759  [100864/150372]\n",
            " validation error 21.12 %\n",
            "Epoch 4/50\n",
            "  training loss: 0.114557  [  512/150372]\n",
            "  training loss: 0.106864  [50688/150372]\n",
            "  training loss: 0.092587  [100864/150372]\n",
            " validation error 21.25 %\n",
            "Epoch 5/50\n",
            "  training loss: 0.134193  [  512/150372]\n",
            "  training loss: 0.091320  [50688/150372]\n",
            "  training loss: 0.082713  [100864/150372]\n",
            " validation error 18.85 %\n",
            "Epoch 6/50\n",
            "  training loss: 0.078657  [  512/150372]\n",
            "  training loss: 0.060899  [50688/150372]\n",
            "  training loss: 0.082360  [100864/150372]\n",
            " validation error 20.18 %\n",
            "Epoch 7/50\n",
            "  training loss: 0.070574  [  512/150372]\n",
            "  training loss: 0.068219  [50688/150372]\n",
            "  training loss: 0.065368  [100864/150372]\n",
            " validation error 19.26 %\n",
            "Epoch 8/50\n",
            "  training loss: 0.059068  [  512/150372]\n",
            "  training loss: 0.059326  [50688/150372]\n",
            "  training loss: 0.065753  [100864/150372]\n",
            " validation error 18.24 %\n",
            "Epoch 9/50\n",
            "  training loss: 0.055789  [  512/150372]\n",
            "  training loss: 0.067480  [50688/150372]\n",
            "  training loss: 0.045292  [100864/150372]\n",
            " validation error 18.75 %\n",
            "Epoch 10/50\n",
            "  training loss: 0.050772  [  512/150372]\n",
            "  training loss: 0.049518  [50688/150372]\n",
            "  training loss: 0.048201  [100864/150372]\n",
            " validation error 17.78 %\n",
            "Epoch 11/50\n",
            "  training loss: 0.047522  [  512/150372]\n",
            "  training loss: 0.050026  [50688/150372]\n",
            "  training loss: 0.047521  [100864/150372]\n",
            " validation error 20.12 %\n",
            "Epoch 12/50\n",
            "  training loss: 0.052894  [  512/150372]\n",
            "  training loss: 0.049710  [50688/150372]\n",
            "  training loss: 0.050004  [100864/150372]\n",
            " validation error 17.72 %\n",
            "Epoch 13/50\n",
            "  training loss: 0.041232  [  512/150372]\n",
            "  training loss: 0.043362  [50688/150372]\n",
            "  training loss: 0.042436  [100864/150372]\n",
            " validation error 18.80 %\n",
            "Epoch 14/50\n",
            "  training loss: 0.042086  [  512/150372]\n",
            "  training loss: 0.048701  [50688/150372]\n",
            "  training loss: 0.039448  [100864/150372]\n",
            " validation error 17.88 %\n",
            "Epoch 15/50\n",
            "  training loss: 0.032614  [  512/150372]\n",
            "  training loss: 0.030925  [50688/150372]\n",
            "  training loss: 0.036031  [100864/150372]\n",
            " validation error 16.50 %\n",
            "Epoch 16/50\n",
            "  training loss: 0.049286  [  512/150372]\n",
            "  training loss: 0.040778  [50688/150372]\n",
            "  training loss: 0.039837  [100864/150372]\n",
            " validation error 18.73 %\n",
            "Epoch 17/50\n",
            "  training loss: 0.040962  [  512/150372]\n",
            "  training loss: 0.033584  [50688/150372]\n",
            "  training loss: 0.028903  [100864/150372]\n",
            " validation error 17.82 %\n",
            "Epoch 18/50\n",
            "  training loss: 0.042287  [  512/150372]\n",
            "  training loss: 0.034560  [50688/150372]\n",
            "  training loss: 0.039805  [100864/150372]\n",
            " validation error 19.34 %\n",
            "Epoch 19/50\n",
            "  training loss: 0.034845  [  512/150372]\n",
            "  training loss: 0.041546  [50688/150372]\n",
            "  training loss: 0.029041  [100864/150372]\n",
            " validation error 18.18 %\n",
            "Epoch 20/50\n",
            "  training loss: 0.039569  [  512/150372]\n",
            "  training loss: 0.036703  [50688/150372]\n",
            "  training loss: 0.036472  [100864/150372]\n",
            " validation error 16.70 %\n",
            "Epoch 21/50\n",
            "  training loss: 0.025352  [  512/150372]\n",
            "  training loss: 0.029228  [50688/150372]\n",
            "  training loss: 0.029921  [100864/150372]\n",
            " validation error 17.65 %\n",
            "Epoch 22/50\n",
            "  training loss: 0.031951  [  512/150372]\n",
            "  training loss: 0.028473  [50688/150372]\n",
            "  training loss: 0.036950  [100864/150372]\n",
            " validation error 17.24 %\n",
            "Epoch 23/50\n",
            "  training loss: 0.031809  [  512/150372]\n",
            "  training loss: 0.023234  [50688/150372]\n",
            "  training loss: 0.035761  [100864/150372]\n",
            " validation error 16.72 %\n",
            "Epoch 24/50\n",
            "  training loss: 0.025075  [  512/150372]\n",
            "  training loss: 0.026097  [50688/150372]\n",
            "  training loss: 0.040205  [100864/150372]\n",
            " validation error 16.41 %\n",
            "Epoch 25/50\n",
            "  training loss: 0.031774  [  512/150372]\n",
            "  training loss: 0.036074  [50688/150372]\n",
            "  training loss: 0.025064  [100864/150372]\n",
            " validation error 17.47 %\n",
            "Epoch 26/50\n",
            "  training loss: 0.025866  [  512/150372]\n",
            "  training loss: 0.025498  [50688/150372]\n",
            "  training loss: 0.024714  [100864/150372]\n",
            " validation error 17.88 %\n",
            "Epoch 27/50\n",
            "  training loss: 0.024491  [  512/150372]\n",
            "  training loss: 0.032271  [50688/150372]\n",
            "  training loss: 0.025940  [100864/150372]\n",
            " validation error 17.96 %\n",
            "Epoch 28/50\n",
            "  training loss: 0.030076  [  512/150372]\n",
            "  training loss: 0.028251  [50688/150372]\n",
            "  training loss: 0.025009  [100864/150372]\n",
            " validation error 16.83 %\n",
            "Epoch 29/50\n",
            "  training loss: 0.020316  [  512/150372]\n",
            "  training loss: 0.030217  [50688/150372]\n",
            "  training loss: 0.027163  [100864/150372]\n",
            " validation error 17.60 %\n",
            "Epoch 30/50\n",
            "  training loss: 0.036253  [  512/150372]\n",
            "  training loss: 0.022312  [50688/150372]\n",
            "  training loss: 0.025073  [100864/150372]\n",
            " validation error 18.58 %\n",
            "Epoch 31/50\n",
            "  training loss: 0.029609  [  512/150372]\n",
            "  training loss: 0.024647  [50688/150372]\n",
            "  training loss: 0.025521  [100864/150372]\n",
            " validation error 17.09 %\n",
            "Epoch 32/50\n",
            "  training loss: 0.032814  [  512/150372]\n",
            "  training loss: 0.022508  [50688/150372]\n",
            "  training loss: 0.031745  [100864/150372]\n",
            " validation error 16.44 %\n",
            "Epoch 33/50\n",
            "  training loss: 0.025095  [  512/150372]\n",
            "  training loss: 0.022777  [50688/150372]\n",
            "  training loss: 0.029781  [100864/150372]\n",
            " validation error 16.43 %\n",
            "Epoch 34/50\n",
            "  training loss: 0.027008  [  512/150372]\n",
            "  training loss: 0.025275  [50688/150372]\n",
            "  training loss: 0.028593  [100864/150372]\n",
            " validation error 16.21 %\n",
            "Epoch 35/50\n",
            "  training loss: 0.027005  [  512/150372]\n",
            "  training loss: 0.026467  [50688/150372]\n",
            "  training loss: 0.026074  [100864/150372]\n",
            " validation error 16.85 %\n",
            "Epoch 36/50\n",
            "  training loss: 0.023490  [  512/150372]\n",
            "  training loss: 0.023541  [50688/150372]\n",
            "  training loss: 0.025253  [100864/150372]\n",
            " validation error 16.64 %\n",
            "Epoch 37/50\n",
            "  training loss: 0.027107  [  512/150372]\n",
            "  training loss: 0.022955  [50688/150372]\n",
            "  training loss: 0.025639  [100864/150372]\n",
            " validation error 16.61 %\n",
            "Epoch 38/50\n",
            "  training loss: 0.021950  [  512/150372]\n",
            "  training loss: 0.022268  [50688/150372]\n",
            "  training loss: 0.024739  [100864/150372]\n",
            " validation error 16.48 %\n",
            "Epoch 39/50\n",
            "  training loss: 0.027033  [  512/150372]\n",
            "  training loss: 0.024868  [50688/150372]\n",
            "  training loss: 0.026948  [100864/150372]\n",
            " validation error 17.65 %\n",
            "Epoch 40/50\n",
            "  training loss: 0.021147  [  512/150372]\n",
            "  training loss: 0.015368  [50688/150372]\n",
            "  training loss: 0.026315  [100864/150372]\n",
            " validation error 16.63 %\n",
            "Epoch 41/50\n",
            "  training loss: 0.030222  [  512/150372]\n",
            "  training loss: 0.023336  [50688/150372]\n",
            "  training loss: 0.021700  [100864/150372]\n",
            " validation error 16.78 %\n",
            "Epoch 42/50\n",
            "  training loss: 0.018949  [  512/150372]\n",
            "  training loss: 0.022486  [50688/150372]\n",
            "  training loss: 0.020911  [100864/150372]\n",
            " validation error 15.46 %\n",
            "Epoch 43/50\n",
            "  training loss: 0.020362  [  512/150372]\n",
            "  training loss: 0.020053  [50688/150372]\n",
            "  training loss: 0.017756  [100864/150372]\n",
            " validation error 18.74 %\n",
            "Epoch 44/50\n",
            "  training loss: 0.022955  [  512/150372]\n",
            "  training loss: 0.022797  [50688/150372]\n",
            "  training loss: 0.025557  [100864/150372]\n",
            " validation error 16.37 %\n",
            "Epoch 45/50\n",
            "  training loss: 0.024933  [  512/150372]\n",
            "  training loss: 0.022292  [50688/150372]\n",
            "  training loss: 0.021040  [100864/150372]\n",
            " validation error 17.04 %\n",
            "Epoch 46/50\n",
            "  training loss: 0.018222  [  512/150372]\n",
            "  training loss: 0.019702  [50688/150372]\n",
            "  training loss: 0.028035  [100864/150372]\n",
            " validation error 16.15 %\n",
            "Epoch 47/50\n",
            "  training loss: 0.026006  [  512/150372]\n",
            "  training loss: 0.021228  [50688/150372]\n",
            "  training loss: 0.027354  [100864/150372]\n",
            " validation error 15.97 %\n",
            "Epoch 48/50\n",
            "  training loss: 0.021860  [  512/150372]\n",
            "  training loss: 0.024394  [50688/150372]\n",
            "  training loss: 0.017376  [100864/150372]\n",
            " validation error 15.61 %\n",
            "Epoch 49/50\n",
            "  training loss: 0.029712  [  512/150372]\n",
            "  training loss: 0.019617  [50688/150372]\n",
            "  training loss: 0.019205  [100864/150372]\n",
            " validation error 16.44 %\n",
            "Epoch 50/50\n",
            "  training loss: 0.028229  [  512/150372]\n",
            "  training loss: 0.021434  [50688/150372]\n",
            "  training loss: 0.020397  [100864/150372]\n",
            " validation error 15.81 %\n",
            "Training took 162.6 s\n"
          ]
        }
      ],
      "source": [
        "# initialize MLP model\n",
        "model = classification.TorchMLP(\n",
        "    input_size=x_train.shape[1],\n",
        "    output_size=y_train.shape[1],\n",
        "    hidden_layers=(64, 64, 64)\n",
        ")\n",
        "# initialize optimizer with model parameters and optimized weight decay\n",
        "optimizer = torch.optim.Adam(model.parameters(), weight_decay=best_weight_decay)\n",
        "\n",
        "print(f\"Starting training MLP model\")\n",
        "t0 = time.time()\n",
        "training_history = classification.train_loop(\n",
        "    model,\n",
        "    train_loader,\n",
        "    test_loader,\n",
        "    loss_fun,\n",
        "    optimizer,\n",
        "    NUM_EPOCHS.mlp,\n",
        "    device\n",
        ")\n",
        "t1 = time.time()\n",
        "duration = t1-t0\n",
        "print(f\"Training took {duration:.1f} s\")"
      ]
    },
    {
      "cell_type": "markdown",
      "metadata": {
        "id": "VtK8yL0S7bGR"
      },
      "source": [
        "### 4.6.3 Model Evaluation"
      ]
    },
    {
      "cell_type": "code",
      "execution_count": null,
      "metadata": {
        "colab": {
          "base_uri": "https://localhost:8080/",
          "height": 1000
        },
        "id": "zvWSvnC97bGR",
        "outputId": "26515c44-8cd6-4838-a197-a3e9016bffa9"
      },
      "outputs": [
        {
          "output_type": "display_data",
          "data": {
            "text/html": [
              "<html>\n",
              "<head><meta charset=\"utf-8\" /></head>\n",
              "<body>\n",
              "    <div>            <script src=\"https://cdnjs.cloudflare.com/ajax/libs/mathjax/2.7.5/MathJax.js?config=TeX-AMS-MML_SVG\"></script><script type=\"text/javascript\">if (window.MathJax && window.MathJax.Hub && window.MathJax.Hub.Config) {window.MathJax.Hub.Config({SVG: {font: \"STIX-Web\"}});}</script>                <script type=\"text/javascript\">window.PlotlyConfig = {MathJaxConfig: 'local'};</script>\n",
              "        <script charset=\"utf-8\" src=\"https://cdn.plot.ly/plotly-2.24.1.min.js\"></script>                <div id=\"2f3ac9ff-5c19-4edd-a79e-594c0cc3128a\" class=\"plotly-graph-div\" style=\"height:400px; width:750px;\"></div>            <script type=\"text/javascript\">                                    window.PLOTLYENV=window.PLOTLYENV || {};                                    if (document.getElementById(\"2f3ac9ff-5c19-4edd-a79e-594c0cc3128a\")) {                    Plotly.newPlot(                        \"2f3ac9ff-5c19-4edd-a79e-594c0cc3128a\",                        [{\"marker\":{\"color\":\"#3366CC\"},\"mode\":\"lines\",\"name\":\"Training error\",\"x\":[1000,2000,3000,4000,5000,6000,7000,8000,9000,10000,11000,12000,13000,14000],\"y\":[0.14651663873593487,0.12436490836059905,0.07810629638496529,0.07850530683903918,0.08441066155933286,0.07421594445774479,0.06924826430452478,0.051079988295693345,0.05622057297901205,0.04889208097252148,0.04563349559758466,0.04538078897667119,0.05145239805282898,0.05419226983746974],\"type\":\"scatter\",\"xaxis\":\"x\",\"yaxis\":\"y\"},{\"marker\":{\"color\":\"#DC3912\"},\"mode\":\"lines\",\"name\":\"Testing error\",\"x\":[1000,2000,3000,4000,5000,6000,7000,8000,9000,10000,11000,12000,13000,14000],\"y\":[0.21070569896166344,0.2051044941742186,0.17596237681312585,0.18336019445692092,0.19580438056487623,0.1807973790588919,0.17427144706597267,0.1591587624507913,0.17194641866363708,0.15844540146371106,0.16222357261750642,0.16941002404290734,0.16954212792940368,0.16837961372823587],\"type\":\"scatter\",\"xaxis\":\"x\",\"yaxis\":\"y\"},{\"marker\":{\"color\":\"#FF9900\"},\"mode\":\"lines\",\"name\":\"Training loss\",\"x\":[1000,2000,3000,4000,5000,6000,7000,8000,9000,10000,11000,12000,13000,14000],\"y\":[0.10479439652756004,0.07219115507961654,0.043714226223999085,0.037973754047107594,0.03536115545652922,0.030586808268354897,0.027519595456278575,0.02432597943637902,0.024736981929564243,0.02237254091216999,0.020818738933588526,0.020518968648152388,0.022138925207955646,0.02152818159098158],\"type\":\"scatter\",\"xaxis\":\"x2\",\"yaxis\":\"y2\"},{\"marker\":{\"color\":\"#109618\"},\"mode\":\"lines\",\"name\":\"Testing loss\",\"x\":[1000,2000,3000,4000,5000,6000,7000,8000,9000,10000,11000,12000,13000,14000],\"y\":[0.15381823233082328,0.13464865280667296,0.13093119677333473,0.12216519008780688,0.12171039836944156,0.11801577576740802,0.10604264170530624,0.11016973854627013,0.11444574933946046,0.1007121068910786,0.10448465168034372,0.10162677156196541,0.11726262197561846,0.10718467142084996],\"type\":\"scatter\",\"xaxis\":\"x2\",\"yaxis\":\"y2\"}],                        {\"template\":{\"data\":{\"histogram2dcontour\":[{\"type\":\"histogram2dcontour\",\"colorbar\":{\"outlinewidth\":0,\"ticks\":\"\"},\"colorscale\":[[0.0,\"#0d0887\"],[0.1111111111111111,\"#46039f\"],[0.2222222222222222,\"#7201a8\"],[0.3333333333333333,\"#9c179e\"],[0.4444444444444444,\"#bd3786\"],[0.5555555555555556,\"#d8576b\"],[0.6666666666666666,\"#ed7953\"],[0.7777777777777778,\"#fb9f3a\"],[0.8888888888888888,\"#fdca26\"],[1.0,\"#f0f921\"]]}],\"choropleth\":[{\"type\":\"choropleth\",\"colorbar\":{\"outlinewidth\":0,\"ticks\":\"\"}}],\"histogram2d\":[{\"type\":\"histogram2d\",\"colorbar\":{\"outlinewidth\":0,\"ticks\":\"\"},\"colorscale\":[[0.0,\"#0d0887\"],[0.1111111111111111,\"#46039f\"],[0.2222222222222222,\"#7201a8\"],[0.3333333333333333,\"#9c179e\"],[0.4444444444444444,\"#bd3786\"],[0.5555555555555556,\"#d8576b\"],[0.6666666666666666,\"#ed7953\"],[0.7777777777777778,\"#fb9f3a\"],[0.8888888888888888,\"#fdca26\"],[1.0,\"#f0f921\"]]}],\"heatmap\":[{\"type\":\"heatmap\",\"colorbar\":{\"outlinewidth\":0,\"ticks\":\"\"},\"colorscale\":[[0.0,\"#0d0887\"],[0.1111111111111111,\"#46039f\"],[0.2222222222222222,\"#7201a8\"],[0.3333333333333333,\"#9c179e\"],[0.4444444444444444,\"#bd3786\"],[0.5555555555555556,\"#d8576b\"],[0.6666666666666666,\"#ed7953\"],[0.7777777777777778,\"#fb9f3a\"],[0.8888888888888888,\"#fdca26\"],[1.0,\"#f0f921\"]]}],\"heatmapgl\":[{\"type\":\"heatmapgl\",\"colorbar\":{\"outlinewidth\":0,\"ticks\":\"\"},\"colorscale\":[[0.0,\"#0d0887\"],[0.1111111111111111,\"#46039f\"],[0.2222222222222222,\"#7201a8\"],[0.3333333333333333,\"#9c179e\"],[0.4444444444444444,\"#bd3786\"],[0.5555555555555556,\"#d8576b\"],[0.6666666666666666,\"#ed7953\"],[0.7777777777777778,\"#fb9f3a\"],[0.8888888888888888,\"#fdca26\"],[1.0,\"#f0f921\"]]}],\"contourcarpet\":[{\"type\":\"contourcarpet\",\"colorbar\":{\"outlinewidth\":0,\"ticks\":\"\"}}],\"contour\":[{\"type\":\"contour\",\"colorbar\":{\"outlinewidth\":0,\"ticks\":\"\"},\"colorscale\":[[0.0,\"#0d0887\"],[0.1111111111111111,\"#46039f\"],[0.2222222222222222,\"#7201a8\"],[0.3333333333333333,\"#9c179e\"],[0.4444444444444444,\"#bd3786\"],[0.5555555555555556,\"#d8576b\"],[0.6666666666666666,\"#ed7953\"],[0.7777777777777778,\"#fb9f3a\"],[0.8888888888888888,\"#fdca26\"],[1.0,\"#f0f921\"]]}],\"surface\":[{\"type\":\"surface\",\"colorbar\":{\"outlinewidth\":0,\"ticks\":\"\"},\"colorscale\":[[0.0,\"#0d0887\"],[0.1111111111111111,\"#46039f\"],[0.2222222222222222,\"#7201a8\"],[0.3333333333333333,\"#9c179e\"],[0.4444444444444444,\"#bd3786\"],[0.5555555555555556,\"#d8576b\"],[0.6666666666666666,\"#ed7953\"],[0.7777777777777778,\"#fb9f3a\"],[0.8888888888888888,\"#fdca26\"],[1.0,\"#f0f921\"]]}],\"mesh3d\":[{\"type\":\"mesh3d\",\"colorbar\":{\"outlinewidth\":0,\"ticks\":\"\"}}],\"scatter\":[{\"fillpattern\":{\"fillmode\":\"overlay\",\"size\":10,\"solidity\":0.2},\"type\":\"scatter\"}],\"parcoords\":[{\"type\":\"parcoords\",\"line\":{\"colorbar\":{\"outlinewidth\":0,\"ticks\":\"\"}}}],\"scatterpolargl\":[{\"type\":\"scatterpolargl\",\"marker\":{\"colorbar\":{\"outlinewidth\":0,\"ticks\":\"\"}}}],\"bar\":[{\"error_x\":{\"color\":\"#2a3f5f\"},\"error_y\":{\"color\":\"#2a3f5f\"},\"marker\":{\"line\":{\"color\":\"white\",\"width\":0.5},\"pattern\":{\"fillmode\":\"overlay\",\"size\":10,\"solidity\":0.2}},\"type\":\"bar\"}],\"scattergeo\":[{\"type\":\"scattergeo\",\"marker\":{\"colorbar\":{\"outlinewidth\":0,\"ticks\":\"\"}}}],\"scatterpolar\":[{\"type\":\"scatterpolar\",\"marker\":{\"colorbar\":{\"outlinewidth\":0,\"ticks\":\"\"}}}],\"histogram\":[{\"marker\":{\"pattern\":{\"fillmode\":\"overlay\",\"size\":10,\"solidity\":0.2}},\"type\":\"histogram\"}],\"scattergl\":[{\"type\":\"scattergl\",\"marker\":{\"colorbar\":{\"outlinewidth\":0,\"ticks\":\"\"}}}],\"scatter3d\":[{\"type\":\"scatter3d\",\"line\":{\"colorbar\":{\"outlinewidth\":0,\"ticks\":\"\"}},\"marker\":{\"colorbar\":{\"outlinewidth\":0,\"ticks\":\"\"}}}],\"scattermapbox\":[{\"type\":\"scattermapbox\",\"marker\":{\"colorbar\":{\"outlinewidth\":0,\"ticks\":\"\"}}}],\"scatterternary\":[{\"type\":\"scatterternary\",\"marker\":{\"colorbar\":{\"outlinewidth\":0,\"ticks\":\"\"}}}],\"scattercarpet\":[{\"type\":\"scattercarpet\",\"marker\":{\"colorbar\":{\"outlinewidth\":0,\"ticks\":\"\"}}}],\"carpet\":[{\"aaxis\":{\"endlinecolor\":\"#2a3f5f\",\"gridcolor\":\"#C8D4E3\",\"linecolor\":\"#C8D4E3\",\"minorgridcolor\":\"#C8D4E3\",\"startlinecolor\":\"#2a3f5f\"},\"baxis\":{\"endlinecolor\":\"#2a3f5f\",\"gridcolor\":\"#C8D4E3\",\"linecolor\":\"#C8D4E3\",\"minorgridcolor\":\"#C8D4E3\",\"startlinecolor\":\"#2a3f5f\"},\"type\":\"carpet\"}],\"table\":[{\"cells\":{\"fill\":{\"color\":\"#EBF0F8\"},\"line\":{\"color\":\"white\"}},\"header\":{\"fill\":{\"color\":\"#C8D4E3\"},\"line\":{\"color\":\"white\"}},\"type\":\"table\"}],\"barpolar\":[{\"marker\":{\"line\":{\"color\":\"white\",\"width\":0.5},\"pattern\":{\"fillmode\":\"overlay\",\"size\":10,\"solidity\":0.2}},\"type\":\"barpolar\"}],\"pie\":[{\"automargin\":true,\"type\":\"pie\"}]},\"layout\":{\"autotypenumbers\":\"strict\",\"colorway\":[\"#636efa\",\"#EF553B\",\"#00cc96\",\"#ab63fa\",\"#FFA15A\",\"#19d3f3\",\"#FF6692\",\"#B6E880\",\"#FF97FF\",\"#FECB52\"],\"font\":{\"color\":\"#2a3f5f\"},\"hovermode\":\"closest\",\"hoverlabel\":{\"align\":\"left\"},\"paper_bgcolor\":\"white\",\"plot_bgcolor\":\"white\",\"polar\":{\"bgcolor\":\"white\",\"angularaxis\":{\"gridcolor\":\"#EBF0F8\",\"linecolor\":\"#EBF0F8\",\"ticks\":\"\"},\"radialaxis\":{\"gridcolor\":\"#EBF0F8\",\"linecolor\":\"#EBF0F8\",\"ticks\":\"\"}},\"ternary\":{\"bgcolor\":\"white\",\"aaxis\":{\"gridcolor\":\"#DFE8F3\",\"linecolor\":\"#A2B1C6\",\"ticks\":\"\"},\"baxis\":{\"gridcolor\":\"#DFE8F3\",\"linecolor\":\"#A2B1C6\",\"ticks\":\"\"},\"caxis\":{\"gridcolor\":\"#DFE8F3\",\"linecolor\":\"#A2B1C6\",\"ticks\":\"\"}},\"coloraxis\":{\"colorbar\":{\"outlinewidth\":0,\"ticks\":\"\"}},\"colorscale\":{\"sequential\":[[0.0,\"#0d0887\"],[0.1111111111111111,\"#46039f\"],[0.2222222222222222,\"#7201a8\"],[0.3333333333333333,\"#9c179e\"],[0.4444444444444444,\"#bd3786\"],[0.5555555555555556,\"#d8576b\"],[0.6666666666666666,\"#ed7953\"],[0.7777777777777778,\"#fb9f3a\"],[0.8888888888888888,\"#fdca26\"],[1.0,\"#f0f921\"]],\"sequentialminus\":[[0.0,\"#0d0887\"],[0.1111111111111111,\"#46039f\"],[0.2222222222222222,\"#7201a8\"],[0.3333333333333333,\"#9c179e\"],[0.4444444444444444,\"#bd3786\"],[0.5555555555555556,\"#d8576b\"],[0.6666666666666666,\"#ed7953\"],[0.7777777777777778,\"#fb9f3a\"],[0.8888888888888888,\"#fdca26\"],[1.0,\"#f0f921\"]],\"diverging\":[[0,\"#8e0152\"],[0.1,\"#c51b7d\"],[0.2,\"#de77ae\"],[0.3,\"#f1b6da\"],[0.4,\"#fde0ef\"],[0.5,\"#f7f7f7\"],[0.6,\"#e6f5d0\"],[0.7,\"#b8e186\"],[0.8,\"#7fbc41\"],[0.9,\"#4d9221\"],[1,\"#276419\"]]},\"xaxis\":{\"gridcolor\":\"#EBF0F8\",\"linecolor\":\"#EBF0F8\",\"ticks\":\"\",\"title\":{\"standoff\":15},\"zerolinecolor\":\"#EBF0F8\",\"automargin\":true,\"zerolinewidth\":2},\"yaxis\":{\"gridcolor\":\"#EBF0F8\",\"linecolor\":\"#EBF0F8\",\"ticks\":\"\",\"title\":{\"standoff\":15},\"zerolinecolor\":\"#EBF0F8\",\"automargin\":true,\"zerolinewidth\":2},\"scene\":{\"xaxis\":{\"backgroundcolor\":\"white\",\"gridcolor\":\"#DFE8F3\",\"linecolor\":\"#EBF0F8\",\"showbackground\":true,\"ticks\":\"\",\"zerolinecolor\":\"#EBF0F8\",\"gridwidth\":2},\"yaxis\":{\"backgroundcolor\":\"white\",\"gridcolor\":\"#DFE8F3\",\"linecolor\":\"#EBF0F8\",\"showbackground\":true,\"ticks\":\"\",\"zerolinecolor\":\"#EBF0F8\",\"gridwidth\":2},\"zaxis\":{\"backgroundcolor\":\"white\",\"gridcolor\":\"#DFE8F3\",\"linecolor\":\"#EBF0F8\",\"showbackground\":true,\"ticks\":\"\",\"zerolinecolor\":\"#EBF0F8\",\"gridwidth\":2}},\"shapedefaults\":{\"line\":{\"color\":\"#2a3f5f\"}},\"annotationdefaults\":{\"arrowcolor\":\"#2a3f5f\",\"arrowhead\":0,\"arrowwidth\":1},\"geo\":{\"bgcolor\":\"white\",\"landcolor\":\"white\",\"subunitcolor\":\"#C8D4E3\",\"showland\":true,\"showlakes\":true,\"lakecolor\":\"white\"},\"title\":{\"x\":0.05},\"mapbox\":{\"style\":\"light\"}}},\"xaxis\":{\"anchor\":\"y\",\"domain\":[0.0,0.45],\"title\":{\"text\":\"Weight updates\"}},\"yaxis\":{\"anchor\":\"x\",\"domain\":[0.0,1.0],\"title\":{\"text\":\"Accuraccy\"}},\"xaxis2\":{\"anchor\":\"y2\",\"domain\":[0.55,1.0],\"title\":{\"text\":\"Weight updates\"}},\"yaxis2\":{\"anchor\":\"x2\",\"domain\":[0.0,1.0],\"title\":{\"text\":\"Loss\"}},\"annotations\":[{\"font\":{\"size\":16},\"showarrow\":false,\"text\":\"Accuracy\",\"x\":0.225,\"xanchor\":\"center\",\"xref\":\"paper\",\"y\":1.0,\"yanchor\":\"bottom\",\"yref\":\"paper\"},{\"font\":{\"size\":16},\"showarrow\":false,\"text\":\"Loss\",\"x\":0.775,\"xanchor\":\"center\",\"xref\":\"paper\",\"y\":1.0,\"yanchor\":\"bottom\",\"yref\":\"paper\"}],\"title\":{\"text\":\"Training run with MLP model\"},\"height\":400,\"width\":750},                        {\"responsive\": true}                    ).then(function(){\n",
              "                            \n",
              "var gd = document.getElementById('2f3ac9ff-5c19-4edd-a79e-594c0cc3128a');\n",
              "var x = new MutationObserver(function (mutations, observer) {{\n",
              "        var display = window.getComputedStyle(gd).display;\n",
              "        if (!display || display === 'none') {{\n",
              "            console.log([gd, 'removed!']);\n",
              "            Plotly.purge(gd);\n",
              "            observer.disconnect();\n",
              "        }}\n",
              "}});\n",
              "\n",
              "// Listen for the removal of the full notebook cells\n",
              "var notebookContainer = gd.closest('#notebook-container');\n",
              "if (notebookContainer) {{\n",
              "    x.observe(notebookContainer, {childList: true});\n",
              "}}\n",
              "\n",
              "// Listen for the clearing of the current output cell\n",
              "var outputEl = gd.closest('.output');\n",
              "if (outputEl) {{\n",
              "    x.observe(outputEl, {childList: true});\n",
              "}}\n",
              "\n",
              "                        })                };                            </script>        </div>\n",
              "</body>\n",
              "</html>"
            ]
          },
          "metadata": {}
        },
        {
          "output_type": "display_data",
          "data": {
            "text/html": [
              "<html>\n",
              "<head><meta charset=\"utf-8\" /></head>\n",
              "<body>\n",
              "    <div>            <script src=\"https://cdnjs.cloudflare.com/ajax/libs/mathjax/2.7.5/MathJax.js?config=TeX-AMS-MML_SVG\"></script><script type=\"text/javascript\">if (window.MathJax && window.MathJax.Hub && window.MathJax.Hub.Config) {window.MathJax.Hub.Config({SVG: {font: \"STIX-Web\"}});}</script>                <script type=\"text/javascript\">window.PlotlyConfig = {MathJaxConfig: 'local'};</script>\n",
              "        <script charset=\"utf-8\" src=\"https://cdn.plot.ly/plotly-2.24.1.min.js\"></script>                <div id=\"91ce2c6c-7078-4a80-b1f9-174b7033e7bd\" class=\"plotly-graph-div\" style=\"height:600px; width:750px;\"></div>            <script type=\"text/javascript\">                                    window.PLOTLYENV=window.PLOTLYENV || {};                                    if (document.getElementById(\"91ce2c6c-7078-4a80-b1f9-174b7033e7bd\")) {                    Plotly.newPlot(                        \"91ce2c6c-7078-4a80-b1f9-174b7033e7bd\",                        [{\"coloraxis\":\"coloraxis\",\"name\":\"Drinking or Eating\",\"text\":[[\"1018\",\"4357\"],[\"31590\",\"884\"]],\"texttemplate\":\"%{text}\",\"x\":[\"False\",\"True\"],\"y\":[\"True\",\"False\"],\"z\":[[1018,4357],[31590,884]],\"type\":\"heatmap\",\"xaxis\":\"x\",\"yaxis\":\"y\"},{\"coloraxis\":\"coloraxis\",\"name\":\"Galloping\",\"text\":[[\"987\",\"4788\"],[\"31917\",\"157\"]],\"texttemplate\":\"%{text}\",\"x\":[\"False\",\"True\"],\"y\":[\"True\",\"False\"],\"z\":[[987,4788],[31917,157]],\"type\":\"heatmap\",\"xaxis\":\"x2\",\"yaxis\":\"y2\"},{\"coloraxis\":\"coloraxis\",\"name\":\"Jumping or Pacing\",\"text\":[[\"1601\",\"3399\"],[\"32496\",\"353\"]],\"texttemplate\":\"%{text}\",\"x\":[\"False\",\"True\"],\"y\":[\"True\",\"False\"],\"z\":[[1601,3399],[32496,353]],\"type\":\"heatmap\",\"xaxis\":\"x3\",\"yaxis\":\"y3\"},{\"coloraxis\":\"coloraxis\",\"name\":\"Playing or Tugging\",\"text\":[[\"591\",\"6316\"],[\"30420\",\"522\"]],\"texttemplate\":\"%{text}\",\"x\":[\"False\",\"True\"],\"y\":[\"True\",\"False\"],\"z\":[[591,6316],[30420,522]],\"type\":\"heatmap\",\"xaxis\":\"x4\",\"yaxis\":\"y4\"},{\"coloraxis\":\"coloraxis\",\"name\":\"Shaking\",\"text\":[[\"227\",\"4812\"],[\"32809\",\"1\"]],\"texttemplate\":\"%{text}\",\"x\":[\"False\",\"True\"],\"y\":[\"True\",\"False\"],\"z\":[[227,4812],[32809,1]],\"type\":\"heatmap\",\"xaxis\":\"x5\",\"yaxis\":\"y5\"},{\"coloraxis\":\"coloraxis\",\"name\":\"Sniffing\",\"text\":[[\"220\",\"4780\"],[\"32718\",\"131\"]],\"texttemplate\":\"%{text}\",\"x\":[\"False\",\"True\"],\"y\":[\"True\",\"False\"],\"z\":[[220,4780],[32718,131]],\"type\":\"heatmap\",\"xaxis\":\"x6\",\"yaxis\":\"y6\"},{\"coloraxis\":\"coloraxis\",\"name\":\"Standing or Sitting or Lying chest\",\"text\":[[\"166\",\"5013\"],[\"32535\",\"135\"]],\"texttemplate\":\"%{text}\",\"x\":[\"False\",\"True\"],\"y\":[\"True\",\"False\"],\"z\":[[166,5013],[32535,135]],\"type\":\"heatmap\",\"xaxis\":\"x7\",\"yaxis\":\"y7\"},{\"coloraxis\":\"coloraxis\",\"name\":\"Trotting\",\"text\":[[\"319\",\"4687\"],[\"31793\",\"1050\"]],\"texttemplate\":\"%{text}\",\"x\":[\"False\",\"True\"],\"y\":[\"True\",\"False\"],\"z\":[[319,4687],[31793,1050]],\"type\":\"heatmap\",\"xaxis\":\"x8\",\"yaxis\":\"y8\"},{\"coloraxis\":\"coloraxis\",\"name\":\"Walking\",\"text\":[[\"329\",\"4705\"],[\"32332\",\"483\"]],\"texttemplate\":\"%{text}\",\"x\":[\"False\",\"True\"],\"y\":[\"True\",\"False\"],\"z\":[[329,4705],[32332,483]],\"type\":\"heatmap\",\"xaxis\":\"x9\",\"yaxis\":\"y9\"}],                        {\"template\":{\"data\":{\"histogram2dcontour\":[{\"type\":\"histogram2dcontour\",\"colorbar\":{\"outlinewidth\":0,\"ticks\":\"\"},\"colorscale\":[[0.0,\"#0d0887\"],[0.1111111111111111,\"#46039f\"],[0.2222222222222222,\"#7201a8\"],[0.3333333333333333,\"#9c179e\"],[0.4444444444444444,\"#bd3786\"],[0.5555555555555556,\"#d8576b\"],[0.6666666666666666,\"#ed7953\"],[0.7777777777777778,\"#fb9f3a\"],[0.8888888888888888,\"#fdca26\"],[1.0,\"#f0f921\"]]}],\"choropleth\":[{\"type\":\"choropleth\",\"colorbar\":{\"outlinewidth\":0,\"ticks\":\"\"}}],\"histogram2d\":[{\"type\":\"histogram2d\",\"colorbar\":{\"outlinewidth\":0,\"ticks\":\"\"},\"colorscale\":[[0.0,\"#0d0887\"],[0.1111111111111111,\"#46039f\"],[0.2222222222222222,\"#7201a8\"],[0.3333333333333333,\"#9c179e\"],[0.4444444444444444,\"#bd3786\"],[0.5555555555555556,\"#d8576b\"],[0.6666666666666666,\"#ed7953\"],[0.7777777777777778,\"#fb9f3a\"],[0.8888888888888888,\"#fdca26\"],[1.0,\"#f0f921\"]]}],\"heatmap\":[{\"type\":\"heatmap\",\"colorbar\":{\"outlinewidth\":0,\"ticks\":\"\"},\"colorscale\":[[0.0,\"#0d0887\"],[0.1111111111111111,\"#46039f\"],[0.2222222222222222,\"#7201a8\"],[0.3333333333333333,\"#9c179e\"],[0.4444444444444444,\"#bd3786\"],[0.5555555555555556,\"#d8576b\"],[0.6666666666666666,\"#ed7953\"],[0.7777777777777778,\"#fb9f3a\"],[0.8888888888888888,\"#fdca26\"],[1.0,\"#f0f921\"]]}],\"heatmapgl\":[{\"type\":\"heatmapgl\",\"colorbar\":{\"outlinewidth\":0,\"ticks\":\"\"},\"colorscale\":[[0.0,\"#0d0887\"],[0.1111111111111111,\"#46039f\"],[0.2222222222222222,\"#7201a8\"],[0.3333333333333333,\"#9c179e\"],[0.4444444444444444,\"#bd3786\"],[0.5555555555555556,\"#d8576b\"],[0.6666666666666666,\"#ed7953\"],[0.7777777777777778,\"#fb9f3a\"],[0.8888888888888888,\"#fdca26\"],[1.0,\"#f0f921\"]]}],\"contourcarpet\":[{\"type\":\"contourcarpet\",\"colorbar\":{\"outlinewidth\":0,\"ticks\":\"\"}}],\"contour\":[{\"type\":\"contour\",\"colorbar\":{\"outlinewidth\":0,\"ticks\":\"\"},\"colorscale\":[[0.0,\"#0d0887\"],[0.1111111111111111,\"#46039f\"],[0.2222222222222222,\"#7201a8\"],[0.3333333333333333,\"#9c179e\"],[0.4444444444444444,\"#bd3786\"],[0.5555555555555556,\"#d8576b\"],[0.6666666666666666,\"#ed7953\"],[0.7777777777777778,\"#fb9f3a\"],[0.8888888888888888,\"#fdca26\"],[1.0,\"#f0f921\"]]}],\"surface\":[{\"type\":\"surface\",\"colorbar\":{\"outlinewidth\":0,\"ticks\":\"\"},\"colorscale\":[[0.0,\"#0d0887\"],[0.1111111111111111,\"#46039f\"],[0.2222222222222222,\"#7201a8\"],[0.3333333333333333,\"#9c179e\"],[0.4444444444444444,\"#bd3786\"],[0.5555555555555556,\"#d8576b\"],[0.6666666666666666,\"#ed7953\"],[0.7777777777777778,\"#fb9f3a\"],[0.8888888888888888,\"#fdca26\"],[1.0,\"#f0f921\"]]}],\"mesh3d\":[{\"type\":\"mesh3d\",\"colorbar\":{\"outlinewidth\":0,\"ticks\":\"\"}}],\"scatter\":[{\"fillpattern\":{\"fillmode\":\"overlay\",\"size\":10,\"solidity\":0.2},\"type\":\"scatter\"}],\"parcoords\":[{\"type\":\"parcoords\",\"line\":{\"colorbar\":{\"outlinewidth\":0,\"ticks\":\"\"}}}],\"scatterpolargl\":[{\"type\":\"scatterpolargl\",\"marker\":{\"colorbar\":{\"outlinewidth\":0,\"ticks\":\"\"}}}],\"bar\":[{\"error_x\":{\"color\":\"#2a3f5f\"},\"error_y\":{\"color\":\"#2a3f5f\"},\"marker\":{\"line\":{\"color\":\"white\",\"width\":0.5},\"pattern\":{\"fillmode\":\"overlay\",\"size\":10,\"solidity\":0.2}},\"type\":\"bar\"}],\"scattergeo\":[{\"type\":\"scattergeo\",\"marker\":{\"colorbar\":{\"outlinewidth\":0,\"ticks\":\"\"}}}],\"scatterpolar\":[{\"type\":\"scatterpolar\",\"marker\":{\"colorbar\":{\"outlinewidth\":0,\"ticks\":\"\"}}}],\"histogram\":[{\"marker\":{\"pattern\":{\"fillmode\":\"overlay\",\"size\":10,\"solidity\":0.2}},\"type\":\"histogram\"}],\"scattergl\":[{\"type\":\"scattergl\",\"marker\":{\"colorbar\":{\"outlinewidth\":0,\"ticks\":\"\"}}}],\"scatter3d\":[{\"type\":\"scatter3d\",\"line\":{\"colorbar\":{\"outlinewidth\":0,\"ticks\":\"\"}},\"marker\":{\"colorbar\":{\"outlinewidth\":0,\"ticks\":\"\"}}}],\"scattermapbox\":[{\"type\":\"scattermapbox\",\"marker\":{\"colorbar\":{\"outlinewidth\":0,\"ticks\":\"\"}}}],\"scatterternary\":[{\"type\":\"scatterternary\",\"marker\":{\"colorbar\":{\"outlinewidth\":0,\"ticks\":\"\"}}}],\"scattercarpet\":[{\"type\":\"scattercarpet\",\"marker\":{\"colorbar\":{\"outlinewidth\":0,\"ticks\":\"\"}}}],\"carpet\":[{\"aaxis\":{\"endlinecolor\":\"#2a3f5f\",\"gridcolor\":\"#C8D4E3\",\"linecolor\":\"#C8D4E3\",\"minorgridcolor\":\"#C8D4E3\",\"startlinecolor\":\"#2a3f5f\"},\"baxis\":{\"endlinecolor\":\"#2a3f5f\",\"gridcolor\":\"#C8D4E3\",\"linecolor\":\"#C8D4E3\",\"minorgridcolor\":\"#C8D4E3\",\"startlinecolor\":\"#2a3f5f\"},\"type\":\"carpet\"}],\"table\":[{\"cells\":{\"fill\":{\"color\":\"#EBF0F8\"},\"line\":{\"color\":\"white\"}},\"header\":{\"fill\":{\"color\":\"#C8D4E3\"},\"line\":{\"color\":\"white\"}},\"type\":\"table\"}],\"barpolar\":[{\"marker\":{\"line\":{\"color\":\"white\",\"width\":0.5},\"pattern\":{\"fillmode\":\"overlay\",\"size\":10,\"solidity\":0.2}},\"type\":\"barpolar\"}],\"pie\":[{\"automargin\":true,\"type\":\"pie\"}]},\"layout\":{\"autotypenumbers\":\"strict\",\"colorway\":[\"#636efa\",\"#EF553B\",\"#00cc96\",\"#ab63fa\",\"#FFA15A\",\"#19d3f3\",\"#FF6692\",\"#B6E880\",\"#FF97FF\",\"#FECB52\"],\"font\":{\"color\":\"#2a3f5f\"},\"hovermode\":\"closest\",\"hoverlabel\":{\"align\":\"left\"},\"paper_bgcolor\":\"white\",\"plot_bgcolor\":\"white\",\"polar\":{\"bgcolor\":\"white\",\"angularaxis\":{\"gridcolor\":\"#EBF0F8\",\"linecolor\":\"#EBF0F8\",\"ticks\":\"\"},\"radialaxis\":{\"gridcolor\":\"#EBF0F8\",\"linecolor\":\"#EBF0F8\",\"ticks\":\"\"}},\"ternary\":{\"bgcolor\":\"white\",\"aaxis\":{\"gridcolor\":\"#DFE8F3\",\"linecolor\":\"#A2B1C6\",\"ticks\":\"\"},\"baxis\":{\"gridcolor\":\"#DFE8F3\",\"linecolor\":\"#A2B1C6\",\"ticks\":\"\"},\"caxis\":{\"gridcolor\":\"#DFE8F3\",\"linecolor\":\"#A2B1C6\",\"ticks\":\"\"}},\"coloraxis\":{\"colorbar\":{\"outlinewidth\":0,\"ticks\":\"\"}},\"colorscale\":{\"sequential\":[[0.0,\"#0d0887\"],[0.1111111111111111,\"#46039f\"],[0.2222222222222222,\"#7201a8\"],[0.3333333333333333,\"#9c179e\"],[0.4444444444444444,\"#bd3786\"],[0.5555555555555556,\"#d8576b\"],[0.6666666666666666,\"#ed7953\"],[0.7777777777777778,\"#fb9f3a\"],[0.8888888888888888,\"#fdca26\"],[1.0,\"#f0f921\"]],\"sequentialminus\":[[0.0,\"#0d0887\"],[0.1111111111111111,\"#46039f\"],[0.2222222222222222,\"#7201a8\"],[0.3333333333333333,\"#9c179e\"],[0.4444444444444444,\"#bd3786\"],[0.5555555555555556,\"#d8576b\"],[0.6666666666666666,\"#ed7953\"],[0.7777777777777778,\"#fb9f3a\"],[0.8888888888888888,\"#fdca26\"],[1.0,\"#f0f921\"]],\"diverging\":[[0,\"#8e0152\"],[0.1,\"#c51b7d\"],[0.2,\"#de77ae\"],[0.3,\"#f1b6da\"],[0.4,\"#fde0ef\"],[0.5,\"#f7f7f7\"],[0.6,\"#e6f5d0\"],[0.7,\"#b8e186\"],[0.8,\"#7fbc41\"],[0.9,\"#4d9221\"],[1,\"#276419\"]]},\"xaxis\":{\"gridcolor\":\"#EBF0F8\",\"linecolor\":\"#EBF0F8\",\"ticks\":\"\",\"title\":{\"standoff\":15},\"zerolinecolor\":\"#EBF0F8\",\"automargin\":true,\"zerolinewidth\":2},\"yaxis\":{\"gridcolor\":\"#EBF0F8\",\"linecolor\":\"#EBF0F8\",\"ticks\":\"\",\"title\":{\"standoff\":15},\"zerolinecolor\":\"#EBF0F8\",\"automargin\":true,\"zerolinewidth\":2},\"scene\":{\"xaxis\":{\"backgroundcolor\":\"white\",\"gridcolor\":\"#DFE8F3\",\"linecolor\":\"#EBF0F8\",\"showbackground\":true,\"ticks\":\"\",\"zerolinecolor\":\"#EBF0F8\",\"gridwidth\":2},\"yaxis\":{\"backgroundcolor\":\"white\",\"gridcolor\":\"#DFE8F3\",\"linecolor\":\"#EBF0F8\",\"showbackground\":true,\"ticks\":\"\",\"zerolinecolor\":\"#EBF0F8\",\"gridwidth\":2},\"zaxis\":{\"backgroundcolor\":\"white\",\"gridcolor\":\"#DFE8F3\",\"linecolor\":\"#EBF0F8\",\"showbackground\":true,\"ticks\":\"\",\"zerolinecolor\":\"#EBF0F8\",\"gridwidth\":2}},\"shapedefaults\":{\"line\":{\"color\":\"#2a3f5f\"}},\"annotationdefaults\":{\"arrowcolor\":\"#2a3f5f\",\"arrowhead\":0,\"arrowwidth\":1},\"geo\":{\"bgcolor\":\"white\",\"landcolor\":\"white\",\"subunitcolor\":\"#C8D4E3\",\"showland\":true,\"showlakes\":true,\"lakecolor\":\"white\"},\"title\":{\"x\":0.05},\"mapbox\":{\"style\":\"light\"}}},\"xaxis\":{\"anchor\":\"y\",\"domain\":[0.0,0.2888888888888889]},\"yaxis\":{\"anchor\":\"x\",\"domain\":[0.7777777777777778,1.0],\"title\":{\"text\":\"Actual\"}},\"xaxis2\":{\"anchor\":\"y2\",\"domain\":[0.35555555555555557,0.6444444444444445]},\"yaxis2\":{\"anchor\":\"x2\",\"domain\":[0.7777777777777778,1.0]},\"xaxis3\":{\"anchor\":\"y3\",\"domain\":[0.7111111111111111,1.0]},\"yaxis3\":{\"anchor\":\"x3\",\"domain\":[0.7777777777777778,1.0]},\"xaxis4\":{\"anchor\":\"y4\",\"domain\":[0.0,0.2888888888888889]},\"yaxis4\":{\"anchor\":\"x4\",\"domain\":[0.3888888888888889,0.6111111111111112],\"title\":{\"text\":\"Actual\"}},\"xaxis5\":{\"anchor\":\"y5\",\"domain\":[0.35555555555555557,0.6444444444444445]},\"yaxis5\":{\"anchor\":\"x5\",\"domain\":[0.3888888888888889,0.6111111111111112]},\"xaxis6\":{\"anchor\":\"y6\",\"domain\":[0.7111111111111111,1.0]},\"yaxis6\":{\"anchor\":\"x6\",\"domain\":[0.3888888888888889,0.6111111111111112]},\"xaxis7\":{\"anchor\":\"y7\",\"domain\":[0.0,0.2888888888888889],\"title\":{\"text\":\"Predicted\"}},\"yaxis7\":{\"anchor\":\"x7\",\"domain\":[0.0,0.22222222222222224],\"title\":{\"text\":\"Actual\"}},\"xaxis8\":{\"anchor\":\"y8\",\"domain\":[0.35555555555555557,0.6444444444444445],\"title\":{\"text\":\"Predicted\"}},\"yaxis8\":{\"anchor\":\"x8\",\"domain\":[0.0,0.22222222222222224]},\"xaxis9\":{\"anchor\":\"y9\",\"domain\":[0.7111111111111111,1.0],\"title\":{\"text\":\"Predicted\"}},\"yaxis9\":{\"anchor\":\"x9\",\"domain\":[0.0,0.22222222222222224]},\"annotations\":[{\"font\":{\"size\":16},\"showarrow\":false,\"text\":\"Drinking or Eating\",\"x\":0.14444444444444446,\"xanchor\":\"center\",\"xref\":\"paper\",\"y\":1.0,\"yanchor\":\"bottom\",\"yref\":\"paper\"},{\"font\":{\"size\":16},\"showarrow\":false,\"text\":\"Galloping\",\"x\":0.5,\"xanchor\":\"center\",\"xref\":\"paper\",\"y\":1.0,\"yanchor\":\"bottom\",\"yref\":\"paper\"},{\"font\":{\"size\":16},\"showarrow\":false,\"text\":\"Jumping or Pacing\",\"x\":0.8555555555555556,\"xanchor\":\"center\",\"xref\":\"paper\",\"y\":1.0,\"yanchor\":\"bottom\",\"yref\":\"paper\"},{\"font\":{\"size\":16},\"showarrow\":false,\"text\":\"Playing or Tugging\",\"x\":0.14444444444444446,\"xanchor\":\"center\",\"xref\":\"paper\",\"y\":0.6111111111111112,\"yanchor\":\"bottom\",\"yref\":\"paper\"},{\"font\":{\"size\":16},\"showarrow\":false,\"text\":\"Shaking\",\"x\":0.5,\"xanchor\":\"center\",\"xref\":\"paper\",\"y\":0.6111111111111112,\"yanchor\":\"bottom\",\"yref\":\"paper\"},{\"font\":{\"size\":16},\"showarrow\":false,\"text\":\"Sniffing\",\"x\":0.8555555555555556,\"xanchor\":\"center\",\"xref\":\"paper\",\"y\":0.6111111111111112,\"yanchor\":\"bottom\",\"yref\":\"paper\"},{\"font\":{\"size\":16},\"showarrow\":false,\"text\":\"Standing or Sitting or Lying chest\",\"x\":0.14444444444444446,\"xanchor\":\"center\",\"xref\":\"paper\",\"y\":0.22222222222222224,\"yanchor\":\"bottom\",\"yref\":\"paper\"},{\"font\":{\"size\":16},\"showarrow\":false,\"text\":\"Trotting\",\"x\":0.5,\"xanchor\":\"center\",\"xref\":\"paper\",\"y\":0.22222222222222224,\"yanchor\":\"bottom\",\"yref\":\"paper\"},{\"font\":{\"size\":16},\"showarrow\":false,\"text\":\"Walking\",\"x\":0.8555555555555556,\"xanchor\":\"center\",\"xref\":\"paper\",\"y\":0.22222222222222224,\"yanchor\":\"bottom\",\"yref\":\"paper\"}],\"coloraxis\":{\"colorscale\":[[0.0,\"#000004\"],[0.1111111111111111,\"#1b0c41\"],[0.2222222222222222,\"#4a0c6b\"],[0.3333333333333333,\"#781c6d\"],[0.4444444444444444,\"#a52c60\"],[0.5555555555555556,\"#cf4446\"],[0.6666666666666666,\"#ed6925\"],[0.7777777777777778,\"#fb9b06\"],[0.8888888888888888,\"#f7d13d\"],[1.0,\"#fcffa4\"]]},\"title\":{\"text\":\"Confusion matrices for MLP model\"},\"width\":750,\"height\":600},                        {\"responsive\": true}                    ).then(function(){\n",
              "                            \n",
              "var gd = document.getElementById('91ce2c6c-7078-4a80-b1f9-174b7033e7bd');\n",
              "var x = new MutationObserver(function (mutations, observer) {{\n",
              "        var display = window.getComputedStyle(gd).display;\n",
              "        if (!display || display === 'none') {{\n",
              "            console.log([gd, 'removed!']);\n",
              "            Plotly.purge(gd);\n",
              "            observer.disconnect();\n",
              "        }}\n",
              "}});\n",
              "\n",
              "// Listen for the removal of the full notebook cells\n",
              "var notebookContainer = gd.closest('#notebook-container');\n",
              "if (notebookContainer) {{\n",
              "    x.observe(notebookContainer, {childList: true});\n",
              "}}\n",
              "\n",
              "// Listen for the clearing of the current output cell\n",
              "var outputEl = gd.closest('.output');\n",
              "if (outputEl) {{\n",
              "    x.observe(outputEl, {childList: true});\n",
              "}}\n",
              "\n",
              "                        })                };                            </script>        </div>\n",
              "</body>\n",
              "</html>"
            ]
          },
          "metadata": {}
        }
      ],
      "source": [
        "# plot the training and testing accuracies/losses during training\n",
        "classification.plot_training_run(training_history, title=\"Training run with MLP model\")\n",
        "# compute confusion matrix on test data\n",
        "confusion_matrices = classification.calculate_confusion_matrices_torch(model, test_loader, device)\n",
        "# plot the multil-label confusion matrix\n",
        "classification.plot_confusion_matrices(confusion_matrices, dataset.class_list, title=\"Confusion matrices for MLP model\")\n",
        "\n",
        "# save model performance\n",
        "model_performances.add(\n",
        "    ModelPerformance(name='MLP', test_accuracy=1-training_history.test.error[-1], train_duration=duration)\n",
        ")"
      ]
    },
    {
      "cell_type": "markdown",
      "metadata": {
        "id": "Dimt65m97bGR"
      },
      "source": [
        "## 4.7 Sequence Based Neural Network - GRU"
      ]
    },
    {
      "cell_type": "markdown",
      "source": [
        "This is the first model, that \"understands\" the time series nature of our data. We're using a GRU instead of a standard recurrent neural network because the sequence length of 100 could cause vanishing or exploding gradients in the latter case."
      ],
      "metadata": {
        "id": "tWr9xqpJs3EC"
      }
    },
    {
      "cell_type": "markdown",
      "metadata": {
        "id": "h9tTqxAn7bGR"
      },
      "source": [
        "### 4.7.1 Hyperparameter Tuning"
      ]
    },
    {
      "cell_type": "markdown",
      "source": [
        "The model has three recurrent layers. In this section the mdoel will be tuned to the ideal number of nodes."
      ],
      "metadata": {
        "id": "-kTzfeQGtPOj"
      }
    },
    {
      "cell_type": "code",
      "execution_count": null,
      "metadata": {
        "colab": {
          "base_uri": "https://localhost:8080/"
        },
        "id": "Len1deTS7bGW",
        "outputId": "d7570d4c-a2c6-4704-c9cc-cb7533af951e"
      },
      "outputs": [
        {
          "output_type": "stream",
          "name": "stdout",
          "text": [
            "Starting hyperparameter tuning of GRU model\n",
            "Training on CUDA.\n",
            "Epoch 1/10\n",
            "  training loss: 0.687646  [  512/150372]\n",
            "  training loss: 0.332900  [50688/150372]\n",
            "  training loss: 0.231718  [100864/150372]\n",
            " validation error 58.21 %\n",
            "Epoch 2/10\n",
            "  training loss: 0.193023  [  512/150372]\n",
            "  training loss: 0.163764  [50688/150372]\n",
            "  training loss: 0.134056  [100864/150372]\n",
            " validation error 41.64 %\n",
            "Epoch 3/10\n",
            "  training loss: 0.127818  [  512/150372]\n",
            "  training loss: 0.121795  [50688/150372]\n",
            "  training loss: 0.129758  [100864/150372]\n",
            " validation error 28.68 %\n",
            "Epoch 4/10\n",
            "  training loss: 0.108184  [  512/150372]\n",
            "  training loss: 0.102800  [50688/150372]\n",
            "  training loss: 0.112982  [100864/150372]\n",
            " validation error 25.17 %\n",
            "Epoch 5/10\n",
            "  training loss: 0.105656  [  512/150372]\n",
            "  training loss: 0.100979  [50688/150372]\n",
            "  training loss: 0.102660  [100864/150372]\n",
            " validation error 22.33 %\n",
            "Epoch 6/10\n",
            "  training loss: 0.094219  [  512/150372]\n",
            "  training loss: 0.095909  [50688/150372]\n",
            "  training loss: 0.082678  [100864/150372]\n",
            " validation error 19.24 %\n",
            "Epoch 7/10\n",
            "  training loss: 0.076649  [  512/150372]\n",
            "  training loss: 0.089164  [50688/150372]\n",
            "  training loss: 0.082389  [100864/150372]\n",
            " validation error 16.93 %\n",
            "Epoch 8/10\n",
            "  training loss: 0.062053  [  512/150372]\n",
            "  training loss: 0.066601  [50688/150372]\n",
            "  training loss: 0.069979  [100864/150372]\n",
            " validation error 15.70 %\n",
            "Epoch 9/10\n",
            "  training loss: 0.079882  [  512/150372]\n",
            "  training loss: 0.063979  [50688/150372]\n",
            "  training loss: 0.058462  [100864/150372]\n",
            " validation error 13.94 %\n",
            "Epoch 10/10\n",
            "  training loss: 0.067763  [  512/150372]\n",
            "  training loss: 0.058702  [50688/150372]\n",
            "  training loss: 0.065773  [100864/150372]\n",
            " validation error 13.29 %\n",
            "Training on CUDA.\n",
            "Epoch 1/10\n",
            "  training loss: 0.715706  [  512/150372]\n",
            "  training loss: 0.318196  [50688/150372]\n",
            "  training loss: 0.186707  [100864/150372]\n",
            " validation error 36.33 %\n",
            "Epoch 2/10\n",
            "  training loss: 0.148943  [  512/150372]\n",
            "  training loss: 0.110454  [50688/150372]\n",
            "  training loss: 0.123494  [100864/150372]\n",
            " validation error 30.27 %\n",
            "Epoch 3/10\n",
            "  training loss: 0.097829  [  512/150372]\n",
            "  training loss: 0.096925  [50688/150372]\n",
            "  training loss: 0.107929  [100864/150372]\n",
            " validation error 23.79 %\n",
            "Epoch 4/10\n",
            "  training loss: 0.106083  [  512/150372]\n",
            "  training loss: 0.091527  [50688/150372]\n",
            "  training loss: 0.077825  [100864/150372]\n",
            " validation error 20.11 %\n",
            "Epoch 5/10\n",
            "  training loss: 0.093910  [  512/150372]\n",
            "  training loss: 0.075101  [50688/150372]\n",
            "  training loss: 0.065250  [100864/150372]\n",
            " validation error 17.43 %\n",
            "Epoch 6/10\n",
            "  training loss: 0.071211  [  512/150372]\n",
            "  training loss: 0.070029  [50688/150372]\n",
            "  training loss: 0.068131  [100864/150372]\n",
            " validation error 16.78 %\n",
            "Epoch 7/10\n",
            "  training loss: 0.063301  [  512/150372]\n",
            "  training loss: 0.065736  [50688/150372]\n",
            "  training loss: 0.061340  [100864/150372]\n",
            " validation error 14.67 %\n",
            "Epoch 8/10\n",
            "  training loss: 0.063866  [  512/150372]\n",
            "  training loss: 0.070852  [50688/150372]\n",
            "  training loss: 0.060820  [100864/150372]\n",
            " validation error 13.79 %\n",
            "Epoch 9/10\n",
            "  training loss: 0.065748  [  512/150372]\n",
            "  training loss: 0.061404  [50688/150372]\n",
            "  training loss: 0.053066  [100864/150372]\n",
            " validation error 14.02 %\n",
            "Epoch 10/10\n",
            "  training loss: 0.048094  [  512/150372]\n",
            "  training loss: 0.049285  [50688/150372]\n",
            "  training loss: 0.044753  [100864/150372]\n",
            " validation error 12.60 %\n",
            "Training on CUDA.\n",
            "Epoch 1/10\n",
            "  training loss: 0.721074  [  512/150372]\n",
            "  training loss: 0.224565  [50688/150372]\n",
            "  training loss: 0.138082  [100864/150372]\n",
            " validation error 29.06 %\n",
            "Epoch 2/10\n",
            "  training loss: 0.111103  [  512/150372]\n",
            "  training loss: 0.113314  [50688/150372]\n",
            "  training loss: 0.111240  [100864/150372]\n",
            " validation error 26.30 %\n",
            "Epoch 3/10\n",
            "  training loss: 0.104673  [  512/150372]\n",
            "  training loss: 0.100382  [50688/150372]\n",
            "  training loss: 0.099638  [100864/150372]\n",
            " validation error 21.54 %\n",
            "Epoch 4/10\n",
            "  training loss: 0.077874  [  512/150372]\n",
            "  training loss: 0.093696  [50688/150372]\n",
            "  training loss: 0.075280  [100864/150372]\n",
            " validation error 17.11 %\n",
            "Epoch 5/10\n",
            "  training loss: 0.066124  [  512/150372]\n",
            "  training loss: 0.073319  [50688/150372]\n",
            "  training loss: 0.056667  [100864/150372]\n",
            " validation error 14.60 %\n",
            "Epoch 6/10\n",
            "  training loss: 0.058625  [  512/150372]\n",
            "  training loss: 0.055258  [50688/150372]\n",
            "  training loss: 0.053074  [100864/150372]\n",
            " validation error 12.78 %\n",
            "Epoch 7/10\n",
            "  training loss: 0.058209  [  512/150372]\n",
            "  training loss: 0.048090  [50688/150372]\n",
            "  training loss: 0.060629  [100864/150372]\n",
            " validation error 11.76 %\n",
            "Epoch 8/10\n",
            "  training loss: 0.046201  [  512/150372]\n",
            "  training loss: 0.058751  [50688/150372]\n",
            "  training loss: 0.045563  [100864/150372]\n",
            " validation error 11.79 %\n",
            "Epoch 9/10\n",
            "  training loss: 0.053537  [  512/150372]\n",
            "  training loss: 0.048996  [50688/150372]\n",
            "  training loss: 0.051308  [100864/150372]\n",
            " validation error 11.11 %\n",
            "Epoch 10/10\n",
            "  training loss: 0.039034  [  512/150372]\n",
            "  training loss: 0.036307  [50688/150372]\n",
            "  training loss: 0.042783  [100864/150372]\n",
            " validation error 10.27 %\n",
            "Best testing accuracy was achieved with a hidden size of 96\n"
          ]
        }
      ],
      "source": [
        "# get training and testing DataLoaders\n",
        "train_loader, test_loader = classification.get_dataloaders(\n",
        "    data, 'GRU', LEN_SEQ, BATCH_SIZES.gru\n",
        ")\n",
        "# initialize loss function\n",
        "loss_fun = torch.nn.BCEWithLogitsLoss()\n",
        "\n",
        "# define list of variable hyperparameter\n",
        "hidden_size_list = [48, 64, 96]\n",
        "# initialize list of test errors\n",
        "tuning_errors = []\n",
        "\n",
        "print(f\"Starting hyperparameter tuning of GRU model\")\n",
        "for hidden_size in hidden_size_list:\n",
        "    # initialize GRU model\n",
        "    model = classification.TorchGRU(\n",
        "        input_size=PCA_NUM_FEATURES,\n",
        "        output_size=y.shape[1],\n",
        "        hidden_size=hidden_size,\n",
        "        rnn_layers=3\n",
        "    )\n",
        "    # initialize optimizer with model parameters\n",
        "    optimizer = torch.optim.Adam(model.parameters(), weight_decay=1e-4)\n",
        "    # train the model\n",
        "    training_history = classification.train_loop(\n",
        "        model,\n",
        "        train_loader,\n",
        "        test_loader,\n",
        "        loss_fun,\n",
        "        optimizer,\n",
        "        NUM_HYPER_EPOCHS.gru,\n",
        "        device\n",
        "    )\n",
        "    # save model performance\n",
        "    tuning_errors.append(training_history.test.error[-1])\n",
        "\n",
        "# save and print best hidden size\n",
        "best_hidden_size = hidden_size_list[np.argmin(tuning_errors)]\n",
        "print(f\"Best testing accuracy was achieved with a hidden size of {best_hidden_size}\")"
      ]
    },
    {
      "cell_type": "markdown",
      "metadata": {
        "id": "6fqrn3Xd7bGW"
      },
      "source": [
        "### 4.7.2 Training with Tuned Hyperparameters"
      ]
    },
    {
      "cell_type": "code",
      "execution_count": null,
      "metadata": {
        "colab": {
          "base_uri": "https://localhost:8080/"
        },
        "id": "Z5tlFXrA7bGW",
        "outputId": "36580df7-5844-4a18-9a4d-8bdc7d469d57"
      },
      "outputs": [
        {
          "output_type": "stream",
          "name": "stdout",
          "text": [
            "Starting training GRU model\n",
            "Training on CUDA.\n",
            "Epoch 1/25\n",
            "  training loss: 0.695695  [  512/150372]\n",
            "  training loss: 0.230515  [50688/150372]\n",
            "  training loss: 0.173053  [100864/150372]\n",
            " validation error 32.48 %\n",
            "Epoch 2/25\n",
            "  training loss: 0.131668  [  512/150372]\n",
            "  training loss: 0.117996  [50688/150372]\n",
            "  training loss: 0.097078  [100864/150372]\n",
            " validation error 23.64 %\n",
            "Epoch 3/25\n",
            "  training loss: 0.090202  [  512/150372]\n",
            "  training loss: 0.085184  [50688/150372]\n",
            "  training loss: 0.089054  [100864/150372]\n",
            " validation error 16.90 %\n",
            "Epoch 4/25\n",
            "  training loss: 0.071671  [  512/150372]\n",
            "  training loss: 0.050906  [50688/150372]\n",
            "  training loss: 0.066371  [100864/150372]\n",
            " validation error 14.40 %\n",
            "Epoch 5/25\n",
            "  training loss: 0.054539  [  512/150372]\n",
            "  training loss: 0.046220  [50688/150372]\n",
            "  training loss: 0.046028  [100864/150372]\n",
            " validation error 12.04 %\n",
            "Epoch 6/25\n",
            "  training loss: 0.050245  [  512/150372]\n",
            "  training loss: 0.051994  [50688/150372]\n",
            "  training loss: 0.052398  [100864/150372]\n",
            " validation error 10.50 %\n",
            "Epoch 7/25\n",
            "  training loss: 0.042800  [  512/150372]\n",
            "  training loss: 0.027523  [50688/150372]\n",
            "  training loss: 0.045189  [100864/150372]\n",
            " validation error 9.71 %\n",
            "Epoch 8/25\n",
            "  training loss: 0.036670  [  512/150372]\n",
            "  training loss: 0.035373  [50688/150372]\n",
            "  training loss: 0.047094  [100864/150372]\n",
            " validation error 9.17 %\n",
            "Epoch 9/25\n",
            "  training loss: 0.034889  [  512/150372]\n",
            "  training loss: 0.023778  [50688/150372]\n",
            "  training loss: 0.025821  [100864/150372]\n",
            " validation error 8.80 %\n",
            "Epoch 10/25\n",
            "  training loss: 0.021873  [  512/150372]\n",
            "  training loss: 0.024789  [50688/150372]\n",
            "  training loss: 0.022660  [100864/150372]\n",
            " validation error 8.90 %\n",
            "Epoch 11/25\n",
            "  training loss: 0.028673  [  512/150372]\n",
            "  training loss: 0.022431  [50688/150372]\n",
            "  training loss: 0.025286  [100864/150372]\n",
            " validation error 8.48 %\n",
            "Epoch 12/25\n",
            "  training loss: 0.025892  [  512/150372]\n",
            "  training loss: 0.027320  [50688/150372]\n",
            "  training loss: 0.024232  [100864/150372]\n",
            " validation error 8.08 %\n",
            "Epoch 13/25\n",
            "  training loss: 0.021790  [  512/150372]\n",
            "  training loss: 0.022108  [50688/150372]\n",
            "  training loss: 0.021597  [100864/150372]\n",
            " validation error 8.21 %\n",
            "Epoch 14/25\n",
            "  training loss: 0.014820  [  512/150372]\n",
            "  training loss: 0.027229  [50688/150372]\n",
            "  training loss: 0.026844  [100864/150372]\n",
            " validation error 7.65 %\n",
            "Epoch 15/25\n",
            "  training loss: 0.019947  [  512/150372]\n",
            "  training loss: 0.016801  [50688/150372]\n",
            "  training loss: 0.018364  [100864/150372]\n",
            " validation error 7.61 %\n",
            "Epoch 16/25\n",
            "  training loss: 0.022144  [  512/150372]\n",
            "  training loss: 0.015473  [50688/150372]\n",
            "  training loss: 0.012194  [100864/150372]\n",
            " validation error 7.38 %\n",
            "Epoch 17/25\n",
            "  training loss: 0.014338  [  512/150372]\n",
            "  training loss: 0.014562  [50688/150372]\n",
            "  training loss: 0.009169  [100864/150372]\n",
            " validation error 7.04 %\n",
            "Epoch 18/25\n",
            "  training loss: 0.008488  [  512/150372]\n",
            "  training loss: 0.010008  [50688/150372]\n",
            "  training loss: 0.018487  [100864/150372]\n",
            " validation error 7.09 %\n",
            "Epoch 19/25\n",
            "  training loss: 0.013379  [  512/150372]\n",
            "  training loss: 0.013362  [50688/150372]\n",
            "  training loss: 0.014043  [100864/150372]\n",
            " validation error 7.03 %\n",
            "Epoch 20/25\n",
            "  training loss: 0.009382  [  512/150372]\n",
            "  training loss: 0.011124  [50688/150372]\n",
            "  training loss: 0.012524  [100864/150372]\n",
            " validation error 7.14 %\n",
            "Epoch 21/25\n",
            "  training loss: 0.016181  [  512/150372]\n",
            "  training loss: 0.014126  [50688/150372]\n",
            "  training loss: 0.016771  [100864/150372]\n",
            " validation error 6.89 %\n",
            "Epoch 22/25\n",
            "  training loss: 0.011010  [  512/150372]\n",
            "  training loss: 0.007279  [50688/150372]\n",
            "  training loss: 0.016509  [100864/150372]\n",
            " validation error 6.57 %\n",
            "Epoch 23/25\n",
            "  training loss: 0.008656  [  512/150372]\n",
            "  training loss: 0.013272  [50688/150372]\n",
            "  training loss: 0.011672  [100864/150372]\n",
            " validation error 6.71 %\n",
            "Epoch 24/25\n",
            "  training loss: 0.007664  [  512/150372]\n",
            "  training loss: 0.008168  [50688/150372]\n",
            "  training loss: 0.012395  [100864/150372]\n",
            " validation error 6.86 %\n",
            "Epoch 25/25\n",
            "  training loss: 0.012035  [  512/150372]\n",
            "  training loss: 0.012369  [50688/150372]\n",
            "  training loss: 0.017960  [100864/150372]\n",
            " validation error 6.93 %\n",
            "Training took 307.9 s\n"
          ]
        }
      ],
      "source": [
        "# initialize GRU model\n",
        "model = classification.TorchGRU(\n",
        "    input_size=PCA_NUM_FEATURES,\n",
        "    output_size=y.shape[1],\n",
        "    hidden_size=best_hidden_size,\n",
        "    rnn_layers=3\n",
        ")\n",
        "optimizer = torch.optim.Adam(model.parameters())\n",
        "\n",
        "print(f\"Starting training GRU model\")\n",
        "t0 = time.time()\n",
        "training_history = classification.train_loop(\n",
        "    model,\n",
        "    train_loader,\n",
        "    test_loader,\n",
        "    loss_fun,\n",
        "    optimizer,\n",
        "    NUM_EPOCHS.gru,\n",
        "    device\n",
        ")\n",
        "t1 = time.time()\n",
        "duration = t1-t0\n",
        "print(f\"Training took {duration:.1f} s\")"
      ]
    },
    {
      "cell_type": "markdown",
      "metadata": {
        "id": "yZcZW1vR7bGW"
      },
      "source": [
        "### 4.7.3 Model Evaluation"
      ]
    },
    {
      "cell_type": "code",
      "execution_count": null,
      "metadata": {
        "colab": {
          "base_uri": "https://localhost:8080/",
          "height": 1000
        },
        "id": "2ktapNCk7bGW",
        "outputId": "ddcfca1a-38ca-4846-9010-0fbd3659e663"
      },
      "outputs": [
        {
          "output_type": "display_data",
          "data": {
            "text/html": [
              "<html>\n",
              "<head><meta charset=\"utf-8\" /></head>\n",
              "<body>\n",
              "    <div>            <script src=\"https://cdnjs.cloudflare.com/ajax/libs/mathjax/2.7.5/MathJax.js?config=TeX-AMS-MML_SVG\"></script><script type=\"text/javascript\">if (window.MathJax && window.MathJax.Hub && window.MathJax.Hub.Config) {window.MathJax.Hub.Config({SVG: {font: \"STIX-Web\"}});}</script>                <script type=\"text/javascript\">window.PlotlyConfig = {MathJaxConfig: 'local'};</script>\n",
              "        <script charset=\"utf-8\" src=\"https://cdn.plot.ly/plotly-2.24.1.min.js\"></script>                <div id=\"4d520849-2ee5-4956-a854-6d0f35e3536b\" class=\"plotly-graph-div\" style=\"height:400px; width:750px;\"></div>            <script type=\"text/javascript\">                                    window.PLOTLYENV=window.PLOTLYENV || {};                                    if (document.getElementById(\"4d520849-2ee5-4956-a854-6d0f35e3536b\")) {                    Plotly.newPlot(                        \"4d520849-2ee5-4956-a854-6d0f35e3536b\",                        [{\"marker\":{\"color\":\"#3366CC\"},\"mode\":\"lines\",\"name\":\"Training error\",\"x\":[1000,2000,3000,4000,5000,6000,7000],\"y\":[0.16171228686191577,0.07554597930465778,0.05658633256191312,0.03889686909797037,0.028828505306839038,0.02295640145771819,0.021539914345755858],\"type\":\"scatter\",\"xaxis\":\"x\",\"yaxis\":\"y\"},{\"marker\":{\"color\":\"#DC3912\"},\"mode\":\"lines\",\"name\":\"Testing error\",\"x\":[1000,2000,3000,4000,5000,6000,7000],\"y\":[0.17960844408042484,0.09960633041824091,0.08697719886919072,0.07701656582736664,0.07006790139765912,0.07004148062035985,0.07487648286612592],\"type\":\"scatter\",\"xaxis\":\"x\",\"yaxis\":\"y\"},{\"marker\":{\"color\":\"#FF9900\"},\"mode\":\"lines\",\"name\":\"Training loss\",\"x\":[1000,2000,3000,4000,5000,6000,7000],\"y\":[0.06406923030774293,0.035657170153174246,0.02556812797258308,0.017450712585289952,0.013100831575105651,0.010221740810055745,0.009510376090183606],\"type\":\"scatter\",\"xaxis\":\"x2\",\"yaxis\":\"y2\"},{\"marker\":{\"color\":\"#109618\"},\"mode\":\"lines\",\"name\":\"Testing loss\",\"x\":[1000,2000,3000,4000,5000,6000,7000],\"y\":[0.07533184967210874,0.05170805264472908,0.048273323274897494,0.0432929279869647,0.04221086108756823,0.04431810652663781,0.04799759555154787],\"type\":\"scatter\",\"xaxis\":\"x2\",\"yaxis\":\"y2\"}],                        {\"template\":{\"data\":{\"histogram2dcontour\":[{\"type\":\"histogram2dcontour\",\"colorbar\":{\"outlinewidth\":0,\"ticks\":\"\"},\"colorscale\":[[0.0,\"#0d0887\"],[0.1111111111111111,\"#46039f\"],[0.2222222222222222,\"#7201a8\"],[0.3333333333333333,\"#9c179e\"],[0.4444444444444444,\"#bd3786\"],[0.5555555555555556,\"#d8576b\"],[0.6666666666666666,\"#ed7953\"],[0.7777777777777778,\"#fb9f3a\"],[0.8888888888888888,\"#fdca26\"],[1.0,\"#f0f921\"]]}],\"choropleth\":[{\"type\":\"choropleth\",\"colorbar\":{\"outlinewidth\":0,\"ticks\":\"\"}}],\"histogram2d\":[{\"type\":\"histogram2d\",\"colorbar\":{\"outlinewidth\":0,\"ticks\":\"\"},\"colorscale\":[[0.0,\"#0d0887\"],[0.1111111111111111,\"#46039f\"],[0.2222222222222222,\"#7201a8\"],[0.3333333333333333,\"#9c179e\"],[0.4444444444444444,\"#bd3786\"],[0.5555555555555556,\"#d8576b\"],[0.6666666666666666,\"#ed7953\"],[0.7777777777777778,\"#fb9f3a\"],[0.8888888888888888,\"#fdca26\"],[1.0,\"#f0f921\"]]}],\"heatmap\":[{\"type\":\"heatmap\",\"colorbar\":{\"outlinewidth\":0,\"ticks\":\"\"},\"colorscale\":[[0.0,\"#0d0887\"],[0.1111111111111111,\"#46039f\"],[0.2222222222222222,\"#7201a8\"],[0.3333333333333333,\"#9c179e\"],[0.4444444444444444,\"#bd3786\"],[0.5555555555555556,\"#d8576b\"],[0.6666666666666666,\"#ed7953\"],[0.7777777777777778,\"#fb9f3a\"],[0.8888888888888888,\"#fdca26\"],[1.0,\"#f0f921\"]]}],\"heatmapgl\":[{\"type\":\"heatmapgl\",\"colorbar\":{\"outlinewidth\":0,\"ticks\":\"\"},\"colorscale\":[[0.0,\"#0d0887\"],[0.1111111111111111,\"#46039f\"],[0.2222222222222222,\"#7201a8\"],[0.3333333333333333,\"#9c179e\"],[0.4444444444444444,\"#bd3786\"],[0.5555555555555556,\"#d8576b\"],[0.6666666666666666,\"#ed7953\"],[0.7777777777777778,\"#fb9f3a\"],[0.8888888888888888,\"#fdca26\"],[1.0,\"#f0f921\"]]}],\"contourcarpet\":[{\"type\":\"contourcarpet\",\"colorbar\":{\"outlinewidth\":0,\"ticks\":\"\"}}],\"contour\":[{\"type\":\"contour\",\"colorbar\":{\"outlinewidth\":0,\"ticks\":\"\"},\"colorscale\":[[0.0,\"#0d0887\"],[0.1111111111111111,\"#46039f\"],[0.2222222222222222,\"#7201a8\"],[0.3333333333333333,\"#9c179e\"],[0.4444444444444444,\"#bd3786\"],[0.5555555555555556,\"#d8576b\"],[0.6666666666666666,\"#ed7953\"],[0.7777777777777778,\"#fb9f3a\"],[0.8888888888888888,\"#fdca26\"],[1.0,\"#f0f921\"]]}],\"surface\":[{\"type\":\"surface\",\"colorbar\":{\"outlinewidth\":0,\"ticks\":\"\"},\"colorscale\":[[0.0,\"#0d0887\"],[0.1111111111111111,\"#46039f\"],[0.2222222222222222,\"#7201a8\"],[0.3333333333333333,\"#9c179e\"],[0.4444444444444444,\"#bd3786\"],[0.5555555555555556,\"#d8576b\"],[0.6666666666666666,\"#ed7953\"],[0.7777777777777778,\"#fb9f3a\"],[0.8888888888888888,\"#fdca26\"],[1.0,\"#f0f921\"]]}],\"mesh3d\":[{\"type\":\"mesh3d\",\"colorbar\":{\"outlinewidth\":0,\"ticks\":\"\"}}],\"scatter\":[{\"fillpattern\":{\"fillmode\":\"overlay\",\"size\":10,\"solidity\":0.2},\"type\":\"scatter\"}],\"parcoords\":[{\"type\":\"parcoords\",\"line\":{\"colorbar\":{\"outlinewidth\":0,\"ticks\":\"\"}}}],\"scatterpolargl\":[{\"type\":\"scatterpolargl\",\"marker\":{\"colorbar\":{\"outlinewidth\":0,\"ticks\":\"\"}}}],\"bar\":[{\"error_x\":{\"color\":\"#2a3f5f\"},\"error_y\":{\"color\":\"#2a3f5f\"},\"marker\":{\"line\":{\"color\":\"white\",\"width\":0.5},\"pattern\":{\"fillmode\":\"overlay\",\"size\":10,\"solidity\":0.2}},\"type\":\"bar\"}],\"scattergeo\":[{\"type\":\"scattergeo\",\"marker\":{\"colorbar\":{\"outlinewidth\":0,\"ticks\":\"\"}}}],\"scatterpolar\":[{\"type\":\"scatterpolar\",\"marker\":{\"colorbar\":{\"outlinewidth\":0,\"ticks\":\"\"}}}],\"histogram\":[{\"marker\":{\"pattern\":{\"fillmode\":\"overlay\",\"size\":10,\"solidity\":0.2}},\"type\":\"histogram\"}],\"scattergl\":[{\"type\":\"scattergl\",\"marker\":{\"colorbar\":{\"outlinewidth\":0,\"ticks\":\"\"}}}],\"scatter3d\":[{\"type\":\"scatter3d\",\"line\":{\"colorbar\":{\"outlinewidth\":0,\"ticks\":\"\"}},\"marker\":{\"colorbar\":{\"outlinewidth\":0,\"ticks\":\"\"}}}],\"scattermapbox\":[{\"type\":\"scattermapbox\",\"marker\":{\"colorbar\":{\"outlinewidth\":0,\"ticks\":\"\"}}}],\"scatterternary\":[{\"type\":\"scatterternary\",\"marker\":{\"colorbar\":{\"outlinewidth\":0,\"ticks\":\"\"}}}],\"scattercarpet\":[{\"type\":\"scattercarpet\",\"marker\":{\"colorbar\":{\"outlinewidth\":0,\"ticks\":\"\"}}}],\"carpet\":[{\"aaxis\":{\"endlinecolor\":\"#2a3f5f\",\"gridcolor\":\"#C8D4E3\",\"linecolor\":\"#C8D4E3\",\"minorgridcolor\":\"#C8D4E3\",\"startlinecolor\":\"#2a3f5f\"},\"baxis\":{\"endlinecolor\":\"#2a3f5f\",\"gridcolor\":\"#C8D4E3\",\"linecolor\":\"#C8D4E3\",\"minorgridcolor\":\"#C8D4E3\",\"startlinecolor\":\"#2a3f5f\"},\"type\":\"carpet\"}],\"table\":[{\"cells\":{\"fill\":{\"color\":\"#EBF0F8\"},\"line\":{\"color\":\"white\"}},\"header\":{\"fill\":{\"color\":\"#C8D4E3\"},\"line\":{\"color\":\"white\"}},\"type\":\"table\"}],\"barpolar\":[{\"marker\":{\"line\":{\"color\":\"white\",\"width\":0.5},\"pattern\":{\"fillmode\":\"overlay\",\"size\":10,\"solidity\":0.2}},\"type\":\"barpolar\"}],\"pie\":[{\"automargin\":true,\"type\":\"pie\"}]},\"layout\":{\"autotypenumbers\":\"strict\",\"colorway\":[\"#636efa\",\"#EF553B\",\"#00cc96\",\"#ab63fa\",\"#FFA15A\",\"#19d3f3\",\"#FF6692\",\"#B6E880\",\"#FF97FF\",\"#FECB52\"],\"font\":{\"color\":\"#2a3f5f\"},\"hovermode\":\"closest\",\"hoverlabel\":{\"align\":\"left\"},\"paper_bgcolor\":\"white\",\"plot_bgcolor\":\"white\",\"polar\":{\"bgcolor\":\"white\",\"angularaxis\":{\"gridcolor\":\"#EBF0F8\",\"linecolor\":\"#EBF0F8\",\"ticks\":\"\"},\"radialaxis\":{\"gridcolor\":\"#EBF0F8\",\"linecolor\":\"#EBF0F8\",\"ticks\":\"\"}},\"ternary\":{\"bgcolor\":\"white\",\"aaxis\":{\"gridcolor\":\"#DFE8F3\",\"linecolor\":\"#A2B1C6\",\"ticks\":\"\"},\"baxis\":{\"gridcolor\":\"#DFE8F3\",\"linecolor\":\"#A2B1C6\",\"ticks\":\"\"},\"caxis\":{\"gridcolor\":\"#DFE8F3\",\"linecolor\":\"#A2B1C6\",\"ticks\":\"\"}},\"coloraxis\":{\"colorbar\":{\"outlinewidth\":0,\"ticks\":\"\"}},\"colorscale\":{\"sequential\":[[0.0,\"#0d0887\"],[0.1111111111111111,\"#46039f\"],[0.2222222222222222,\"#7201a8\"],[0.3333333333333333,\"#9c179e\"],[0.4444444444444444,\"#bd3786\"],[0.5555555555555556,\"#d8576b\"],[0.6666666666666666,\"#ed7953\"],[0.7777777777777778,\"#fb9f3a\"],[0.8888888888888888,\"#fdca26\"],[1.0,\"#f0f921\"]],\"sequentialminus\":[[0.0,\"#0d0887\"],[0.1111111111111111,\"#46039f\"],[0.2222222222222222,\"#7201a8\"],[0.3333333333333333,\"#9c179e\"],[0.4444444444444444,\"#bd3786\"],[0.5555555555555556,\"#d8576b\"],[0.6666666666666666,\"#ed7953\"],[0.7777777777777778,\"#fb9f3a\"],[0.8888888888888888,\"#fdca26\"],[1.0,\"#f0f921\"]],\"diverging\":[[0,\"#8e0152\"],[0.1,\"#c51b7d\"],[0.2,\"#de77ae\"],[0.3,\"#f1b6da\"],[0.4,\"#fde0ef\"],[0.5,\"#f7f7f7\"],[0.6,\"#e6f5d0\"],[0.7,\"#b8e186\"],[0.8,\"#7fbc41\"],[0.9,\"#4d9221\"],[1,\"#276419\"]]},\"xaxis\":{\"gridcolor\":\"#EBF0F8\",\"linecolor\":\"#EBF0F8\",\"ticks\":\"\",\"title\":{\"standoff\":15},\"zerolinecolor\":\"#EBF0F8\",\"automargin\":true,\"zerolinewidth\":2},\"yaxis\":{\"gridcolor\":\"#EBF0F8\",\"linecolor\":\"#EBF0F8\",\"ticks\":\"\",\"title\":{\"standoff\":15},\"zerolinecolor\":\"#EBF0F8\",\"automargin\":true,\"zerolinewidth\":2},\"scene\":{\"xaxis\":{\"backgroundcolor\":\"white\",\"gridcolor\":\"#DFE8F3\",\"linecolor\":\"#EBF0F8\",\"showbackground\":true,\"ticks\":\"\",\"zerolinecolor\":\"#EBF0F8\",\"gridwidth\":2},\"yaxis\":{\"backgroundcolor\":\"white\",\"gridcolor\":\"#DFE8F3\",\"linecolor\":\"#EBF0F8\",\"showbackground\":true,\"ticks\":\"\",\"zerolinecolor\":\"#EBF0F8\",\"gridwidth\":2},\"zaxis\":{\"backgroundcolor\":\"white\",\"gridcolor\":\"#DFE8F3\",\"linecolor\":\"#EBF0F8\",\"showbackground\":true,\"ticks\":\"\",\"zerolinecolor\":\"#EBF0F8\",\"gridwidth\":2}},\"shapedefaults\":{\"line\":{\"color\":\"#2a3f5f\"}},\"annotationdefaults\":{\"arrowcolor\":\"#2a3f5f\",\"arrowhead\":0,\"arrowwidth\":1},\"geo\":{\"bgcolor\":\"white\",\"landcolor\":\"white\",\"subunitcolor\":\"#C8D4E3\",\"showland\":true,\"showlakes\":true,\"lakecolor\":\"white\"},\"title\":{\"x\":0.05},\"mapbox\":{\"style\":\"light\"}}},\"xaxis\":{\"anchor\":\"y\",\"domain\":[0.0,0.45],\"title\":{\"text\":\"Weight updates\"}},\"yaxis\":{\"anchor\":\"x\",\"domain\":[0.0,1.0],\"title\":{\"text\":\"Accuraccy\"}},\"xaxis2\":{\"anchor\":\"y2\",\"domain\":[0.55,1.0],\"title\":{\"text\":\"Weight updates\"}},\"yaxis2\":{\"anchor\":\"x2\",\"domain\":[0.0,1.0],\"title\":{\"text\":\"Loss\"}},\"annotations\":[{\"font\":{\"size\":16},\"showarrow\":false,\"text\":\"Accuracy\",\"x\":0.225,\"xanchor\":\"center\",\"xref\":\"paper\",\"y\":1.0,\"yanchor\":\"bottom\",\"yref\":\"paper\"},{\"font\":{\"size\":16},\"showarrow\":false,\"text\":\"Loss\",\"x\":0.775,\"xanchor\":\"center\",\"xref\":\"paper\",\"y\":1.0,\"yanchor\":\"bottom\",\"yref\":\"paper\"}],\"title\":{\"text\":\"Training run with GRU model\"},\"height\":400,\"width\":750},                        {\"responsive\": true}                    ).then(function(){\n",
              "                            \n",
              "var gd = document.getElementById('4d520849-2ee5-4956-a854-6d0f35e3536b');\n",
              "var x = new MutationObserver(function (mutations, observer) {{\n",
              "        var display = window.getComputedStyle(gd).display;\n",
              "        if (!display || display === 'none') {{\n",
              "            console.log([gd, 'removed!']);\n",
              "            Plotly.purge(gd);\n",
              "            observer.disconnect();\n",
              "        }}\n",
              "}});\n",
              "\n",
              "// Listen for the removal of the full notebook cells\n",
              "var notebookContainer = gd.closest('#notebook-container');\n",
              "if (notebookContainer) {{\n",
              "    x.observe(notebookContainer, {childList: true});\n",
              "}}\n",
              "\n",
              "// Listen for the clearing of the current output cell\n",
              "var outputEl = gd.closest('.output');\n",
              "if (outputEl) {{\n",
              "    x.observe(outputEl, {childList: true});\n",
              "}}\n",
              "\n",
              "                        })                };                            </script>        </div>\n",
              "</body>\n",
              "</html>"
            ]
          },
          "metadata": {}
        },
        {
          "output_type": "display_data",
          "data": {
            "text/html": [
              "<html>\n",
              "<head><meta charset=\"utf-8\" /></head>\n",
              "<body>\n",
              "    <div>            <script src=\"https://cdnjs.cloudflare.com/ajax/libs/mathjax/2.7.5/MathJax.js?config=TeX-AMS-MML_SVG\"></script><script type=\"text/javascript\">if (window.MathJax && window.MathJax.Hub && window.MathJax.Hub.Config) {window.MathJax.Hub.Config({SVG: {font: \"STIX-Web\"}});}</script>                <script type=\"text/javascript\">window.PlotlyConfig = {MathJaxConfig: 'local'};</script>\n",
              "        <script charset=\"utf-8\" src=\"https://cdn.plot.ly/plotly-2.24.1.min.js\"></script>                <div id=\"eb4dd39c-6cba-4714-a53a-14e2375593db\" class=\"plotly-graph-div\" style=\"height:600px; width:750px;\"></div>            <script type=\"text/javascript\">                                    window.PLOTLYENV=window.PLOTLYENV || {};                                    if (document.getElementById(\"eb4dd39c-6cba-4714-a53a-14e2375593db\")) {                    Plotly.newPlot(                        \"eb4dd39c-6cba-4714-a53a-14e2375593db\",                        [{\"coloraxis\":\"coloraxis\",\"name\":\"Drinking or Eating\",\"text\":[[\"621\",\"4754\"],[\"32041\",\"433\"]],\"texttemplate\":\"%{text}\",\"x\":[\"False\",\"True\"],\"y\":[\"True\",\"False\"],\"z\":[[621,4754],[32041,433]],\"type\":\"heatmap\",\"xaxis\":\"x\",\"yaxis\":\"y\"},{\"coloraxis\":\"coloraxis\",\"name\":\"Galloping\",\"text\":[[\"296\",\"5479\"],[\"32004\",\"70\"]],\"texttemplate\":\"%{text}\",\"x\":[\"False\",\"True\"],\"y\":[\"True\",\"False\"],\"z\":[[296,5479],[32004,70]],\"type\":\"heatmap\",\"xaxis\":\"x2\",\"yaxis\":\"y2\"},{\"coloraxis\":\"coloraxis\",\"name\":\"Jumping or Pacing\",\"text\":[[\"557\",\"4443\"],[\"32717\",\"132\"]],\"texttemplate\":\"%{text}\",\"x\":[\"False\",\"True\"],\"y\":[\"True\",\"False\"],\"z\":[[557,4443],[32717,132]],\"type\":\"heatmap\",\"xaxis\":\"x3\",\"yaxis\":\"y3\"},{\"coloraxis\":\"coloraxis\",\"name\":\"Playing or Tugging\",\"text\":[[\"462\",\"6445\"],[\"30744\",\"198\"]],\"texttemplate\":\"%{text}\",\"x\":[\"False\",\"True\"],\"y\":[\"True\",\"False\"],\"z\":[[462,6445],[30744,198]],\"type\":\"heatmap\",\"xaxis\":\"x4\",\"yaxis\":\"y4\"},{\"coloraxis\":\"coloraxis\",\"name\":\"Shaking\",\"text\":[[\"26\",\"5013\"],[\"32810\",\"0\"]],\"texttemplate\":\"%{text}\",\"x\":[\"False\",\"True\"],\"y\":[\"True\",\"False\"],\"z\":[[26,5013],[32810,0]],\"type\":\"heatmap\",\"xaxis\":\"x5\",\"yaxis\":\"y5\"},{\"coloraxis\":\"coloraxis\",\"name\":\"Sniffing\",\"text\":[[\"137\",\"4863\"],[\"32788\",\"61\"]],\"texttemplate\":\"%{text}\",\"x\":[\"False\",\"True\"],\"y\":[\"True\",\"False\"],\"z\":[[137,4863],[32788,61]],\"type\":\"heatmap\",\"xaxis\":\"x6\",\"yaxis\":\"y6\"},{\"coloraxis\":\"coloraxis\",\"name\":\"Standing or Sitting or Lying chest\",\"text\":[[\"75\",\"5104\"],[\"32614\",\"56\"]],\"texttemplate\":\"%{text}\",\"x\":[\"False\",\"True\"],\"y\":[\"True\",\"False\"],\"z\":[[75,5104],[32614,56]],\"type\":\"heatmap\",\"xaxis\":\"x7\",\"yaxis\":\"y7\"},{\"coloraxis\":\"coloraxis\",\"name\":\"Trotting\",\"text\":[[\"161\",\"4845\"],[\"32732\",\"111\"]],\"texttemplate\":\"%{text}\",\"x\":[\"False\",\"True\"],\"y\":[\"True\",\"False\"],\"z\":[[161,4845],[32732,111]],\"type\":\"heatmap\",\"xaxis\":\"x8\",\"yaxis\":\"y8\"},{\"coloraxis\":\"coloraxis\",\"name\":\"Walking\",\"text\":[[\"73\",\"4961\"],[\"32316\",\"499\"]],\"texttemplate\":\"%{text}\",\"x\":[\"False\",\"True\"],\"y\":[\"True\",\"False\"],\"z\":[[73,4961],[32316,499]],\"type\":\"heatmap\",\"xaxis\":\"x9\",\"yaxis\":\"y9\"}],                        {\"template\":{\"data\":{\"histogram2dcontour\":[{\"type\":\"histogram2dcontour\",\"colorbar\":{\"outlinewidth\":0,\"ticks\":\"\"},\"colorscale\":[[0.0,\"#0d0887\"],[0.1111111111111111,\"#46039f\"],[0.2222222222222222,\"#7201a8\"],[0.3333333333333333,\"#9c179e\"],[0.4444444444444444,\"#bd3786\"],[0.5555555555555556,\"#d8576b\"],[0.6666666666666666,\"#ed7953\"],[0.7777777777777778,\"#fb9f3a\"],[0.8888888888888888,\"#fdca26\"],[1.0,\"#f0f921\"]]}],\"choropleth\":[{\"type\":\"choropleth\",\"colorbar\":{\"outlinewidth\":0,\"ticks\":\"\"}}],\"histogram2d\":[{\"type\":\"histogram2d\",\"colorbar\":{\"outlinewidth\":0,\"ticks\":\"\"},\"colorscale\":[[0.0,\"#0d0887\"],[0.1111111111111111,\"#46039f\"],[0.2222222222222222,\"#7201a8\"],[0.3333333333333333,\"#9c179e\"],[0.4444444444444444,\"#bd3786\"],[0.5555555555555556,\"#d8576b\"],[0.6666666666666666,\"#ed7953\"],[0.7777777777777778,\"#fb9f3a\"],[0.8888888888888888,\"#fdca26\"],[1.0,\"#f0f921\"]]}],\"heatmap\":[{\"type\":\"heatmap\",\"colorbar\":{\"outlinewidth\":0,\"ticks\":\"\"},\"colorscale\":[[0.0,\"#0d0887\"],[0.1111111111111111,\"#46039f\"],[0.2222222222222222,\"#7201a8\"],[0.3333333333333333,\"#9c179e\"],[0.4444444444444444,\"#bd3786\"],[0.5555555555555556,\"#d8576b\"],[0.6666666666666666,\"#ed7953\"],[0.7777777777777778,\"#fb9f3a\"],[0.8888888888888888,\"#fdca26\"],[1.0,\"#f0f921\"]]}],\"heatmapgl\":[{\"type\":\"heatmapgl\",\"colorbar\":{\"outlinewidth\":0,\"ticks\":\"\"},\"colorscale\":[[0.0,\"#0d0887\"],[0.1111111111111111,\"#46039f\"],[0.2222222222222222,\"#7201a8\"],[0.3333333333333333,\"#9c179e\"],[0.4444444444444444,\"#bd3786\"],[0.5555555555555556,\"#d8576b\"],[0.6666666666666666,\"#ed7953\"],[0.7777777777777778,\"#fb9f3a\"],[0.8888888888888888,\"#fdca26\"],[1.0,\"#f0f921\"]]}],\"contourcarpet\":[{\"type\":\"contourcarpet\",\"colorbar\":{\"outlinewidth\":0,\"ticks\":\"\"}}],\"contour\":[{\"type\":\"contour\",\"colorbar\":{\"outlinewidth\":0,\"ticks\":\"\"},\"colorscale\":[[0.0,\"#0d0887\"],[0.1111111111111111,\"#46039f\"],[0.2222222222222222,\"#7201a8\"],[0.3333333333333333,\"#9c179e\"],[0.4444444444444444,\"#bd3786\"],[0.5555555555555556,\"#d8576b\"],[0.6666666666666666,\"#ed7953\"],[0.7777777777777778,\"#fb9f3a\"],[0.8888888888888888,\"#fdca26\"],[1.0,\"#f0f921\"]]}],\"surface\":[{\"type\":\"surface\",\"colorbar\":{\"outlinewidth\":0,\"ticks\":\"\"},\"colorscale\":[[0.0,\"#0d0887\"],[0.1111111111111111,\"#46039f\"],[0.2222222222222222,\"#7201a8\"],[0.3333333333333333,\"#9c179e\"],[0.4444444444444444,\"#bd3786\"],[0.5555555555555556,\"#d8576b\"],[0.6666666666666666,\"#ed7953\"],[0.7777777777777778,\"#fb9f3a\"],[0.8888888888888888,\"#fdca26\"],[1.0,\"#f0f921\"]]}],\"mesh3d\":[{\"type\":\"mesh3d\",\"colorbar\":{\"outlinewidth\":0,\"ticks\":\"\"}}],\"scatter\":[{\"fillpattern\":{\"fillmode\":\"overlay\",\"size\":10,\"solidity\":0.2},\"type\":\"scatter\"}],\"parcoords\":[{\"type\":\"parcoords\",\"line\":{\"colorbar\":{\"outlinewidth\":0,\"ticks\":\"\"}}}],\"scatterpolargl\":[{\"type\":\"scatterpolargl\",\"marker\":{\"colorbar\":{\"outlinewidth\":0,\"ticks\":\"\"}}}],\"bar\":[{\"error_x\":{\"color\":\"#2a3f5f\"},\"error_y\":{\"color\":\"#2a3f5f\"},\"marker\":{\"line\":{\"color\":\"white\",\"width\":0.5},\"pattern\":{\"fillmode\":\"overlay\",\"size\":10,\"solidity\":0.2}},\"type\":\"bar\"}],\"scattergeo\":[{\"type\":\"scattergeo\",\"marker\":{\"colorbar\":{\"outlinewidth\":0,\"ticks\":\"\"}}}],\"scatterpolar\":[{\"type\":\"scatterpolar\",\"marker\":{\"colorbar\":{\"outlinewidth\":0,\"ticks\":\"\"}}}],\"histogram\":[{\"marker\":{\"pattern\":{\"fillmode\":\"overlay\",\"size\":10,\"solidity\":0.2}},\"type\":\"histogram\"}],\"scattergl\":[{\"type\":\"scattergl\",\"marker\":{\"colorbar\":{\"outlinewidth\":0,\"ticks\":\"\"}}}],\"scatter3d\":[{\"type\":\"scatter3d\",\"line\":{\"colorbar\":{\"outlinewidth\":0,\"ticks\":\"\"}},\"marker\":{\"colorbar\":{\"outlinewidth\":0,\"ticks\":\"\"}}}],\"scattermapbox\":[{\"type\":\"scattermapbox\",\"marker\":{\"colorbar\":{\"outlinewidth\":0,\"ticks\":\"\"}}}],\"scatterternary\":[{\"type\":\"scatterternary\",\"marker\":{\"colorbar\":{\"outlinewidth\":0,\"ticks\":\"\"}}}],\"scattercarpet\":[{\"type\":\"scattercarpet\",\"marker\":{\"colorbar\":{\"outlinewidth\":0,\"ticks\":\"\"}}}],\"carpet\":[{\"aaxis\":{\"endlinecolor\":\"#2a3f5f\",\"gridcolor\":\"#C8D4E3\",\"linecolor\":\"#C8D4E3\",\"minorgridcolor\":\"#C8D4E3\",\"startlinecolor\":\"#2a3f5f\"},\"baxis\":{\"endlinecolor\":\"#2a3f5f\",\"gridcolor\":\"#C8D4E3\",\"linecolor\":\"#C8D4E3\",\"minorgridcolor\":\"#C8D4E3\",\"startlinecolor\":\"#2a3f5f\"},\"type\":\"carpet\"}],\"table\":[{\"cells\":{\"fill\":{\"color\":\"#EBF0F8\"},\"line\":{\"color\":\"white\"}},\"header\":{\"fill\":{\"color\":\"#C8D4E3\"},\"line\":{\"color\":\"white\"}},\"type\":\"table\"}],\"barpolar\":[{\"marker\":{\"line\":{\"color\":\"white\",\"width\":0.5},\"pattern\":{\"fillmode\":\"overlay\",\"size\":10,\"solidity\":0.2}},\"type\":\"barpolar\"}],\"pie\":[{\"automargin\":true,\"type\":\"pie\"}]},\"layout\":{\"autotypenumbers\":\"strict\",\"colorway\":[\"#636efa\",\"#EF553B\",\"#00cc96\",\"#ab63fa\",\"#FFA15A\",\"#19d3f3\",\"#FF6692\",\"#B6E880\",\"#FF97FF\",\"#FECB52\"],\"font\":{\"color\":\"#2a3f5f\"},\"hovermode\":\"closest\",\"hoverlabel\":{\"align\":\"left\"},\"paper_bgcolor\":\"white\",\"plot_bgcolor\":\"white\",\"polar\":{\"bgcolor\":\"white\",\"angularaxis\":{\"gridcolor\":\"#EBF0F8\",\"linecolor\":\"#EBF0F8\",\"ticks\":\"\"},\"radialaxis\":{\"gridcolor\":\"#EBF0F8\",\"linecolor\":\"#EBF0F8\",\"ticks\":\"\"}},\"ternary\":{\"bgcolor\":\"white\",\"aaxis\":{\"gridcolor\":\"#DFE8F3\",\"linecolor\":\"#A2B1C6\",\"ticks\":\"\"},\"baxis\":{\"gridcolor\":\"#DFE8F3\",\"linecolor\":\"#A2B1C6\",\"ticks\":\"\"},\"caxis\":{\"gridcolor\":\"#DFE8F3\",\"linecolor\":\"#A2B1C6\",\"ticks\":\"\"}},\"coloraxis\":{\"colorbar\":{\"outlinewidth\":0,\"ticks\":\"\"}},\"colorscale\":{\"sequential\":[[0.0,\"#0d0887\"],[0.1111111111111111,\"#46039f\"],[0.2222222222222222,\"#7201a8\"],[0.3333333333333333,\"#9c179e\"],[0.4444444444444444,\"#bd3786\"],[0.5555555555555556,\"#d8576b\"],[0.6666666666666666,\"#ed7953\"],[0.7777777777777778,\"#fb9f3a\"],[0.8888888888888888,\"#fdca26\"],[1.0,\"#f0f921\"]],\"sequentialminus\":[[0.0,\"#0d0887\"],[0.1111111111111111,\"#46039f\"],[0.2222222222222222,\"#7201a8\"],[0.3333333333333333,\"#9c179e\"],[0.4444444444444444,\"#bd3786\"],[0.5555555555555556,\"#d8576b\"],[0.6666666666666666,\"#ed7953\"],[0.7777777777777778,\"#fb9f3a\"],[0.8888888888888888,\"#fdca26\"],[1.0,\"#f0f921\"]],\"diverging\":[[0,\"#8e0152\"],[0.1,\"#c51b7d\"],[0.2,\"#de77ae\"],[0.3,\"#f1b6da\"],[0.4,\"#fde0ef\"],[0.5,\"#f7f7f7\"],[0.6,\"#e6f5d0\"],[0.7,\"#b8e186\"],[0.8,\"#7fbc41\"],[0.9,\"#4d9221\"],[1,\"#276419\"]]},\"xaxis\":{\"gridcolor\":\"#EBF0F8\",\"linecolor\":\"#EBF0F8\",\"ticks\":\"\",\"title\":{\"standoff\":15},\"zerolinecolor\":\"#EBF0F8\",\"automargin\":true,\"zerolinewidth\":2},\"yaxis\":{\"gridcolor\":\"#EBF0F8\",\"linecolor\":\"#EBF0F8\",\"ticks\":\"\",\"title\":{\"standoff\":15},\"zerolinecolor\":\"#EBF0F8\",\"automargin\":true,\"zerolinewidth\":2},\"scene\":{\"xaxis\":{\"backgroundcolor\":\"white\",\"gridcolor\":\"#DFE8F3\",\"linecolor\":\"#EBF0F8\",\"showbackground\":true,\"ticks\":\"\",\"zerolinecolor\":\"#EBF0F8\",\"gridwidth\":2},\"yaxis\":{\"backgroundcolor\":\"white\",\"gridcolor\":\"#DFE8F3\",\"linecolor\":\"#EBF0F8\",\"showbackground\":true,\"ticks\":\"\",\"zerolinecolor\":\"#EBF0F8\",\"gridwidth\":2},\"zaxis\":{\"backgroundcolor\":\"white\",\"gridcolor\":\"#DFE8F3\",\"linecolor\":\"#EBF0F8\",\"showbackground\":true,\"ticks\":\"\",\"zerolinecolor\":\"#EBF0F8\",\"gridwidth\":2}},\"shapedefaults\":{\"line\":{\"color\":\"#2a3f5f\"}},\"annotationdefaults\":{\"arrowcolor\":\"#2a3f5f\",\"arrowhead\":0,\"arrowwidth\":1},\"geo\":{\"bgcolor\":\"white\",\"landcolor\":\"white\",\"subunitcolor\":\"#C8D4E3\",\"showland\":true,\"showlakes\":true,\"lakecolor\":\"white\"},\"title\":{\"x\":0.05},\"mapbox\":{\"style\":\"light\"}}},\"xaxis\":{\"anchor\":\"y\",\"domain\":[0.0,0.2888888888888889]},\"yaxis\":{\"anchor\":\"x\",\"domain\":[0.7777777777777778,1.0],\"title\":{\"text\":\"Actual\"}},\"xaxis2\":{\"anchor\":\"y2\",\"domain\":[0.35555555555555557,0.6444444444444445]},\"yaxis2\":{\"anchor\":\"x2\",\"domain\":[0.7777777777777778,1.0]},\"xaxis3\":{\"anchor\":\"y3\",\"domain\":[0.7111111111111111,1.0]},\"yaxis3\":{\"anchor\":\"x3\",\"domain\":[0.7777777777777778,1.0]},\"xaxis4\":{\"anchor\":\"y4\",\"domain\":[0.0,0.2888888888888889]},\"yaxis4\":{\"anchor\":\"x4\",\"domain\":[0.3888888888888889,0.6111111111111112],\"title\":{\"text\":\"Actual\"}},\"xaxis5\":{\"anchor\":\"y5\",\"domain\":[0.35555555555555557,0.6444444444444445]},\"yaxis5\":{\"anchor\":\"x5\",\"domain\":[0.3888888888888889,0.6111111111111112]},\"xaxis6\":{\"anchor\":\"y6\",\"domain\":[0.7111111111111111,1.0]},\"yaxis6\":{\"anchor\":\"x6\",\"domain\":[0.3888888888888889,0.6111111111111112]},\"xaxis7\":{\"anchor\":\"y7\",\"domain\":[0.0,0.2888888888888889],\"title\":{\"text\":\"Predicted\"}},\"yaxis7\":{\"anchor\":\"x7\",\"domain\":[0.0,0.22222222222222224],\"title\":{\"text\":\"Actual\"}},\"xaxis8\":{\"anchor\":\"y8\",\"domain\":[0.35555555555555557,0.6444444444444445],\"title\":{\"text\":\"Predicted\"}},\"yaxis8\":{\"anchor\":\"x8\",\"domain\":[0.0,0.22222222222222224]},\"xaxis9\":{\"anchor\":\"y9\",\"domain\":[0.7111111111111111,1.0],\"title\":{\"text\":\"Predicted\"}},\"yaxis9\":{\"anchor\":\"x9\",\"domain\":[0.0,0.22222222222222224]},\"annotations\":[{\"font\":{\"size\":16},\"showarrow\":false,\"text\":\"Drinking or Eating\",\"x\":0.14444444444444446,\"xanchor\":\"center\",\"xref\":\"paper\",\"y\":1.0,\"yanchor\":\"bottom\",\"yref\":\"paper\"},{\"font\":{\"size\":16},\"showarrow\":false,\"text\":\"Galloping\",\"x\":0.5,\"xanchor\":\"center\",\"xref\":\"paper\",\"y\":1.0,\"yanchor\":\"bottom\",\"yref\":\"paper\"},{\"font\":{\"size\":16},\"showarrow\":false,\"text\":\"Jumping or Pacing\",\"x\":0.8555555555555556,\"xanchor\":\"center\",\"xref\":\"paper\",\"y\":1.0,\"yanchor\":\"bottom\",\"yref\":\"paper\"},{\"font\":{\"size\":16},\"showarrow\":false,\"text\":\"Playing or Tugging\",\"x\":0.14444444444444446,\"xanchor\":\"center\",\"xref\":\"paper\",\"y\":0.6111111111111112,\"yanchor\":\"bottom\",\"yref\":\"paper\"},{\"font\":{\"size\":16},\"showarrow\":false,\"text\":\"Shaking\",\"x\":0.5,\"xanchor\":\"center\",\"xref\":\"paper\",\"y\":0.6111111111111112,\"yanchor\":\"bottom\",\"yref\":\"paper\"},{\"font\":{\"size\":16},\"showarrow\":false,\"text\":\"Sniffing\",\"x\":0.8555555555555556,\"xanchor\":\"center\",\"xref\":\"paper\",\"y\":0.6111111111111112,\"yanchor\":\"bottom\",\"yref\":\"paper\"},{\"font\":{\"size\":16},\"showarrow\":false,\"text\":\"Standing or Sitting or Lying chest\",\"x\":0.14444444444444446,\"xanchor\":\"center\",\"xref\":\"paper\",\"y\":0.22222222222222224,\"yanchor\":\"bottom\",\"yref\":\"paper\"},{\"font\":{\"size\":16},\"showarrow\":false,\"text\":\"Trotting\",\"x\":0.5,\"xanchor\":\"center\",\"xref\":\"paper\",\"y\":0.22222222222222224,\"yanchor\":\"bottom\",\"yref\":\"paper\"},{\"font\":{\"size\":16},\"showarrow\":false,\"text\":\"Walking\",\"x\":0.8555555555555556,\"xanchor\":\"center\",\"xref\":\"paper\",\"y\":0.22222222222222224,\"yanchor\":\"bottom\",\"yref\":\"paper\"}],\"coloraxis\":{\"colorscale\":[[0.0,\"#000004\"],[0.1111111111111111,\"#1b0c41\"],[0.2222222222222222,\"#4a0c6b\"],[0.3333333333333333,\"#781c6d\"],[0.4444444444444444,\"#a52c60\"],[0.5555555555555556,\"#cf4446\"],[0.6666666666666666,\"#ed6925\"],[0.7777777777777778,\"#fb9b06\"],[0.8888888888888888,\"#f7d13d\"],[1.0,\"#fcffa4\"]]},\"title\":{\"text\":\"Confusion matrices for GRU model\"},\"width\":750,\"height\":600},                        {\"responsive\": true}                    ).then(function(){\n",
              "                            \n",
              "var gd = document.getElementById('eb4dd39c-6cba-4714-a53a-14e2375593db');\n",
              "var x = new MutationObserver(function (mutations, observer) {{\n",
              "        var display = window.getComputedStyle(gd).display;\n",
              "        if (!display || display === 'none') {{\n",
              "            console.log([gd, 'removed!']);\n",
              "            Plotly.purge(gd);\n",
              "            observer.disconnect();\n",
              "        }}\n",
              "}});\n",
              "\n",
              "// Listen for the removal of the full notebook cells\n",
              "var notebookContainer = gd.closest('#notebook-container');\n",
              "if (notebookContainer) {{\n",
              "    x.observe(notebookContainer, {childList: true});\n",
              "}}\n",
              "\n",
              "// Listen for the clearing of the current output cell\n",
              "var outputEl = gd.closest('.output');\n",
              "if (outputEl) {{\n",
              "    x.observe(outputEl, {childList: true});\n",
              "}}\n",
              "\n",
              "                        })                };                            </script>        </div>\n",
              "</body>\n",
              "</html>"
            ]
          },
          "metadata": {}
        }
      ],
      "source": [
        "# plot the training and testing accuracies/losses during training\n",
        "classification.plot_training_run(training_history, title=\"Training run with GRU model\")\n",
        "# compute confusion matrix on test data\n",
        "confusion_matrices = classification.calculate_confusion_matrices_torch(model, test_loader, device)\n",
        "# plot the multil-label confusion matrix\n",
        "classification.plot_confusion_matrices(confusion_matrices, dataset.class_list, title=\"Confusion matrices for GRU model\")\n",
        "\n",
        "# save model performance\n",
        "model_performances.add(\n",
        "    ModelPerformance(name='GRU', test_accuracy=1-training_history.test.error[-1], train_duration=duration)\n",
        ")"
      ]
    },
    {
      "cell_type": "markdown",
      "metadata": {
        "id": "7cZb3Q0M7bGW"
      },
      "source": [
        "## 4.8 Different Kind of Sequence Analysis - Simple CNN"
      ]
    },
    {
      "cell_type": "markdown",
      "source": [
        "1D-convolutional neural networks can also be used to analyze time series data. This CNN has a relatively simple structure."
      ],
      "metadata": {
        "id": "pJsyyOQOt1cy"
      }
    },
    {
      "cell_type": "markdown",
      "metadata": {
        "id": "X03dEnYv7bGW"
      },
      "source": [
        "### 4.8.1 Hyperparameter Tuning"
      ]
    },
    {
      "cell_type": "markdown",
      "source": [
        "In this case we want to tune the number of elements in the fully connected layer."
      ],
      "metadata": {
        "id": "CQrWv5Bc3gFM"
      }
    },
    {
      "cell_type": "code",
      "execution_count": null,
      "metadata": {
        "colab": {
          "base_uri": "https://localhost:8080/"
        },
        "id": "w5C6JXy97bGW",
        "outputId": "7e2dd7dd-6fb2-4c75-f3ec-bdfdf4a1e5e2"
      },
      "outputs": [
        {
          "output_type": "stream",
          "name": "stdout",
          "text": [
            "Starting hyperparameter tuning of CNN model\n",
            "Training on CUDA.\n",
            "Epoch 1/20\n",
            "  training loss: 0.744133  [  512/150372]\n",
            "  training loss: 0.363131  [50688/150372]\n",
            "  training loss: 0.186028  [100864/150372]\n",
            " validation error 34.21 %\n",
            "Epoch 2/20\n",
            "  training loss: 0.141535  [  512/150372]\n",
            "  training loss: 0.124626  [50688/150372]\n",
            "  training loss: 0.117054  [100864/150372]\n",
            " validation error 27.85 %\n",
            "Epoch 3/20\n",
            "  training loss: 0.101197  [  512/150372]\n",
            "  training loss: 0.106266  [50688/150372]\n",
            "  training loss: 0.099836  [100864/150372]\n",
            " validation error 25.21 %\n",
            "Epoch 4/20\n",
            "  training loss: 0.092373  [  512/150372]\n",
            "  training loss: 0.093442  [50688/150372]\n",
            "  training loss: 0.085921  [100864/150372]\n",
            " validation error 22.06 %\n",
            "Epoch 5/20\n",
            "  training loss: 0.089710  [  512/150372]\n",
            "  training loss: 0.085132  [50688/150372]\n",
            "  training loss: 0.081700  [100864/150372]\n",
            " validation error 20.77 %\n",
            "Epoch 6/20\n",
            "  training loss: 0.090460  [  512/150372]\n",
            "  training loss: 0.073950  [50688/150372]\n",
            "  training loss: 0.071971  [100864/150372]\n",
            " validation error 20.47 %\n",
            "Epoch 7/20\n",
            "  training loss: 0.081170  [  512/150372]\n",
            "  training loss: 0.074664  [50688/150372]\n",
            "  training loss: 0.078287  [100864/150372]\n",
            " validation error 19.14 %\n",
            "Epoch 8/20\n",
            "  training loss: 0.075560  [  512/150372]\n",
            "  training loss: 0.078705  [50688/150372]\n",
            "  training loss: 0.065483  [100864/150372]\n",
            " validation error 19.24 %\n",
            "Epoch 9/20\n",
            "  training loss: 0.074244  [  512/150372]\n",
            "  training loss: 0.082459  [50688/150372]\n",
            "  training loss: 0.068027  [100864/150372]\n",
            " validation error 18.59 %\n",
            "Epoch 10/20\n",
            "  training loss: 0.065077  [  512/150372]\n",
            "  training loss: 0.072385  [50688/150372]\n",
            "  training loss: 0.073892  [100864/150372]\n",
            " validation error 17.98 %\n",
            "Epoch 11/20\n",
            "  training loss: 0.066346  [  512/150372]\n",
            "  training loss: 0.071704  [50688/150372]\n",
            "  training loss: 0.070013  [100864/150372]\n",
            " validation error 19.88 %\n",
            "Epoch 12/20\n",
            "  training loss: 0.055873  [  512/150372]\n",
            "  training loss: 0.071830  [50688/150372]\n",
            "  training loss: 0.056070  [100864/150372]\n",
            " validation error 18.07 %\n",
            "Epoch 13/20\n",
            "  training loss: 0.069797  [  512/150372]\n",
            "  training loss: 0.068655  [50688/150372]\n",
            "  training loss: 0.058945  [100864/150372]\n",
            " validation error 18.20 %\n",
            "Epoch 14/20\n",
            "  training loss: 0.067198  [  512/150372]\n",
            "  training loss: 0.067001  [50688/150372]\n",
            "  training loss: 0.063737  [100864/150372]\n",
            " validation error 17.37 %\n",
            "Epoch 15/20\n",
            "  training loss: 0.075307  [  512/150372]\n",
            "  training loss: 0.068103  [50688/150372]\n",
            "  training loss: 0.068763  [100864/150372]\n",
            " validation error 17.65 %\n",
            "Epoch 16/20\n",
            "  training loss: 0.064720  [  512/150372]\n",
            "  training loss: 0.059753  [50688/150372]\n",
            "  training loss: 0.050877  [100864/150372]\n",
            " validation error 17.20 %\n",
            "Epoch 17/20\n",
            "  training loss: 0.050046  [  512/150372]\n",
            "  training loss: 0.066876  [50688/150372]\n",
            "  training loss: 0.066483  [100864/150372]\n",
            " validation error 16.79 %\n",
            "Epoch 18/20\n",
            "  training loss: 0.063557  [  512/150372]\n",
            "  training loss: 0.056740  [50688/150372]\n",
            "  training loss: 0.052053  [100864/150372]\n",
            " validation error 16.77 %\n",
            "Epoch 19/20\n",
            "  training loss: 0.053091  [  512/150372]\n",
            "  training loss: 0.068061  [50688/150372]\n",
            "  training loss: 0.065901  [100864/150372]\n",
            " validation error 16.72 %\n",
            "Epoch 20/20\n",
            "  training loss: 0.053216  [  512/150372]\n",
            "  training loss: 0.065108  [50688/150372]\n",
            "  training loss: 0.063882  [100864/150372]\n",
            " validation error 16.76 %\n",
            "Training on CUDA.\n",
            "Epoch 1/20\n",
            "  training loss: 0.752381  [  512/150372]\n",
            "  training loss: 0.304620  [50688/150372]\n",
            "  training loss: 0.163799  [100864/150372]\n",
            " validation error 32.65 %\n",
            "Epoch 2/20\n",
            "  training loss: 0.126120  [  512/150372]\n",
            "  training loss: 0.112340  [50688/150372]\n",
            "  training loss: 0.099327  [100864/150372]\n",
            " validation error 24.74 %\n",
            "Epoch 3/20\n",
            "  training loss: 0.101484  [  512/150372]\n",
            "  training loss: 0.102315  [50688/150372]\n",
            "  training loss: 0.078872  [100864/150372]\n",
            " validation error 22.49 %\n",
            "Epoch 4/20\n",
            "  training loss: 0.080997  [  512/150372]\n",
            "  training loss: 0.081752  [50688/150372]\n",
            "  training loss: 0.072746  [100864/150372]\n",
            " validation error 19.39 %\n",
            "Epoch 5/20\n",
            "  training loss: 0.058287  [  512/150372]\n",
            "  training loss: 0.082643  [50688/150372]\n",
            "  training loss: 0.083984  [100864/150372]\n",
            " validation error 19.69 %\n",
            "Epoch 6/20\n",
            "  training loss: 0.077851  [  512/150372]\n",
            "  training loss: 0.061470  [50688/150372]\n",
            "  training loss: 0.069073  [100864/150372]\n",
            " validation error 18.12 %\n",
            "Epoch 7/20\n",
            "  training loss: 0.060619  [  512/150372]\n",
            "  training loss: 0.058049  [50688/150372]\n",
            "  training loss: 0.056281  [100864/150372]\n",
            " validation error 17.76 %\n",
            "Epoch 8/20\n",
            "  training loss: 0.067183  [  512/150372]\n",
            "  training loss: 0.072521  [50688/150372]\n",
            "  training loss: 0.060251  [100864/150372]\n",
            " validation error 18.72 %\n",
            "Epoch 9/20\n",
            "  training loss: 0.058638  [  512/150372]\n",
            "  training loss: 0.068739  [50688/150372]\n",
            "  training loss: 0.050924  [100864/150372]\n",
            " validation error 16.87 %\n",
            "Epoch 10/20\n",
            "  training loss: 0.058483  [  512/150372]\n",
            "  training loss: 0.060695  [50688/150372]\n",
            "  training loss: 0.069098  [100864/150372]\n",
            " validation error 16.68 %\n",
            "Epoch 11/20\n",
            "  training loss: 0.057970  [  512/150372]\n",
            "  training loss: 0.069331  [50688/150372]\n",
            "  training loss: 0.055410  [100864/150372]\n",
            " validation error 16.49 %\n",
            "Epoch 12/20\n",
            "  training loss: 0.063842  [  512/150372]\n",
            "  training loss: 0.059526  [50688/150372]\n",
            "  training loss: 0.056065  [100864/150372]\n",
            " validation error 16.37 %\n",
            "Epoch 13/20\n",
            "  training loss: 0.048924  [  512/150372]\n",
            "  training loss: 0.064321  [50688/150372]\n",
            "  training loss: 0.064948  [100864/150372]\n",
            " validation error 16.38 %\n",
            "Epoch 14/20\n",
            "  training loss: 0.046419  [  512/150372]\n",
            "  training loss: 0.064780  [50688/150372]\n",
            "  training loss: 0.051182  [100864/150372]\n",
            " validation error 16.15 %\n",
            "Epoch 15/20\n",
            "  training loss: 0.051980  [  512/150372]\n",
            "  training loss: 0.047988  [50688/150372]\n",
            "  training loss: 0.064045  [100864/150372]\n",
            " validation error 16.15 %\n",
            "Epoch 16/20\n",
            "  training loss: 0.066929  [  512/150372]\n",
            "  training loss: 0.053751  [50688/150372]\n",
            "  training loss: 0.056501  [100864/150372]\n",
            " validation error 16.33 %\n",
            "Epoch 17/20\n",
            "  training loss: 0.054505  [  512/150372]\n",
            "  training loss: 0.050382  [50688/150372]\n",
            "  training loss: 0.054945  [100864/150372]\n",
            " validation error 16.27 %\n",
            "Epoch 18/20\n",
            "  training loss: 0.052383  [  512/150372]\n",
            "  training loss: 0.048657  [50688/150372]\n",
            "  training loss: 0.054537  [100864/150372]\n",
            " validation error 16.00 %\n",
            "Epoch 19/20\n",
            "  training loss: 0.049603  [  512/150372]\n",
            "  training loss: 0.055313  [50688/150372]\n",
            "  training loss: 0.050095  [100864/150372]\n",
            " validation error 15.87 %\n",
            "Epoch 20/20\n",
            "  training loss: 0.056745  [  512/150372]\n",
            "  training loss: 0.048148  [50688/150372]\n",
            "  training loss: 0.056110  [100864/150372]\n",
            " validation error 15.63 %\n",
            "Training on CUDA.\n",
            "Epoch 1/20\n",
            "  training loss: 0.723757  [  512/150372]\n",
            "  training loss: 0.264238  [50688/150372]\n",
            "  training loss: 0.136298  [100864/150372]\n",
            " validation error 31.23 %\n",
            "Epoch 2/20\n",
            "  training loss: 0.130310  [  512/150372]\n",
            "  training loss: 0.115845  [50688/150372]\n",
            "  training loss: 0.104691  [100864/150372]\n",
            " validation error 24.19 %\n",
            "Epoch 3/20\n",
            "  training loss: 0.100613  [  512/150372]\n",
            "  training loss: 0.090331  [50688/150372]\n",
            "  training loss: 0.081277  [100864/150372]\n",
            " validation error 21.87 %\n",
            "Epoch 4/20\n",
            "  training loss: 0.085250  [  512/150372]\n",
            "  training loss: 0.081065  [50688/150372]\n",
            "  training loss: 0.075425  [100864/150372]\n",
            " validation error 20.54 %\n",
            "Epoch 5/20\n",
            "  training loss: 0.081308  [  512/150372]\n",
            "  training loss: 0.063422  [50688/150372]\n",
            "  training loss: 0.073262  [100864/150372]\n",
            " validation error 19.07 %\n",
            "Epoch 6/20\n",
            "  training loss: 0.066096  [  512/150372]\n",
            "  training loss: 0.054449  [50688/150372]\n",
            "  training loss: 0.062448  [100864/150372]\n",
            " validation error 18.88 %\n",
            "Epoch 7/20\n",
            "  training loss: 0.062926  [  512/150372]\n",
            "  training loss: 0.066353  [50688/150372]\n",
            "  training loss: 0.062915  [100864/150372]\n",
            " validation error 18.28 %\n",
            "Epoch 8/20\n",
            "  training loss: 0.066028  [  512/150372]\n",
            "  training loss: 0.072061  [50688/150372]\n",
            "  training loss: 0.057167  [100864/150372]\n",
            " validation error 18.03 %\n",
            "Epoch 9/20\n",
            "  training loss: 0.055288  [  512/150372]\n",
            "  training loss: 0.056395  [50688/150372]\n",
            "  training loss: 0.064229  [100864/150372]\n",
            " validation error 18.05 %\n",
            "Epoch 10/20\n",
            "  training loss: 0.059136  [  512/150372]\n",
            "  training loss: 0.063900  [50688/150372]\n",
            "  training loss: 0.060369  [100864/150372]\n",
            " validation error 17.50 %\n",
            "Epoch 11/20\n",
            "  training loss: 0.051074  [  512/150372]\n",
            "  training loss: 0.058518  [50688/150372]\n",
            "  training loss: 0.055110  [100864/150372]\n",
            " validation error 16.89 %\n",
            "Epoch 12/20\n",
            "  training loss: 0.054090  [  512/150372]\n",
            "  training loss: 0.060633  [50688/150372]\n",
            "  training loss: 0.060666  [100864/150372]\n",
            " validation error 17.58 %\n",
            "Epoch 13/20\n",
            "  training loss: 0.065718  [  512/150372]\n",
            "  training loss: 0.058765  [50688/150372]\n",
            "  training loss: 0.052222  [100864/150372]\n",
            " validation error 16.60 %\n",
            "Epoch 14/20\n",
            "  training loss: 0.047756  [  512/150372]\n",
            "  training loss: 0.057104  [50688/150372]\n",
            "  training loss: 0.047313  [100864/150372]\n",
            " validation error 16.78 %\n",
            "Epoch 15/20\n",
            "  training loss: 0.064555  [  512/150372]\n",
            "  training loss: 0.058124  [50688/150372]\n",
            "  training loss: 0.058532  [100864/150372]\n",
            " validation error 16.38 %\n",
            "Epoch 16/20\n",
            "  training loss: 0.064926  [  512/150372]\n",
            "  training loss: 0.060170  [50688/150372]\n",
            "  training loss: 0.070500  [100864/150372]\n",
            " validation error 16.14 %\n",
            "Epoch 17/20\n",
            "  training loss: 0.050356  [  512/150372]\n",
            "  training loss: 0.050647  [50688/150372]\n",
            "  training loss: 0.052525  [100864/150372]\n",
            " validation error 16.22 %\n",
            "Epoch 18/20\n",
            "  training loss: 0.055887  [  512/150372]\n",
            "  training loss: 0.052068  [50688/150372]\n",
            "  training loss: 0.043007  [100864/150372]\n",
            " validation error 16.29 %\n",
            "Epoch 19/20\n",
            "  training loss: 0.057834  [  512/150372]\n",
            "  training loss: 0.063592  [50688/150372]\n",
            "  training loss: 0.038675  [100864/150372]\n",
            " validation error 15.90 %\n",
            "Epoch 20/20\n",
            "  training loss: 0.048442  [  512/150372]\n",
            "  training loss: 0.052809  [50688/150372]\n",
            "  training loss: 0.047847  [100864/150372]\n",
            " validation error 15.75 %\n",
            "Best testing accuracy was achieved with a hidden size of 96\n"
          ]
        }
      ],
      "source": [
        "# get training and testing DataLoaders\n",
        "train_loader, test_loader = classification.get_dataloaders(\n",
        "    data, 'CNN', LEN_SEQ, BATCH_SIZES.cnn\n",
        ")\n",
        "# initialize loss function\n",
        "loss_fun = torch.nn.BCEWithLogitsLoss()\n",
        "\n",
        "# define list of variable hyperparameter\n",
        "hidden_size_list = [64, 96, 128]\n",
        "# initialize list of test errors\n",
        "tuning_errors = []\n",
        "\n",
        "print(f\"Starting hyperparameter tuning of CNN model\")\n",
        "for hidden_size in hidden_size_list:\n",
        "    # initialize the CNN1D model\n",
        "    model = classification.CNN1D(\n",
        "        input_size=PCA_NUM_FEATURES,\n",
        "        output_size=y_train.shape[1],\n",
        "        hidden_size=hidden_size\n",
        "    )\n",
        "    # initialize optimizer with model parameters\n",
        "    optimizer = torch.optim.Adam(model.parameters(), weight_decay=1e-5)\n",
        "    # train the model\n",
        "    training_history = classification.train_loop(\n",
        "        model,\n",
        "        train_loader,\n",
        "        test_loader,\n",
        "        loss_fun,\n",
        "        optimizer,\n",
        "        NUM_HYPER_EPOCHS.cnn,\n",
        "        device\n",
        "    )\n",
        "    # save model performance\n",
        "    tuning_errors.append(training_history.test.error[-1])\n",
        "\n",
        "# save and print best hidden size\n",
        "best_hidden_size = hidden_size_list[np.argmin(tuning_errors)]\n",
        "print(f\"Best testing accuracy was achieved with a hidden size of {best_hidden_size}\")"
      ]
    },
    {
      "cell_type": "markdown",
      "metadata": {
        "id": "JagDiIR87bGX"
      },
      "source": [
        "### 4.8.2 Training with Tuned Hyperparameters"
      ]
    },
    {
      "cell_type": "code",
      "execution_count": null,
      "metadata": {
        "colab": {
          "base_uri": "https://localhost:8080/"
        },
        "id": "p1f2inUC7bGX",
        "outputId": "f5826610-d614-4399-8013-12fe957680a2"
      },
      "outputs": [
        {
          "output_type": "stream",
          "name": "stdout",
          "text": [
            "Starting training CNN model\n",
            "Training on CUDA.\n",
            "Epoch 1/50\n",
            "  training loss: 0.751556  [  512/150372]\n",
            "  training loss: 0.309279  [50688/150372]\n",
            "  training loss: 0.151352  [100864/150372]\n",
            " validation error 29.48 %\n",
            "Epoch 2/50\n",
            "  training loss: 0.131266  [  512/150372]\n",
            "  training loss: 0.103036  [50688/150372]\n",
            "  training loss: 0.082245  [100864/150372]\n",
            " validation error 24.59 %\n",
            "Epoch 3/50\n",
            "  training loss: 0.090126  [  512/150372]\n",
            "  training loss: 0.096793  [50688/150372]\n",
            "  training loss: 0.094297  [100864/150372]\n",
            " validation error 21.92 %\n",
            "Epoch 4/50\n",
            "  training loss: 0.079748  [  512/150372]\n",
            "  training loss: 0.096808  [50688/150372]\n",
            "  training loss: 0.078807  [100864/150372]\n",
            " validation error 21.44 %\n",
            "Epoch 5/50\n",
            "  training loss: 0.088303  [  512/150372]\n",
            "  training loss: 0.073167  [50688/150372]\n",
            "  training loss: 0.074289  [100864/150372]\n",
            " validation error 19.63 %\n",
            "Epoch 6/50\n",
            "  training loss: 0.074487  [  512/150372]\n",
            "  training loss: 0.081928  [50688/150372]\n",
            "  training loss: 0.070138  [100864/150372]\n",
            " validation error 19.87 %\n",
            "Epoch 7/50\n",
            "  training loss: 0.082964  [  512/150372]\n",
            "  training loss: 0.073372  [50688/150372]\n",
            "  training loss: 0.059566  [100864/150372]\n",
            " validation error 18.38 %\n",
            "Epoch 8/50\n",
            "  training loss: 0.070261  [  512/150372]\n",
            "  training loss: 0.067038  [50688/150372]\n",
            "  training loss: 0.065151  [100864/150372]\n",
            " validation error 17.51 %\n",
            "Epoch 9/50\n",
            "  training loss: 0.059797  [  512/150372]\n",
            "  training loss: 0.058225  [50688/150372]\n",
            "  training loss: 0.062249  [100864/150372]\n",
            " validation error 17.35 %\n",
            "Epoch 10/50\n",
            "  training loss: 0.069474  [  512/150372]\n",
            "  training loss: 0.062170  [50688/150372]\n",
            "  training loss: 0.061607  [100864/150372]\n",
            " validation error 16.88 %\n",
            "Epoch 11/50\n",
            "  training loss: 0.066934  [  512/150372]\n",
            "  training loss: 0.063039  [50688/150372]\n",
            "  training loss: 0.052024  [100864/150372]\n",
            " validation error 16.79 %\n",
            "Epoch 12/50\n",
            "  training loss: 0.056366  [  512/150372]\n",
            "  training loss: 0.056465  [50688/150372]\n",
            "  training loss: 0.057993  [100864/150372]\n",
            " validation error 16.73 %\n",
            "Epoch 13/50\n",
            "  training loss: 0.051215  [  512/150372]\n",
            "  training loss: 0.058864  [50688/150372]\n",
            "  training loss: 0.049787  [100864/150372]\n",
            " validation error 16.85 %\n",
            "Epoch 14/50\n",
            "  training loss: 0.060454  [  512/150372]\n",
            "  training loss: 0.068806  [50688/150372]\n",
            "  training loss: 0.052076  [100864/150372]\n",
            " validation error 16.30 %\n",
            "Epoch 15/50\n",
            "  training loss: 0.064503  [  512/150372]\n",
            "  training loss: 0.059976  [50688/150372]\n",
            "  training loss: 0.045992  [100864/150372]\n",
            " validation error 15.75 %\n",
            "Epoch 16/50\n",
            "  training loss: 0.052155  [  512/150372]\n",
            "  training loss: 0.045427  [50688/150372]\n",
            "  training loss: 0.052422  [100864/150372]\n",
            " validation error 15.46 %\n",
            "Epoch 17/50\n",
            "  training loss: 0.053071  [  512/150372]\n",
            "  training loss: 0.050013  [50688/150372]\n",
            "  training loss: 0.049833  [100864/150372]\n",
            " validation error 16.38 %\n",
            "Epoch 18/50\n",
            "  training loss: 0.050669  [  512/150372]\n",
            "  training loss: 0.044012  [50688/150372]\n",
            "  training loss: 0.063252  [100864/150372]\n",
            " validation error 16.02 %\n",
            "Epoch 19/50\n",
            "  training loss: 0.062340  [  512/150372]\n",
            "  training loss: 0.051585  [50688/150372]\n",
            "  training loss: 0.060762  [100864/150372]\n",
            " validation error 15.30 %\n",
            "Epoch 20/50\n",
            "  training loss: 0.059336  [  512/150372]\n",
            "  training loss: 0.041319  [50688/150372]\n",
            "  training loss: 0.063908  [100864/150372]\n",
            " validation error 15.81 %\n",
            "Epoch 21/50\n",
            "  training loss: 0.056069  [  512/150372]\n",
            "  training loss: 0.048975  [50688/150372]\n",
            "  training loss: 0.067119  [100864/150372]\n",
            " validation error 15.33 %\n",
            "Epoch 22/50\n",
            "  training loss: 0.053508  [  512/150372]\n",
            "  training loss: 0.056781  [50688/150372]\n",
            "  training loss: 0.051332  [100864/150372]\n",
            " validation error 15.37 %\n",
            "Epoch 23/50\n",
            "  training loss: 0.049085  [  512/150372]\n",
            "  training loss: 0.049317  [50688/150372]\n",
            "  training loss: 0.053862  [100864/150372]\n",
            " validation error 14.98 %\n",
            "Epoch 24/50\n",
            "  training loss: 0.047768  [  512/150372]\n",
            "  training loss: 0.053295  [50688/150372]\n",
            "  training loss: 0.057263  [100864/150372]\n",
            " validation error 14.99 %\n",
            "Epoch 25/50\n",
            "  training loss: 0.052647  [  512/150372]\n",
            "  training loss: 0.045259  [50688/150372]\n",
            "  training loss: 0.046119  [100864/150372]\n",
            " validation error 14.93 %\n",
            "Epoch 26/50\n",
            "  training loss: 0.054178  [  512/150372]\n",
            "  training loss: 0.046019  [50688/150372]\n",
            "  training loss: 0.052832  [100864/150372]\n",
            " validation error 14.45 %\n",
            "Epoch 27/50\n",
            "  training loss: 0.045261  [  512/150372]\n",
            "  training loss: 0.044200  [50688/150372]\n",
            "  training loss: 0.054343  [100864/150372]\n",
            " validation error 14.45 %\n",
            "Epoch 28/50\n",
            "  training loss: 0.049038  [  512/150372]\n",
            "  training loss: 0.042478  [50688/150372]\n",
            "  training loss: 0.046776  [100864/150372]\n",
            " validation error 14.51 %\n",
            "Epoch 29/50\n",
            "  training loss: 0.055855  [  512/150372]\n",
            "  training loss: 0.048658  [50688/150372]\n",
            "  training loss: 0.050556  [100864/150372]\n",
            " validation error 14.53 %\n",
            "Epoch 30/50\n",
            "  training loss: 0.055312  [  512/150372]\n",
            "  training loss: 0.064725  [50688/150372]\n",
            "  training loss: 0.049569  [100864/150372]\n",
            " validation error 15.01 %\n",
            "Epoch 31/50\n",
            "  training loss: 0.040092  [  512/150372]\n",
            "  training loss: 0.060815  [50688/150372]\n",
            "  training loss: 0.046849  [100864/150372]\n",
            " validation error 14.34 %\n",
            "Epoch 32/50\n",
            "  training loss: 0.042178  [  512/150372]\n",
            "  training loss: 0.045193  [50688/150372]\n",
            "  training loss: 0.046984  [100864/150372]\n",
            " validation error 14.30 %\n",
            "Epoch 33/50\n",
            "  training loss: 0.045649  [  512/150372]\n",
            "  training loss: 0.047395  [50688/150372]\n",
            "  training loss: 0.039996  [100864/150372]\n",
            " validation error 14.43 %\n",
            "Epoch 34/50\n",
            "  training loss: 0.050010  [  512/150372]\n",
            "  training loss: 0.047409  [50688/150372]\n",
            "  training loss: 0.051884  [100864/150372]\n",
            " validation error 15.27 %\n",
            "Epoch 35/50\n",
            "  training loss: 0.047110  [  512/150372]\n",
            "  training loss: 0.043699  [50688/150372]\n",
            "  training loss: 0.049331  [100864/150372]\n",
            " validation error 14.52 %\n",
            "Epoch 36/50\n",
            "  training loss: 0.042596  [  512/150372]\n",
            "  training loss: 0.047748  [50688/150372]\n",
            "  training loss: 0.042823  [100864/150372]\n",
            " validation error 15.17 %\n",
            "Epoch 37/50\n",
            "  training loss: 0.048175  [  512/150372]\n",
            "  training loss: 0.035628  [50688/150372]\n",
            "  training loss: 0.058100  [100864/150372]\n",
            " validation error 14.49 %\n",
            "Epoch 38/50\n",
            "  training loss: 0.046782  [  512/150372]\n",
            "  training loss: 0.041439  [50688/150372]\n",
            "  training loss: 0.037027  [100864/150372]\n",
            " validation error 14.32 %\n",
            "Epoch 39/50\n",
            "  training loss: 0.048395  [  512/150372]\n",
            "  training loss: 0.042022  [50688/150372]\n",
            "  training loss: 0.038809  [100864/150372]\n",
            " validation error 14.24 %\n",
            "Epoch 40/50\n",
            "  training loss: 0.043752  [  512/150372]\n",
            "  training loss: 0.048587  [50688/150372]\n",
            "  training loss: 0.057623  [100864/150372]\n",
            " validation error 14.27 %\n",
            "Epoch 41/50\n",
            "  training loss: 0.043936  [  512/150372]\n",
            "  training loss: 0.045034  [50688/150372]\n",
            "  training loss: 0.052098  [100864/150372]\n",
            " validation error 14.61 %\n",
            "Epoch 42/50\n",
            "  training loss: 0.045444  [  512/150372]\n",
            "  training loss: 0.049090  [50688/150372]\n",
            "  training loss: 0.054580  [100864/150372]\n",
            " validation error 14.17 %\n",
            "Epoch 43/50\n",
            "  training loss: 0.050201  [  512/150372]\n",
            "  training loss: 0.056844  [50688/150372]\n",
            "  training loss: 0.042923  [100864/150372]\n",
            " validation error 14.21 %\n",
            "Epoch 44/50\n",
            "  training loss: 0.051089  [  512/150372]\n",
            "  training loss: 0.040267  [50688/150372]\n",
            "  training loss: 0.040587  [100864/150372]\n",
            " validation error 14.99 %\n",
            "Epoch 45/50\n",
            "  training loss: 0.040233  [  512/150372]\n",
            "  training loss: 0.046251  [50688/150372]\n",
            "  training loss: 0.043699  [100864/150372]\n",
            " validation error 14.56 %\n",
            "Epoch 46/50\n",
            "  training loss: 0.045299  [  512/150372]\n",
            "  training loss: 0.034871  [50688/150372]\n",
            "  training loss: 0.044694  [100864/150372]\n",
            " validation error 14.14 %\n",
            "Epoch 47/50\n",
            "  training loss: 0.051774  [  512/150372]\n",
            "  training loss: 0.043232  [50688/150372]\n",
            "  training loss: 0.044154  [100864/150372]\n",
            " validation error 14.11 %\n",
            "Epoch 48/50\n",
            "  training loss: 0.046058  [  512/150372]\n",
            "  training loss: 0.043890  [50688/150372]\n",
            "  training loss: 0.043184  [100864/150372]\n",
            " validation error 14.22 %\n",
            "Epoch 49/50\n",
            "  training loss: 0.046512  [  512/150372]\n",
            "  training loss: 0.037980  [50688/150372]\n",
            "  training loss: 0.044992  [100864/150372]\n",
            " validation error 14.79 %\n",
            "Epoch 50/50\n",
            "  training loss: 0.052736  [  512/150372]\n",
            "  training loss: 0.045639  [50688/150372]\n",
            "  training loss: 0.041971  [100864/150372]\n",
            " validation error 14.53 %\n",
            "Training took 183.7 s\n"
          ]
        }
      ],
      "source": [
        "# initialize CNN1D model\n",
        "model = classification.CNN1D(\n",
        "    input_size=PCA_NUM_FEATURES,\n",
        "    output_size=y_train.shape[1],\n",
        "    hidden_size=best_hidden_size\n",
        ")\n",
        "loss_fun = torch.nn.BCEWithLogitsLoss()\n",
        "optimizer = torch.optim.Adam(model.parameters())\n",
        "\n",
        "print(f\"Starting training CNN model\")\n",
        "t0 = time.time()\n",
        "training_history = classification.train_loop(\n",
        "    model,\n",
        "    train_loader,\n",
        "    test_loader,\n",
        "    loss_fun,\n",
        "    optimizer,\n",
        "    NUM_EPOCHS.cnn,\n",
        "    device\n",
        ")\n",
        "t1 = time.time()\n",
        "duration = t1-t0\n",
        "print(f\"Training took {duration:.1f} s\")"
      ]
    },
    {
      "cell_type": "markdown",
      "metadata": {
        "id": "Mn_Zq6wf7bGX"
      },
      "source": [
        "### 4.8.3 Model Evaluation"
      ]
    },
    {
      "cell_type": "code",
      "execution_count": null,
      "metadata": {
        "colab": {
          "base_uri": "https://localhost:8080/",
          "height": 1000
        },
        "id": "FNLoRJla7bGX",
        "outputId": "4aa7a80e-e336-4e9c-83d0-4a6a88dec6f1"
      },
      "outputs": [
        {
          "output_type": "display_data",
          "data": {
            "text/html": [
              "<html>\n",
              "<head><meta charset=\"utf-8\" /></head>\n",
              "<body>\n",
              "    <div>            <script src=\"https://cdnjs.cloudflare.com/ajax/libs/mathjax/2.7.5/MathJax.js?config=TeX-AMS-MML_SVG\"></script><script type=\"text/javascript\">if (window.MathJax && window.MathJax.Hub && window.MathJax.Hub.Config) {window.MathJax.Hub.Config({SVG: {font: \"STIX-Web\"}});}</script>                <script type=\"text/javascript\">window.PlotlyConfig = {MathJaxConfig: 'local'};</script>\n",
              "        <script charset=\"utf-8\" src=\"https://cdn.plot.ly/plotly-2.24.1.min.js\"></script>                <div id=\"b9fc27da-0cda-4d59-9d4e-769691b45d78\" class=\"plotly-graph-div\" style=\"height:400px; width:750px;\"></div>            <script type=\"text/javascript\">                                    window.PLOTLYENV=window.PLOTLYENV || {};                                    if (document.getElementById(\"b9fc27da-0cda-4d59-9d4e-769691b45d78\")) {                    Plotly.newPlot(                        \"b9fc27da-0cda-4d59-9d4e-769691b45d78\",                        [{\"marker\":{\"color\":\"#3366CC\"},\"mode\":\"lines\",\"name\":\"Training error\",\"x\":[1000,2000,3000,4000,5000,6000,7000,8000,9000,10000,11000,12000,13000,14000],\"y\":[0.19681190647194957,0.15363897534115395,0.15173702551006837,0.13089537945894184,0.13251137179794112,0.1202750512063416,0.1147554065916527,0.11376453063070252,0.10631633548798979,0.10886335221982817,0.11021333758944485,0.10331045673396642,0.10161466230415236,0.10223977868220148],\"type\":\"scatter\",\"xaxis\":\"x\",\"yaxis\":\"y\"},{\"marker\":{\"color\":\"#DC3912\"},\"mode\":\"lines\",\"name\":\"Testing error\",\"x\":[1000,2000,3000,4000,5000,6000,7000,8000,9000,10000,11000,12000,13000,14000],\"y\":[0.21683531929509367,0.18159000237786996,0.17960844408042484,0.1618272609580174,0.16415228936035298,0.15392744854553622,0.1508626383788211,0.1501228566144416,0.14401965705831066,0.14848476842188696,0.1506248513831277,0.14269861819334725,0.14354408306692382,0.141985257206267],\"type\":\"scatter\",\"xaxis\":\"x\",\"yaxis\":\"y\"},{\"marker\":{\"color\":\"#FF9900\"},\"mode\":\"lines\",\"name\":\"Training loss\",\"x\":[1000,2000,3000,4000,5000,6000,7000,8000,9000,10000,11000,12000,13000,14000],\"y\":[0.08395223358732595,0.06620530088025124,0.06341134837813935,0.055771091217285865,0.05521254862358148,0.050966344636225076,0.04975784959552139,0.04910755115999312,0.04568530216262514,0.045756202367801375,0.04642794862834701,0.04417377020202973,0.043392954433215315,0.04326890719309756],\"type\":\"scatter\",\"xaxis\":\"x2\",\"yaxis\":\"y2\"},{\"marker\":{\"color\":\"#109618\"},\"mode\":\"lines\",\"name\":\"Testing loss\",\"x\":[1000,2000,3000,4000,5000,6000,7000,8000,9000,10000,11000,12000,13000,14000],\"y\":[0.09878776058333784,0.08343194880577881,0.08148668618129801,0.07546289907261233,0.07550845460407125,0.07247841037909651,0.07256446591648527,0.07359672283774471,0.06945226922981264,0.07083803401991393,0.07506096657063298,0.070665005986519,0.07114523091204633,0.0712931379463267],\"type\":\"scatter\",\"xaxis\":\"x2\",\"yaxis\":\"y2\"}],                        {\"template\":{\"data\":{\"histogram2dcontour\":[{\"type\":\"histogram2dcontour\",\"colorbar\":{\"outlinewidth\":0,\"ticks\":\"\"},\"colorscale\":[[0.0,\"#0d0887\"],[0.1111111111111111,\"#46039f\"],[0.2222222222222222,\"#7201a8\"],[0.3333333333333333,\"#9c179e\"],[0.4444444444444444,\"#bd3786\"],[0.5555555555555556,\"#d8576b\"],[0.6666666666666666,\"#ed7953\"],[0.7777777777777778,\"#fb9f3a\"],[0.8888888888888888,\"#fdca26\"],[1.0,\"#f0f921\"]]}],\"choropleth\":[{\"type\":\"choropleth\",\"colorbar\":{\"outlinewidth\":0,\"ticks\":\"\"}}],\"histogram2d\":[{\"type\":\"histogram2d\",\"colorbar\":{\"outlinewidth\":0,\"ticks\":\"\"},\"colorscale\":[[0.0,\"#0d0887\"],[0.1111111111111111,\"#46039f\"],[0.2222222222222222,\"#7201a8\"],[0.3333333333333333,\"#9c179e\"],[0.4444444444444444,\"#bd3786\"],[0.5555555555555556,\"#d8576b\"],[0.6666666666666666,\"#ed7953\"],[0.7777777777777778,\"#fb9f3a\"],[0.8888888888888888,\"#fdca26\"],[1.0,\"#f0f921\"]]}],\"heatmap\":[{\"type\":\"heatmap\",\"colorbar\":{\"outlinewidth\":0,\"ticks\":\"\"},\"colorscale\":[[0.0,\"#0d0887\"],[0.1111111111111111,\"#46039f\"],[0.2222222222222222,\"#7201a8\"],[0.3333333333333333,\"#9c179e\"],[0.4444444444444444,\"#bd3786\"],[0.5555555555555556,\"#d8576b\"],[0.6666666666666666,\"#ed7953\"],[0.7777777777777778,\"#fb9f3a\"],[0.8888888888888888,\"#fdca26\"],[1.0,\"#f0f921\"]]}],\"heatmapgl\":[{\"type\":\"heatmapgl\",\"colorbar\":{\"outlinewidth\":0,\"ticks\":\"\"},\"colorscale\":[[0.0,\"#0d0887\"],[0.1111111111111111,\"#46039f\"],[0.2222222222222222,\"#7201a8\"],[0.3333333333333333,\"#9c179e\"],[0.4444444444444444,\"#bd3786\"],[0.5555555555555556,\"#d8576b\"],[0.6666666666666666,\"#ed7953\"],[0.7777777777777778,\"#fb9f3a\"],[0.8888888888888888,\"#fdca26\"],[1.0,\"#f0f921\"]]}],\"contourcarpet\":[{\"type\":\"contourcarpet\",\"colorbar\":{\"outlinewidth\":0,\"ticks\":\"\"}}],\"contour\":[{\"type\":\"contour\",\"colorbar\":{\"outlinewidth\":0,\"ticks\":\"\"},\"colorscale\":[[0.0,\"#0d0887\"],[0.1111111111111111,\"#46039f\"],[0.2222222222222222,\"#7201a8\"],[0.3333333333333333,\"#9c179e\"],[0.4444444444444444,\"#bd3786\"],[0.5555555555555556,\"#d8576b\"],[0.6666666666666666,\"#ed7953\"],[0.7777777777777778,\"#fb9f3a\"],[0.8888888888888888,\"#fdca26\"],[1.0,\"#f0f921\"]]}],\"surface\":[{\"type\":\"surface\",\"colorbar\":{\"outlinewidth\":0,\"ticks\":\"\"},\"colorscale\":[[0.0,\"#0d0887\"],[0.1111111111111111,\"#46039f\"],[0.2222222222222222,\"#7201a8\"],[0.3333333333333333,\"#9c179e\"],[0.4444444444444444,\"#bd3786\"],[0.5555555555555556,\"#d8576b\"],[0.6666666666666666,\"#ed7953\"],[0.7777777777777778,\"#fb9f3a\"],[0.8888888888888888,\"#fdca26\"],[1.0,\"#f0f921\"]]}],\"mesh3d\":[{\"type\":\"mesh3d\",\"colorbar\":{\"outlinewidth\":0,\"ticks\":\"\"}}],\"scatter\":[{\"fillpattern\":{\"fillmode\":\"overlay\",\"size\":10,\"solidity\":0.2},\"type\":\"scatter\"}],\"parcoords\":[{\"type\":\"parcoords\",\"line\":{\"colorbar\":{\"outlinewidth\":0,\"ticks\":\"\"}}}],\"scatterpolargl\":[{\"type\":\"scatterpolargl\",\"marker\":{\"colorbar\":{\"outlinewidth\":0,\"ticks\":\"\"}}}],\"bar\":[{\"error_x\":{\"color\":\"#2a3f5f\"},\"error_y\":{\"color\":\"#2a3f5f\"},\"marker\":{\"line\":{\"color\":\"white\",\"width\":0.5},\"pattern\":{\"fillmode\":\"overlay\",\"size\":10,\"solidity\":0.2}},\"type\":\"bar\"}],\"scattergeo\":[{\"type\":\"scattergeo\",\"marker\":{\"colorbar\":{\"outlinewidth\":0,\"ticks\":\"\"}}}],\"scatterpolar\":[{\"type\":\"scatterpolar\",\"marker\":{\"colorbar\":{\"outlinewidth\":0,\"ticks\":\"\"}}}],\"histogram\":[{\"marker\":{\"pattern\":{\"fillmode\":\"overlay\",\"size\":10,\"solidity\":0.2}},\"type\":\"histogram\"}],\"scattergl\":[{\"type\":\"scattergl\",\"marker\":{\"colorbar\":{\"outlinewidth\":0,\"ticks\":\"\"}}}],\"scatter3d\":[{\"type\":\"scatter3d\",\"line\":{\"colorbar\":{\"outlinewidth\":0,\"ticks\":\"\"}},\"marker\":{\"colorbar\":{\"outlinewidth\":0,\"ticks\":\"\"}}}],\"scattermapbox\":[{\"type\":\"scattermapbox\",\"marker\":{\"colorbar\":{\"outlinewidth\":0,\"ticks\":\"\"}}}],\"scatterternary\":[{\"type\":\"scatterternary\",\"marker\":{\"colorbar\":{\"outlinewidth\":0,\"ticks\":\"\"}}}],\"scattercarpet\":[{\"type\":\"scattercarpet\",\"marker\":{\"colorbar\":{\"outlinewidth\":0,\"ticks\":\"\"}}}],\"carpet\":[{\"aaxis\":{\"endlinecolor\":\"#2a3f5f\",\"gridcolor\":\"#C8D4E3\",\"linecolor\":\"#C8D4E3\",\"minorgridcolor\":\"#C8D4E3\",\"startlinecolor\":\"#2a3f5f\"},\"baxis\":{\"endlinecolor\":\"#2a3f5f\",\"gridcolor\":\"#C8D4E3\",\"linecolor\":\"#C8D4E3\",\"minorgridcolor\":\"#C8D4E3\",\"startlinecolor\":\"#2a3f5f\"},\"type\":\"carpet\"}],\"table\":[{\"cells\":{\"fill\":{\"color\":\"#EBF0F8\"},\"line\":{\"color\":\"white\"}},\"header\":{\"fill\":{\"color\":\"#C8D4E3\"},\"line\":{\"color\":\"white\"}},\"type\":\"table\"}],\"barpolar\":[{\"marker\":{\"line\":{\"color\":\"white\",\"width\":0.5},\"pattern\":{\"fillmode\":\"overlay\",\"size\":10,\"solidity\":0.2}},\"type\":\"barpolar\"}],\"pie\":[{\"automargin\":true,\"type\":\"pie\"}]},\"layout\":{\"autotypenumbers\":\"strict\",\"colorway\":[\"#636efa\",\"#EF553B\",\"#00cc96\",\"#ab63fa\",\"#FFA15A\",\"#19d3f3\",\"#FF6692\",\"#B6E880\",\"#FF97FF\",\"#FECB52\"],\"font\":{\"color\":\"#2a3f5f\"},\"hovermode\":\"closest\",\"hoverlabel\":{\"align\":\"left\"},\"paper_bgcolor\":\"white\",\"plot_bgcolor\":\"white\",\"polar\":{\"bgcolor\":\"white\",\"angularaxis\":{\"gridcolor\":\"#EBF0F8\",\"linecolor\":\"#EBF0F8\",\"ticks\":\"\"},\"radialaxis\":{\"gridcolor\":\"#EBF0F8\",\"linecolor\":\"#EBF0F8\",\"ticks\":\"\"}},\"ternary\":{\"bgcolor\":\"white\",\"aaxis\":{\"gridcolor\":\"#DFE8F3\",\"linecolor\":\"#A2B1C6\",\"ticks\":\"\"},\"baxis\":{\"gridcolor\":\"#DFE8F3\",\"linecolor\":\"#A2B1C6\",\"ticks\":\"\"},\"caxis\":{\"gridcolor\":\"#DFE8F3\",\"linecolor\":\"#A2B1C6\",\"ticks\":\"\"}},\"coloraxis\":{\"colorbar\":{\"outlinewidth\":0,\"ticks\":\"\"}},\"colorscale\":{\"sequential\":[[0.0,\"#0d0887\"],[0.1111111111111111,\"#46039f\"],[0.2222222222222222,\"#7201a8\"],[0.3333333333333333,\"#9c179e\"],[0.4444444444444444,\"#bd3786\"],[0.5555555555555556,\"#d8576b\"],[0.6666666666666666,\"#ed7953\"],[0.7777777777777778,\"#fb9f3a\"],[0.8888888888888888,\"#fdca26\"],[1.0,\"#f0f921\"]],\"sequentialminus\":[[0.0,\"#0d0887\"],[0.1111111111111111,\"#46039f\"],[0.2222222222222222,\"#7201a8\"],[0.3333333333333333,\"#9c179e\"],[0.4444444444444444,\"#bd3786\"],[0.5555555555555556,\"#d8576b\"],[0.6666666666666666,\"#ed7953\"],[0.7777777777777778,\"#fb9f3a\"],[0.8888888888888888,\"#fdca26\"],[1.0,\"#f0f921\"]],\"diverging\":[[0,\"#8e0152\"],[0.1,\"#c51b7d\"],[0.2,\"#de77ae\"],[0.3,\"#f1b6da\"],[0.4,\"#fde0ef\"],[0.5,\"#f7f7f7\"],[0.6,\"#e6f5d0\"],[0.7,\"#b8e186\"],[0.8,\"#7fbc41\"],[0.9,\"#4d9221\"],[1,\"#276419\"]]},\"xaxis\":{\"gridcolor\":\"#EBF0F8\",\"linecolor\":\"#EBF0F8\",\"ticks\":\"\",\"title\":{\"standoff\":15},\"zerolinecolor\":\"#EBF0F8\",\"automargin\":true,\"zerolinewidth\":2},\"yaxis\":{\"gridcolor\":\"#EBF0F8\",\"linecolor\":\"#EBF0F8\",\"ticks\":\"\",\"title\":{\"standoff\":15},\"zerolinecolor\":\"#EBF0F8\",\"automargin\":true,\"zerolinewidth\":2},\"scene\":{\"xaxis\":{\"backgroundcolor\":\"white\",\"gridcolor\":\"#DFE8F3\",\"linecolor\":\"#EBF0F8\",\"showbackground\":true,\"ticks\":\"\",\"zerolinecolor\":\"#EBF0F8\",\"gridwidth\":2},\"yaxis\":{\"backgroundcolor\":\"white\",\"gridcolor\":\"#DFE8F3\",\"linecolor\":\"#EBF0F8\",\"showbackground\":true,\"ticks\":\"\",\"zerolinecolor\":\"#EBF0F8\",\"gridwidth\":2},\"zaxis\":{\"backgroundcolor\":\"white\",\"gridcolor\":\"#DFE8F3\",\"linecolor\":\"#EBF0F8\",\"showbackground\":true,\"ticks\":\"\",\"zerolinecolor\":\"#EBF0F8\",\"gridwidth\":2}},\"shapedefaults\":{\"line\":{\"color\":\"#2a3f5f\"}},\"annotationdefaults\":{\"arrowcolor\":\"#2a3f5f\",\"arrowhead\":0,\"arrowwidth\":1},\"geo\":{\"bgcolor\":\"white\",\"landcolor\":\"white\",\"subunitcolor\":\"#C8D4E3\",\"showland\":true,\"showlakes\":true,\"lakecolor\":\"white\"},\"title\":{\"x\":0.05},\"mapbox\":{\"style\":\"light\"}}},\"xaxis\":{\"anchor\":\"y\",\"domain\":[0.0,0.45],\"title\":{\"text\":\"Weight updates\"}},\"yaxis\":{\"anchor\":\"x\",\"domain\":[0.0,1.0],\"title\":{\"text\":\"Accuraccy\"}},\"xaxis2\":{\"anchor\":\"y2\",\"domain\":[0.55,1.0],\"title\":{\"text\":\"Weight updates\"}},\"yaxis2\":{\"anchor\":\"x2\",\"domain\":[0.0,1.0],\"title\":{\"text\":\"Loss\"}},\"annotations\":[{\"font\":{\"size\":16},\"showarrow\":false,\"text\":\"Accuracy\",\"x\":0.225,\"xanchor\":\"center\",\"xref\":\"paper\",\"y\":1.0,\"yanchor\":\"bottom\",\"yref\":\"paper\"},{\"font\":{\"size\":16},\"showarrow\":false,\"text\":\"Loss\",\"x\":0.775,\"xanchor\":\"center\",\"xref\":\"paper\",\"y\":1.0,\"yanchor\":\"bottom\",\"yref\":\"paper\"}],\"title\":{\"text\":\"Training run with CNN model\"},\"height\":400,\"width\":750},                        {\"responsive\": true}                    ).then(function(){\n",
              "                            \n",
              "var gd = document.getElementById('b9fc27da-0cda-4d59-9d4e-769691b45d78');\n",
              "var x = new MutationObserver(function (mutations, observer) {{\n",
              "        var display = window.getComputedStyle(gd).display;\n",
              "        if (!display || display === 'none') {{\n",
              "            console.log([gd, 'removed!']);\n",
              "            Plotly.purge(gd);\n",
              "            observer.disconnect();\n",
              "        }}\n",
              "}});\n",
              "\n",
              "// Listen for the removal of the full notebook cells\n",
              "var notebookContainer = gd.closest('#notebook-container');\n",
              "if (notebookContainer) {{\n",
              "    x.observe(notebookContainer, {childList: true});\n",
              "}}\n",
              "\n",
              "// Listen for the clearing of the current output cell\n",
              "var outputEl = gd.closest('.output');\n",
              "if (outputEl) {{\n",
              "    x.observe(outputEl, {childList: true});\n",
              "}}\n",
              "\n",
              "                        })                };                            </script>        </div>\n",
              "</body>\n",
              "</html>"
            ]
          },
          "metadata": {}
        },
        {
          "output_type": "display_data",
          "data": {
            "text/html": [
              "<html>\n",
              "<head><meta charset=\"utf-8\" /></head>\n",
              "<body>\n",
              "    <div>            <script src=\"https://cdnjs.cloudflare.com/ajax/libs/mathjax/2.7.5/MathJax.js?config=TeX-AMS-MML_SVG\"></script><script type=\"text/javascript\">if (window.MathJax && window.MathJax.Hub && window.MathJax.Hub.Config) {window.MathJax.Hub.Config({SVG: {font: \"STIX-Web\"}});}</script>                <script type=\"text/javascript\">window.PlotlyConfig = {MathJaxConfig: 'local'};</script>\n",
              "        <script charset=\"utf-8\" src=\"https://cdn.plot.ly/plotly-2.24.1.min.js\"></script>                <div id=\"f2c372c5-ca09-4691-83c9-9462bfc5c0a2\" class=\"plotly-graph-div\" style=\"height:600px; width:750px;\"></div>            <script type=\"text/javascript\">                                    window.PLOTLYENV=window.PLOTLYENV || {};                                    if (document.getElementById(\"f2c372c5-ca09-4691-83c9-9462bfc5c0a2\")) {                    Plotly.newPlot(                        \"f2c372c5-ca09-4691-83c9-9462bfc5c0a2\",                        [{\"coloraxis\":\"coloraxis\",\"name\":\"Drinking or Eating\",\"text\":[[\"1551\",\"3824\"],[\"31822\",\"652\"]],\"texttemplate\":\"%{text}\",\"x\":[\"False\",\"True\"],\"y\":[\"True\",\"False\"],\"z\":[[1551,3824],[31822,652]],\"type\":\"heatmap\",\"xaxis\":\"x\",\"yaxis\":\"y\"},{\"coloraxis\":\"coloraxis\",\"name\":\"Galloping\",\"text\":[[\"492\",\"5283\"],[\"31940\",\"134\"]],\"texttemplate\":\"%{text}\",\"x\":[\"False\",\"True\"],\"y\":[\"True\",\"False\"],\"z\":[[492,5283],[31940,134]],\"type\":\"heatmap\",\"xaxis\":\"x2\",\"yaxis\":\"y2\"},{\"coloraxis\":\"coloraxis\",\"name\":\"Jumping or Pacing\",\"text\":[[\"1254\",\"3746\"],[\"32358\",\"491\"]],\"texttemplate\":\"%{text}\",\"x\":[\"False\",\"True\"],\"y\":[\"True\",\"False\"],\"z\":[[1254,3746],[32358,491]],\"type\":\"heatmap\",\"xaxis\":\"x3\",\"yaxis\":\"y3\"},{\"coloraxis\":\"coloraxis\",\"name\":\"Playing or Tugging\",\"text\":[[\"603\",\"6304\"],[\"30561\",\"381\"]],\"texttemplate\":\"%{text}\",\"x\":[\"False\",\"True\"],\"y\":[\"True\",\"False\"],\"z\":[[603,6304],[30561,381]],\"type\":\"heatmap\",\"xaxis\":\"x4\",\"yaxis\":\"y4\"},{\"coloraxis\":\"coloraxis\",\"name\":\"Shaking\",\"text\":[[\"108\",\"4931\"],[\"32802\",\"8\"]],\"texttemplate\":\"%{text}\",\"x\":[\"False\",\"True\"],\"y\":[\"True\",\"False\"],\"z\":[[108,4931],[32802,8]],\"type\":\"heatmap\",\"xaxis\":\"x5\",\"yaxis\":\"y5\"},{\"coloraxis\":\"coloraxis\",\"name\":\"Sniffing\",\"text\":[[\"195\",\"4805\"],[\"32654\",\"195\"]],\"texttemplate\":\"%{text}\",\"x\":[\"False\",\"True\"],\"y\":[\"True\",\"False\"],\"z\":[[195,4805],[32654,195]],\"type\":\"heatmap\",\"xaxis\":\"x6\",\"yaxis\":\"y6\"},{\"coloraxis\":\"coloraxis\",\"name\":\"Standing or Sitting or Lying chest\",\"text\":[[\"291\",\"4888\"],[\"32526\",\"144\"]],\"texttemplate\":\"%{text}\",\"x\":[\"False\",\"True\"],\"y\":[\"True\",\"False\"],\"z\":[[291,4888],[32526,144]],\"type\":\"heatmap\",\"xaxis\":\"x7\",\"yaxis\":\"y7\"},{\"coloraxis\":\"coloraxis\",\"name\":\"Trotting\",\"text\":[[\"478\",\"4528\"],[\"32496\",\"347\"]],\"texttemplate\":\"%{text}\",\"x\":[\"False\",\"True\"],\"y\":[\"True\",\"False\"],\"z\":[[478,4528],[32496,347]],\"type\":\"heatmap\",\"xaxis\":\"x8\",\"yaxis\":\"y8\"},{\"coloraxis\":\"coloraxis\",\"name\":\"Walking\",\"text\":[[\"199\",\"4835\"],[\"32042\",\"773\"]],\"texttemplate\":\"%{text}\",\"x\":[\"False\",\"True\"],\"y\":[\"True\",\"False\"],\"z\":[[199,4835],[32042,773]],\"type\":\"heatmap\",\"xaxis\":\"x9\",\"yaxis\":\"y9\"}],                        {\"template\":{\"data\":{\"histogram2dcontour\":[{\"type\":\"histogram2dcontour\",\"colorbar\":{\"outlinewidth\":0,\"ticks\":\"\"},\"colorscale\":[[0.0,\"#0d0887\"],[0.1111111111111111,\"#46039f\"],[0.2222222222222222,\"#7201a8\"],[0.3333333333333333,\"#9c179e\"],[0.4444444444444444,\"#bd3786\"],[0.5555555555555556,\"#d8576b\"],[0.6666666666666666,\"#ed7953\"],[0.7777777777777778,\"#fb9f3a\"],[0.8888888888888888,\"#fdca26\"],[1.0,\"#f0f921\"]]}],\"choropleth\":[{\"type\":\"choropleth\",\"colorbar\":{\"outlinewidth\":0,\"ticks\":\"\"}}],\"histogram2d\":[{\"type\":\"histogram2d\",\"colorbar\":{\"outlinewidth\":0,\"ticks\":\"\"},\"colorscale\":[[0.0,\"#0d0887\"],[0.1111111111111111,\"#46039f\"],[0.2222222222222222,\"#7201a8\"],[0.3333333333333333,\"#9c179e\"],[0.4444444444444444,\"#bd3786\"],[0.5555555555555556,\"#d8576b\"],[0.6666666666666666,\"#ed7953\"],[0.7777777777777778,\"#fb9f3a\"],[0.8888888888888888,\"#fdca26\"],[1.0,\"#f0f921\"]]}],\"heatmap\":[{\"type\":\"heatmap\",\"colorbar\":{\"outlinewidth\":0,\"ticks\":\"\"},\"colorscale\":[[0.0,\"#0d0887\"],[0.1111111111111111,\"#46039f\"],[0.2222222222222222,\"#7201a8\"],[0.3333333333333333,\"#9c179e\"],[0.4444444444444444,\"#bd3786\"],[0.5555555555555556,\"#d8576b\"],[0.6666666666666666,\"#ed7953\"],[0.7777777777777778,\"#fb9f3a\"],[0.8888888888888888,\"#fdca26\"],[1.0,\"#f0f921\"]]}],\"heatmapgl\":[{\"type\":\"heatmapgl\",\"colorbar\":{\"outlinewidth\":0,\"ticks\":\"\"},\"colorscale\":[[0.0,\"#0d0887\"],[0.1111111111111111,\"#46039f\"],[0.2222222222222222,\"#7201a8\"],[0.3333333333333333,\"#9c179e\"],[0.4444444444444444,\"#bd3786\"],[0.5555555555555556,\"#d8576b\"],[0.6666666666666666,\"#ed7953\"],[0.7777777777777778,\"#fb9f3a\"],[0.8888888888888888,\"#fdca26\"],[1.0,\"#f0f921\"]]}],\"contourcarpet\":[{\"type\":\"contourcarpet\",\"colorbar\":{\"outlinewidth\":0,\"ticks\":\"\"}}],\"contour\":[{\"type\":\"contour\",\"colorbar\":{\"outlinewidth\":0,\"ticks\":\"\"},\"colorscale\":[[0.0,\"#0d0887\"],[0.1111111111111111,\"#46039f\"],[0.2222222222222222,\"#7201a8\"],[0.3333333333333333,\"#9c179e\"],[0.4444444444444444,\"#bd3786\"],[0.5555555555555556,\"#d8576b\"],[0.6666666666666666,\"#ed7953\"],[0.7777777777777778,\"#fb9f3a\"],[0.8888888888888888,\"#fdca26\"],[1.0,\"#f0f921\"]]}],\"surface\":[{\"type\":\"surface\",\"colorbar\":{\"outlinewidth\":0,\"ticks\":\"\"},\"colorscale\":[[0.0,\"#0d0887\"],[0.1111111111111111,\"#46039f\"],[0.2222222222222222,\"#7201a8\"],[0.3333333333333333,\"#9c179e\"],[0.4444444444444444,\"#bd3786\"],[0.5555555555555556,\"#d8576b\"],[0.6666666666666666,\"#ed7953\"],[0.7777777777777778,\"#fb9f3a\"],[0.8888888888888888,\"#fdca26\"],[1.0,\"#f0f921\"]]}],\"mesh3d\":[{\"type\":\"mesh3d\",\"colorbar\":{\"outlinewidth\":0,\"ticks\":\"\"}}],\"scatter\":[{\"fillpattern\":{\"fillmode\":\"overlay\",\"size\":10,\"solidity\":0.2},\"type\":\"scatter\"}],\"parcoords\":[{\"type\":\"parcoords\",\"line\":{\"colorbar\":{\"outlinewidth\":0,\"ticks\":\"\"}}}],\"scatterpolargl\":[{\"type\":\"scatterpolargl\",\"marker\":{\"colorbar\":{\"outlinewidth\":0,\"ticks\":\"\"}}}],\"bar\":[{\"error_x\":{\"color\":\"#2a3f5f\"},\"error_y\":{\"color\":\"#2a3f5f\"},\"marker\":{\"line\":{\"color\":\"white\",\"width\":0.5},\"pattern\":{\"fillmode\":\"overlay\",\"size\":10,\"solidity\":0.2}},\"type\":\"bar\"}],\"scattergeo\":[{\"type\":\"scattergeo\",\"marker\":{\"colorbar\":{\"outlinewidth\":0,\"ticks\":\"\"}}}],\"scatterpolar\":[{\"type\":\"scatterpolar\",\"marker\":{\"colorbar\":{\"outlinewidth\":0,\"ticks\":\"\"}}}],\"histogram\":[{\"marker\":{\"pattern\":{\"fillmode\":\"overlay\",\"size\":10,\"solidity\":0.2}},\"type\":\"histogram\"}],\"scattergl\":[{\"type\":\"scattergl\",\"marker\":{\"colorbar\":{\"outlinewidth\":0,\"ticks\":\"\"}}}],\"scatter3d\":[{\"type\":\"scatter3d\",\"line\":{\"colorbar\":{\"outlinewidth\":0,\"ticks\":\"\"}},\"marker\":{\"colorbar\":{\"outlinewidth\":0,\"ticks\":\"\"}}}],\"scattermapbox\":[{\"type\":\"scattermapbox\",\"marker\":{\"colorbar\":{\"outlinewidth\":0,\"ticks\":\"\"}}}],\"scatterternary\":[{\"type\":\"scatterternary\",\"marker\":{\"colorbar\":{\"outlinewidth\":0,\"ticks\":\"\"}}}],\"scattercarpet\":[{\"type\":\"scattercarpet\",\"marker\":{\"colorbar\":{\"outlinewidth\":0,\"ticks\":\"\"}}}],\"carpet\":[{\"aaxis\":{\"endlinecolor\":\"#2a3f5f\",\"gridcolor\":\"#C8D4E3\",\"linecolor\":\"#C8D4E3\",\"minorgridcolor\":\"#C8D4E3\",\"startlinecolor\":\"#2a3f5f\"},\"baxis\":{\"endlinecolor\":\"#2a3f5f\",\"gridcolor\":\"#C8D4E3\",\"linecolor\":\"#C8D4E3\",\"minorgridcolor\":\"#C8D4E3\",\"startlinecolor\":\"#2a3f5f\"},\"type\":\"carpet\"}],\"table\":[{\"cells\":{\"fill\":{\"color\":\"#EBF0F8\"},\"line\":{\"color\":\"white\"}},\"header\":{\"fill\":{\"color\":\"#C8D4E3\"},\"line\":{\"color\":\"white\"}},\"type\":\"table\"}],\"barpolar\":[{\"marker\":{\"line\":{\"color\":\"white\",\"width\":0.5},\"pattern\":{\"fillmode\":\"overlay\",\"size\":10,\"solidity\":0.2}},\"type\":\"barpolar\"}],\"pie\":[{\"automargin\":true,\"type\":\"pie\"}]},\"layout\":{\"autotypenumbers\":\"strict\",\"colorway\":[\"#636efa\",\"#EF553B\",\"#00cc96\",\"#ab63fa\",\"#FFA15A\",\"#19d3f3\",\"#FF6692\",\"#B6E880\",\"#FF97FF\",\"#FECB52\"],\"font\":{\"color\":\"#2a3f5f\"},\"hovermode\":\"closest\",\"hoverlabel\":{\"align\":\"left\"},\"paper_bgcolor\":\"white\",\"plot_bgcolor\":\"white\",\"polar\":{\"bgcolor\":\"white\",\"angularaxis\":{\"gridcolor\":\"#EBF0F8\",\"linecolor\":\"#EBF0F8\",\"ticks\":\"\"},\"radialaxis\":{\"gridcolor\":\"#EBF0F8\",\"linecolor\":\"#EBF0F8\",\"ticks\":\"\"}},\"ternary\":{\"bgcolor\":\"white\",\"aaxis\":{\"gridcolor\":\"#DFE8F3\",\"linecolor\":\"#A2B1C6\",\"ticks\":\"\"},\"baxis\":{\"gridcolor\":\"#DFE8F3\",\"linecolor\":\"#A2B1C6\",\"ticks\":\"\"},\"caxis\":{\"gridcolor\":\"#DFE8F3\",\"linecolor\":\"#A2B1C6\",\"ticks\":\"\"}},\"coloraxis\":{\"colorbar\":{\"outlinewidth\":0,\"ticks\":\"\"}},\"colorscale\":{\"sequential\":[[0.0,\"#0d0887\"],[0.1111111111111111,\"#46039f\"],[0.2222222222222222,\"#7201a8\"],[0.3333333333333333,\"#9c179e\"],[0.4444444444444444,\"#bd3786\"],[0.5555555555555556,\"#d8576b\"],[0.6666666666666666,\"#ed7953\"],[0.7777777777777778,\"#fb9f3a\"],[0.8888888888888888,\"#fdca26\"],[1.0,\"#f0f921\"]],\"sequentialminus\":[[0.0,\"#0d0887\"],[0.1111111111111111,\"#46039f\"],[0.2222222222222222,\"#7201a8\"],[0.3333333333333333,\"#9c179e\"],[0.4444444444444444,\"#bd3786\"],[0.5555555555555556,\"#d8576b\"],[0.6666666666666666,\"#ed7953\"],[0.7777777777777778,\"#fb9f3a\"],[0.8888888888888888,\"#fdca26\"],[1.0,\"#f0f921\"]],\"diverging\":[[0,\"#8e0152\"],[0.1,\"#c51b7d\"],[0.2,\"#de77ae\"],[0.3,\"#f1b6da\"],[0.4,\"#fde0ef\"],[0.5,\"#f7f7f7\"],[0.6,\"#e6f5d0\"],[0.7,\"#b8e186\"],[0.8,\"#7fbc41\"],[0.9,\"#4d9221\"],[1,\"#276419\"]]},\"xaxis\":{\"gridcolor\":\"#EBF0F8\",\"linecolor\":\"#EBF0F8\",\"ticks\":\"\",\"title\":{\"standoff\":15},\"zerolinecolor\":\"#EBF0F8\",\"automargin\":true,\"zerolinewidth\":2},\"yaxis\":{\"gridcolor\":\"#EBF0F8\",\"linecolor\":\"#EBF0F8\",\"ticks\":\"\",\"title\":{\"standoff\":15},\"zerolinecolor\":\"#EBF0F8\",\"automargin\":true,\"zerolinewidth\":2},\"scene\":{\"xaxis\":{\"backgroundcolor\":\"white\",\"gridcolor\":\"#DFE8F3\",\"linecolor\":\"#EBF0F8\",\"showbackground\":true,\"ticks\":\"\",\"zerolinecolor\":\"#EBF0F8\",\"gridwidth\":2},\"yaxis\":{\"backgroundcolor\":\"white\",\"gridcolor\":\"#DFE8F3\",\"linecolor\":\"#EBF0F8\",\"showbackground\":true,\"ticks\":\"\",\"zerolinecolor\":\"#EBF0F8\",\"gridwidth\":2},\"zaxis\":{\"backgroundcolor\":\"white\",\"gridcolor\":\"#DFE8F3\",\"linecolor\":\"#EBF0F8\",\"showbackground\":true,\"ticks\":\"\",\"zerolinecolor\":\"#EBF0F8\",\"gridwidth\":2}},\"shapedefaults\":{\"line\":{\"color\":\"#2a3f5f\"}},\"annotationdefaults\":{\"arrowcolor\":\"#2a3f5f\",\"arrowhead\":0,\"arrowwidth\":1},\"geo\":{\"bgcolor\":\"white\",\"landcolor\":\"white\",\"subunitcolor\":\"#C8D4E3\",\"showland\":true,\"showlakes\":true,\"lakecolor\":\"white\"},\"title\":{\"x\":0.05},\"mapbox\":{\"style\":\"light\"}}},\"xaxis\":{\"anchor\":\"y\",\"domain\":[0.0,0.2888888888888889]},\"yaxis\":{\"anchor\":\"x\",\"domain\":[0.7777777777777778,1.0],\"title\":{\"text\":\"Actual\"}},\"xaxis2\":{\"anchor\":\"y2\",\"domain\":[0.35555555555555557,0.6444444444444445]},\"yaxis2\":{\"anchor\":\"x2\",\"domain\":[0.7777777777777778,1.0]},\"xaxis3\":{\"anchor\":\"y3\",\"domain\":[0.7111111111111111,1.0]},\"yaxis3\":{\"anchor\":\"x3\",\"domain\":[0.7777777777777778,1.0]},\"xaxis4\":{\"anchor\":\"y4\",\"domain\":[0.0,0.2888888888888889]},\"yaxis4\":{\"anchor\":\"x4\",\"domain\":[0.3888888888888889,0.6111111111111112],\"title\":{\"text\":\"Actual\"}},\"xaxis5\":{\"anchor\":\"y5\",\"domain\":[0.35555555555555557,0.6444444444444445]},\"yaxis5\":{\"anchor\":\"x5\",\"domain\":[0.3888888888888889,0.6111111111111112]},\"xaxis6\":{\"anchor\":\"y6\",\"domain\":[0.7111111111111111,1.0]},\"yaxis6\":{\"anchor\":\"x6\",\"domain\":[0.3888888888888889,0.6111111111111112]},\"xaxis7\":{\"anchor\":\"y7\",\"domain\":[0.0,0.2888888888888889],\"title\":{\"text\":\"Predicted\"}},\"yaxis7\":{\"anchor\":\"x7\",\"domain\":[0.0,0.22222222222222224],\"title\":{\"text\":\"Actual\"}},\"xaxis8\":{\"anchor\":\"y8\",\"domain\":[0.35555555555555557,0.6444444444444445],\"title\":{\"text\":\"Predicted\"}},\"yaxis8\":{\"anchor\":\"x8\",\"domain\":[0.0,0.22222222222222224]},\"xaxis9\":{\"anchor\":\"y9\",\"domain\":[0.7111111111111111,1.0],\"title\":{\"text\":\"Predicted\"}},\"yaxis9\":{\"anchor\":\"x9\",\"domain\":[0.0,0.22222222222222224]},\"annotations\":[{\"font\":{\"size\":16},\"showarrow\":false,\"text\":\"Drinking or Eating\",\"x\":0.14444444444444446,\"xanchor\":\"center\",\"xref\":\"paper\",\"y\":1.0,\"yanchor\":\"bottom\",\"yref\":\"paper\"},{\"font\":{\"size\":16},\"showarrow\":false,\"text\":\"Galloping\",\"x\":0.5,\"xanchor\":\"center\",\"xref\":\"paper\",\"y\":1.0,\"yanchor\":\"bottom\",\"yref\":\"paper\"},{\"font\":{\"size\":16},\"showarrow\":false,\"text\":\"Jumping or Pacing\",\"x\":0.8555555555555556,\"xanchor\":\"center\",\"xref\":\"paper\",\"y\":1.0,\"yanchor\":\"bottom\",\"yref\":\"paper\"},{\"font\":{\"size\":16},\"showarrow\":false,\"text\":\"Playing or Tugging\",\"x\":0.14444444444444446,\"xanchor\":\"center\",\"xref\":\"paper\",\"y\":0.6111111111111112,\"yanchor\":\"bottom\",\"yref\":\"paper\"},{\"font\":{\"size\":16},\"showarrow\":false,\"text\":\"Shaking\",\"x\":0.5,\"xanchor\":\"center\",\"xref\":\"paper\",\"y\":0.6111111111111112,\"yanchor\":\"bottom\",\"yref\":\"paper\"},{\"font\":{\"size\":16},\"showarrow\":false,\"text\":\"Sniffing\",\"x\":0.8555555555555556,\"xanchor\":\"center\",\"xref\":\"paper\",\"y\":0.6111111111111112,\"yanchor\":\"bottom\",\"yref\":\"paper\"},{\"font\":{\"size\":16},\"showarrow\":false,\"text\":\"Standing or Sitting or Lying chest\",\"x\":0.14444444444444446,\"xanchor\":\"center\",\"xref\":\"paper\",\"y\":0.22222222222222224,\"yanchor\":\"bottom\",\"yref\":\"paper\"},{\"font\":{\"size\":16},\"showarrow\":false,\"text\":\"Trotting\",\"x\":0.5,\"xanchor\":\"center\",\"xref\":\"paper\",\"y\":0.22222222222222224,\"yanchor\":\"bottom\",\"yref\":\"paper\"},{\"font\":{\"size\":16},\"showarrow\":false,\"text\":\"Walking\",\"x\":0.8555555555555556,\"xanchor\":\"center\",\"xref\":\"paper\",\"y\":0.22222222222222224,\"yanchor\":\"bottom\",\"yref\":\"paper\"}],\"coloraxis\":{\"colorscale\":[[0.0,\"#000004\"],[0.1111111111111111,\"#1b0c41\"],[0.2222222222222222,\"#4a0c6b\"],[0.3333333333333333,\"#781c6d\"],[0.4444444444444444,\"#a52c60\"],[0.5555555555555556,\"#cf4446\"],[0.6666666666666666,\"#ed6925\"],[0.7777777777777778,\"#fb9b06\"],[0.8888888888888888,\"#f7d13d\"],[1.0,\"#fcffa4\"]]},\"title\":{\"text\":\"Confusion matrices for CNN model\"},\"width\":750,\"height\":600},                        {\"responsive\": true}                    ).then(function(){\n",
              "                            \n",
              "var gd = document.getElementById('f2c372c5-ca09-4691-83c9-9462bfc5c0a2');\n",
              "var x = new MutationObserver(function (mutations, observer) {{\n",
              "        var display = window.getComputedStyle(gd).display;\n",
              "        if (!display || display === 'none') {{\n",
              "            console.log([gd, 'removed!']);\n",
              "            Plotly.purge(gd);\n",
              "            observer.disconnect();\n",
              "        }}\n",
              "}});\n",
              "\n",
              "// Listen for the removal of the full notebook cells\n",
              "var notebookContainer = gd.closest('#notebook-container');\n",
              "if (notebookContainer) {{\n",
              "    x.observe(notebookContainer, {childList: true});\n",
              "}}\n",
              "\n",
              "// Listen for the clearing of the current output cell\n",
              "var outputEl = gd.closest('.output');\n",
              "if (outputEl) {{\n",
              "    x.observe(outputEl, {childList: true});\n",
              "}}\n",
              "\n",
              "                        })                };                            </script>        </div>\n",
              "</body>\n",
              "</html>"
            ]
          },
          "metadata": {}
        }
      ],
      "source": [
        "# plot the training and testing accuracies/losses during training\n",
        "classification.plot_training_run(training_history, title=\"Training run with CNN model\")\n",
        "# compute confusion matrix on test data\n",
        "confusion_matrices = classification.calculate_confusion_matrices_torch(model, test_loader, device)\n",
        "# plot the multil-label confusion matrix\n",
        "classification.plot_confusion_matrices(confusion_matrices, dataset.class_list, title=\"Confusion matrices for CNN model\")\n",
        "\n",
        "# save model performance\n",
        "model_performances.add(\n",
        "    ModelPerformance(name='CNN', test_accuracy=1-training_history.test.error[-1], train_duration=duration)\n",
        ")"
      ]
    },
    {
      "cell_type": "markdown",
      "metadata": {
        "id": "XhDjfh7_7bGX"
      },
      "source": [
        "## 4.9 A Fancy CNN - ResNet"
      ]
    },
    {
      "cell_type": "markdown",
      "source": [
        "Here, we build build a more complex convolutional network. The model is based on the ResNet architecture (see: https://github.com/pytorch/vision/blob/main/torchvision/models/resnet.py)."
      ],
      "metadata": {
        "id": "Y1h7xOQW4cNV"
      }
    },
    {
      "cell_type": "markdown",
      "metadata": {
        "id": "28YHwfbj7bGX"
      },
      "source": [
        "### 4.9.1 Hyperparameter Tuning"
      ]
    },
    {
      "cell_type": "code",
      "execution_count": null,
      "metadata": {
        "colab": {
          "base_uri": "https://localhost:8080/"
        },
        "id": "V1M0O81M7bGX",
        "outputId": "58f240f5-b1da-42e4-be4d-0e27244ebebf"
      },
      "outputs": [
        {
          "output_type": "stream",
          "name": "stdout",
          "text": [
            "Starting hyperparameter tuning of CNN Resnet model\n",
            "Training on CUDA.\n",
            "Epoch 1/10\n",
            "  training loss: 0.670064  [  512/150372]\n",
            "  training loss: 0.073881  [50688/150372]\n",
            "  training loss: 0.036186  [100864/150372]\n",
            " validation error 13.68 %\n",
            "Epoch 2/10\n",
            "  training loss: 0.043360  [  512/150372]\n",
            "  training loss: 0.024886  [50688/150372]\n",
            "  training loss: 0.028340  [100864/150372]\n",
            " validation error 9.75 %\n",
            "Epoch 3/10\n",
            "  training loss: 0.025735  [  512/150372]\n",
            "  training loss: 0.019905  [50688/150372]\n",
            "  training loss: 0.024204  [100864/150372]\n",
            " validation error 9.39 %\n",
            "Epoch 4/10\n",
            "  training loss: 0.016568  [  512/150372]\n",
            "  training loss: 0.015565  [50688/150372]\n",
            "  training loss: 0.013219  [100864/150372]\n",
            " validation error 8.75 %\n",
            "Epoch 5/10\n",
            "  training loss: 0.018639  [  512/150372]\n",
            "  training loss: 0.016853  [50688/150372]\n",
            "  training loss: 0.013634  [100864/150372]\n",
            " validation error 9.51 %\n",
            "Epoch 6/10\n",
            "  training loss: 0.008674  [  512/150372]\n",
            "  training loss: 0.013209  [50688/150372]\n",
            "  training loss: 0.014597  [100864/150372]\n",
            " validation error 8.06 %\n",
            "Epoch 7/10\n",
            "  training loss: 0.011013  [  512/150372]\n",
            "  training loss: 0.009696  [50688/150372]\n",
            "  training loss: 0.008804  [100864/150372]\n",
            " validation error 8.89 %\n",
            "Epoch 8/10\n",
            "  training loss: 0.010744  [  512/150372]\n",
            "  training loss: 0.008850  [50688/150372]\n",
            "  training loss: 0.009803  [100864/150372]\n",
            " validation error 9.39 %\n",
            "Epoch 9/10\n",
            "  training loss: 0.009266  [  512/150372]\n",
            "  training loss: 0.012620  [50688/150372]\n",
            "  training loss: 0.009203  [100864/150372]\n",
            " validation error 8.31 %\n",
            "Epoch 10/10\n",
            "  training loss: 0.007394  [  512/150372]\n",
            "  training loss: 0.010723  [50688/150372]\n",
            "  training loss: 0.012795  [100864/150372]\n",
            " validation error 7.45 %\n",
            "Training on CUDA.\n",
            "Epoch 1/10\n",
            "  training loss: 0.812269  [  512/150372]\n",
            "  training loss: 0.082034  [50688/150372]\n",
            "  training loss: 0.045979  [100864/150372]\n",
            " validation error 17.75 %\n",
            "Epoch 2/10\n",
            "  training loss: 0.051736  [  512/150372]\n",
            "  training loss: 0.029178  [50688/150372]\n",
            "  training loss: 0.026736  [100864/150372]\n",
            " validation error 15.31 %\n",
            "Epoch 3/10\n",
            "  training loss: 0.035154  [  512/150372]\n",
            "  training loss: 0.028175  [50688/150372]\n",
            "  training loss: 0.026070  [100864/150372]\n",
            " validation error 11.72 %\n",
            "Epoch 4/10\n",
            "  training loss: 0.019337  [  512/150372]\n",
            "  training loss: 0.022531  [50688/150372]\n",
            "  training loss: 0.024373  [100864/150372]\n",
            " validation error 14.88 %\n",
            "Epoch 5/10\n",
            "  training loss: 0.019411  [  512/150372]\n",
            "  training loss: 0.020418  [50688/150372]\n",
            "  training loss: 0.018853  [100864/150372]\n",
            " validation error 7.91 %\n",
            "Epoch 6/10\n",
            "  training loss: 0.012045  [  512/150372]\n",
            "  training loss: 0.009630  [50688/150372]\n",
            "  training loss: 0.015320  [100864/150372]\n",
            " validation error 8.18 %\n",
            "Epoch 7/10\n",
            "  training loss: 0.008603  [  512/150372]\n",
            "  training loss: 0.011912  [50688/150372]\n",
            "  training loss: 0.010733  [100864/150372]\n",
            " validation error 7.26 %\n",
            "Epoch 8/10\n",
            "  training loss: 0.011304  [  512/150372]\n",
            "  training loss: 0.008317  [50688/150372]\n",
            "  training loss: 0.009697  [100864/150372]\n",
            " validation error 7.51 %\n",
            "Epoch 9/10\n",
            "  training loss: 0.010447  [  512/150372]\n",
            "  training loss: 0.007831  [50688/150372]\n",
            "  training loss: 0.010734  [100864/150372]\n",
            " validation error 7.76 %\n",
            "Epoch 10/10\n",
            "  training loss: 0.007391  [  512/150372]\n",
            "  training loss: 0.006965  [50688/150372]\n",
            "  training loss: 0.005850  [100864/150372]\n",
            " validation error 9.35 %\n",
            "Training on CUDA.\n",
            "Epoch 1/10\n",
            "  training loss: 0.764005  [  512/150372]\n",
            "  training loss: 0.066032  [50688/150372]\n",
            "  training loss: 0.047530  [100864/150372]\n",
            " validation error 14.59 %\n",
            "Epoch 2/10\n",
            "  training loss: 0.039964  [  512/150372]\n",
            "  training loss: 0.032260  [50688/150372]\n",
            "  training loss: 0.027993  [100864/150372]\n",
            " validation error 10.18 %\n",
            "Epoch 3/10\n",
            "  training loss: 0.033519  [  512/150372]\n",
            "  training loss: 0.024933  [50688/150372]\n",
            "  training loss: 0.029799  [100864/150372]\n",
            " validation error 13.27 %\n",
            "Epoch 4/10\n",
            "  training loss: 0.015423  [  512/150372]\n",
            "  training loss: 0.019333  [50688/150372]\n",
            "  training loss: 0.012519  [100864/150372]\n",
            " validation error 10.14 %\n",
            "Epoch 5/10\n",
            "  training loss: 0.021573  [  512/150372]\n",
            "  training loss: 0.014381  [50688/150372]\n",
            "  training loss: 0.015021  [100864/150372]\n",
            " validation error 8.25 %\n",
            "Epoch 6/10\n",
            "  training loss: 0.014591  [  512/150372]\n",
            "  training loss: 0.010169  [50688/150372]\n",
            "  training loss: 0.014861  [100864/150372]\n",
            " validation error 8.19 %\n",
            "Epoch 7/10\n",
            "  training loss: 0.008775  [  512/150372]\n",
            "  training loss: 0.008198  [50688/150372]\n",
            "  training loss: 0.007970  [100864/150372]\n",
            " validation error 7.88 %\n",
            "Epoch 8/10\n",
            "  training loss: 0.013208  [  512/150372]\n",
            "  training loss: 0.010113  [50688/150372]\n",
            "  training loss: 0.006879  [100864/150372]\n",
            " validation error 7.14 %\n",
            "Epoch 9/10\n",
            "  training loss: 0.005789  [  512/150372]\n",
            "  training loss: 0.011594  [50688/150372]\n",
            "  training loss: 0.011344  [100864/150372]\n",
            " validation error 6.71 %\n",
            "Epoch 10/10\n",
            "  training loss: 0.005687  [  512/150372]\n",
            "  training loss: 0.008207  [50688/150372]\n",
            "  training loss: 0.011011  [100864/150372]\n",
            " validation error 7.81 %\n",
            "Best testing accuracy was achieved with layer sizes of [2, 3, 4, 2]\n"
          ]
        }
      ],
      "source": [
        "# get training and testing DataLoaders\n",
        "train_loader, test_loader = classification.get_dataloaders(\n",
        "    data, 'CNN', LEN_SEQ, BATCH_SIZES.resnet\n",
        ")\n",
        "# initialize loss function\n",
        "loss_fun = torch.nn.BCEWithLogitsLoss()\n",
        "\n",
        "# define list of variable hyperparameter\n",
        "layer_sizes_list = [[2, 2, 2, 2], [2, 3, 3, 2], [2, 3, 4, 2]]\n",
        "# initialize list of test errors\n",
        "tuning_errors = []\n",
        "\n",
        "print(f\"Starting hyperparameter tuning of CNN Resnet model\")\n",
        "for layer_sizes in layer_sizes_list:\n",
        "    # initialize the ResNet1D model\n",
        "    model = classification.ResNet1D(\n",
        "        input_size=PCA_NUM_FEATURES,\n",
        "        output_size=y.shape[1],\n",
        "        block=classification.ResidualBlock,\n",
        "        layers=layer_sizes\n",
        "    )\n",
        "    # initialize optimizer with model parameters\n",
        "    optimizer = torch.optim.AdamW(model.parameters())\n",
        "    # train the model\n",
        "    training_history = classification.train_loop(\n",
        "        model,\n",
        "        train_loader,\n",
        "        test_loader,\n",
        "        loss_fun,\n",
        "        optimizer,\n",
        "        NUM_HYPER_EPOCHS.resnet,\n",
        "        device\n",
        "    )\n",
        "    # save model performance\n",
        "    tuning_errors.append(training_history.test.error[-1])\n",
        "\n",
        "# save and print best layer sizes\n",
        "best_layer_sizes = layer_sizes_list[np.argmin(tuning_errors)]\n",
        "print(f\"Best testing accuracy was achieved with layer sizes of {best_layer_sizes}\")"
      ]
    },
    {
      "cell_type": "markdown",
      "metadata": {
        "id": "36Pj8VIP7bGX"
      },
      "source": [
        "### 4.9.2 Training with Tuned Hyperparameters"
      ]
    },
    {
      "cell_type": "code",
      "execution_count": null,
      "metadata": {
        "colab": {
          "base_uri": "https://localhost:8080/"
        },
        "id": "nok-wtQA7bGX",
        "outputId": "2daff3e8-dc2e-494f-97e3-2151acfeb1d8"
      },
      "outputs": [
        {
          "output_type": "stream",
          "name": "stdout",
          "text": [
            "Starting training CNN Resnet model\n",
            "Training on CUDA.\n",
            "Epoch 1/25\n",
            "  training loss: 0.718627  [  512/149100]\n",
            "  training loss: 0.062077  [50176/149100]\n",
            "  training loss: 0.056955  [99840/149100]\n",
            "  training loss: 0.033549  [149100/149100]\n",
            " validation error 11.94 %\n",
            "Epoch 2/25\n",
            "  training loss: 0.044491  [  512/149100]\n",
            "  training loss: 0.030470  [50176/149100]\n",
            "  training loss: 0.024754  [99840/149100]\n",
            "  training loss: 0.035084  [149100/149100]\n",
            " validation error 11.36 %\n",
            "Epoch 3/25\n",
            "  training loss: 0.030591  [  512/149100]\n",
            "  training loss: 0.023465  [50176/149100]\n",
            "  training loss: 0.024262  [99840/149100]\n",
            "  training loss: 0.040865  [149100/149100]\n",
            " validation error 15.49 %\n",
            "Epoch 4/25\n",
            "  training loss: 0.021651  [  512/149100]\n",
            "  training loss: 0.016306  [50176/149100]\n",
            "  training loss: 0.012430  [99840/149100]\n",
            "  training loss: 0.024835  [149100/149100]\n",
            " validation error 10.42 %\n",
            "Epoch 5/25\n",
            "  training loss: 0.015147  [  512/149100]\n",
            "  training loss: 0.021726  [50176/149100]\n",
            "  training loss: 0.014361  [99840/149100]\n",
            "  training loss: 0.032482  [149100/149100]\n",
            " validation error 8.22 %\n",
            "Epoch 6/25\n",
            "  training loss: 0.019201  [  512/149100]\n",
            "  training loss: 0.017500  [50176/149100]\n",
            "  training loss: 0.017109  [99840/149100]\n",
            "  training loss: 0.022465  [149100/149100]\n",
            " validation error 7.86 %\n",
            "Epoch 7/25\n",
            "  training loss: 0.007496  [  512/149100]\n",
            "  training loss: 0.016878  [50176/149100]\n",
            "  training loss: 0.010333  [99840/149100]\n",
            "  training loss: 0.033552  [149100/149100]\n",
            " validation error 8.08 %\n",
            "Epoch 8/25\n",
            "  training loss: 0.013497  [  512/149100]\n",
            "  training loss: 0.011611  [50176/149100]\n",
            "  training loss: 0.014188  [99840/149100]\n",
            "  training loss: 0.024751  [149100/149100]\n",
            " validation error 8.68 %\n",
            "Epoch 9/25\n",
            "  training loss: 0.012117  [  512/149100]\n",
            "  training loss: 0.011018  [50176/149100]\n",
            "  training loss: 0.007342  [99840/149100]\n",
            "  training loss: 0.005065  [149100/149100]\n",
            " validation error 9.27 %\n",
            "Epoch 10/25\n",
            "  training loss: 0.008947  [  512/149100]\n",
            "  training loss: 0.007385  [50176/149100]\n",
            "  training loss: 0.008640  [99840/149100]\n",
            "  training loss: 0.013045  [149100/149100]\n",
            " validation error 7.59 %\n",
            "Epoch 11/25\n",
            "  training loss: 0.007245  [  512/149100]\n",
            "  training loss: 0.010258  [50176/149100]\n",
            "  training loss: 0.010872  [99840/149100]\n",
            "  training loss: 0.031393  [149100/149100]\n",
            " validation error 8.06 %\n",
            "Epoch 12/25\n",
            "  training loss: 0.009499  [  512/149100]\n",
            "  training loss: 0.010092  [50176/149100]\n",
            "  training loss: 0.004646  [99840/149100]\n",
            "  training loss: 0.016330  [149100/149100]\n",
            " validation error 7.36 %\n",
            "Epoch 13/25\n",
            "  training loss: 0.008887  [  512/149100]\n",
            "  training loss: 0.006820  [50176/149100]\n",
            "  training loss: 0.008069  [99840/149100]\n",
            "  training loss: 0.014885  [149100/149100]\n",
            " validation error 7.41 %\n",
            "Epoch 14/25\n",
            "  training loss: 0.008565  [  512/149100]\n",
            "  training loss: 0.010736  [50176/149100]\n",
            "  training loss: 0.005561  [99840/149100]\n",
            "  training loss: 0.011121  [149100/149100]\n",
            " validation error 7.81 %\n",
            "Epoch 15/25\n",
            "  training loss: 0.009034  [  512/149100]\n",
            "  training loss: 0.007907  [50176/149100]\n",
            "  training loss: 0.010786  [99840/149100]\n",
            "  training loss: 0.006915  [149100/149100]\n",
            " validation error 7.05 %\n",
            "Epoch 16/25\n",
            "  training loss: 0.006323  [  512/149100]\n",
            "  training loss: 0.004032  [50176/149100]\n",
            "  training loss: 0.008078  [99840/149100]\n",
            "  training loss: 0.005159  [149100/149100]\n",
            " validation error 7.48 %\n",
            "Epoch 17/25\n",
            "  training loss: 0.007712  [  512/149100]\n",
            "  training loss: 0.010557  [50176/149100]\n",
            "  training loss: 0.004200  [99840/149100]\n",
            "  training loss: 0.039291  [149100/149100]\n",
            " validation error 6.92 %\n",
            "Epoch 18/25\n",
            "  training loss: 0.006337  [  512/149100]\n",
            "  training loss: 0.003525  [50176/149100]\n",
            "  training loss: 0.004928  [99840/149100]\n",
            "  training loss: 0.018992  [149100/149100]\n",
            " validation error 6.27 %\n",
            "Epoch 19/25\n",
            "  training loss: 0.003228  [  512/149100]\n",
            "  training loss: 0.007444  [50176/149100]\n",
            "  training loss: 0.004641  [99840/149100]\n",
            "  training loss: 0.011333  [149100/149100]\n",
            " validation error 7.64 %\n",
            "Epoch 20/25\n",
            "  training loss: 0.006313  [  512/149100]\n",
            "  training loss: 0.007019  [50176/149100]\n",
            "  training loss: 0.002736  [99840/149100]\n",
            "  training loss: 0.001011  [149100/149100]\n",
            " validation error 8.32 %\n",
            "Epoch 21/25\n",
            "  training loss: 0.001595  [  512/149100]\n",
            "  training loss: 0.004821  [50176/149100]\n",
            "  training loss: 0.005206  [99840/149100]\n",
            "  training loss: 0.044854  [149100/149100]\n",
            " validation error 6.82 %\n",
            "Epoch 22/25\n",
            "  training loss: 0.004453  [  512/149100]\n",
            "  training loss: 0.005766  [50176/149100]\n",
            "  training loss: 0.005632  [99840/149100]\n",
            "  training loss: 0.002636  [149100/149100]\n",
            " validation error 7.06 %\n",
            "Epoch 23/25\n",
            "  training loss: 0.003644  [  512/149100]\n",
            "  training loss: 0.005723  [50176/149100]\n",
            "  training loss: 0.003684  [99840/149100]\n",
            "  training loss: 0.020673  [149100/149100]\n",
            " validation error 6.82 %\n",
            "Epoch 24/25\n",
            "  training loss: 0.004334  [  512/149100]\n",
            "  training loss: 0.007182  [50176/149100]\n",
            "  training loss: 0.004116  [99840/149100]\n",
            "  training loss: 0.002259  [149100/149100]\n",
            " validation error 6.43 %\n",
            "Epoch 25/25\n",
            "  training loss: 0.006380  [  512/149100]\n",
            "  training loss: 0.005125  [50176/149100]\n",
            "  training loss: 0.004196  [99840/149100]\n",
            "  training loss: 0.007574  [149100/149100]\n",
            " validation error 7.56 %\n",
            "Training took 847.4 s\n"
          ]
        }
      ],
      "source": [
        "# initialize ResNet1D model\n",
        "model = classification.ResNet1D(\n",
        "    input_size=PCA_NUM_FEATURES,\n",
        "    output_size=y.shape[1],\n",
        "    block=classification.ResidualBlock,\n",
        "    layers=best_layer_sizes\n",
        ")\n",
        "loss_fun = torch.nn.BCEWithLogitsLoss()\n",
        "optimizer = torch.optim.AdamW(model.parameters())\n",
        "\n",
        "print(f\"Starting training CNN Resnet model\")\n",
        "t0 = time.time()\n",
        "training_history = classification.train_loop(\n",
        "    model,\n",
        "    train_loader,\n",
        "    test_loader,\n",
        "    loss_fun,\n",
        "    optimizer,\n",
        "    NUM_EPOCHS.resnet,\n",
        "    device\n",
        ")\n",
        "t1 = time.time()\n",
        "duration = t1-t0\n",
        "print(f\"Training took {duration:.1f} s\")"
      ]
    },
    {
      "cell_type": "markdown",
      "metadata": {
        "id": "wuI7DG1h7bGX"
      },
      "source": [
        "### 4.9.3 Model Evaluation"
      ]
    },
    {
      "cell_type": "code",
      "execution_count": null,
      "metadata": {
        "colab": {
          "base_uri": "https://localhost:8080/",
          "height": 1000
        },
        "outputId": "c8ec33b3-8976-467f-9010-6672867dcd02",
        "id": "6AiIRAzS1rfM"
      },
      "outputs": [
        {
          "output_type": "display_data",
          "data": {
            "text/html": [
              "<html>\n",
              "<head><meta charset=\"utf-8\" /></head>\n",
              "<body>\n",
              "    <div>            <script src=\"https://cdnjs.cloudflare.com/ajax/libs/mathjax/2.7.5/MathJax.js?config=TeX-AMS-MML_SVG\"></script><script type=\"text/javascript\">if (window.MathJax && window.MathJax.Hub && window.MathJax.Hub.Config) {window.MathJax.Hub.Config({SVG: {font: \"STIX-Web\"}});}</script>                <script type=\"text/javascript\">window.PlotlyConfig = {MathJaxConfig: 'local'};</script>\n",
              "        <script charset=\"utf-8\" src=\"https://cdn.plot.ly/plotly-2.24.1.min.js\"></script>                <div id=\"d469c64f-3c62-4d62-86a1-e49cfea81d15\" class=\"plotly-graph-div\" style=\"height:400px; width:750px;\"></div>            <script type=\"text/javascript\">                                    window.PLOTLYENV=window.PLOTLYENV || {};                                    if (document.getElementById(\"d469c64f-3c62-4d62-86a1-e49cfea81d15\")) {                    Plotly.newPlot(                        \"d469c64f-3c62-4d62-86a1-e49cfea81d15\",                        [{\"marker\":{\"color\":\"#3366CC\"},\"mode\":\"lines\",\"name\":\"Training error\",\"x\":[1000,2000,3000,4000,5000,6000,7000],\"y\":[0.05,0.0346411804158283,0.01949698189134809,0.014808853118712273,0.02254862508383635,0.01867873910127431,0.013279678068410463],\"type\":\"scatter\",\"xaxis\":\"x\",\"yaxis\":\"y\"},{\"marker\":{\"color\":\"#DC3912\"},\"mode\":\"lines\",\"name\":\"Testing error\",\"x\":[1000,2000,3000,4000,5000,6000,7000],\"y\":[0.09394941185515492,0.08177647933164194,0.06683580636067758,0.06373491197047744,0.0754209271930499,0.07803490428230953,0.06337613080136337],\"type\":\"scatter\",\"xaxis\":\"x\",\"yaxis\":\"y\"},{\"marker\":{\"color\":\"#FF9900\"},\"mode\":\"lines\",\"name\":\"Training loss\",\"x\":[1000,2000,3000,4000,5000,6000,7000],\"y\":[0.02497337490490105,0.01449275536126614,0.007557369690241029,0.006003047269826791,0.008275074884545316,0.006863587286940443,0.0050816340489146855],\"type\":\"scatter\",\"xaxis\":\"x2\",\"yaxis\":\"y2\"},{\"marker\":{\"color\":\"#109618\"},\"mode\":\"lines\",\"name\":\"Testing loss\",\"x\":[1000,2000,3000,4000,5000,6000,7000],\"y\":[0.05579770949784294,0.04431851091757079,0.03678774550423098,0.03877012979889655,0.045017119007114595,0.058715034679221074,0.04264358846333095],\"type\":\"scatter\",\"xaxis\":\"x2\",\"yaxis\":\"y2\"}],                        {\"template\":{\"data\":{\"histogram2dcontour\":[{\"type\":\"histogram2dcontour\",\"colorbar\":{\"outlinewidth\":0,\"ticks\":\"\"},\"colorscale\":[[0.0,\"#0d0887\"],[0.1111111111111111,\"#46039f\"],[0.2222222222222222,\"#7201a8\"],[0.3333333333333333,\"#9c179e\"],[0.4444444444444444,\"#bd3786\"],[0.5555555555555556,\"#d8576b\"],[0.6666666666666666,\"#ed7953\"],[0.7777777777777778,\"#fb9f3a\"],[0.8888888888888888,\"#fdca26\"],[1.0,\"#f0f921\"]]}],\"choropleth\":[{\"type\":\"choropleth\",\"colorbar\":{\"outlinewidth\":0,\"ticks\":\"\"}}],\"histogram2d\":[{\"type\":\"histogram2d\",\"colorbar\":{\"outlinewidth\":0,\"ticks\":\"\"},\"colorscale\":[[0.0,\"#0d0887\"],[0.1111111111111111,\"#46039f\"],[0.2222222222222222,\"#7201a8\"],[0.3333333333333333,\"#9c179e\"],[0.4444444444444444,\"#bd3786\"],[0.5555555555555556,\"#d8576b\"],[0.6666666666666666,\"#ed7953\"],[0.7777777777777778,\"#fb9f3a\"],[0.8888888888888888,\"#fdca26\"],[1.0,\"#f0f921\"]]}],\"heatmap\":[{\"type\":\"heatmap\",\"colorbar\":{\"outlinewidth\":0,\"ticks\":\"\"},\"colorscale\":[[0.0,\"#0d0887\"],[0.1111111111111111,\"#46039f\"],[0.2222222222222222,\"#7201a8\"],[0.3333333333333333,\"#9c179e\"],[0.4444444444444444,\"#bd3786\"],[0.5555555555555556,\"#d8576b\"],[0.6666666666666666,\"#ed7953\"],[0.7777777777777778,\"#fb9f3a\"],[0.8888888888888888,\"#fdca26\"],[1.0,\"#f0f921\"]]}],\"heatmapgl\":[{\"type\":\"heatmapgl\",\"colorbar\":{\"outlinewidth\":0,\"ticks\":\"\"},\"colorscale\":[[0.0,\"#0d0887\"],[0.1111111111111111,\"#46039f\"],[0.2222222222222222,\"#7201a8\"],[0.3333333333333333,\"#9c179e\"],[0.4444444444444444,\"#bd3786\"],[0.5555555555555556,\"#d8576b\"],[0.6666666666666666,\"#ed7953\"],[0.7777777777777778,\"#fb9f3a\"],[0.8888888888888888,\"#fdca26\"],[1.0,\"#f0f921\"]]}],\"contourcarpet\":[{\"type\":\"contourcarpet\",\"colorbar\":{\"outlinewidth\":0,\"ticks\":\"\"}}],\"contour\":[{\"type\":\"contour\",\"colorbar\":{\"outlinewidth\":0,\"ticks\":\"\"},\"colorscale\":[[0.0,\"#0d0887\"],[0.1111111111111111,\"#46039f\"],[0.2222222222222222,\"#7201a8\"],[0.3333333333333333,\"#9c179e\"],[0.4444444444444444,\"#bd3786\"],[0.5555555555555556,\"#d8576b\"],[0.6666666666666666,\"#ed7953\"],[0.7777777777777778,\"#fb9f3a\"],[0.8888888888888888,\"#fdca26\"],[1.0,\"#f0f921\"]]}],\"surface\":[{\"type\":\"surface\",\"colorbar\":{\"outlinewidth\":0,\"ticks\":\"\"},\"colorscale\":[[0.0,\"#0d0887\"],[0.1111111111111111,\"#46039f\"],[0.2222222222222222,\"#7201a8\"],[0.3333333333333333,\"#9c179e\"],[0.4444444444444444,\"#bd3786\"],[0.5555555555555556,\"#d8576b\"],[0.6666666666666666,\"#ed7953\"],[0.7777777777777778,\"#fb9f3a\"],[0.8888888888888888,\"#fdca26\"],[1.0,\"#f0f921\"]]}],\"mesh3d\":[{\"type\":\"mesh3d\",\"colorbar\":{\"outlinewidth\":0,\"ticks\":\"\"}}],\"scatter\":[{\"fillpattern\":{\"fillmode\":\"overlay\",\"size\":10,\"solidity\":0.2},\"type\":\"scatter\"}],\"parcoords\":[{\"type\":\"parcoords\",\"line\":{\"colorbar\":{\"outlinewidth\":0,\"ticks\":\"\"}}}],\"scatterpolargl\":[{\"type\":\"scatterpolargl\",\"marker\":{\"colorbar\":{\"outlinewidth\":0,\"ticks\":\"\"}}}],\"bar\":[{\"error_x\":{\"color\":\"#2a3f5f\"},\"error_y\":{\"color\":\"#2a3f5f\"},\"marker\":{\"line\":{\"color\":\"white\",\"width\":0.5},\"pattern\":{\"fillmode\":\"overlay\",\"size\":10,\"solidity\":0.2}},\"type\":\"bar\"}],\"scattergeo\":[{\"type\":\"scattergeo\",\"marker\":{\"colorbar\":{\"outlinewidth\":0,\"ticks\":\"\"}}}],\"scatterpolar\":[{\"type\":\"scatterpolar\",\"marker\":{\"colorbar\":{\"outlinewidth\":0,\"ticks\":\"\"}}}],\"histogram\":[{\"marker\":{\"pattern\":{\"fillmode\":\"overlay\",\"size\":10,\"solidity\":0.2}},\"type\":\"histogram\"}],\"scattergl\":[{\"type\":\"scattergl\",\"marker\":{\"colorbar\":{\"outlinewidth\":0,\"ticks\":\"\"}}}],\"scatter3d\":[{\"type\":\"scatter3d\",\"line\":{\"colorbar\":{\"outlinewidth\":0,\"ticks\":\"\"}},\"marker\":{\"colorbar\":{\"outlinewidth\":0,\"ticks\":\"\"}}}],\"scattermapbox\":[{\"type\":\"scattermapbox\",\"marker\":{\"colorbar\":{\"outlinewidth\":0,\"ticks\":\"\"}}}],\"scatterternary\":[{\"type\":\"scatterternary\",\"marker\":{\"colorbar\":{\"outlinewidth\":0,\"ticks\":\"\"}}}],\"scattercarpet\":[{\"type\":\"scattercarpet\",\"marker\":{\"colorbar\":{\"outlinewidth\":0,\"ticks\":\"\"}}}],\"carpet\":[{\"aaxis\":{\"endlinecolor\":\"#2a3f5f\",\"gridcolor\":\"#C8D4E3\",\"linecolor\":\"#C8D4E3\",\"minorgridcolor\":\"#C8D4E3\",\"startlinecolor\":\"#2a3f5f\"},\"baxis\":{\"endlinecolor\":\"#2a3f5f\",\"gridcolor\":\"#C8D4E3\",\"linecolor\":\"#C8D4E3\",\"minorgridcolor\":\"#C8D4E3\",\"startlinecolor\":\"#2a3f5f\"},\"type\":\"carpet\"}],\"table\":[{\"cells\":{\"fill\":{\"color\":\"#EBF0F8\"},\"line\":{\"color\":\"white\"}},\"header\":{\"fill\":{\"color\":\"#C8D4E3\"},\"line\":{\"color\":\"white\"}},\"type\":\"table\"}],\"barpolar\":[{\"marker\":{\"line\":{\"color\":\"white\",\"width\":0.5},\"pattern\":{\"fillmode\":\"overlay\",\"size\":10,\"solidity\":0.2}},\"type\":\"barpolar\"}],\"pie\":[{\"automargin\":true,\"type\":\"pie\"}]},\"layout\":{\"autotypenumbers\":\"strict\",\"colorway\":[\"#636efa\",\"#EF553B\",\"#00cc96\",\"#ab63fa\",\"#FFA15A\",\"#19d3f3\",\"#FF6692\",\"#B6E880\",\"#FF97FF\",\"#FECB52\"],\"font\":{\"color\":\"#2a3f5f\"},\"hovermode\":\"closest\",\"hoverlabel\":{\"align\":\"left\"},\"paper_bgcolor\":\"white\",\"plot_bgcolor\":\"white\",\"polar\":{\"bgcolor\":\"white\",\"angularaxis\":{\"gridcolor\":\"#EBF0F8\",\"linecolor\":\"#EBF0F8\",\"ticks\":\"\"},\"radialaxis\":{\"gridcolor\":\"#EBF0F8\",\"linecolor\":\"#EBF0F8\",\"ticks\":\"\"}},\"ternary\":{\"bgcolor\":\"white\",\"aaxis\":{\"gridcolor\":\"#DFE8F3\",\"linecolor\":\"#A2B1C6\",\"ticks\":\"\"},\"baxis\":{\"gridcolor\":\"#DFE8F3\",\"linecolor\":\"#A2B1C6\",\"ticks\":\"\"},\"caxis\":{\"gridcolor\":\"#DFE8F3\",\"linecolor\":\"#A2B1C6\",\"ticks\":\"\"}},\"coloraxis\":{\"colorbar\":{\"outlinewidth\":0,\"ticks\":\"\"}},\"colorscale\":{\"sequential\":[[0.0,\"#0d0887\"],[0.1111111111111111,\"#46039f\"],[0.2222222222222222,\"#7201a8\"],[0.3333333333333333,\"#9c179e\"],[0.4444444444444444,\"#bd3786\"],[0.5555555555555556,\"#d8576b\"],[0.6666666666666666,\"#ed7953\"],[0.7777777777777778,\"#fb9f3a\"],[0.8888888888888888,\"#fdca26\"],[1.0,\"#f0f921\"]],\"sequentialminus\":[[0.0,\"#0d0887\"],[0.1111111111111111,\"#46039f\"],[0.2222222222222222,\"#7201a8\"],[0.3333333333333333,\"#9c179e\"],[0.4444444444444444,\"#bd3786\"],[0.5555555555555556,\"#d8576b\"],[0.6666666666666666,\"#ed7953\"],[0.7777777777777778,\"#fb9f3a\"],[0.8888888888888888,\"#fdca26\"],[1.0,\"#f0f921\"]],\"diverging\":[[0,\"#8e0152\"],[0.1,\"#c51b7d\"],[0.2,\"#de77ae\"],[0.3,\"#f1b6da\"],[0.4,\"#fde0ef\"],[0.5,\"#f7f7f7\"],[0.6,\"#e6f5d0\"],[0.7,\"#b8e186\"],[0.8,\"#7fbc41\"],[0.9,\"#4d9221\"],[1,\"#276419\"]]},\"xaxis\":{\"gridcolor\":\"#EBF0F8\",\"linecolor\":\"#EBF0F8\",\"ticks\":\"\",\"title\":{\"standoff\":15},\"zerolinecolor\":\"#EBF0F8\",\"automargin\":true,\"zerolinewidth\":2},\"yaxis\":{\"gridcolor\":\"#EBF0F8\",\"linecolor\":\"#EBF0F8\",\"ticks\":\"\",\"title\":{\"standoff\":15},\"zerolinecolor\":\"#EBF0F8\",\"automargin\":true,\"zerolinewidth\":2},\"scene\":{\"xaxis\":{\"backgroundcolor\":\"white\",\"gridcolor\":\"#DFE8F3\",\"linecolor\":\"#EBF0F8\",\"showbackground\":true,\"ticks\":\"\",\"zerolinecolor\":\"#EBF0F8\",\"gridwidth\":2},\"yaxis\":{\"backgroundcolor\":\"white\",\"gridcolor\":\"#DFE8F3\",\"linecolor\":\"#EBF0F8\",\"showbackground\":true,\"ticks\":\"\",\"zerolinecolor\":\"#EBF0F8\",\"gridwidth\":2},\"zaxis\":{\"backgroundcolor\":\"white\",\"gridcolor\":\"#DFE8F3\",\"linecolor\":\"#EBF0F8\",\"showbackground\":true,\"ticks\":\"\",\"zerolinecolor\":\"#EBF0F8\",\"gridwidth\":2}},\"shapedefaults\":{\"line\":{\"color\":\"#2a3f5f\"}},\"annotationdefaults\":{\"arrowcolor\":\"#2a3f5f\",\"arrowhead\":0,\"arrowwidth\":1},\"geo\":{\"bgcolor\":\"white\",\"landcolor\":\"white\",\"subunitcolor\":\"#C8D4E3\",\"showland\":true,\"showlakes\":true,\"lakecolor\":\"white\"},\"title\":{\"x\":0.05},\"mapbox\":{\"style\":\"light\"}}},\"xaxis\":{\"anchor\":\"y\",\"domain\":[0.0,0.45],\"title\":{\"text\":\"Weight updates\"}},\"yaxis\":{\"anchor\":\"x\",\"domain\":[0.0,1.0],\"title\":{\"text\":\"Accuraccy\"}},\"xaxis2\":{\"anchor\":\"y2\",\"domain\":[0.55,1.0],\"title\":{\"text\":\"Weight updates\"}},\"yaxis2\":{\"anchor\":\"x2\",\"domain\":[0.0,1.0],\"title\":{\"text\":\"Loss\"}},\"annotations\":[{\"font\":{\"size\":16},\"showarrow\":false,\"text\":\"Accuracy\",\"x\":0.225,\"xanchor\":\"center\",\"xref\":\"paper\",\"y\":1.0,\"yanchor\":\"bottom\",\"yref\":\"paper\"},{\"font\":{\"size\":16},\"showarrow\":false,\"text\":\"Loss\",\"x\":0.775,\"xanchor\":\"center\",\"xref\":\"paper\",\"y\":1.0,\"yanchor\":\"bottom\",\"yref\":\"paper\"}],\"title\":{\"text\":\"Training run with CNN Resnet model\"},\"height\":400,\"width\":750},                        {\"responsive\": true}                    ).then(function(){\n",
              "                            \n",
              "var gd = document.getElementById('d469c64f-3c62-4d62-86a1-e49cfea81d15');\n",
              "var x = new MutationObserver(function (mutations, observer) {{\n",
              "        var display = window.getComputedStyle(gd).display;\n",
              "        if (!display || display === 'none') {{\n",
              "            console.log([gd, 'removed!']);\n",
              "            Plotly.purge(gd);\n",
              "            observer.disconnect();\n",
              "        }}\n",
              "}});\n",
              "\n",
              "// Listen for the removal of the full notebook cells\n",
              "var notebookContainer = gd.closest('#notebook-container');\n",
              "if (notebookContainer) {{\n",
              "    x.observe(notebookContainer, {childList: true});\n",
              "}}\n",
              "\n",
              "// Listen for the clearing of the current output cell\n",
              "var outputEl = gd.closest('.output');\n",
              "if (outputEl) {{\n",
              "    x.observe(outputEl, {childList: true});\n",
              "}}\n",
              "\n",
              "                        })                };                            </script>        </div>\n",
              "</body>\n",
              "</html>"
            ]
          },
          "metadata": {}
        },
        {
          "output_type": "display_data",
          "data": {
            "text/html": [
              "<html>\n",
              "<head><meta charset=\"utf-8\" /></head>\n",
              "<body>\n",
              "    <div>            <script src=\"https://cdnjs.cloudflare.com/ajax/libs/mathjax/2.7.5/MathJax.js?config=TeX-AMS-MML_SVG\"></script><script type=\"text/javascript\">if (window.MathJax && window.MathJax.Hub && window.MathJax.Hub.Config) {window.MathJax.Hub.Config({SVG: {font: \"STIX-Web\"}});}</script>                <script type=\"text/javascript\">window.PlotlyConfig = {MathJaxConfig: 'local'};</script>\n",
              "        <script charset=\"utf-8\" src=\"https://cdn.plot.ly/plotly-2.24.1.min.js\"></script>                <div id=\"b96966b7-066c-4b0a-b5a8-3be276cd8dbf\" class=\"plotly-graph-div\" style=\"height:600px; width:750px;\"></div>            <script type=\"text/javascript\">                                    window.PLOTLYENV=window.PLOTLYENV || {};                                    if (document.getElementById(\"b96966b7-066c-4b0a-b5a8-3be276cd8dbf\")) {                    Plotly.newPlot(                        \"b96966b7-066c-4b0a-b5a8-3be276cd8dbf\",                        [{\"coloraxis\":\"coloraxis\",\"name\":\"Drinking or Eating\",\"text\":[[\"650\",\"4837\"],[\"33068\",\"466\"]],\"texttemplate\":\"%{text}\",\"x\":[\"False\",\"True\"],\"y\":[\"True\",\"False\"],\"z\":[[650,4837],[33068,466]],\"type\":\"heatmap\",\"xaxis\":\"x\",\"yaxis\":\"y\"},{\"coloraxis\":\"coloraxis\",\"name\":\"Galloping\",\"text\":[[\"532\",\"5864\"],[\"32603\",\"22\"]],\"texttemplate\":\"%{text}\",\"x\":[\"False\",\"True\"],\"y\":[\"True\",\"False\"],\"z\":[[532,5864],[32603,22]],\"type\":\"heatmap\",\"xaxis\":\"x2\",\"yaxis\":\"y2\"},{\"coloraxis\":\"coloraxis\",\"name\":\"Jumping or Pacing\",\"text\":[[\"873\",\"4128\"],[\"33995\",\"25\"]],\"texttemplate\":\"%{text}\",\"x\":[\"False\",\"True\"],\"y\":[\"True\",\"False\"],\"z\":[[873,4128],[33995,25]],\"type\":\"heatmap\",\"xaxis\":\"x3\",\"yaxis\":\"y3\"},{\"coloraxis\":\"coloraxis\",\"name\":\"Playing or Tugging\",\"text\":[[\"317\",\"7153\"],[\"31294\",\"257\"]],\"texttemplate\":\"%{text}\",\"x\":[\"False\",\"True\"],\"y\":[\"True\",\"False\"],\"z\":[[317,7153],[31294,257]],\"type\":\"heatmap\",\"xaxis\":\"x4\",\"yaxis\":\"y4\"},{\"coloraxis\":\"coloraxis\",\"name\":\"Shaking\",\"text\":[[\"0\",\"5001\"],[\"34014\",\"6\"]],\"texttemplate\":\"%{text}\",\"x\":[\"False\",\"True\"],\"y\":[\"True\",\"False\"],\"z\":[[0,5001],[34014,6]],\"type\":\"heatmap\",\"xaxis\":\"x5\",\"yaxis\":\"y5\"},{\"coloraxis\":\"coloraxis\",\"name\":\"Sniffing\",\"text\":[[\"148\",\"4852\"],[\"33975\",\"46\"]],\"texttemplate\":\"%{text}\",\"x\":[\"False\",\"True\"],\"y\":[\"True\",\"False\"],\"z\":[[148,4852],[33975,46]],\"type\":\"heatmap\",\"xaxis\":\"x6\",\"yaxis\":\"y6\"},{\"coloraxis\":\"coloraxis\",\"name\":\"Standing or Sitting or Lying chest\",\"text\":[[\"55\",\"5201\"],[\"33693\",\"72\"]],\"texttemplate\":\"%{text}\",\"x\":[\"False\",\"True\"],\"y\":[\"True\",\"False\"],\"z\":[[55,5201],[33693,72]],\"type\":\"heatmap\",\"xaxis\":\"x7\",\"yaxis\":\"y7\"},{\"coloraxis\":\"coloraxis\",\"name\":\"Trotting\",\"text\":[[\"65\",\"4940\"],[\"33782\",\"234\"]],\"texttemplate\":\"%{text}\",\"x\":[\"False\",\"True\"],\"y\":[\"True\",\"False\"],\"z\":[[65,4940],[33782,234]],\"type\":\"heatmap\",\"xaxis\":\"x8\",\"yaxis\":\"y8\"},{\"coloraxis\":\"coloraxis\",\"name\":\"Walking\",\"text\":[[\"65\",\"5248\"],[\"33183\",\"525\"]],\"texttemplate\":\"%{text}\",\"x\":[\"False\",\"True\"],\"y\":[\"True\",\"False\"],\"z\":[[65,5248],[33183,525]],\"type\":\"heatmap\",\"xaxis\":\"x9\",\"yaxis\":\"y9\"}],                        {\"template\":{\"data\":{\"histogram2dcontour\":[{\"type\":\"histogram2dcontour\",\"colorbar\":{\"outlinewidth\":0,\"ticks\":\"\"},\"colorscale\":[[0.0,\"#0d0887\"],[0.1111111111111111,\"#46039f\"],[0.2222222222222222,\"#7201a8\"],[0.3333333333333333,\"#9c179e\"],[0.4444444444444444,\"#bd3786\"],[0.5555555555555556,\"#d8576b\"],[0.6666666666666666,\"#ed7953\"],[0.7777777777777778,\"#fb9f3a\"],[0.8888888888888888,\"#fdca26\"],[1.0,\"#f0f921\"]]}],\"choropleth\":[{\"type\":\"choropleth\",\"colorbar\":{\"outlinewidth\":0,\"ticks\":\"\"}}],\"histogram2d\":[{\"type\":\"histogram2d\",\"colorbar\":{\"outlinewidth\":0,\"ticks\":\"\"},\"colorscale\":[[0.0,\"#0d0887\"],[0.1111111111111111,\"#46039f\"],[0.2222222222222222,\"#7201a8\"],[0.3333333333333333,\"#9c179e\"],[0.4444444444444444,\"#bd3786\"],[0.5555555555555556,\"#d8576b\"],[0.6666666666666666,\"#ed7953\"],[0.7777777777777778,\"#fb9f3a\"],[0.8888888888888888,\"#fdca26\"],[1.0,\"#f0f921\"]]}],\"heatmap\":[{\"type\":\"heatmap\",\"colorbar\":{\"outlinewidth\":0,\"ticks\":\"\"},\"colorscale\":[[0.0,\"#0d0887\"],[0.1111111111111111,\"#46039f\"],[0.2222222222222222,\"#7201a8\"],[0.3333333333333333,\"#9c179e\"],[0.4444444444444444,\"#bd3786\"],[0.5555555555555556,\"#d8576b\"],[0.6666666666666666,\"#ed7953\"],[0.7777777777777778,\"#fb9f3a\"],[0.8888888888888888,\"#fdca26\"],[1.0,\"#f0f921\"]]}],\"heatmapgl\":[{\"type\":\"heatmapgl\",\"colorbar\":{\"outlinewidth\":0,\"ticks\":\"\"},\"colorscale\":[[0.0,\"#0d0887\"],[0.1111111111111111,\"#46039f\"],[0.2222222222222222,\"#7201a8\"],[0.3333333333333333,\"#9c179e\"],[0.4444444444444444,\"#bd3786\"],[0.5555555555555556,\"#d8576b\"],[0.6666666666666666,\"#ed7953\"],[0.7777777777777778,\"#fb9f3a\"],[0.8888888888888888,\"#fdca26\"],[1.0,\"#f0f921\"]]}],\"contourcarpet\":[{\"type\":\"contourcarpet\",\"colorbar\":{\"outlinewidth\":0,\"ticks\":\"\"}}],\"contour\":[{\"type\":\"contour\",\"colorbar\":{\"outlinewidth\":0,\"ticks\":\"\"},\"colorscale\":[[0.0,\"#0d0887\"],[0.1111111111111111,\"#46039f\"],[0.2222222222222222,\"#7201a8\"],[0.3333333333333333,\"#9c179e\"],[0.4444444444444444,\"#bd3786\"],[0.5555555555555556,\"#d8576b\"],[0.6666666666666666,\"#ed7953\"],[0.7777777777777778,\"#fb9f3a\"],[0.8888888888888888,\"#fdca26\"],[1.0,\"#f0f921\"]]}],\"surface\":[{\"type\":\"surface\",\"colorbar\":{\"outlinewidth\":0,\"ticks\":\"\"},\"colorscale\":[[0.0,\"#0d0887\"],[0.1111111111111111,\"#46039f\"],[0.2222222222222222,\"#7201a8\"],[0.3333333333333333,\"#9c179e\"],[0.4444444444444444,\"#bd3786\"],[0.5555555555555556,\"#d8576b\"],[0.6666666666666666,\"#ed7953\"],[0.7777777777777778,\"#fb9f3a\"],[0.8888888888888888,\"#fdca26\"],[1.0,\"#f0f921\"]]}],\"mesh3d\":[{\"type\":\"mesh3d\",\"colorbar\":{\"outlinewidth\":0,\"ticks\":\"\"}}],\"scatter\":[{\"fillpattern\":{\"fillmode\":\"overlay\",\"size\":10,\"solidity\":0.2},\"type\":\"scatter\"}],\"parcoords\":[{\"type\":\"parcoords\",\"line\":{\"colorbar\":{\"outlinewidth\":0,\"ticks\":\"\"}}}],\"scatterpolargl\":[{\"type\":\"scatterpolargl\",\"marker\":{\"colorbar\":{\"outlinewidth\":0,\"ticks\":\"\"}}}],\"bar\":[{\"error_x\":{\"color\":\"#2a3f5f\"},\"error_y\":{\"color\":\"#2a3f5f\"},\"marker\":{\"line\":{\"color\":\"white\",\"width\":0.5},\"pattern\":{\"fillmode\":\"overlay\",\"size\":10,\"solidity\":0.2}},\"type\":\"bar\"}],\"scattergeo\":[{\"type\":\"scattergeo\",\"marker\":{\"colorbar\":{\"outlinewidth\":0,\"ticks\":\"\"}}}],\"scatterpolar\":[{\"type\":\"scatterpolar\",\"marker\":{\"colorbar\":{\"outlinewidth\":0,\"ticks\":\"\"}}}],\"histogram\":[{\"marker\":{\"pattern\":{\"fillmode\":\"overlay\",\"size\":10,\"solidity\":0.2}},\"type\":\"histogram\"}],\"scattergl\":[{\"type\":\"scattergl\",\"marker\":{\"colorbar\":{\"outlinewidth\":0,\"ticks\":\"\"}}}],\"scatter3d\":[{\"type\":\"scatter3d\",\"line\":{\"colorbar\":{\"outlinewidth\":0,\"ticks\":\"\"}},\"marker\":{\"colorbar\":{\"outlinewidth\":0,\"ticks\":\"\"}}}],\"scattermapbox\":[{\"type\":\"scattermapbox\",\"marker\":{\"colorbar\":{\"outlinewidth\":0,\"ticks\":\"\"}}}],\"scatterternary\":[{\"type\":\"scatterternary\",\"marker\":{\"colorbar\":{\"outlinewidth\":0,\"ticks\":\"\"}}}],\"scattercarpet\":[{\"type\":\"scattercarpet\",\"marker\":{\"colorbar\":{\"outlinewidth\":0,\"ticks\":\"\"}}}],\"carpet\":[{\"aaxis\":{\"endlinecolor\":\"#2a3f5f\",\"gridcolor\":\"#C8D4E3\",\"linecolor\":\"#C8D4E3\",\"minorgridcolor\":\"#C8D4E3\",\"startlinecolor\":\"#2a3f5f\"},\"baxis\":{\"endlinecolor\":\"#2a3f5f\",\"gridcolor\":\"#C8D4E3\",\"linecolor\":\"#C8D4E3\",\"minorgridcolor\":\"#C8D4E3\",\"startlinecolor\":\"#2a3f5f\"},\"type\":\"carpet\"}],\"table\":[{\"cells\":{\"fill\":{\"color\":\"#EBF0F8\"},\"line\":{\"color\":\"white\"}},\"header\":{\"fill\":{\"color\":\"#C8D4E3\"},\"line\":{\"color\":\"white\"}},\"type\":\"table\"}],\"barpolar\":[{\"marker\":{\"line\":{\"color\":\"white\",\"width\":0.5},\"pattern\":{\"fillmode\":\"overlay\",\"size\":10,\"solidity\":0.2}},\"type\":\"barpolar\"}],\"pie\":[{\"automargin\":true,\"type\":\"pie\"}]},\"layout\":{\"autotypenumbers\":\"strict\",\"colorway\":[\"#636efa\",\"#EF553B\",\"#00cc96\",\"#ab63fa\",\"#FFA15A\",\"#19d3f3\",\"#FF6692\",\"#B6E880\",\"#FF97FF\",\"#FECB52\"],\"font\":{\"color\":\"#2a3f5f\"},\"hovermode\":\"closest\",\"hoverlabel\":{\"align\":\"left\"},\"paper_bgcolor\":\"white\",\"plot_bgcolor\":\"white\",\"polar\":{\"bgcolor\":\"white\",\"angularaxis\":{\"gridcolor\":\"#EBF0F8\",\"linecolor\":\"#EBF0F8\",\"ticks\":\"\"},\"radialaxis\":{\"gridcolor\":\"#EBF0F8\",\"linecolor\":\"#EBF0F8\",\"ticks\":\"\"}},\"ternary\":{\"bgcolor\":\"white\",\"aaxis\":{\"gridcolor\":\"#DFE8F3\",\"linecolor\":\"#A2B1C6\",\"ticks\":\"\"},\"baxis\":{\"gridcolor\":\"#DFE8F3\",\"linecolor\":\"#A2B1C6\",\"ticks\":\"\"},\"caxis\":{\"gridcolor\":\"#DFE8F3\",\"linecolor\":\"#A2B1C6\",\"ticks\":\"\"}},\"coloraxis\":{\"colorbar\":{\"outlinewidth\":0,\"ticks\":\"\"}},\"colorscale\":{\"sequential\":[[0.0,\"#0d0887\"],[0.1111111111111111,\"#46039f\"],[0.2222222222222222,\"#7201a8\"],[0.3333333333333333,\"#9c179e\"],[0.4444444444444444,\"#bd3786\"],[0.5555555555555556,\"#d8576b\"],[0.6666666666666666,\"#ed7953\"],[0.7777777777777778,\"#fb9f3a\"],[0.8888888888888888,\"#fdca26\"],[1.0,\"#f0f921\"]],\"sequentialminus\":[[0.0,\"#0d0887\"],[0.1111111111111111,\"#46039f\"],[0.2222222222222222,\"#7201a8\"],[0.3333333333333333,\"#9c179e\"],[0.4444444444444444,\"#bd3786\"],[0.5555555555555556,\"#d8576b\"],[0.6666666666666666,\"#ed7953\"],[0.7777777777777778,\"#fb9f3a\"],[0.8888888888888888,\"#fdca26\"],[1.0,\"#f0f921\"]],\"diverging\":[[0,\"#8e0152\"],[0.1,\"#c51b7d\"],[0.2,\"#de77ae\"],[0.3,\"#f1b6da\"],[0.4,\"#fde0ef\"],[0.5,\"#f7f7f7\"],[0.6,\"#e6f5d0\"],[0.7,\"#b8e186\"],[0.8,\"#7fbc41\"],[0.9,\"#4d9221\"],[1,\"#276419\"]]},\"xaxis\":{\"gridcolor\":\"#EBF0F8\",\"linecolor\":\"#EBF0F8\",\"ticks\":\"\",\"title\":{\"standoff\":15},\"zerolinecolor\":\"#EBF0F8\",\"automargin\":true,\"zerolinewidth\":2},\"yaxis\":{\"gridcolor\":\"#EBF0F8\",\"linecolor\":\"#EBF0F8\",\"ticks\":\"\",\"title\":{\"standoff\":15},\"zerolinecolor\":\"#EBF0F8\",\"automargin\":true,\"zerolinewidth\":2},\"scene\":{\"xaxis\":{\"backgroundcolor\":\"white\",\"gridcolor\":\"#DFE8F3\",\"linecolor\":\"#EBF0F8\",\"showbackground\":true,\"ticks\":\"\",\"zerolinecolor\":\"#EBF0F8\",\"gridwidth\":2},\"yaxis\":{\"backgroundcolor\":\"white\",\"gridcolor\":\"#DFE8F3\",\"linecolor\":\"#EBF0F8\",\"showbackground\":true,\"ticks\":\"\",\"zerolinecolor\":\"#EBF0F8\",\"gridwidth\":2},\"zaxis\":{\"backgroundcolor\":\"white\",\"gridcolor\":\"#DFE8F3\",\"linecolor\":\"#EBF0F8\",\"showbackground\":true,\"ticks\":\"\",\"zerolinecolor\":\"#EBF0F8\",\"gridwidth\":2}},\"shapedefaults\":{\"line\":{\"color\":\"#2a3f5f\"}},\"annotationdefaults\":{\"arrowcolor\":\"#2a3f5f\",\"arrowhead\":0,\"arrowwidth\":1},\"geo\":{\"bgcolor\":\"white\",\"landcolor\":\"white\",\"subunitcolor\":\"#C8D4E3\",\"showland\":true,\"showlakes\":true,\"lakecolor\":\"white\"},\"title\":{\"x\":0.05},\"mapbox\":{\"style\":\"light\"}}},\"xaxis\":{\"anchor\":\"y\",\"domain\":[0.0,0.2888888888888889]},\"yaxis\":{\"anchor\":\"x\",\"domain\":[0.7777777777777778,1.0],\"title\":{\"text\":\"Actual\"}},\"xaxis2\":{\"anchor\":\"y2\",\"domain\":[0.35555555555555557,0.6444444444444445]},\"yaxis2\":{\"anchor\":\"x2\",\"domain\":[0.7777777777777778,1.0]},\"xaxis3\":{\"anchor\":\"y3\",\"domain\":[0.7111111111111111,1.0]},\"yaxis3\":{\"anchor\":\"x3\",\"domain\":[0.7777777777777778,1.0]},\"xaxis4\":{\"anchor\":\"y4\",\"domain\":[0.0,0.2888888888888889]},\"yaxis4\":{\"anchor\":\"x4\",\"domain\":[0.3888888888888889,0.6111111111111112],\"title\":{\"text\":\"Actual\"}},\"xaxis5\":{\"anchor\":\"y5\",\"domain\":[0.35555555555555557,0.6444444444444445]},\"yaxis5\":{\"anchor\":\"x5\",\"domain\":[0.3888888888888889,0.6111111111111112]},\"xaxis6\":{\"anchor\":\"y6\",\"domain\":[0.7111111111111111,1.0]},\"yaxis6\":{\"anchor\":\"x6\",\"domain\":[0.3888888888888889,0.6111111111111112]},\"xaxis7\":{\"anchor\":\"y7\",\"domain\":[0.0,0.2888888888888889],\"title\":{\"text\":\"Predicted\"}},\"yaxis7\":{\"anchor\":\"x7\",\"domain\":[0.0,0.22222222222222224],\"title\":{\"text\":\"Actual\"}},\"xaxis8\":{\"anchor\":\"y8\",\"domain\":[0.35555555555555557,0.6444444444444445],\"title\":{\"text\":\"Predicted\"}},\"yaxis8\":{\"anchor\":\"x8\",\"domain\":[0.0,0.22222222222222224]},\"xaxis9\":{\"anchor\":\"y9\",\"domain\":[0.7111111111111111,1.0],\"title\":{\"text\":\"Predicted\"}},\"yaxis9\":{\"anchor\":\"x9\",\"domain\":[0.0,0.22222222222222224]},\"annotations\":[{\"font\":{\"size\":16},\"showarrow\":false,\"text\":\"Drinking or Eating\",\"x\":0.14444444444444446,\"xanchor\":\"center\",\"xref\":\"paper\",\"y\":1.0,\"yanchor\":\"bottom\",\"yref\":\"paper\"},{\"font\":{\"size\":16},\"showarrow\":false,\"text\":\"Galloping\",\"x\":0.5,\"xanchor\":\"center\",\"xref\":\"paper\",\"y\":1.0,\"yanchor\":\"bottom\",\"yref\":\"paper\"},{\"font\":{\"size\":16},\"showarrow\":false,\"text\":\"Jumping or Pacing\",\"x\":0.8555555555555556,\"xanchor\":\"center\",\"xref\":\"paper\",\"y\":1.0,\"yanchor\":\"bottom\",\"yref\":\"paper\"},{\"font\":{\"size\":16},\"showarrow\":false,\"text\":\"Playing or Tugging\",\"x\":0.14444444444444446,\"xanchor\":\"center\",\"xref\":\"paper\",\"y\":0.6111111111111112,\"yanchor\":\"bottom\",\"yref\":\"paper\"},{\"font\":{\"size\":16},\"showarrow\":false,\"text\":\"Shaking\",\"x\":0.5,\"xanchor\":\"center\",\"xref\":\"paper\",\"y\":0.6111111111111112,\"yanchor\":\"bottom\",\"yref\":\"paper\"},{\"font\":{\"size\":16},\"showarrow\":false,\"text\":\"Sniffing\",\"x\":0.8555555555555556,\"xanchor\":\"center\",\"xref\":\"paper\",\"y\":0.6111111111111112,\"yanchor\":\"bottom\",\"yref\":\"paper\"},{\"font\":{\"size\":16},\"showarrow\":false,\"text\":\"Standing or Sitting or Lying chest\",\"x\":0.14444444444444446,\"xanchor\":\"center\",\"xref\":\"paper\",\"y\":0.22222222222222224,\"yanchor\":\"bottom\",\"yref\":\"paper\"},{\"font\":{\"size\":16},\"showarrow\":false,\"text\":\"Trotting\",\"x\":0.5,\"xanchor\":\"center\",\"xref\":\"paper\",\"y\":0.22222222222222224,\"yanchor\":\"bottom\",\"yref\":\"paper\"},{\"font\":{\"size\":16},\"showarrow\":false,\"text\":\"Walking\",\"x\":0.8555555555555556,\"xanchor\":\"center\",\"xref\":\"paper\",\"y\":0.22222222222222224,\"yanchor\":\"bottom\",\"yref\":\"paper\"}],\"coloraxis\":{\"colorscale\":[[0.0,\"#000004\"],[0.1111111111111111,\"#1b0c41\"],[0.2222222222222222,\"#4a0c6b\"],[0.3333333333333333,\"#781c6d\"],[0.4444444444444444,\"#a52c60\"],[0.5555555555555556,\"#cf4446\"],[0.6666666666666666,\"#ed6925\"],[0.7777777777777778,\"#fb9b06\"],[0.8888888888888888,\"#f7d13d\"],[1.0,\"#fcffa4\"]]},\"title\":{\"text\":\"Confusion matrices for CNN Resnet model\"},\"width\":750,\"height\":600},                        {\"responsive\": true}                    ).then(function(){\n",
              "                            \n",
              "var gd = document.getElementById('b96966b7-066c-4b0a-b5a8-3be276cd8dbf');\n",
              "var x = new MutationObserver(function (mutations, observer) {{\n",
              "        var display = window.getComputedStyle(gd).display;\n",
              "        if (!display || display === 'none') {{\n",
              "            console.log([gd, 'removed!']);\n",
              "            Plotly.purge(gd);\n",
              "            observer.disconnect();\n",
              "        }}\n",
              "}});\n",
              "\n",
              "// Listen for the removal of the full notebook cells\n",
              "var notebookContainer = gd.closest('#notebook-container');\n",
              "if (notebookContainer) {{\n",
              "    x.observe(notebookContainer, {childList: true});\n",
              "}}\n",
              "\n",
              "// Listen for the clearing of the current output cell\n",
              "var outputEl = gd.closest('.output');\n",
              "if (outputEl) {{\n",
              "    x.observe(outputEl, {childList: true});\n",
              "}}\n",
              "\n",
              "                        })                };                            </script>        </div>\n",
              "</body>\n",
              "</html>"
            ]
          },
          "metadata": {}
        }
      ],
      "source": [
        "# plot the training and testing accuracies/losses during training\n",
        "classification.plot_training_run(training_history, title=\"Training run with CNN Resnet model\")\n",
        "# compute confusion matrix on test data\n",
        "confusion_matrices = classification.calculate_confusion_matrices_torch(model, test_loader, device)\n",
        "# plot the multil-label confusion matrix\n",
        "classification.plot_confusion_matrices(confusion_matrices, dataset.class_list, title=\"Confusion matrices for CNN Resnet model\")\n",
        "\n",
        "# save model performance\n",
        "model_performances.add(\n",
        "    ModelPerformance(name='CNN Resnet', test_accuracy=1-training_history.test.error[-1], train_duration=duration)\n",
        ")"
      ]
    },
    {
      "cell_type": "markdown",
      "metadata": {
        "id": "HAKO-wxX7bGX"
      },
      "source": [
        "## 4.10 Model Conclusion"
      ]
    },
    {
      "cell_type": "markdown",
      "metadata": {
        "id": "jla_gUFA7bGX"
      },
      "source": [
        "First, let's print the accuracies of all the models in one place."
      ]
    },
    {
      "cell_type": "code",
      "execution_count": null,
      "metadata": {
        "colab": {
          "base_uri": "https://localhost:8080/"
        },
        "outputId": "af512103-5986-41d3-8476-4e06440dfc9e",
        "id": "fZojb6amtTOp"
      },
      "outputs": [
        {
          "output_type": "stream",
          "name": "stdout",
          "text": [
            "====== CNN Resnet ======\n",
            "  Test accuracy: 92.40 %\n",
            "  Training time: 663.4 s\n",
            "====== CNN ======\n",
            "  Test accuracy: 85.80 %\n",
            "  Training time: 183.7 s\n",
            "====== Decision Tree ======\n",
            "  Test accuracy: 67.96 %\n",
            "  Training time: 298.0 s\n",
            "====== Random Forest ======\n",
            "  Test accuracy: 73.45 %\n",
            "  Training time: 457.5 s\n",
            "====== MLP ======\n",
            "  Test accuracy: 83.16 %\n",
            "  Training time: 162.6 s\n",
            "====== GRU ======\n",
            "  Test accuracy: 92.51 %\n",
            "  Training time: 307.9 s\n"
          ]
        }
      ],
      "source": [
        "for performance in model_performances:\n",
        "    print(f\"====== {performance.name} ======\")\n",
        "    print(f\"  Test accuracy: {performance.test_accuracy*100:.2f} %\")\n",
        "    print(f\"  Training time: {performance.train_duration:.1f} s\")"
      ]
    },
    {
      "cell_type": "markdown",
      "source": [
        "We can clearly see, that the two best models are the CNN Resnet and the GRU. Both are architectures, that inherently model sequences. Our maximum accuracy is higher than the accuracy achieved by the paper in which the data was orginially published."
      ],
      "metadata": {
        "id": "pTtO9O8SteRF"
      }
    },
    {
      "cell_type": "markdown",
      "source": [
        "# Part 5: Conclusion"
      ],
      "metadata": {
        "id": "rM_rVokWle3e"
      }
    },
    {
      "cell_type": "markdown",
      "source": [
        "**Our project can benefit dog owners:**"
      ],
      "metadata": {
        "id": "66gRE_eqltF5"
      }
    },
    {
      "cell_type": "markdown",
      "source": [
        "* Health Monitoring: The correlation between weight and acceleration magnitude could be used to monitor a dog's health and fitness. A sudden change in this relationship might indicate health issues.​\n",
        "\n",
        "* Tailored Exercise: Owners can tailor exercise to suit their dog's weight and age to ensure their pet is getting appropriate levels of activity."
      ],
      "metadata": {
        "id": "xdGX62tEyKlB"
      }
    },
    {
      "cell_type": "markdown",
      "source": [
        "**Overall Experience + Team Reflection:**"
      ],
      "metadata": {
        "id": "SWszEHalltqY"
      }
    },
    {
      "cell_type": "markdown",
      "source": [
        "* It is critical to resample dataset to get a uniform data distribution. If we just use the original dataset, the accuracy will be stuck around 80%.​\n",
        "\n",
        "* Hands-on data analysis experience help a lot, e.g. BatchNorm is very important; otherwise the model will always have very low accuracy."
      ],
      "metadata": {
        "id": "1o3NS5vyxwO1"
      }
    }
  ],
  "metadata": {
    "kernelspec": {
      "display_name": "Python 3",
      "name": "python3"
    },
    "language_info": {
      "codemirror_mode": {
        "name": "ipython",
        "version": 3
      },
      "file_extension": ".py",
      "mimetype": "text/x-python",
      "name": "python",
      "nbconvert_exporter": "python",
      "pygments_lexer": "ipython3",
      "version": "3.11.6"
    },
    "colab": {
      "provenance": [],
      "toc_visible": true
    }
  },
  "nbformat": 4,
  "nbformat_minor": 0
}